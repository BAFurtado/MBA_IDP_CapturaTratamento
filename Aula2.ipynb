{
 "nbformat": 4,
 "nbformat_minor": 0,
 "metadata": {
  "colab": {
   "name": "Aula2.ipynb",
   "provenance": [],
   "collapsed_sections": []
  },
  "kernelspec": {
   "name": "python3",
   "language": "python",
   "display_name": "Python 3 (ipykernel)"
  },
  "language_info": {
   "name": "python"
  }
 },
 "cells": [
  {
   "cell_type": "markdown",
   "source": [
    "# Técnicas Avançadas de **Captura e Tratamento** de Dados\n",
    "\n",
    "---\n",
    "## Prof. Bernardo Alves Furtado\n",
    "---\n",
    "### MBA em Big Data, Business Analytics e Gestão de Negócios. @**IDP**\n",
    "---\n",
    "3 a 21 agosto  -- 21 horas/aula"
   ],
   "metadata": {
    "collapsed": false
   }
  },
  {
   "cell_type": "code",
   "execution_count": null,
   "outputs": [],
   "source": [
    "# Garantindo que exista a pasta para salvar nossos outputs.\n",
    "import os\n",
    "if not os.path.exists('data'):\n",
    "    os.mkdir('data')"
   ],
   "metadata": {
    "collapsed": false,
    "pycharm": {
     "name": "#%%\n"
    }
   }
  },
  {
   "cell_type": "markdown",
   "source": [
    "Retomando a partir da aula passada...\n",
    "#### Link: https://github.com/BAFurtado/MBA_IDP_CapturaTratamento/blob/main/Aula2.ipynb"
   ],
   "metadata": {
    "collapsed": false
   }
  },
  {
   "cell_type": "markdown",
   "source": [
    "## Resolução exercício básico -- Aula 1\n",
    "1. Leia a tabela disponível em:\n",
    "\n",
    "https://github.com/BAFurtado/MBA_IDP_CapturaTratamento/blob/main/data/exemplo2.csv\n",
    "\n",
    "5. Padronize os nomes, como feito para o exemplo1\n",
    "6. Corrija os valores de impostos pagos.\n",
    "7. Utilize o `describe()` ou outro comando nos impostos corrigidos e identifique a média de impostos pagos.\n",
    "8. Utilize `sum(coluna)` para o valor total de impostos pagos.\n",
    "9. O que mais é possível notar de estranho neste exemplo simples?\n",
    "10. Alguém está familiarizado com o comando `value_counts()` do pandas? Ele pode ajudar a identificar se há valores repetidos (uma de vários jeitos possíveis)."
   ],
   "metadata": {
    "collapsed": false,
    "pycharm": {
     "name": "#%% md\n"
    }
   }
  },
  {
   "cell_type": "markdown",
   "source": [
    "## Respostas"
   ],
   "metadata": {
    "collapsed": false,
    "pycharm": {
     "name": "#%% md\n"
    }
   }
  },
  {
   "cell_type": "code",
   "execution_count": 15,
   "outputs": [
    {
     "data": {
      "text/plain": "              cpf            nome impostos pagos malha fina?\n0    888111000-39      maria João        R$ 5,43           n\n1  111.888.000-93      José maria  R$ 105.430,70           y\n2     18181800093     jose manoel      R$ 100,00           n\n3     18181800194           paula           1285           y\n4     18181800194  paula da silva  R$ 100.000,27           y",
      "text/html": "<div>\n<style scoped>\n    .dataframe tbody tr th:only-of-type {\n        vertical-align: middle;\n    }\n\n    .dataframe tbody tr th {\n        vertical-align: top;\n    }\n\n    .dataframe thead th {\n        text-align: right;\n    }\n</style>\n<table border=\"1\" class=\"dataframe\">\n  <thead>\n    <tr style=\"text-align: right;\">\n      <th></th>\n      <th>cpf</th>\n      <th>nome</th>\n      <th>impostos pagos</th>\n      <th>malha fina?</th>\n    </tr>\n  </thead>\n  <tbody>\n    <tr>\n      <th>0</th>\n      <td>888111000-39</td>\n      <td>maria João</td>\n      <td>R$ 5,43</td>\n      <td>n</td>\n    </tr>\n    <tr>\n      <th>1</th>\n      <td>111.888.000-93</td>\n      <td>José maria</td>\n      <td>R$ 105.430,70</td>\n      <td>y</td>\n    </tr>\n    <tr>\n      <th>2</th>\n      <td>18181800093</td>\n      <td>jose manoel</td>\n      <td>R$ 100,00</td>\n      <td>n</td>\n    </tr>\n    <tr>\n      <th>3</th>\n      <td>18181800194</td>\n      <td>paula</td>\n      <td>1285</td>\n      <td>y</td>\n    </tr>\n    <tr>\n      <th>4</th>\n      <td>18181800194</td>\n      <td>paula da silva</td>\n      <td>R$ 100.000,27</td>\n      <td>y</td>\n    </tr>\n  </tbody>\n</table>\n</div>"
     },
     "execution_count": 15,
     "metadata": {},
     "output_type": "execute_result"
    }
   ],
   "source": [
    "# Lendo o arquivo\n",
    "import pandas as pd\n",
    "file = 'https://github.com/BAFurtado/MBA_IDP_CapturaTratamento/blob/main/data/exemplo2.csv'\n",
    "exercicio1 = pd.read_csv(file + '?raw=True')\n",
    "exercicio1"
   ],
   "metadata": {
    "collapsed": false,
    "pycharm": {
     "name": "#%%\n"
    }
   }
  },
  {
   "cell_type": "code",
   "execution_count": 16,
   "outputs": [
    {
     "data": {
      "text/plain": "              cpf            nome impostos pagos malha fina?\n0    888111000-39      maria joao        R$ 5,43           n\n1  111.888.000-93      jose maria  R$ 105.430,70           y\n2     18181800093     jose manoel      R$ 100,00           n\n3     18181800194           paula           1285           y\n4     18181800194  paula da silva  R$ 100.000,27           y",
      "text/html": "<div>\n<style scoped>\n    .dataframe tbody tr th:only-of-type {\n        vertical-align: middle;\n    }\n\n    .dataframe tbody tr th {\n        vertical-align: top;\n    }\n\n    .dataframe thead th {\n        text-align: right;\n    }\n</style>\n<table border=\"1\" class=\"dataframe\">\n  <thead>\n    <tr style=\"text-align: right;\">\n      <th></th>\n      <th>cpf</th>\n      <th>nome</th>\n      <th>impostos pagos</th>\n      <th>malha fina?</th>\n    </tr>\n  </thead>\n  <tbody>\n    <tr>\n      <th>0</th>\n      <td>888111000-39</td>\n      <td>maria joao</td>\n      <td>R$ 5,43</td>\n      <td>n</td>\n    </tr>\n    <tr>\n      <th>1</th>\n      <td>111.888.000-93</td>\n      <td>jose maria</td>\n      <td>R$ 105.430,70</td>\n      <td>y</td>\n    </tr>\n    <tr>\n      <th>2</th>\n      <td>18181800093</td>\n      <td>jose manoel</td>\n      <td>R$ 100,00</td>\n      <td>n</td>\n    </tr>\n    <tr>\n      <th>3</th>\n      <td>18181800194</td>\n      <td>paula</td>\n      <td>1285</td>\n      <td>y</td>\n    </tr>\n    <tr>\n      <th>4</th>\n      <td>18181800194</td>\n      <td>paula da silva</td>\n      <td>R$ 100.000,27</td>\n      <td>y</td>\n    </tr>\n  </tbody>\n</table>\n</div>"
     },
     "execution_count": 16,
     "metadata": {},
     "output_type": "execute_result"
    }
   ],
   "source": [
    "# Padronizando os nomes\n",
    "exercicio1.nome = exercicio1.nome.str.normalize('NFKD').str.encode('ascii', errors='ignore').str.decode('utf-8')\n",
    "exercicio1.nome = exercicio1.nome.str.lower()\n",
    "exercicio1"
   ],
   "metadata": {
    "collapsed": false,
    "pycharm": {
     "name": "#%%\n"
    }
   }
  },
  {
   "cell_type": "code",
   "execution_count": 19,
   "outputs": [
    {
     "name": "stdout",
     "output_type": "stream",
     "text": [
      "           cpf            nome impostos pagos malha fina?   impostos\n",
      "0  88811100039      maria joao        R$ 5,43           n       5.43\n",
      "1  11188800093      jose maria  R$ 105.430,70           y  105430.70\n",
      "2  18181800093     jose manoel      R$ 100,00           n     100.00\n",
      "3  18181800194           paula           1285           y    1285.00\n",
      "4  18181800194  paula da silva  R$ 100.000,27           y  100000.27\n",
      "object\n"
     ]
    }
   ],
   "source": [
    "# Corrigindo valores pagos\n",
    "def clean_currency(x):\n",
    "    \"\"\" If the value is a string, then remove currency symbol and delimiters\n",
    "    otherwise, the value is numeric and can be converted\n",
    "    \"\"\"\n",
    "    if isinstance(x, str):\n",
    "        return x.replace('R$', '').replace('.', '').replace(',', '.')\n",
    "    return x\n",
    "\n",
    "exercicio1['impostos'] = exercicio1['impostos pagos'].apply(clean_currency).astype(float)\n",
    "print(exercicio1.head())\n",
    "print(exercicio1['impostos pagos'].dtype)"
   ],
   "metadata": {
    "collapsed": false,
    "pycharm": {
     "name": "#%%\n"
    }
   }
  },
  {
   "cell_type": "code",
   "execution_count": 7,
   "outputs": [
    {
     "data": {
      "text/plain": "41364.28"
     },
     "execution_count": 7,
     "metadata": {},
     "output_type": "execute_result"
    }
   ],
   "source": [
    "# Média impostos pagos\n",
    "exercicio1.impostos.mean()"
   ],
   "metadata": {
    "collapsed": false,
    "pycharm": {
     "name": "#%%\n"
    }
   }
  },
  {
   "cell_type": "code",
   "execution_count": 8,
   "outputs": [
    {
     "data": {
      "text/plain": "206821.4"
     },
     "execution_count": 8,
     "metadata": {},
     "output_type": "execute_result"
    }
   ],
   "source": [
    "exercicio1.impostos.sum()"
   ],
   "metadata": {
    "collapsed": false,
    "pycharm": {
     "name": "#%%\n"
    }
   }
  },
  {
   "cell_type": "code",
   "execution_count": 12,
   "outputs": [
    {
     "name": "stdout",
     "output_type": "stream",
     "text": [
      "Valor médio impostos pagos: 41.364,28.\n",
      "Total: 206.821,40.\n"
     ]
    }
   ],
   "source": [
    "# Valores esperados.\n",
    "v, tt = '41.364,28', '206.821,40'\n",
    "print(f'Valor médio impostos pagos: {v}.')\n",
    "print(f'Total: {tt}.')"
   ],
   "metadata": {
    "collapsed": false,
    "pycharm": {
     "name": "#%%\n"
    }
   }
  },
  {
   "cell_type": "markdown",
   "source": [
    "### Examinando os itens 9 e 10..."
   ],
   "metadata": {
    "collapsed": false,
    "pycharm": {
     "name": "#%% md\n"
    }
   }
  },
  {
   "cell_type": "code",
   "execution_count": null,
   "outputs": [],
   "source": [
    "for col in exercicio1.columns:\n",
    "    print(f'{exercicio1[col].value_counts()}\\n')\n"
   ],
   "metadata": {
    "collapsed": false,
    "pycharm": {
     "name": "#%%\n"
    }
   }
  },
  {
   "cell_type": "markdown",
   "source": [
    "### Então? Procedimentos\n",
    "1. Padronizar CPFs\n",
    "2. Agregar (`groubpy`) por CPF, somando impostos pagos.\n",
    "### Sempre muito cuidado com agregação: porque?"
   ],
   "metadata": {
    "collapsed": false,
    "pycharm": {
     "name": "#%% md\n"
    }
   }
  },
  {
   "cell_type": "code",
   "execution_count": null,
   "outputs": [],
   "source": [
    "print('')"
   ],
   "metadata": {
    "collapsed": false,
    "pycharm": {
     "name": "#%%\n"
    }
   }
  },
  {
   "cell_type": "code",
   "execution_count": null,
   "outputs": [],
   "source": [
    "\"\"\"\n",
    "Porque agregar sempre implica transformações nas variáveis.\n",
    "O que fazer com os valores de cada uma das outras colunas no processo de agregação?\n",
    "Somar, tirar a média? Contar o mais frequente?\n",
    "\"\"\""
   ],
   "metadata": {
    "collapsed": false,
    "pycharm": {
     "name": "#%%\n"
    }
   }
  },
  {
   "cell_type": "code",
   "execution_count": 17,
   "outputs": [
    {
     "name": "stderr",
     "output_type": "stream",
     "text": [
      "/tmp/ipykernel_22974/2081349549.py:2: FutureWarning: The default value of regex will change from True to False in a future version. In addition, single character regular expressions will *not* be treated as literal strings when regex=True.\n",
      "  exercicio1.cpf = exercicio1.cpf.str.replace('-', '').str.replace('.', '').astype(str)\n"
     ]
    },
    {
     "data": {
      "text/plain": "           cpf            nome impostos pagos malha fina?\n0  88811100039      maria joao        R$ 5,43           n\n1  11188800093      jose maria  R$ 105.430,70           y\n2  18181800093     jose manoel      R$ 100,00           n\n3  18181800194           paula           1285           y\n4  18181800194  paula da silva  R$ 100.000,27           y",
      "text/html": "<div>\n<style scoped>\n    .dataframe tbody tr th:only-of-type {\n        vertical-align: middle;\n    }\n\n    .dataframe tbody tr th {\n        vertical-align: top;\n    }\n\n    .dataframe thead th {\n        text-align: right;\n    }\n</style>\n<table border=\"1\" class=\"dataframe\">\n  <thead>\n    <tr style=\"text-align: right;\">\n      <th></th>\n      <th>cpf</th>\n      <th>nome</th>\n      <th>impostos pagos</th>\n      <th>malha fina?</th>\n    </tr>\n  </thead>\n  <tbody>\n    <tr>\n      <th>0</th>\n      <td>88811100039</td>\n      <td>maria joao</td>\n      <td>R$ 5,43</td>\n      <td>n</td>\n    </tr>\n    <tr>\n      <th>1</th>\n      <td>11188800093</td>\n      <td>jose maria</td>\n      <td>R$ 105.430,70</td>\n      <td>y</td>\n    </tr>\n    <tr>\n      <th>2</th>\n      <td>18181800093</td>\n      <td>jose manoel</td>\n      <td>R$ 100,00</td>\n      <td>n</td>\n    </tr>\n    <tr>\n      <th>3</th>\n      <td>18181800194</td>\n      <td>paula</td>\n      <td>1285</td>\n      <td>y</td>\n    </tr>\n    <tr>\n      <th>4</th>\n      <td>18181800194</td>\n      <td>paula da silva</td>\n      <td>R$ 100.000,27</td>\n      <td>y</td>\n    </tr>\n  </tbody>\n</table>\n</div>"
     },
     "execution_count": 17,
     "metadata": {},
     "output_type": "execute_result"
    }
   ],
   "source": [
    "# Padronizando CPFs\n",
    "exercicio1.cpf = exercicio1.cpf.str.replace('-', '').str.replace('.', '').astype(str)\n",
    "exercicio1"
   ],
   "metadata": {
    "collapsed": false,
    "pycharm": {
     "name": "#%%\n"
    }
   }
  },
  {
   "cell_type": "code",
   "execution_count": 25,
   "outputs": [
    {
     "data": {
      "text/plain": "              impostos\ncpf                   \n11188800093  105430.70\n18181800093     100.00\n18181800194  101285.27\n88811100039       5.43",
      "text/html": "<div>\n<style scoped>\n    .dataframe tbody tr th:only-of-type {\n        vertical-align: middle;\n    }\n\n    .dataframe tbody tr th {\n        vertical-align: top;\n    }\n\n    .dataframe thead th {\n        text-align: right;\n    }\n</style>\n<table border=\"1\" class=\"dataframe\">\n  <thead>\n    <tr style=\"text-align: right;\">\n      <th></th>\n      <th>impostos</th>\n    </tr>\n    <tr>\n      <th>cpf</th>\n      <th></th>\n    </tr>\n  </thead>\n  <tbody>\n    <tr>\n      <th>11188800093</th>\n      <td>105430.70</td>\n    </tr>\n    <tr>\n      <th>18181800093</th>\n      <td>100.00</td>\n    </tr>\n    <tr>\n      <th>18181800194</th>\n      <td>101285.27</td>\n    </tr>\n    <tr>\n      <th>88811100039</th>\n      <td>5.43</td>\n    </tr>\n  </tbody>\n</table>\n</div>"
     },
     "execution_count": 25,
     "metadata": {},
     "output_type": "execute_result"
    }
   ],
   "source": [
    "ex1_agregado = exercicio1.groupby('cpf').agg('sum')\n",
    "ex1_agregado\n"
   ],
   "metadata": {
    "collapsed": false,
    "pycharm": {
     "name": "#%%\n"
    }
   }
  },
  {
   "cell_type": "code",
   "execution_count": 26,
   "outputs": [
    {
     "data": {
      "text/plain": "           cpf   impostos\n0  11188800093  105430.70\n1  18181800093     100.00\n2  18181800194  101285.27\n3  88811100039       5.43",
      "text/html": "<div>\n<style scoped>\n    .dataframe tbody tr th:only-of-type {\n        vertical-align: middle;\n    }\n\n    .dataframe tbody tr th {\n        vertical-align: top;\n    }\n\n    .dataframe thead th {\n        text-align: right;\n    }\n</style>\n<table border=\"1\" class=\"dataframe\">\n  <thead>\n    <tr style=\"text-align: right;\">\n      <th></th>\n      <th>cpf</th>\n      <th>impostos</th>\n    </tr>\n  </thead>\n  <tbody>\n    <tr>\n      <th>0</th>\n      <td>11188800093</td>\n      <td>105430.70</td>\n    </tr>\n    <tr>\n      <th>1</th>\n      <td>18181800093</td>\n      <td>100.00</td>\n    </tr>\n    <tr>\n      <th>2</th>\n      <td>18181800194</td>\n      <td>101285.27</td>\n    </tr>\n    <tr>\n      <th>3</th>\n      <td>88811100039</td>\n      <td>5.43</td>\n    </tr>\n  </tbody>\n</table>\n</div>"
     },
     "execution_count": 26,
     "metadata": {},
     "output_type": "execute_result"
    }
   ],
   "source": [
    "ex1_agregado = exercicio1.groupby('cpf').agg('sum').reset_index()\n",
    "ex1_agregado"
   ],
   "metadata": {
    "collapsed": false,
    "pycharm": {
     "name": "#%%\n"
    }
   }
  },
  {
   "cell_type": "markdown",
   "source": [
    "## E agora? O que acontece se eu pedir para 'somar' e 'contar'?"
   ],
   "metadata": {
    "collapsed": false,
    "pycharm": {
     "name": "#%% md\n"
    }
   }
  },
  {
   "cell_type": "code",
   "execution_count": null,
   "outputs": [],
   "source": [
    "ex1_agregado = exercicio1.groupby('cpf').agg(['sum', 'count'])\n",
    "ex1_agregado"
   ],
   "metadata": {
    "collapsed": false,
    "pycharm": {
     "name": "#%%\n"
    }
   }
  },
  {
   "cell_type": "markdown",
   "source": [
    "---\n",
    "# $$+$$: Exercícios com pandas. Revisão."
   ],
   "metadata": {
    "collapsed": false
   }
  },
  {
   "cell_type": "markdown",
   "source": [
    "### Dados do Titanic. Análise livre\n",
    "\n",
    "1. Pergunta: Passageiros de classes inferiores apresentam taxa de sobrevivência menor?\n",
    "\n",
    "source: https://www.kaggle.com/c/titanic/data\n",
    "\n",
    "# Kaggle\n",
    "\n",
    "### \"Inside Kaggle you’ll find all the code & data you need to do your data science work. Use over 50,000 public datasets and 400,000 public notebooks to conquer any analysis in no time.\""
   ],
   "metadata": {
    "collapsed": false
   }
  },
  {
   "cell_type": "markdown",
   "source": [
    "### Dicionário"
   ],
   "metadata": {
    "collapsed": false
   }
  },
  {
   "cell_type": "code",
   "execution_count": null,
   "outputs": [],
   "source": [
    "'''\n",
    "Data Dictionary\n",
    "Variable\tDefinition\tKey\n",
    "survival \tSurvival \t0 = No, 1 = Yes\n",
    "pclass \tTicket class \t1 = 1st, 2 = 2nd, 3 = 3rd\n",
    "sex \tSex\n",
    "Age \tAge in years\n",
    "sibsp \t# of siblings / spouses aboard the Titanic\n",
    "parch \t# of parents / children aboard the Titanic\n",
    "ticket \tTicket number\n",
    "fare \tPassenger fare\n",
    "cabin \tCabin number\n",
    "embarked \tPort of Embarkation \tC = Cherbourg, Q = Queenstown, S = Southampton\n",
    "Variable Notes\n",
    "\n",
    "pclass: A proxy for socio-economic status (SES)\n",
    "1st = Upper\n",
    "2nd = Middle\n",
    "3rd = Lower\n",
    "\n",
    "age: Age is fractional if less than 1. If the age is estimated, is it in the form of xx.5\n",
    "\n",
    "sibsp: The dataset defines family relations in this way...\n",
    "Sibling = brother, sister, stepbrother, stepsister\n",
    "Spouse = husband, wife (mistresses and fiancés were ignored)\n",
    "\n",
    "parch: The dataset defines family relations in this way...\n",
    "Parent = mother, father\n",
    "Child = daughter, son, stepdaughter, stepson\n",
    "Some children travelled only with a nanny, therefore parch=0 for them.\n",
    "'''"
   ],
   "metadata": {
    "collapsed": false,
    "pycharm": {
     "name": "#%%\n"
    }
   }
  },
  {
   "cell_type": "code",
   "execution_count": 28,
   "outputs": [
    {
     "data": {
      "text/plain": "   PassengerId  Survived  Pclass  \\\n0            1         0       3   \n1            2         1       1   \n2            3         1       3   \n3            4         1       1   \n4            5         0       3   \n\n                                                Name     Sex   Age  SibSp  \\\n0                            Braund, Mr. Owen Harris    male  22.0      1   \n1  Cumings, Mrs. John Bradley (Florence Briggs Th...  female  38.0      1   \n2                             Heikkinen, Miss. Laina  female  26.0      0   \n3       Futrelle, Mrs. Jacques Heath (Lily May Peel)  female  35.0      1   \n4                           Allen, Mr. William Henry    male  35.0      0   \n\n   Parch            Ticket     Fare Cabin Embarked  \n0      0         A/5 21171   7.2500   NaN        S  \n1      0          PC 17599  71.2833   C85        C  \n2      0  STON/O2. 3101282   7.9250   NaN        S  \n3      0            113803  53.1000  C123        S  \n4      0            373450   8.0500   NaN        S  ",
      "text/html": "<div>\n<style scoped>\n    .dataframe tbody tr th:only-of-type {\n        vertical-align: middle;\n    }\n\n    .dataframe tbody tr th {\n        vertical-align: top;\n    }\n\n    .dataframe thead th {\n        text-align: right;\n    }\n</style>\n<table border=\"1\" class=\"dataframe\">\n  <thead>\n    <tr style=\"text-align: right;\">\n      <th></th>\n      <th>PassengerId</th>\n      <th>Survived</th>\n      <th>Pclass</th>\n      <th>Name</th>\n      <th>Sex</th>\n      <th>Age</th>\n      <th>SibSp</th>\n      <th>Parch</th>\n      <th>Ticket</th>\n      <th>Fare</th>\n      <th>Cabin</th>\n      <th>Embarked</th>\n    </tr>\n  </thead>\n  <tbody>\n    <tr>\n      <th>0</th>\n      <td>1</td>\n      <td>0</td>\n      <td>3</td>\n      <td>Braund, Mr. Owen Harris</td>\n      <td>male</td>\n      <td>22.0</td>\n      <td>1</td>\n      <td>0</td>\n      <td>A/5 21171</td>\n      <td>7.2500</td>\n      <td>NaN</td>\n      <td>S</td>\n    </tr>\n    <tr>\n      <th>1</th>\n      <td>2</td>\n      <td>1</td>\n      <td>1</td>\n      <td>Cumings, Mrs. John Bradley (Florence Briggs Th...</td>\n      <td>female</td>\n      <td>38.0</td>\n      <td>1</td>\n      <td>0</td>\n      <td>PC 17599</td>\n      <td>71.2833</td>\n      <td>C85</td>\n      <td>C</td>\n    </tr>\n    <tr>\n      <th>2</th>\n      <td>3</td>\n      <td>1</td>\n      <td>3</td>\n      <td>Heikkinen, Miss. Laina</td>\n      <td>female</td>\n      <td>26.0</td>\n      <td>0</td>\n      <td>0</td>\n      <td>STON/O2. 3101282</td>\n      <td>7.9250</td>\n      <td>NaN</td>\n      <td>S</td>\n    </tr>\n    <tr>\n      <th>3</th>\n      <td>4</td>\n      <td>1</td>\n      <td>1</td>\n      <td>Futrelle, Mrs. Jacques Heath (Lily May Peel)</td>\n      <td>female</td>\n      <td>35.0</td>\n      <td>1</td>\n      <td>0</td>\n      <td>113803</td>\n      <td>53.1000</td>\n      <td>C123</td>\n      <td>S</td>\n    </tr>\n    <tr>\n      <th>4</th>\n      <td>5</td>\n      <td>0</td>\n      <td>3</td>\n      <td>Allen, Mr. William Henry</td>\n      <td>male</td>\n      <td>35.0</td>\n      <td>0</td>\n      <td>0</td>\n      <td>373450</td>\n      <td>8.0500</td>\n      <td>NaN</td>\n      <td>S</td>\n    </tr>\n  </tbody>\n</table>\n</div>"
     },
     "execution_count": 28,
     "metadata": {},
     "output_type": "execute_result"
    }
   ],
   "source": [
    "import pandas as pd\n",
    "df = pd.read_csv('https://raw.githubusercontent.com/datasciencedojo/datasets/master/titanic.csv')\n",
    "# df = pd.read_csv(\"https://github.com/BAFurtado/MBA_IDP_CapturaTratamento/blob/main/data/titanic_test.csv?raw=True\")\n",
    "df.head()\n",
    "\n",
    "# source: https://minerandodados.com.br/analise-de-dados-com-python-usando-pandas/"
   ],
   "metadata": {
    "collapsed": false,
    "pycharm": {
     "name": "#%%\n"
    }
   }
  },
  {
   "cell_type": "markdown",
   "source": [
    "## Aperitivo. Missing dados\n"
   ],
   "metadata": {
    "collapsed": false
   }
  },
  {
   "cell_type": "code",
   "execution_count": null,
   "outputs": [],
   "source": [
    "df.isnull().sum()"
   ],
   "metadata": {
    "collapsed": false,
    "pycharm": {
     "name": "#%%\n"
    }
   }
  },
  {
   "cell_type": "code",
   "execution_count": null,
   "outputs": [],
   "source": [
    "df.info()"
   ],
   "metadata": {
    "collapsed": false,
    "pycharm": {
     "name": "#%%\n"
    }
   }
  },
  {
   "cell_type": "code",
   "execution_count": null,
   "outputs": [],
   "source": [
    "df.Embarked.head()"
   ],
   "metadata": {
    "collapsed": false,
    "pycharm": {
     "name": "#%%\n"
    }
   }
  },
  {
   "cell_type": "code",
   "execution_count": null,
   "outputs": [],
   "source": [
    "df.Cabin.value_counts()"
   ],
   "metadata": {
    "collapsed": false,
    "pycharm": {
     "name": "#%%\n"
    }
   }
  },
  {
   "cell_type": "code",
   "execution_count": null,
   "outputs": [],
   "source": [
    "df.Age.mode()"
   ],
   "metadata": {
    "collapsed": false,
    "pycharm": {
     "name": "#%%\n"
    }
   }
  },
  {
   "cell_type": "code",
   "execution_count": null,
   "outputs": [],
   "source": [
    "df.Fare.mean()"
   ],
   "metadata": {
    "collapsed": false,
    "pycharm": {
     "name": "#%%\n"
    }
   }
  },
  {
   "cell_type": "code",
   "execution_count": null,
   "outputs": [],
   "source": [
    "values = {'Age': df.Age.mode()[0],\n",
    "          'Cabin': 'SC',\n",
    "          'Fare': df.Fare.mean()}\n",
    "\n",
    "df.fillna(value=values, inplace=True)\n",
    "df.info()"
   ],
   "metadata": {
    "collapsed": false,
    "pycharm": {
     "name": "#%%\n"
    }
   }
  },
  {
   "cell_type": "code",
   "execution_count": 30,
   "outputs": [
    {
     "data": {
      "text/plain": "   PassengerId  Survived  Pclass  \\\n0            1         0       3   \n1            2         1       1   \n2            3         1       3   \n3            4         1       1   \n4            5         0       3   \n\n                                                Name     Sex   Age  SibSp  \\\n0                            Braund, Mr. Owen Harris    male  22.0      1   \n1  Cumings, Mrs. John Bradley (Florence Briggs Th...  female  38.0      1   \n2                             Heikkinen, Miss. Laina  female  26.0      0   \n3       Futrelle, Mrs. Jacques Heath (Lily May Peel)  female  35.0      1   \n4                           Allen, Mr. William Henry    male  35.0      0   \n\n   Parch            Ticket     Fare Cabin Embarked  sex_dummy  \n0      0         A/5 21171   7.2500   NaN        S          0  \n1      0          PC 17599  71.2833   C85        C          1  \n2      0  STON/O2. 3101282   7.9250   NaN        S          1  \n3      0            113803  53.1000  C123        S          1  \n4      0            373450   8.0500   NaN        S          0  ",
      "text/html": "<div>\n<style scoped>\n    .dataframe tbody tr th:only-of-type {\n        vertical-align: middle;\n    }\n\n    .dataframe tbody tr th {\n        vertical-align: top;\n    }\n\n    .dataframe thead th {\n        text-align: right;\n    }\n</style>\n<table border=\"1\" class=\"dataframe\">\n  <thead>\n    <tr style=\"text-align: right;\">\n      <th></th>\n      <th>PassengerId</th>\n      <th>Survived</th>\n      <th>Pclass</th>\n      <th>Name</th>\n      <th>Sex</th>\n      <th>Age</th>\n      <th>SibSp</th>\n      <th>Parch</th>\n      <th>Ticket</th>\n      <th>Fare</th>\n      <th>Cabin</th>\n      <th>Embarked</th>\n      <th>sex_dummy</th>\n    </tr>\n  </thead>\n  <tbody>\n    <tr>\n      <th>0</th>\n      <td>1</td>\n      <td>0</td>\n      <td>3</td>\n      <td>Braund, Mr. Owen Harris</td>\n      <td>male</td>\n      <td>22.0</td>\n      <td>1</td>\n      <td>0</td>\n      <td>A/5 21171</td>\n      <td>7.2500</td>\n      <td>NaN</td>\n      <td>S</td>\n      <td>0</td>\n    </tr>\n    <tr>\n      <th>1</th>\n      <td>2</td>\n      <td>1</td>\n      <td>1</td>\n      <td>Cumings, Mrs. John Bradley (Florence Briggs Th...</td>\n      <td>female</td>\n      <td>38.0</td>\n      <td>1</td>\n      <td>0</td>\n      <td>PC 17599</td>\n      <td>71.2833</td>\n      <td>C85</td>\n      <td>C</td>\n      <td>1</td>\n    </tr>\n    <tr>\n      <th>2</th>\n      <td>3</td>\n      <td>1</td>\n      <td>3</td>\n      <td>Heikkinen, Miss. Laina</td>\n      <td>female</td>\n      <td>26.0</td>\n      <td>0</td>\n      <td>0</td>\n      <td>STON/O2. 3101282</td>\n      <td>7.9250</td>\n      <td>NaN</td>\n      <td>S</td>\n      <td>1</td>\n    </tr>\n    <tr>\n      <th>3</th>\n      <td>4</td>\n      <td>1</td>\n      <td>1</td>\n      <td>Futrelle, Mrs. Jacques Heath (Lily May Peel)</td>\n      <td>female</td>\n      <td>35.0</td>\n      <td>1</td>\n      <td>0</td>\n      <td>113803</td>\n      <td>53.1000</td>\n      <td>C123</td>\n      <td>S</td>\n      <td>1</td>\n    </tr>\n    <tr>\n      <th>4</th>\n      <td>5</td>\n      <td>0</td>\n      <td>3</td>\n      <td>Allen, Mr. William Henry</td>\n      <td>male</td>\n      <td>35.0</td>\n      <td>0</td>\n      <td>0</td>\n      <td>373450</td>\n      <td>8.0500</td>\n      <td>NaN</td>\n      <td>S</td>\n      <td>0</td>\n    </tr>\n  </tbody>\n</table>\n</div>"
     },
     "execution_count": 30,
     "metadata": {},
     "output_type": "execute_result"
    }
   ],
   "source": [
    "# Replace: male, female\n",
    "sex = {'male': 0, 'female': 1}\n",
    "df['sex_dummy'] = df.Sex.replace(sex)\n",
    "df.head()"
   ],
   "metadata": {
    "collapsed": false,
    "pycharm": {
     "name": "#%%\n"
    }
   }
  },
  {
   "cell_type": "code",
   "execution_count": null,
   "outputs": [],
   "source": [
    "df.info()"
   ],
   "metadata": {
    "collapsed": false,
    "pycharm": {
     "name": "#%%\n"
    }
   }
  },
  {
   "cell_type": "code",
   "execution_count": null,
   "outputs": [],
   "source": [
    "cols = [1, 2, 5, 9, 12]\n",
    "df_simples = df.iloc[:, cols]\n",
    "df_simples.head()"
   ],
   "metadata": {
    "collapsed": false,
    "pycharm": {
     "name": "#%%\n"
    }
   }
  },
  {
   "cell_type": "markdown",
   "source": [
    "### Outro jeito de selecionar colunas?"
   ],
   "metadata": {
    "collapsed": false,
    "pycharm": {
     "name": "#%% md\n"
    }
   }
  },
  {
   "cell_type": "code",
   "execution_count": 31,
   "outputs": [],
   "source": [
    "df_simples2 = df[['Survived', 'Pclass', 'Age', 'Fare', 'sex_dummy']]\n",
    "df_simples2.head()"
   ],
   "metadata": {
    "collapsed": false,
    "pycharm": {
     "name": "#%%\n"
    }
   }
  },
  {
   "cell_type": "code",
   "execution_count": null,
   "outputs": [],
   "source": [
    "corr = df_simples.corr()\n",
    "corr"
   ],
   "metadata": {
    "collapsed": false,
    "pycharm": {
     "name": "#%%\n"
    }
   }
  },
  {
   "cell_type": "code",
   "execution_count": null,
   "outputs": [],
   "source": [
    "import seaborn as sns\n",
    "import matplotlib.pyplot as plt\n",
    "%matplotlib inline\n",
    "\n",
    "# plot the heatmap\n",
    "sns.heatmap(corr.iloc[:],\n",
    "            xticklabels=corr.columns,\n",
    "            yticklabels=corr.columns,\n",
    "            annot=True,\n",
    "            cmap='viridis')"
   ],
   "metadata": {
    "collapsed": false,
    "pycharm": {
     "name": "#%%\n"
    }
   }
  },
  {
   "cell_type": "markdown",
   "source": [
    "# Simple regression and output"
   ],
   "metadata": {
    "collapsed": false
   }
  },
  {
   "cell_type": "code",
   "execution_count": null,
   "outputs": [],
   "source": [
    "import statsmodels.formula.api as smf\n",
    "\n",
    "def reg(y, data, colunas=''):\n",
    "    \"\"\" Função que roda as regressões\n",
    "        Entre com colunas e com base de dados \"\"\"\n",
    "    resultado = smf.ols(f\"{y} ~  {colunas}\", data=data).fit()\n",
    "    sns.distplot(resultado.resid)\n",
    "    plt.show()\n",
    "    return resultado\n",
    "\n",
    "res = reg('Survived', df_simples, 'Pclass + sex_dummy + Age')\n",
    "print(res.summary())"
   ],
   "metadata": {
    "collapsed": false,
    "pycharm": {
     "name": "#%%\n"
    }
   }
  },
  {
   "cell_type": "markdown",
   "source": [
    "---\n",
    "## Nice output: com cara de paper\n",
    "\n",
    "Outros resultados com boa apresentação, from Quantative Economics:\n",
    "\n",
    "https://python.quantecon.org/ols.html\n"
   ],
   "metadata": {
    "collapsed": false
   }
  },
  {
   "cell_type": "code",
   "execution_count": null,
   "outputs": [],
   "source": [
    "from statsmodels.iolib.summary2 import summary_col\n",
    "\n",
    "def print_reg3(m1):\n",
    "    info_dict={'Log-likelihood': lambda x: f\"{x.llf:.2f}\",\n",
    "               'R-squared Adj': lambda x: f\"{x.rsquared_adj:.2f}\",\n",
    "               'AIC': lambda x: f\"{x.aic:.2f}\",\n",
    "               'BIC': lambda x: f\"{x.bic:.2f}\",\n",
    "               'No. observations': lambda x: f\"{int(x.nobs):d}\"}\n",
    "\n",
    "    results_table = summary_col(results=[m1],\n",
    "                                float_format='%0.2f',\n",
    "                                stars=True,\n",
    "                                model_names=['Model 1'],\n",
    "                                info_dict=info_dict)\n",
    "\n",
    "    results_table.add_title('Table - OLS Regressions')\n",
    "    print(results_table)\n",
    "\n",
    "    with open('data/nice_output.txt', 'w') as f:\n",
    "        f.write(results_table.as_text())\n",
    "    # return results_table\n",
    "\n",
    "print_reg3(res)"
   ],
   "metadata": {
    "collapsed": false,
    "pycharm": {
     "name": "#%%\n"
    }
   }
  },
  {
   "cell_type": "markdown",
   "source": [
    "---\n",
    "# Exercício extra\n",
    "\n",
    "0. Simples. Duas modificações apenas.\n",
    "1. Modifique a função `print_reg3` para que imprima o resultado comparativo de três modelos.\n",
    "2. Por exemplo, só com **Pclass**, adicionando **Age** e adicionando **sex_dummy**"
   ],
   "metadata": {
    "collapsed": false
   }
  },
  {
   "cell_type": "markdown",
   "source": [
    "# Formatos\n",
    "\n",
    "# Dados tabulares\n",
    "\n",
    "1. O que são?"
   ],
   "metadata": {
    "collapsed": false
   }
  },
  {
   "cell_type": "code",
   "execution_count": null,
   "outputs": [],
   "source": [
    "import pandas as pd\n",
    "\n",
    "Rows, Columns = 'r', 'c'"
   ],
   "metadata": {
    "collapsed": false,
    "pycharm": {
     "name": "#%%\n"
    }
   }
  },
  {
   "cell_type": "markdown",
   "source": [
    "Qual limitação imediata desse formato?"
   ],
   "metadata": {
    "collapsed": false
   }
  },
  {
   "cell_type": "markdown",
   "source": [
    "### Incluem RDBMSs -- Relational DataBase Management Systems\n",
    "\n",
    "Incluem:\n",
    "\n",
    "1. CVS -- comma-separated values\n",
    "2. Qualquer TXT, na verdade ...\n",
    "3. Planilhas (XLSX, ODS...)"
   ],
   "metadata": {
    "collapsed": false
   }
  },
  {
   "cell_type": "markdown",
   "source": [
    "---\n",
    "# CSV ou TXT\n",
    "\n",
    "* Delimited: claro, por um delimitador, usualmente\n",
    "# ','\n",
    "\n",
    "## Vantagens:\n",
    "1. Aceito -- *read, write* -- por praticamente todos sistemas/databases/programas\n",
    "2. Relativamente eficiente -- descrito por um autor como: ***fairly inneficient***\n",
    "\n",
    "## Desvantagens:\n",
    "1. Não contém de forma explícita o formato da informação `str, float, int`\n",
    "2. Como também não o sistema decimal (ponto, vírgula, moedas)...\n",
    "\n",
    "\n",
    "## Diferenças relevantes em relação ao EXCEL, por exemplo.\n",
    "\n",
    "1. Alguém?\n",
    "---"
   ],
   "metadata": {
    "collapsed": false
   }
  },
  {
   "cell_type": "code",
   "execution_count": null,
   "outputs": [],
   "source": [],
   "metadata": {
    "collapsed": false,
    "pycharm": {
     "name": "#%% Artifício para esconder próximas células\n"
    }
   }
  },
  {
   "cell_type": "markdown",
   "source": [
    "1. O tipo de informação (`float, date`) é (quase) sempre **inferred**\n",
    "2. Não transparente.\n",
    "3. Não contém os passos de transformação -- ou seja -- não consegue descrever as alterações feitas\n",
    "4. Não mantém consistência entre linhas e colunas (enfatiza a questão visual)"
   ],
   "metadata": {
    "collapsed": false
   }
  },
  {
   "cell_type": "markdown",
   "source": [
    "---\n",
    "## Parâmetros de leitura. Opcionais e padrão\n",
    "# pd.read_csv(filepath)\n",
    "\n",
    "1. `filepath`: 'endereço'. Obrigatório\n",
    "2. `sep`: delimitador. Padrão: vírgula\n",
    "3. `header`: Se utiliza primeira linha para nomes de colunas.\n",
    "4. Padrão `header=0` (inferidas, a partir da 1a. linha de dados)\n",
    "5. Utilize `header=None` para não inferir a 1a. linha como títulos de colunas.\n",
    "6. Caso queira nomear colunas na leitura, use `names=['col1', 'col2']`.\n",
    "7. Também é possível usar uma coluna específica como nome das colunas: `index_col='nome_col'` ou índice `int` da posição da coluna.\n",
    "8. Limitar a leitura a algumas colunas: `usecols=['col1', 'col8']\n",
    "#### Típico para o caso brasileiro\n",
    "9. `encoding='latin-1'`\n",
    "10. Para planilhas gigantes: `nrows=100`\n",
    "\n",
    "source: Confira: https://pandas.pydata.org/docs/reference/api/pandas.read_csv.html"
   ],
   "metadata": {
    "collapsed": false
   }
  },
  {
   "cell_type": "markdown",
   "source": [
    "---\n",
    "# Fixed-width data\n",
    "\n",
    "### Que não são delimitados por um separador, mas sim por posição específica na linha.\n",
    "\n",
    "Vantagem. Compacto\n",
    "\n",
    "### Exemplo de leitura de dados da amostra do Censo 2010\n",
    "---"
   ],
   "metadata": {
    "collapsed": false
   }
  },
  {
   "cell_type": "markdown",
   "source": [
    "# SQL RDBMS\n",
    "<span style=\"color:red\">Structured</span> <span style=\"color:blue\">Query</span> Language\n",
    "\n",
    "Relational DataBase Management Systems\n",
    "\n",
    "* 1 projeto (arquivo), várias tables. Múltiplas relações.\n",
    "\n",
    "## Mais restritivas (estruturadas), porém, mais organizadas.\n",
    "\n",
    "Funções mais relevantes:\n",
    "\n",
    "1. GROUP BY (agregação)\n",
    "2. JOIN (relacionamento)\n",
    "3. WHERE (condição)\n",
    "\n",
    "### https://pandas.pydata.org/docs/getting_started/comparison/comparison_with_sql.html"
   ],
   "metadata": {
    "collapsed": false
   }
  },
  {
   "cell_type": "code",
   "execution_count": null,
   "outputs": [],
   "source": [
    "sql_create_tasks_table = \"\"\"CREATE TABLE IF NOT EXISTS tasks (\n",
    "                                id integer PRIMARY KEY,\n",
    "                                name text NOT NULL,\n",
    "                                priority integer,\n",
    "                                status_id integer NOT NULL,\n",
    "                                project_id integer NOT NULL,\n",
    "                                begin_date text NOT NULL,\n",
    "                                end_date text NOT NULL,\n",
    "                                FOREIGN KEY (project_id) REFERENCES projects (id)\n",
    "                            );\"\"\""
   ],
   "metadata": {
    "collapsed": false,
    "pycharm": {
     "name": "#%%\n"
    }
   }
  },
  {
   "cell_type": "markdown",
   "source": [
    "# Hierárquicos\n",
    "\n",
    "![Tree](https://github.com/BAFurtado/MBA_IDP_CapturaTratamento/blob/main/data/tree.png?raw=True)"
   ],
   "metadata": {
    "collapsed": false
   }
  },
  {
   "cell_type": "markdown",
   "source": [
    "### \"\"... no specific limit on the depth or names of branches.\"\"\n",
    "(Mertz, 2021, p.71)\n",
    "\n",
    "1. Diretórios\n",
    "2. Redes\n",
    "3. Grafos (em geral). Matrizes incompletas, esparsas\n"
   ],
   "metadata": {
    "collapsed": false
   }
  },
  {
   "cell_type": "markdown",
   "source": [
    "---\n",
    "# JSON\n",
    "\n",
    "### Língua franca HTML, CSS, dados\n",
    "\n",
    "* JavaScript Object Notation\n",
    "\n",
    "1. Fácil leitura humanos $$+$$ máquinas\n",
    "2. Safe. Transparente (distinto de `pickle`, por exemplo)\n",
    "3. Aceita `false, true, null, objects {}, arrays {}`\n",
    "4. keys tem que ser **strings**"
   ],
   "metadata": {
    "collapsed": false
   }
  },
  {
   "cell_type": "code",
   "execution_count": null,
   "outputs": [],
   "source": [
    "import json\n",
    "\n",
    "exemplo = \"\"\"\n",
    "    {\"name\": \"Wes\",\n",
    "    \"places_lived\": [\"United States\", \"Spain\", \"Germany\"],\n",
    "    \"pet\": null,\n",
    "    \"siblings\": [{\"name\": \"Scott\", \"age\": 25, \"pet\": \"Zuko\"},\n",
    "    {\"name\": \"Katie\", \"age\": 33, \"pet\": \"Cisco\"}]\n",
    "    }\n",
    "\"\"\"\n",
    "\n",
    "# source: (McKinney, 2012, p.165)"
   ],
   "metadata": {
    "collapsed": false,
    "pycharm": {
     "name": "#%%\n"
    }
   }
  },
  {
   "cell_type": "code",
   "execution_count": null,
   "outputs": [],
   "source": [
    "j = json.loads(exemplo)\n",
    "print(type(j))\n",
    "print(j)"
   ],
   "metadata": {
    "collapsed": false,
    "pycharm": {
     "name": "#%%\n"
    }
   }
  },
  {
   "cell_type": "code",
   "execution_count": null,
   "outputs": [],
   "source": [
    "print(f'Keys: {j.keys()}')\n",
    "print(f\"Content of siblings: {j['siblings']}\")\n",
    "print(f\"type {type(j['siblings'])}\")"
   ],
   "metadata": {
    "collapsed": false,
    "pycharm": {
     "name": "#%%\n"
    }
   }
  },
  {
   "cell_type": "code",
   "execution_count": null,
   "outputs": [],
   "source": [
    "print(f\"{j['siblings'][0].keys()}\")\n",
    "print(f\"{j['siblings'][0]['name']}\")"
   ],
   "metadata": {
    "collapsed": false,
    "pycharm": {
     "name": "#%%\n"
    }
   }
  },
  {
   "cell_type": "markdown",
   "source": [
    "### O que aconteceu com `\"pet\": null`?"
   ],
   "metadata": {
    "collapsed": false
   }
  },
  {
   "cell_type": "code",
   "execution_count": null,
   "outputs": [],
   "source": [
    "print(j['pet'])"
   ],
   "metadata": {
    "collapsed": false,
    "pycharm": {
     "name": "#%%\n"
    }
   }
  },
  {
   "cell_type": "markdown",
   "source": [
    "* Observação: é possível usar [schema](https://json-schema.org/) para definir um formato específico de JSON válido para o seu projeto."
   ],
   "metadata": {
    "collapsed": false
   }
  },
  {
   "cell_type": "markdown",
   "source": [
    "---\n",
    "# Persistência JSON"
   ],
   "metadata": {
    "collapsed": false
   }
  },
  {
   "cell_type": "code",
   "execution_count": 19,
   "outputs": [],
   "source": [
    "import json\n",
    "\n",
    "# Saving\n",
    "def save_json(ob, filename):\n",
    "    with open(filename, 'w') as handler:\n",
    "        json.dump(ob, handler)\n",
    "    print(f'Saved! You can check {filename}')\n",
    "\n",
    "# Loading\n",
    "def load_json(filename):\n",
    "    with open(filename, \"r\") as handler:\n",
    "        ll = json.load(handler)\n",
    "    print(f'A soma da lista lida é {sum(ll):,.0f}')"
   ],
   "metadata": {
    "collapsed": false,
    "pycharm": {
     "name": "#%%\n"
    }
   }
  },
  {
   "cell_type": "code",
   "execution_count": 20,
   "outputs": [
    {
     "name": "stdout",
     "output_type": "stream",
     "text": [
      "Saved! You can check data/my_json.json\n"
     ]
    }
   ],
   "source": [
    "l = [x ** 3 for x in range(5)]\n",
    "f = 'data/my_json.json'\n",
    "save_json(l, f)"
   ],
   "metadata": {
    "collapsed": false,
    "pycharm": {
     "name": "#%%\n"
    }
   }
  },
  {
   "cell_type": "code",
   "execution_count": 21,
   "outputs": [
    {
     "name": "stdout",
     "output_type": "stream",
     "text": [
      "A soma da lista lida é 100\n"
     ]
    }
   ],
   "source": [
    "load_json(f)"
   ],
   "metadata": {
    "collapsed": false,
    "pycharm": {
     "name": "#%%\n"
    }
   }
  },
  {
   "cell_type": "markdown",
   "source": [
    "## Exercício bastante simples\n",
    "\n",
    "1. Crie uma lista qualquer em `python`.\n",
    "2. Por exemplo, uma lista com 10 elementos, começando em 100 até 10, de 10 em 10.\n",
    "*Dica*: a função range admite as opções `range(início, fim, step).\n",
    "Se o step for negativo, a lista é decrescente, certo?\n",
    "3. Salve em JSON\n",
    "4. Load em JSON\n",
    "5. Calcule a média."
   ],
   "metadata": {
    "collapsed": false
   }
  },
  {
   "cell_type": "markdown",
   "source": [
    "---\n",
    "# XML\n",
    "### eXtensible Markup Language\n",
    "\n",
    "* complex\n",
    "* semelhante a HTML. Usa tags <> </> para definir os branches.\n",
    "\n",
    "## Ilustração"
   ],
   "metadata": {
    "collapsed": false
   }
  },
  {
   "cell_type": "code",
   "execution_count": 49,
   "outputs": [],
   "source": [
    "# source: adapted from Mertz, 2021, p.99\n",
    "users = \"\"\"<?xml version=\"1.0\" encoding=\"utf-8\" ?>\n",
    "<users>\n",
    "  <user>\n",
    "    <name>Mr. John</name>\n",
    "    <password>26sXFSAFQqlj.*24</password>\n",
    "    <details>\n",
    "      <profession employer=\"IDP\">\n",
    "      Professor</profession>\n",
    "      <telephone>+55 61 2021 4000</telephone>\n",
    "    </details>\n",
    "  </user>\n",
    "  <user>\n",
    "    <name>Ms. Bevilacqua</name>\n",
    "    <password>26sXF584Qqlj.*24</password>\n",
    "    <details>\n",
    "      <profession employer=\"Casa Civil\">\n",
    "      Lobista</profession>\n",
    "      <telephone>+55 61 1021 4000</telephone>\n",
    "    </details>\n",
    "  </user>\n",
    "</users>\n",
    "\"\"\""
   ],
   "metadata": {
    "collapsed": false,
    "pycharm": {
     "name": "#%%\n"
    }
   }
  },
  {
   "cell_type": "code",
   "execution_count": 50,
   "outputs": [
    {
     "name": "stdout",
     "output_type": "stream",
     "text": [
      "Mr. John: IDP\n",
      "Ms. Bevilacqua: Casa Civil\n"
     ]
    }
   ],
   "source": [
    "import xml.etree.ElementTree as ET\n",
    "tree = ET.fromstring(users)\n",
    "\n",
    "# Let us first find the attributes and text of a profession\n",
    "user = tree.findall('user')\n",
    "for each in user:\n",
    "    print(f\"{each.find('name').text}: {each.find('details').find('profession').attrib.get('employer')}\")\n"
   ],
   "metadata": {
    "collapsed": false,
    "pycharm": {
     "name": "#%%\n"
    }
   }
  },
  {
   "cell_type": "markdown",
   "source": [
    "### Exemplo: bookstore\n",
    "source: https://www.w3schools.com/xml/xml_tree.asp\n",
    "\n",
    "* root\n",
    "* parent\n",
    "* child\n",
    "* sibling\n",
    "* attribute\n",
    "* text"
   ],
   "metadata": {
    "collapsed": false
   }
  },
  {
   "cell_type": "code",
   "execution_count": 42,
   "outputs": [],
   "source": [
    "books = \"\"\"<?xml version=\"1.0\" encoding=\"UTF-8\"?>\n",
    "<bookstore>\n",
    "  <book category=\"cooking\">\n",
    "    <title lang=\"en\">Everyday Italian</title>\n",
    "    <author>Giada De Laurentiis</author>\n",
    "    <year>2005</year>\n",
    "    <price>30.00</price>\n",
    "  </book>\n",
    "  <book category=\"children\">\n",
    "    <title lang=\"en\">Harry Potter</title>\n",
    "    <author>J K. Rowling</author>\n",
    "    <year>2005</year>\n",
    "    <price>29.99</price>\n",
    "  </book>\n",
    "  <book category=\"web\">\n",
    "    <title lang=\"en\">Learning XML</title>\n",
    "    <author>Erik T. Ray</author>\n",
    "    <year>2003</year>\n",
    "    <price>39.95</price>\n",
    "  </book>\n",
    "</bookstore>\n",
    "\"\"\""
   ],
   "metadata": {
    "collapsed": false,
    "pycharm": {
     "name": "#%%\n"
    }
   }
  },
  {
   "cell_type": "code",
   "execution_count": 43,
   "outputs": [
    {
     "data": {
      "text/plain": "<Element 'bookstore' at 0x7f074f109090>"
     },
     "execution_count": 43,
     "metadata": {},
     "output_type": "execute_result"
    }
   ],
   "source": [
    "import xml.etree.ElementTree as ET\n",
    "books = ET.fromstring(books)\n",
    "books"
   ],
   "metadata": {
    "collapsed": false,
    "pycharm": {
     "name": "#%%\n"
    }
   }
  },
  {
   "cell_type": "code",
   "execution_count": null,
   "outputs": [],
   "source": [
    "for child in books:\n",
    "    print(child.tag, child.attrib)"
   ],
   "metadata": {
    "collapsed": false,
    "pycharm": {
     "name": "#%%\n"
    }
   }
  },
  {
   "cell_type": "code",
   "execution_count": 44,
   "outputs": [
    {
     "data": {
      "text/plain": "[<Element 'book' at 0x7f074f109c70>,\n <Element 'book' at 0x7f074f0cb5e0>,\n <Element 'book' at 0x7f074f0cb680>]"
     },
     "execution_count": 44,
     "metadata": {},
     "output_type": "execute_result"
    }
   ],
   "source": [
    "books = books.findall('book')\n",
    "books"
   ],
   "metadata": {
    "collapsed": false,
    "pycharm": {
     "name": "#%%\n"
    }
   }
  },
  {
   "cell_type": "code",
   "execution_count": 45,
   "outputs": [
    {
     "data": {
      "text/plain": "['Giada De Laurentiis', 'J K. Rowling', 'Erik T. Ray']"
     },
     "execution_count": 45,
     "metadata": {},
     "output_type": "execute_result"
    }
   ],
   "source": [
    "[b.find('author').text for b in books]"
   ],
   "metadata": {
    "collapsed": false,
    "pycharm": {
     "name": "#%%\n"
    }
   }
  },
  {
   "cell_type": "code",
   "execution_count": 46,
   "outputs": [
    {
     "data": {
      "text/plain": "['Everyday Italian', 'Harry Potter', 'Learning XML']"
     },
     "execution_count": 46,
     "metadata": {},
     "output_type": "execute_result"
    }
   ],
   "source": [
    "[b.find('title').text for b in books]"
   ],
   "metadata": {
    "collapsed": false,
    "pycharm": {
     "name": "#%%\n"
    }
   }
  },
  {
   "cell_type": "code",
   "execution_count": 47,
   "outputs": [
    {
     "data": {
      "text/plain": "['cooking', 'children', 'web']"
     },
     "execution_count": 47,
     "metadata": {},
     "output_type": "execute_result"
    }
   ],
   "source": [
    "[b.attrib.get('category') for b in books]"
   ],
   "metadata": {
    "collapsed": false,
    "pycharm": {
     "name": "#%%\n"
    }
   }
  },
  {
   "cell_type": "code",
   "execution_count": 48,
   "outputs": [
    {
     "data": {
      "text/plain": "['en', 'en', 'en']"
     },
     "execution_count": 48,
     "metadata": {},
     "output_type": "execute_result"
    }
   ],
   "source": [
    "[b.find('title').attrib.get('lang') for b in books]"
   ],
   "metadata": {
    "collapsed": false,
    "pycharm": {
     "name": "#%%\n"
    }
   }
  },
  {
   "cell_type": "markdown",
   "source": [
    "---\n",
    "# Pickle $$+$$\n",
    "* Nativo para python\n",
    "* Prático para projetos próprios, salvando resultados intermediários.\n",
    "* Não são seguros, se obtidos na *internet* (não-inspecionáveis)\n",
    "* Salva `python objects`: por exemplo, `funções` e `class` e `class instance`\n",
    "\n",
    "---\n",
    "# `class`"
   ],
   "metadata": {
    "collapsed": false
   }
  },
  {
   "cell_type": "code",
   "execution_count": null,
   "outputs": [],
   "source": [
    "# Cria uma classe de alunos\n",
    "class Aluno:\n",
    "    def __init__(self, name):\n",
    "        self.nome = name\n",
    "        self.notas = dict()\n",
    "\n",
    "    def add_course(self, aluno, nome_curso, nota):\n",
    "        if self.nome == aluno:\n",
    "            self.notas[nome_curso] = nota\n",
    "\n",
    "    def __repr__(self):\n",
    "        return f'{self.notas}'"
   ],
   "metadata": {
    "collapsed": false,
    "pycharm": {
     "name": "#%%\n"
    }
   }
  },
  {
   "cell_type": "code",
   "execution_count": null,
   "outputs": [],
   "source": [
    "# Cria várias instâncias (python objects) de alunos e guarda em um relatório\n",
    "nomes = ['Paulo', 'Joana']\n",
    "report = dict()\n",
    "for nome in nomes:\n",
    "    report[nome] = Aluno(nome)\n",
    "\n",
    "print(report)"
   ],
   "metadata": {
    "collapsed": false,
    "pycharm": {
     "name": "#%%\n"
    }
   }
  },
  {
   "cell_type": "code",
   "execution_count": null,
   "outputs": [],
   "source": [
    "# Salva o relatório\n",
    "import pickle\n",
    "\n",
    "def save_pickle(ob, name='data/my_first_pickle'):\n",
    "    with open(name, 'wb') as handler:\n",
    "        pickle.dump(ob, handler)\n",
    "    print('Saved!!!')\n",
    "\n",
    "save_pickle(report)"
   ],
   "metadata": {
    "collapsed": false,
    "pycharm": {
     "name": "#%%\n"
    }
   }
  },
  {
   "cell_type": "code",
   "execution_count": null,
   "outputs": [],
   "source": [
    "# Em outro momento, load o arquivo salvo, atualize as notas\n",
    "def load_pickle(name='data/my_first_pickle'):\n",
    "    with open(name, 'rb') as handler:\n",
    "        loaded_obj = pickle.load(handler)\n",
    "    print('Objeto lido!')\n",
    "    return loaded_obj\n",
    "\n",
    "my_old_report = load_pickle()\n",
    "print(my_old_report)"
   ],
   "metadata": {
    "collapsed": false,
    "pycharm": {
     "name": "#%%\n"
    }
   }
  },
  {
   "cell_type": "code",
   "execution_count": null,
   "outputs": [],
   "source": [
    "# Adicione notas\n",
    "notas = [('Paulo', 10), ('Joana', 10)]\n",
    "for nota in notas:\n",
    "    nome = nota[0]\n",
    "    my_old_report[nome].add_course(nome, 'TACD', nota[1])\n",
    "\n",
    "print(my_old_report)\n"
   ],
   "metadata": {
    "collapsed": false,
    "pycharm": {
     "name": "#%%\n"
    }
   }
  },
  {
   "cell_type": "markdown",
   "source": [
    "---\n",
    "# Exercício\n",
    "\n",
    "1. Crie uma classe simples, como o exemplo de Aluno\n",
    "2. Chame-a de **Pet**, por exemplo e dê uma _id ou nome, ou ambos\n",
    "3. Utilize somente a primeira função `__init__` que é construtora\n",
    "4. Se a _id for numérica, crie 10 objetos do tipo Pet"
   ],
   "metadata": {
    "collapsed": false
   }
  },
  {
   "cell_type": "code",
   "execution_count": null,
   "outputs": [],
   "source": [
    "# Exemplo\n",
    "try:\n",
    "    my_pets = [Pet(i) for i in range(10)]\n",
    "except NameError:\n",
    "    print(\"Essa função só funciona se houver a `class` Pet() com uma função __init__ que recebe uma id\")"
   ],
   "metadata": {
    "collapsed": false,
    "pycharm": {
     "name": "#%%\n"
    }
   }
  },
  {
   "cell_type": "markdown",
   "source": [
    "5. Criado o objeto my_pets, salve ele em PICKLE\n",
    "6. Não será possível salvar em JSON. Nesse caso, crie um dicionário simples e salve em JSON\n",
    "7. Load o PICKLE que você salvou e inspecione o objeto.\n",
    "8. Abra o arquivo JSON no diretório que você salvou e inspecione o objeto."
   ],
   "metadata": {
    "collapsed": false
   }
  },
  {
   "cell_type": "markdown",
   "source": [
    "---\n",
    "# Aperitivo II\n",
    "source: https://open.fda.gov/apis/\n",
    "\n",
    "### API is an acronym for Application Programming Interface. <br>\n",
    "\n",
    "### An **API call** is any request sent to the API.\n",
    "\n",
    "### Requests are typically sent to the API in one of two ways:\n",
    "\n",
    "1. Manually using a web browser\n",
    "(such as navigating to the URL https://api.fda.gov/drug/label.json) or\n",
    "\n",
    "2. **Programmatically** sending the request via executing code that **sends the API call** and processes the response. Continue reading this documentation for more details on how to compose an API call for openFDA specifically.\n",
    "\n",
    "### The API **returns individual results as JSON** by default.\n",
    "\n",
    "### The JSON object has two sections:\n",
    "\n",
    "   1. `meta`: Metadata about the query, including a disclaimer, link to data license, last-updated date, and total matching records, if applicable.\n",
    "\n",
    "   2. `results`: An **array** of matching results, dependent on which endpoint was **queried**.\n",
    "\n"
   ],
   "metadata": {
    "collapsed": false
   }
  },
  {
   "cell_type": "markdown",
   "source": [
    "# SQL\n",
    "source: https://www.sqlitetutorial.net/sqlite-python\n",
    "### Exemplo básico\n",
    "\n",
    "1. Cria database\n",
    "2. Faz conexão\n"
   ],
   "metadata": {
    "collapsed": false
   }
  },
  {
   "cell_type": "code",
   "execution_count": null,
   "outputs": [],
   "source": [
    "import sqlite3\n",
    "\n",
    "# Endereço no qual irá guardar a database\n",
    "my_first_db = 'data/my_db.db'\n",
    "\n",
    "def connect_db(database):\n",
    "    con = sqlite3.connect(database)\n",
    "    print(f'Conexão realizada com sucesso. Versão sqlite: {sqlite3.version}')\n",
    "    return con"
   ],
   "metadata": {
    "collapsed": false,
    "pycharm": {
     "name": "#%%\n"
    }
   }
  },
  {
   "cell_type": "markdown",
   "source": [
    "3. Cria planilhas -- tables. Isso só é feito no início do projeto\n",
    "    1. Criaremos uma planilha `projects` e uma `tasks`"
   ],
   "metadata": {
    "collapsed": false
   }
  },
  {
   "cell_type": "code",
   "execution_count": null,
   "outputs": [],
   "source": [
    "sql_create_projects_table = \"\"\" CREATE TABLE IF NOT EXISTS projects (\n",
    "                                    id integer PRIMARY KEY,\n",
    "                                    name text NOT NULL,\n",
    "                                    begin_date text,\n",
    "                                    end_date text\n",
    "                                ); \"\"\"\n",
    "\n",
    "sql_create_tasks_table = \"\"\"CREATE TABLE IF NOT EXISTS tasks (\n",
    "                                id integer PRIMARY KEY,\n",
    "                                name text NOT NULL,\n",
    "                                priority integer,\n",
    "                                status_id integer NOT NULL,\n",
    "                                project_id integer NOT NULL,\n",
    "                                begin_date text NOT NULL,\n",
    "                                end_date text NOT NULL,\n",
    "                                FOREIGN KEY (project_id) REFERENCES projects (id)\n",
    "                            );\"\"\""
   ],
   "metadata": {
    "collapsed": false,
    "pycharm": {
     "name": "#%%\n"
    }
   }
  },
  {
   "cell_type": "markdown",
   "source": [
    "4. Em python, usamos o `with` toda vez que um processo precisa de `open` e depois `close`\n",
    "O `with` cria um contexto no qual o `handler`, a `conexão` são válidos!"
   ],
   "metadata": {
    "collapsed": false
   }
  },
  {
   "cell_type": "code",
   "execution_count": null,
   "outputs": [],
   "source": [
    "with connect_db(my_first_db) as conn:\n",
    "    conn.execute(sql_create_projects_table)\n",
    "    conn.execute(sql_create_tasks_table)\n",
    "    conn.commit()"
   ],
   "metadata": {
    "collapsed": false,
    "pycharm": {
     "name": "#%%\n"
    }
   }
  },
  {
   "cell_type": "markdown",
   "source": [
    "5. Agora, existe uma database, com duas planilhas formatadas.\n",
    "6. Estamos prontos para criar um projeto, com tarefas.\n",
    "7. As duas funções abaixo criam o processo de inserção de projetos e tarefas nas planilhas."
   ],
   "metadata": {
    "collapsed": false
   }
  },
  {
   "cell_type": "code",
   "execution_count": null,
   "outputs": [],
   "source": [
    "def create_project(conn, project):\n",
    "    \"\"\"\n",
    "    Create a new project into the projects table\n",
    "    :param conn:\n",
    "    :param project:\n",
    "    :return: project id\n",
    "    \"\"\"\n",
    "    sql = ''' INSERT INTO projects(name,begin_date,end_date)\n",
    "              VALUES(?,?,?) '''\n",
    "    cur = conn.cursor()\n",
    "    cur.execute(sql, project)\n",
    "    conn.commit()\n",
    "    return cur.lastrowid\n",
    "\n",
    "\n",
    "def create_task(conn, task):\n",
    "    \"\"\"\n",
    "    Create a new task\n",
    "    :param conn:\n",
    "    :param task:\n",
    "    :return:\n",
    "    \"\"\"\n",
    "\n",
    "    sql = ''' INSERT INTO tasks(name,priority,status_id,project_id,begin_date,end_date)\n",
    "              VALUES(?,?,?,?,?,?) '''\n",
    "    cur = conn.cursor()\n",
    "    cur.execute(sql, task)\n",
    "    conn.commit()\n",
    "    return cur.lastrowid"
   ],
   "metadata": {
    "collapsed": false,
    "pycharm": {
     "name": "#%%\n"
    }
   }
  },
  {
   "cell_type": "markdown",
   "source": [
    "8. Agora, já temos a database, as planilhas e as funções que inserem informações.\n",
    "9. Vamos começar a inserir, de fato, detalhes dos projetos."
   ],
   "metadata": {
    "collapsed": false
   }
  },
  {
   "cell_type": "code",
   "execution_count": null,
   "outputs": [],
   "source": [
    "with connect_db(my_first_db) as conn:\n",
    "    # create a new project\n",
    "    project = ('Primeiro Cool App com SQLite & Python', '2021-07-21', '2021-12-31');\n",
    "    project_id = create_project(conn, project)\n",
    "\n",
    "    # tasks\n",
    "    task_1 = ('Rever com cuidado e treinar as aulas Prof. Bernardo', 1, 1, project_id, '2021-08-03', '2021-08-21')\n",
    "    task_2 = ('Realizar exercícios que extrapolam os exemplos básicos', 2, 1, project_id, '2021-08-03', '2021-08-21')\n",
    "\n",
    "    # create tasks\n",
    "    create_task(conn, task_1)\n",
    "    create_task(conn, task_2)"
   ],
   "metadata": {
    "collapsed": false,
    "pycharm": {
     "name": "#%%\n"
    }
   }
  },
  {
   "cell_type": "markdown",
   "source": [
    "10. Se você rodar esse comando em uma IDE de python. Tipo PyCharm community, my favorite.\n",
    "11. Então pode ir ao terminal\n",
    "    1. Enter `sqlite3 data/my_db.db`\n",
    "    2. `.header on`\n",
    "    3. `.mode column`\n",
    "    4. `select * from tasks;`\n",
    "    5. `.exit`"
   ],
   "metadata": {
    "collapsed": false
   }
  },
  {
   "cell_type": "markdown",
   "source": [
    "![sql exemplo](https://github.com/BAFurtado/MBA_IDP_CapturaTratamento/blob/main/data/sql_exemplo.png?raw=True)"
   ],
   "metadata": {
    "collapsed": false
   }
  },
  {
   "cell_type": "markdown",
   "source": [
    "12. Alternativamente, novamente usando o `pandas`, você pode fazer:"
   ],
   "metadata": {
    "collapsed": false
   }
  },
  {
   "cell_type": "code",
   "execution_count": null,
   "outputs": [],
   "source": [
    "with connect_db(my_first_db) as conn:\n",
    "    data = pd.read_sql_query(\"SELECT * FROM tasks\", conn)\n",
    "\n",
    "print(data)"
   ],
   "metadata": {
    "collapsed": false,
    "pycharm": {
     "name": "#%%\n"
    }
   }
  },
  {
   "cell_type": "code",
   "execution_count": null,
   "outputs": [],
   "source": [
    "print(data.info())"
   ],
   "metadata": {
    "collapsed": false,
    "pycharm": {
     "name": "#%%\n"
    }
   }
  },
  {
   "cell_type": "markdown",
   "source": [
    "# Exercício SQL.\n",
    "### Vamos repetir exatamente o mesmo processo do exemplo acima, porém, no próprio ambiente e mudando algumas configurações:\n",
    "\n",
    "1. (Instale, se necessário) e import no seu ambiente a biblioteca `sqlite3`.\n",
    "2. Crie um local/nome para a sua primeira database.\n",
    "3. Utilize a mesma função **connect_db()**\n",
    "    1. Pode alterar o nome da função, se quiser,\n",
    "    2. bem como, a mensagem do `print`\n",
    "4. Verifique se vai fazer alguma alteração nas colunas e nos nomes das suas tabelas.\n",
    "5. Crie a o texto original para criar as duas tabelas.\n",
    "6. Efetivamente, use `conexao.execute()` para criar a database e as duas tabelas.\n",
    "7. Verifique, de acordo com sua possível mudança de colunas nas tabelas, se as funções `create_project` e\n",
    " `create_task` precisam ser alteradas.\n",
    "8. Insira alguns elementos na sua nova database.\n",
    "9. Leia a nova database com `pandas` para verificarmos todo o processo."
   ],
   "metadata": {
    "collapsed": false
   }
  }
 ]
}