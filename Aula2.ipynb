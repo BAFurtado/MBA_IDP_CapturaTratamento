{
 "nbformat": 4,
 "nbformat_minor": 0,
 "metadata": {
  "colab": {
   "name": "Aula2.ipynb",
   "provenance": [],
   "collapsed_sections": []
  },
  "kernelspec": {
   "name": "python3",
   "language": "python",
   "display_name": "Python 3 (ipykernel)"
  },
  "language_info": {
   "name": "python"
  }
 },
 "cells": [
  {
   "cell_type": "markdown",
   "source": [
    "# Técnicas Avançadas de **Captura e Tratamento** de Dados\n",
    "\n",
    "---\n",
    "## Prof. Bernardo Alves Furtado\n",
    "---\n",
    "### MBA em Big Data, Business Analytics e Gestão de Negócios. @**IDP**\n",
    "---\n",
    "3 a 21 agosto  -- 21 horas/aula"
   ],
   "metadata": {
    "collapsed": false
   }
  },
  {
   "cell_type": "code",
   "execution_count": null,
   "outputs": [],
   "source": [
    "# Garantindo que exista a pasta para salvar nossos outputs.\n",
    "import os\n",
    "if not os.path.exists('data'):\n",
    "    os.mkdir('data')"
   ],
   "metadata": {
    "collapsed": false,
    "pycharm": {
     "name": "#%%\n"
    }
   }
  },
  {
   "cell_type": "markdown",
   "source": [
    "Retomando a partir da aula passada...\n",
    "#### Link: https://github.com/BAFurtado/MBA_IDP_CapturaTratamento/blob/main/Aula2.ipynb"
   ],
   "metadata": {
    "collapsed": false
   }
  },
  {
   "cell_type": "markdown",
   "source": [
    "## Resolução exercício básico -- Aula 1\n",
    "1. Leia a tabela disponível em:\n",
    "\n",
    "https://github.com/BAFurtado/MBA_IDP_CapturaTratamento/blob/main/data/exemplo2.csv\n",
    "\n",
    "5. Padronize os nomes, como feito para o exemplo1\n",
    "6. Corrija os valores de impostos pagos.\n",
    "7. Utilize o `describe()` ou outro comando nos impostos corrigidos e identifique a média de impostos pagos.\n",
    "8. Utilize `sum(coluna)` para o valor total de impostos pagos.\n",
    "9. O que mais é possível notar de estranho neste exemplo simples?\n",
    "10. Alguém está familiarizado com o comando `value_counts()` do pandas? Ele pode ajudar a identificar se há valores repetidos (uma de vários jeitos possíveis)."
   ],
   "metadata": {
    "collapsed": false
   }
  },
  {
   "cell_type": "markdown",
   "source": [
    "## Respostas"
   ],
   "metadata": {
    "collapsed": false
   }
  },
  {
   "cell_type": "code",
   "execution_count": null,
   "outputs": [],
   "source": [
    "# Lendo o arquivo\n",
    "import pandas as pd\n",
    "file = 'https://github.com/BAFurtado/MBA_IDP_CapturaTratamento/blob/main/data/exemplo2.csv'\n",
    "exercicio1 = pd.read_csv(file + '?raw=True')\n",
    "exercicio1"
   ],
   "metadata": {
    "collapsed": false,
    "pycharm": {
     "name": "#%%\n"
    }
   }
  },
  {
   "cell_type": "code",
   "execution_count": null,
   "outputs": [],
   "source": [
    "# Padronizando os nomes\n",
    "exercicio1.nome = exercicio1.nome.str.normalize('NFKD').str.encode('ascii', errors='ignore').str.decode('utf-8')\n",
    "exercicio1.nome = exercicio1.nome.str.lower()\n",
    "exercicio1"
   ],
   "metadata": {
    "collapsed": false,
    "pycharm": {
     "name": "#%%\n"
    }
   }
  },
  {
   "cell_type": "code",
   "execution_count": null,
   "outputs": [],
   "source": [
    "# Corrigindo valores pagos\n",
    "def clean_currency(x):\n",
    "    \"\"\" If the value is a string, then remove currency symbol and delimiters\n",
    "    otherwise, the value is numeric and can be converted\n",
    "    \"\"\"\n",
    "    if isinstance(x, str):\n",
    "        return x.replace('R$', '').replace('.', '').replace(',', '.')\n",
    "    return x\n",
    "\n",
    "exercicio1['impostos'] = exercicio1['impostos pagos'].apply(clean_currency).astype(float)\n",
    "print(exercicio1.head())\n",
    "print(exercicio1['impostos pagos'].dtype)"
   ],
   "metadata": {
    "collapsed": false,
    "pycharm": {
     "name": "#%%\n"
    }
   }
  },
  {
   "cell_type": "code",
   "execution_count": null,
   "outputs": [],
   "source": [
    "# Média impostos pagos\n",
    "exercicio1.impostos.mean()"
   ],
   "metadata": {
    "collapsed": false,
    "pycharm": {
     "name": "#%%\n"
    }
   }
  },
  {
   "cell_type": "code",
   "execution_count": null,
   "outputs": [],
   "source": [
    "exercicio1.impostos.sum()"
   ],
   "metadata": {
    "collapsed": false,
    "pycharm": {
     "name": "#%%\n"
    }
   }
  },
  {
   "cell_type": "code",
   "execution_count": null,
   "outputs": [],
   "source": [
    "# Valores esperados.\n",
    "v, tt = '41.364,28', '206.821,40'\n",
    "print(f'Valor médio impostos pagos: {v}.')\n",
    "print(f'Total: {tt}.')"
   ],
   "metadata": {
    "collapsed": false,
    "pycharm": {
     "name": "#%%\n"
    }
   }
  },
  {
   "cell_type": "markdown",
   "source": [
    "### Examinando os itens 9 e 10..."
   ],
   "metadata": {
    "collapsed": false
   }
  },
  {
   "cell_type": "code",
   "execution_count": null,
   "outputs": [],
   "source": [
    "for col in exercicio1.columns:\n",
    "    print(f'{exercicio1[col].value_counts()}\\n')\n"
   ],
   "metadata": {
    "collapsed": false,
    "pycharm": {
     "name": "#%%\n"
    }
   }
  },
  {
   "cell_type": "markdown",
   "source": [
    "### Então? Procedimentos\n",
    "1. Padronizar CPFs\n",
    "2. Agregar (`groubpy`) por CPF, somando impostos pagos.\n",
    "### Sempre muito cuidado com agregação: porque?"
   ],
   "metadata": {
    "collapsed": false
   }
  },
  {
   "cell_type": "code",
   "execution_count": null,
   "outputs": [],
   "source": [
    "print('')"
   ],
   "metadata": {
    "collapsed": false,
    "pycharm": {
     "name": "#%%\n"
    }
   }
  },
  {
   "cell_type": "code",
   "execution_count": null,
   "outputs": [],
   "source": [
    "\"\"\"\n",
    "Porque agregar sempre implica transformações nas variáveis.\n",
    "O que fazer com os valores de cada uma das outras colunas no processo de agregação?\n",
    "Somar, tirar a média? Contar o mais frequente?\n",
    "\"\"\""
   ],
   "metadata": {
    "collapsed": false,
    "pycharm": {
     "name": "#%%\n"
    }
   }
  },
  {
   "cell_type": "code",
   "execution_count": null,
   "outputs": [],
   "source": [
    "# Padronizando CPFs\n",
    "exercicio1.cpf = exercicio1.cpf.str.replace('-', '').str.replace('.', '').astype(str)\n",
    "exercicio1"
   ],
   "metadata": {
    "collapsed": false,
    "pycharm": {
     "name": "#%%\n"
    }
   }
  },
  {
   "cell_type": "code",
   "execution_count": null,
   "outputs": [],
   "source": [
    "ex1_agregado = exercicio1.groupby('cpf').agg('sum')\n",
    "ex1_agregado\n"
   ],
   "metadata": {
    "collapsed": false,
    "pycharm": {
     "name": "#%%\n"
    }
   }
  },
  {
   "cell_type": "code",
   "execution_count": null,
   "outputs": [],
   "source": [
    "ex1_agregado = exercicio1.groupby('cpf').agg('sum').reset_index()\n",
    "ex1_agregado"
   ],
   "metadata": {
    "collapsed": false,
    "pycharm": {
     "name": "#%%\n"
    }
   }
  },
  {
   "cell_type": "markdown",
   "source": [
    "## E agora? O que acontece se eu pedir para 'somar' e 'contar'?"
   ],
   "metadata": {
    "collapsed": false
   }
  },
  {
   "cell_type": "code",
   "execution_count": null,
   "outputs": [],
   "source": [
    "ex1_agregado = exercicio1.groupby('cpf').agg(['sum', 'count'])\n",
    "ex1_agregado"
   ],
   "metadata": {
    "collapsed": false,
    "pycharm": {
     "name": "#%%\n"
    }
   }
  },
  {
   "cell_type": "markdown",
   "source": [
    "---\n",
    "# $$+$$: Exercícios com pandas. Revisão."
   ],
   "metadata": {
    "collapsed": false
   }
  },
  {
   "cell_type": "markdown",
   "source": [
    "### Dados do Titanic. Análise livre\n",
    "\n",
    "1. Pergunta: Passageiros de classes inferiores apresentam taxa de sobrevivência menor?\n",
    "\n",
    "source: https://www.kaggle.com/c/titanic/data\n",
    "\n",
    "# Kaggle\n",
    "\n",
    "### \"Inside Kaggle you’ll find all the code & data you need to do your data science work. Use over 50,000 public datasets and 400,000 public notebooks to conquer any analysis in no time.\""
   ],
   "metadata": {
    "collapsed": false
   }
  },
  {
   "cell_type": "markdown",
   "source": [
    "### Dicionário"
   ],
   "metadata": {
    "collapsed": false
   }
  },
  {
   "cell_type": "code",
   "execution_count": null,
   "outputs": [],
   "source": [
    "'''\n",
    "Data Dictionary\n",
    "Variable\tDefinition\tKey\n",
    "survival \tSurvival \t0 = No, 1 = Yes\n",
    "pclass \tTicket class \t1 = 1st, 2 = 2nd, 3 = 3rd\n",
    "sex \tSex\n",
    "Age \tAge in years\n",
    "sibsp \t# of siblings / spouses aboard the Titanic\n",
    "parch \t# of parents / children aboard the Titanic\n",
    "ticket \tTicket number\n",
    "fare \tPassenger fare\n",
    "cabin \tCabin number\n",
    "embarked \tPort of Embarkation \tC = Cherbourg, Q = Queenstown, S = Southampton\n",
    "Variable Notes\n",
    "\n",
    "pclass: A proxy for socio-economic status (SES)\n",
    "1st = Upper\n",
    "2nd = Middle\n",
    "3rd = Lower\n",
    "\n",
    "age: Age is fractional if less than 1. If the age is estimated, is it in the form of xx.5\n",
    "\n",
    "sibsp: The dataset defines family relations in this way...\n",
    "Sibling = brother, sister, stepbrother, stepsister\n",
    "Spouse = husband, wife (mistresses and fiancés were ignored)\n",
    "\n",
    "parch: The dataset defines family relations in this way...\n",
    "Parent = mother, father\n",
    "Child = daughter, son, stepdaughter, stepson\n",
    "Some children travelled only with a nanny, therefore parch=0 for them.\n",
    "'''"
   ],
   "metadata": {
    "collapsed": false,
    "pycharm": {
     "name": "#%%\n"
    }
   }
  },
  {
   "cell_type": "code",
   "execution_count": null,
   "outputs": [],
   "source": [
    "import pandas as pd\n",
    "df = pd.read_csv('https://raw.githubusercontent.com/datasciencedojo/datasets/master/titanic.csv')\n",
    "# df = pd.read_csv(\"https://github.com/BAFurtado/MBA_IDP_CapturaTratamento/blob/main/data/titanic_test.csv?raw=True\")\n",
    "df.head()\n",
    "\n",
    "# source: https://minerandodados.com.br/analise-de-dados-com-python-usando-pandas/"
   ],
   "metadata": {
    "collapsed": false,
    "pycharm": {
     "name": "#%%\n"
    }
   }
  },
  {
   "cell_type": "markdown",
   "source": [
    "## Aperitivo. Missing dados\n"
   ],
   "metadata": {
    "collapsed": false
   }
  },
  {
   "cell_type": "code",
   "execution_count": null,
   "outputs": [],
   "source": [
    "df.isnull().sum()"
   ],
   "metadata": {
    "collapsed": false,
    "pycharm": {
     "name": "#%%\n"
    }
   }
  },
  {
   "cell_type": "code",
   "execution_count": null,
   "outputs": [],
   "source": [
    "df.info()"
   ],
   "metadata": {
    "collapsed": false,
    "pycharm": {
     "name": "#%%\n"
    }
   }
  },
  {
   "cell_type": "code",
   "execution_count": null,
   "outputs": [],
   "source": [
    "df.Embarked.head()"
   ],
   "metadata": {
    "collapsed": false,
    "pycharm": {
     "name": "#%%\n"
    }
   }
  },
  {
   "cell_type": "code",
   "execution_count": null,
   "outputs": [],
   "source": [
    "df.Cabin.value_counts()"
   ],
   "metadata": {
    "collapsed": false,
    "pycharm": {
     "name": "#%%\n"
    }
   }
  },
  {
   "cell_type": "code",
   "execution_count": null,
   "outputs": [],
   "source": [
    "df.Age.mode()"
   ],
   "metadata": {
    "collapsed": false,
    "pycharm": {
     "name": "#%%\n"
    }
   }
  },
  {
   "cell_type": "code",
   "execution_count": null,
   "outputs": [],
   "source": [
    "df.Fare.mean()"
   ],
   "metadata": {
    "collapsed": false,
    "pycharm": {
     "name": "#%%\n"
    }
   }
  },
  {
   "cell_type": "code",
   "execution_count": null,
   "outputs": [],
   "source": [
    "values = {'Age': df.Age.mode()[0],\n",
    "          'Cabin': 'SC',\n",
    "          'Fare': df.Fare.mean()}\n",
    "\n",
    "df.fillna(value=values, inplace=True)\n",
    "df.info()"
   ],
   "metadata": {
    "collapsed": false,
    "pycharm": {
     "name": "#%%\n"
    }
   }
  },
  {
   "cell_type": "code",
   "execution_count": null,
   "outputs": [],
   "source": [
    "# Replace: male, female\n",
    "sex = {'male': 0, 'female': 1}\n",
    "df['sex_dummy'] = df.Sex.replace(sex)\n",
    "df.head()"
   ],
   "metadata": {
    "collapsed": false,
    "pycharm": {
     "name": "#%%\n"
    }
   }
  },
  {
   "cell_type": "code",
   "execution_count": null,
   "outputs": [],
   "source": [
    "df.info()"
   ],
   "metadata": {
    "collapsed": false,
    "pycharm": {
     "name": "#%%\n"
    }
   }
  },
  {
   "cell_type": "code",
   "execution_count": null,
   "outputs": [],
   "source": [
    "cols = [1, 2, 5, 9, 12]\n",
    "df_simples = df.iloc[:, cols]\n",
    "df_simples.head()"
   ],
   "metadata": {
    "collapsed": false,
    "pycharm": {
     "name": "#%%\n"
    }
   }
  },
  {
   "cell_type": "markdown",
   "source": [
    "### Outro jeito de selecionar colunas?"
   ],
   "metadata": {
    "collapsed": false
   }
  },
  {
   "cell_type": "code",
   "execution_count": null,
   "outputs": [],
   "source": [
    "df_simples2 = df[['Survived', 'Pclass', 'Age', 'Fare', 'sex_dummy']]\n",
    "df_simples2.head()"
   ],
   "metadata": {
    "collapsed": false,
    "pycharm": {
     "name": "#%%\n"
    }
   }
  },
  {
   "cell_type": "code",
   "execution_count": null,
   "outputs": [],
   "source": [
    "corr = df_simples.corr()\n",
    "corr"
   ],
   "metadata": {
    "collapsed": false,
    "pycharm": {
     "name": "#%%\n"
    }
   }
  },
  {
   "cell_type": "code",
   "execution_count": null,
   "outputs": [],
   "source": [
    "import seaborn as sns\n",
    "import matplotlib.pyplot as plt\n",
    "%matplotlib inline\n",
    "\n",
    "# plot the heatmap\n",
    "sns.heatmap(corr.iloc[:],\n",
    "            xticklabels=corr.columns,\n",
    "            yticklabels=corr.columns,\n",
    "            annot=True,\n",
    "            cmap='viridis')"
   ],
   "metadata": {
    "collapsed": false,
    "pycharm": {
     "name": "#%%\n"
    }
   }
  },
  {
   "cell_type": "markdown",
   "source": [
    "# Simple regression and output"
   ],
   "metadata": {
    "collapsed": false
   }
  },
  {
   "cell_type": "code",
   "execution_count": null,
   "outputs": [],
   "source": [
    "import statsmodels.formula.api as smf\n",
    "\n",
    "def reg(y, data, colunas=''):\n",
    "    \"\"\" Função que roda as regressões\n",
    "        Entre com colunas e com base de dados \"\"\"\n",
    "    resultado = smf.ols(f\"{y} ~  {colunas}\", data=data).fit()\n",
    "    sns.distplot(resultado.resid)\n",
    "    plt.show()\n",
    "    return resultado\n",
    "\n",
    "res = reg('Survived', df_simples, 'Pclass + sex_dummy + Age')\n",
    "print(res.summary())"
   ],
   "metadata": {
    "collapsed": false,
    "pycharm": {
     "name": "#%%\n"
    }
   }
  },
  {
   "cell_type": "markdown",
   "source": [
    "---\n",
    "## Nice output: com cara de paper\n",
    "\n",
    "Outros resultados com boa apresentação, from Quantative Economics:\n",
    "\n",
    "https://python.quantecon.org/ols.html\n"
   ],
   "metadata": {
    "collapsed": false
   }
  },
  {
   "cell_type": "code",
   "execution_count": null,
   "outputs": [],
   "source": [
    "from statsmodels.iolib.summary2 import summary_col\n",
    "\n",
    "def print_reg3(m1):\n",
    "    info_dict={'Log-likelihood': lambda x: f\"{x.llf:.2f}\",\n",
    "               'R-squared Adj': lambda x: f\"{x.rsquared_adj:.2f}\",\n",
    "               'AIC': lambda x: f\"{x.aic:.2f}\",\n",
    "               'BIC': lambda x: f\"{x.bic:.2f}\",\n",
    "               'No. observations': lambda x: f\"{int(x.nobs):d}\"}\n",
    "\n",
    "    results_table = summary_col(results=[m1],\n",
    "                                float_format='%0.2f',\n",
    "                                stars=True,\n",
    "                                model_names=['Model 1'],\n",
    "                                info_dict=info_dict)\n",
    "\n",
    "    results_table.add_title('Table - OLS Regressions')\n",
    "    print(results_table)\n",
    "\n",
    "    with open('data/nice_output.txt', 'w') as f:\n",
    "        f.write(results_table.as_text())\n",
    "    # return results_table\n",
    "\n",
    "print_reg3(res)"
   ],
   "metadata": {
    "collapsed": false,
    "pycharm": {
     "name": "#%%\n"
    }
   }
  },
  {
   "cell_type": "markdown",
   "source": [
    "---\n",
    "# Exercício extra\n",
    "\n",
    "0. Simples. Duas modificações apenas.\n",
    "1. Modifique a função `print_reg3` para que imprima o resultado comparativo de três modelos.\n",
    "2. Por exemplo, só com **Pclass**, adicionando **Age** e adicionando **sex_dummy**"
   ],
   "metadata": {
    "collapsed": false
   }
  },
  {
   "cell_type": "markdown",
   "source": [
    "# Formatos\n",
    "\n",
    "# Dados tabulares\n",
    "\n",
    "1. O que são?"
   ],
   "metadata": {
    "collapsed": false
   }
  },
  {
   "cell_type": "code",
   "execution_count": null,
   "outputs": [],
   "source": [
    "import pandas as pd\n",
    "\n",
    "Rows, Columns = 'r', 'c'"
   ],
   "metadata": {
    "collapsed": false,
    "pycharm": {
     "name": "#%%\n"
    }
   }
  },
  {
   "cell_type": "markdown",
   "source": [
    "Qual limitação imediata desse formato?"
   ],
   "metadata": {
    "collapsed": false
   }
  },
  {
   "cell_type": "markdown",
   "source": [
    "### Incluem RDBMSs -- Relational DataBase Management Systems\n",
    "\n",
    "Incluem:\n",
    "\n",
    "1. CVS -- comma-separated values\n",
    "2. Qualquer TXT, na verdade ...\n",
    "3. Planilhas (XLSX, ODS...)"
   ],
   "metadata": {
    "collapsed": false
   }
  },
  {
   "cell_type": "markdown",
   "source": [
    "---\n",
    "# CSV ou TXT\n",
    "\n",
    "* Delimited: claro, por um delimitador, usualmente\n",
    "# ','\n",
    "\n",
    "## Vantagens:\n",
    "1. Aceito -- *read, write* -- por praticamente todos sistemas/databases/programas\n",
    "2. Relativamente eficiente -- descrito por um autor como: ***fairly inneficient***\n",
    "\n",
    "## Desvantagens:\n",
    "1. Não contém de forma explícita o formato da informação `str, float, int`\n",
    "2. Como também não o sistema decimal (ponto, vírgula, moedas)...\n",
    "\n",
    "\n",
    "## Diferenças relevantes em relação ao EXCEL, por exemplo.\n",
    "\n",
    "1. Alguém?\n",
    "---"
   ],
   "metadata": {
    "collapsed": false
   }
  },
  {
   "cell_type": "code",
   "execution_count": null,
   "outputs": [],
   "source": [],
   "metadata": {
    "collapsed": false,
    "pycharm": {
     "name": "#%% Artifício para esconder próximas células\n"
    }
   }
  },
  {
   "cell_type": "markdown",
   "source": [
    "1. O tipo de informação (`float, date`) é (quase) sempre **inferred**\n",
    "2. Não transparente.\n",
    "3. Não contém os passos de transformação -- ou seja -- não consegue descrever as alterações feitas\n",
    "4. Não mantém consistência entre linhas e colunas (enfatiza a questão visual)"
   ],
   "metadata": {
    "collapsed": false
   }
  },
  {
   "cell_type": "markdown",
   "source": [
    "---\n",
    "## Parâmetros de leitura. Opcionais e padrão\n",
    "# pd.read_csv(filepath)\n",
    "\n",
    "1. `filepath`: 'endereço'. Obrigatório\n",
    "2. `sep`: delimitador. Padrão: vírgula\n",
    "3. `header`: Se utiliza primeira linha para nomes de colunas.\n",
    "4. Padrão `header=0` (inferidas, a partir da 1a. linha de dados)\n",
    "5. Utilize `header=None` para não inferir a 1a. linha como títulos de colunas.\n",
    "6. Caso queira nomear colunas na leitura, use `names=['col1', 'col2']`.\n",
    "7. Também é possível usar uma coluna específica como nome das colunas: `index_col='nome_col'` ou índice `int` da posição da coluna.\n",
    "8. Limitar a leitura a algumas colunas: `usecols=['col1', 'col8']\n",
    "#### Típico para o caso brasileiro\n",
    "9. `encoding='latin-1'`\n",
    "10. Para planilhas gigantes: `nrows=100`\n",
    "\n",
    "source: Confira: https://pandas.pydata.org/docs/reference/api/pandas.read_csv.html"
   ],
   "metadata": {
    "collapsed": false
   }
  },
  {
   "cell_type": "markdown",
   "source": [
    "---\n",
    "# Fixed-width data\n",
    "\n",
    "### Que não são delimitados por um separador, mas sim por posição específica na linha.\n",
    "\n",
    "Vantagem. Compacto\n",
    "\n",
    "### Exemplo de leitura de dados da amostra do Censo 2010\n",
    "---"
   ],
   "metadata": {
    "collapsed": false
   }
  },
  {
   "cell_type": "markdown",
   "source": [
    "# SQL RDBMS\n",
    "<span style=\"color:red\">Structured</span> <span style=\"color:blue\">Query</span> Language\n",
    "\n",
    "Relational DataBase Management Systems\n",
    "\n",
    "* 1 projeto (arquivo), várias tables. Múltiplas relações.\n",
    "\n",
    "## Mais restritivas (estruturadas), porém, mais organizadas.\n",
    "\n",
    "Funções mais relevantes:\n",
    "\n",
    "1. GROUP BY (agregação)\n",
    "2. JOIN (relacionamento)\n",
    "3. WHERE (condição)\n",
    "\n",
    "### https://pandas.pydata.org/docs/getting_started/comparison/comparison_with_sql.html"
   ],
   "metadata": {
    "collapsed": false
   }
  },
  {
   "cell_type": "code",
   "execution_count": null,
   "outputs": [],
   "source": [
    "sql_create_tasks_table = \"\"\"CREATE TABLE IF NOT EXISTS tasks (\n",
    "                                id integer PRIMARY KEY,\n",
    "                                name text NOT NULL,\n",
    "                                priority integer,\n",
    "                                status_id integer NOT NULL,\n",
    "                                project_id integer NOT NULL,\n",
    "                                begin_date text NOT NULL,\n",
    "                                end_date text NOT NULL,\n",
    "                                FOREIGN KEY (project_id) REFERENCES projects (id)\n",
    "                            );\"\"\""
   ],
   "metadata": {
    "collapsed": false,
    "pycharm": {
     "name": "#%%\n"
    }
   }
  },
  {
   "cell_type": "markdown",
   "source": [
    "# Hierárquicos\n",
    "\n",
    "![Tree](https://github.com/BAFurtado/MBA_IDP_CapturaTratamento/blob/main/data/tree.png?raw=True)"
   ],
   "metadata": {
    "collapsed": false
   }
  },
  {
   "cell_type": "markdown",
   "source": [
    "### \"\"... no specific limit on the depth or names of branches.\"\"\n",
    "(Mertz, 2021, p.71)\n",
    "\n",
    "1. Diretórios\n",
    "2. Redes\n",
    "3. Grafos (em geral). Matrizes incompletas, esparsas\n"
   ],
   "metadata": {
    "collapsed": false
   }
  },
  {
   "cell_type": "markdown",
   "source": [
    "---\n",
    "# JSON\n",
    "\n",
    "### Língua franca HTML, CSS, dados\n",
    "\n",
    "* JavaScript Object Notation\n",
    "\n",
    "1. Fácil leitura humanos $$+$$ máquinas\n",
    "2. Safe. Transparente (distinto de `pickle`, por exemplo)\n",
    "3. Aceita `false, true, null, objects {}, arrays {}`\n",
    "4. keys tem que ser **strings**"
   ],
   "metadata": {
    "collapsed": false
   }
  },
  {
   "cell_type": "code",
   "execution_count": null,
   "outputs": [],
   "source": [
    "import json\n",
    "\n",
    "exemplo = \"\"\"\n",
    "    {\"name\": \"Wes\",\n",
    "    \"places_lived\": [\"United States\", \"Spain\", \"Germany\"],\n",
    "    \"pet\": null,\n",
    "    \"siblings\": [{\"name\": \"Scott\", \"age\": 25, \"pet\": \"Zuko\"},\n",
    "    {\"name\": \"Katie\", \"age\": 33, \"pet\": \"Cisco\"}]\n",
    "    }\n",
    "\"\"\"\n",
    "\n",
    "# source: (McKinney, 2012, p.165)"
   ],
   "metadata": {
    "collapsed": false,
    "pycharm": {
     "name": "#%%\n"
    }
   }
  },
  {
   "cell_type": "code",
   "execution_count": null,
   "outputs": [],
   "source": [
    "j = json.loads(exemplo)\n",
    "print(type(j))\n",
    "print(j)"
   ],
   "metadata": {
    "collapsed": false,
    "pycharm": {
     "name": "#%%\n"
    }
   }
  },
  {
   "cell_type": "code",
   "execution_count": null,
   "outputs": [],
   "source": [
    "print(f'Keys: {j.keys()}')\n",
    "print(f\"Content of siblings: {j['siblings']}\")\n",
    "print(f\"type {type(j['siblings'])}\")"
   ],
   "metadata": {
    "collapsed": false,
    "pycharm": {
     "name": "#%%\n"
    }
   }
  },
  {
   "cell_type": "code",
   "execution_count": null,
   "outputs": [],
   "source": [
    "print(f\"{j['siblings'][0].keys()}\")\n",
    "print(f\"{j['siblings'][0]['name']}\")"
   ],
   "metadata": {
    "collapsed": false,
    "pycharm": {
     "name": "#%%\n"
    }
   }
  },
  {
   "cell_type": "markdown",
   "source": [
    "### O que aconteceu com `\"pet\": null`?"
   ],
   "metadata": {
    "collapsed": false
   }
  },
  {
   "cell_type": "code",
   "execution_count": null,
   "outputs": [],
   "source": [
    "print(j['pet'])"
   ],
   "metadata": {
    "collapsed": false,
    "pycharm": {
     "name": "#%%\n"
    }
   }
  },
  {
   "cell_type": "markdown",
   "source": [
    "* Observação: é possível usar [schema](https://json-schema.org/) para definir um formato específico de JSON válido para o seu projeto."
   ],
   "metadata": {
    "collapsed": false
   }
  },
  {
   "cell_type": "markdown",
   "source": [
    "---\n",
    "# Persistência JSON"
   ],
   "metadata": {
    "collapsed": false
   }
  },
  {
   "cell_type": "code",
   "execution_count": null,
   "outputs": [],
   "source": [
    "import json\n",
    "\n",
    "# Saving\n",
    "def save_json(ob, filename):\n",
    "    with open(filename, 'w') as handler:\n",
    "        json.dump(ob, handler)\n",
    "    print(f'Saved! You can check {filename}')\n",
    "\n",
    "# Loading\n",
    "def load_json(filename):\n",
    "    with open(filename, \"r\") as handler:\n",
    "        ll = json.load(handler)\n",
    "    print(f'A soma da lista lida é {sum(ll):,.0f}')"
   ],
   "metadata": {
    "collapsed": false,
    "pycharm": {
     "name": "#%%\n"
    }
   }
  },
  {
   "cell_type": "code",
   "execution_count": null,
   "outputs": [],
   "source": [
    "l = [x ** 3 for x in range(5)]\n",
    "f = 'data/my_json.json'\n",
    "save_json(l, f)"
   ],
   "metadata": {
    "collapsed": false,
    "pycharm": {
     "name": "#%%\n"
    }
   }
  },
  {
   "cell_type": "code",
   "execution_count": null,
   "outputs": [],
   "source": [
    "load_json(f)"
   ],
   "metadata": {
    "collapsed": false,
    "pycharm": {
     "name": "#%%\n"
    }
   }
  },
  {
   "cell_type": "markdown",
   "source": [
    "## Exercício bastante simples\n",
    "\n",
    "1. Crie uma lista qualquer em `python`.\n",
    "2. Por exemplo, uma lista com 10 elementos, começando em 100 até 10, de 10 em 10.\n",
    "*Dica*: a função range admite as opções `range(início, fim, step).\n",
    "Se o step for negativo, a lista é decrescente, certo?\n",
    "3. Salve em JSON\n",
    "4. Load em JSON\n",
    "5. Calcule a média.\n"
   ],
   "metadata": {
    "collapsed": false
   }
  }
 ]
}