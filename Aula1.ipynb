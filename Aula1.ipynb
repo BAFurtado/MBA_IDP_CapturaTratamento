{
 "nbformat": 4,
 "nbformat_minor": 0,
 "metadata": {
  "colab": {
   "name": "Aula1.ipynb",
   "provenance": [],
   "collapsed_sections": []
  },
  "kernelspec": {
   "display_name": "Python 3 (ipykernel)",
   "language": "python",
   "name": "python3"
  },
  "language_info": {
   "codemirror_mode": {
    "name": "ipython",
    "version": 3
   },
   "file_extension": ".py",
   "mimetype": "text/x-python",
   "name": "python",
   "nbconvert_exporter": "python",
   "pygments_lexer": "ipython3",
   "version": "3.9.2"
  }
 },
 "cells": [
  {
   "cell_type": "markdown",
   "source": [
    "# Técnicas Avançadas de **Captura e Tratamento** de Dados\n",
    "\n",
    "## Prof. Bernardo Alves Furtado\n",
    "\n",
    "### MBA em Big Data, Business Analytics e Gestão de Negócios. @**IDP**\n",
    "\n",
    "3 a 21 agosto  -- 21 horas/aula\n",
    "\n",
    "---"
   ],
   "metadata": {
    "collapsed": false
   }
  },
  {
   "cell_type": "markdown",
   "source": [
    "# Conteúdo (preliminar)\n",
    "1. Introdução. Armadilhas. Aperitivo. Exercícios. Dados estruturados e não-estruturados.\n",
    "2. Formatos: tabulares, hierárquicos. Captura. Web. Api. Twitter. Exercícios.\n",
    "3. Persistência. TXT, JSON, pickle, SQL. Captura internet e XML. Exercícios\n",
    "4. Captura massiva. Exercícios DOU.\n",
    "5. Tratamento. Texto. Filtrando texto. NOÇÕES de REGEX. Regular expressions. `import re`\n",
    "6. Tratamento. Pandas. Pandas. Exercícios. Checagem básica. Missing data. Outliers.\n",
    "7. Captura, tratamento, análise e resultado. Exercício.\n",
    "\n",
    "---"
   ],
   "metadata": {
    "collapsed": false
   }
  },
  {
   "cell_type": "code",
   "execution_count": null,
   "outputs": [],
   "source": [
    "print('...')"
   ],
   "metadata": {
    "collapsed": false,
    "pycharm": {
     "name": "#%%\n"
    }
   }
  },
  {
   "cell_type": "markdown",
   "source": [
    "#  Apresentação\n",
    "\n",
    "Bernardo Alves Furtado\n",
    "\n",
    "1. Ipea. CNPq.\n",
    "2. PhD. Geociências. Economica -- Utrecht. Cedeplar\n",
    "3. Mestrado em 'Tratamento da Informação Espacial'. Regional Science\n",
    "4. Spatial Analyst\n",
    "5. Modeleiro... Python. Agent-based models\n",
    "\n",
    "[CV Bernardo Alves Furtado](https://sites.google.com/view/bernardo-alves-furtado)\n",
    "\n",
    "[ResearchGate. Produção acadêmica completa](https://www.researchgate.net/profile/Bernardo-Furtado-2)\n",
    "\n",
    "[Plano Ensino. Bibliografia. Aulas. Código. Disponíveis GitHub](https://github.com/BAFurtado/MBA_IDP_CapturaTratamento)\n",
    "\n",
    "**github.com/BAFurtado/MBA_IDP_CapturaTratamento**\n",
    "\n",
    "@furtadobb\n",
    "\n",
    "---"
   ],
   "metadata": {
    "collapsed": false
   }
  },
  {
   "cell_type": "code",
   "execution_count": null,
   "outputs": [],
   "source": [
    "print('...')"
   ],
   "metadata": {
    "collapsed": false,
    "pycharm": {
     "name": "#%%\n"
    }
   }
  },
  {
   "cell_type": "markdown",
   "source": [
    "# Armadilhas\n",
    "\n",
    "### Source: @lmonasterio -- Coordenador Dados ENAP. Ipea e comentários\n",
    "\n",
    "### Manchetes possíveis. Caso acreditássemos imediatamente nos dados...\n",
    "\n",
    "1. \"48 pessoas têm o CPF 111.111.111-11: veja se você os conhece\"\n",
    "\n",
    "2. \"SILV e SLIVA estão entre os sobrenomes mais comuns no Brasil\"\n",
    "\n",
    "---\n",
    "\n",
    "1. Qual erro está ocorrendo?\n",
    "\n",
    "2. Como seria possível identificar esse erro?"
   ],
   "metadata": {
    "collapsed": false
   }
  },
  {
   "cell_type": "code",
   "execution_count": null,
   "outputs": [],
   "source": [
    "print('...')"
   ],
   "metadata": {
    "collapsed": false,
    "pycharm": {
     "name": "#%%\n"
    }
   }
  },
  {
   "cell_type": "markdown",
   "source": [
    "3. \"Descubra o nome da menina de 8 anos que já tem carteira de trabalho.\"\n",
    "\n",
    "4. “Turma de 1900 dá as caras” Subtítulo: “Centenas de brasileiros nascidos na virada do século finalmente saem de casa para se vacinar. Conheça suas histórias: ”\n",
    "\n",
    "E esses dois?\n",
    "___"
   ],
   "metadata": {
    "collapsed": false
   }
  },
  {
   "cell_type": "code",
   "execution_count": null,
   "outputs": [],
   "source": [
    "print('...')"
   ],
   "metadata": {
    "collapsed": false,
    "pycharm": {
     "name": "#%%\n"
    }
   }
  },
  {
   "cell_type": "markdown",
   "source": [
    "5. “Escândalo em Minas Gerais! Empresas sem CNPJ conseguem obter licenciamento ambiental”\n",
    "\n",
    "6. Conheça quem são os brasileiros que nasceram no dia 30 de fevereiro e nunca fizeram aniversário\n",
    "\n",
    "7. Homem mais alto do mundo é brasileiro. Conheça João da Silv, 18 metros de altura.\n",
    "\n",
    "8. Brasil já aplicou 120 variantes da Coronavac. Conheça a CornaVAC, CronaVAC, CrnVAC, CoronaButantan, entre outras.\n",
    "\n",
    "9. \"Brasil tem a pessoa vacinada mais idosa do mundo, com 221 anos de idade\"\n",
    "\n",
    "Recomendação: [SHIKIDA, C. D.; MONASTERIO, L.; NERY, P. F. Guia brasileiro de análise de dados: armadilhas & soluções. Brasília, DF: ENAP, 2021.](https://repositorio.enap.gov.br/bitstream/1/6039/1/Guia%20BR%20de%20Ana%CC%81lise%20de%20Dados.pdf)"
   ],
   "metadata": {
    "collapsed": false
   }
  },
  {
   "cell_type": "code",
   "execution_count": null,
   "outputs": [],
   "source": [
    "print('...')"
   ],
   "metadata": {
    "collapsed": false,
    "pycharm": {
     "name": "#%%\n"
    }
   }
  },
  {
   "cell_type": "markdown",
   "source": [
    "### Exemplos de erros\n",
    "\n",
    "1. Erros de digitação (typos)\n",
    "2. Erros de separação: ponto ou vírgula, para números, por exemplo.\n",
    "3. Informação ausente (missing)\n",
    "4. Datas. Datas. Datas."
   ],
   "metadata": {
    "collapsed": false
   }
  },
  {
   "cell_type": "code",
   "execution_count": null,
   "outputs": [],
   "source": [
    "print('...')"
   ],
   "metadata": {
    "collapsed": false,
    "pycharm": {
     "name": "#%%\n"
    }
   }
  },
  {
   "cell_type": "markdown",
   "source": [
    "---\n",
    "# Aperitivo I. Ilustração"
   ],
   "metadata": {
    "collapsed": false
   }
  },
  {
   "cell_type": "code",
   "execution_count": null,
   "outputs": [],
   "source": [
    "# To use it on your drive folder... Needs folder changing.\n",
    "# from google.colab import drive\n",
    "# drive.mount('/content/drive')"
   ],
   "metadata": {
    "collapsed": false,
    "pycharm": {
     "name": "#%%\n"
    }
   }
  },
  {
   "cell_type": "code",
   "execution_count": null,
   "outputs": [],
   "source": [
    "import pandas as pd\n",
    "exemplo1 = pd.read_csv('https://github.com/BAFurtado/MBA_IDP_CapturaTratamento/blob/main/data/exemplo1.csv?raw=true')"
   ],
   "metadata": {
    "collapsed": false,
    "pycharm": {
     "name": "#%%\n"
    }
   }
  },
  {
   "cell_type": "markdown",
   "source": [
    "1. Talvez primeiro comando: ```describe```?"
   ],
   "metadata": {
    "collapsed": false
   }
  },
  {
   "cell_type": "code",
   "execution_count": null,
   "outputs": [],
   "source": [
    "exemplo1.describe()"
   ],
   "metadata": {
    "collapsed": false,
    "pycharm": {
     "name": "#%%\n"
    }
   }
  },
  {
   "cell_type": "markdown",
   "source": [
    "Será que a tabela só tem essa coluna?"
   ],
   "metadata": {
    "collapsed": false
   }
  },
  {
   "cell_type": "code",
   "execution_count": null,
   "outputs": [],
   "source": [
    "exemplo1.columns"
   ],
   "metadata": {
    "collapsed": false,
    "pycharm": {
     "name": "#%%\n"
    }
   }
  },
  {
   "cell_type": "code",
   "execution_count": null,
   "outputs": [],
   "source": [
    "exemplo1.head()"
   ],
   "metadata": {
    "collapsed": false,
    "pycharm": {
     "name": "#%%\n"
    }
   }
  },
  {
   "cell_type": "markdown",
   "source": [
    "Talvez, então, `info()`"
   ],
   "metadata": {
    "collapsed": false
   }
  },
  {
   "cell_type": "code",
   "execution_count": null,
   "outputs": [],
   "source": [
    "exemplo1.info()"
   ],
   "metadata": {
    "collapsed": false,
    "pycharm": {
     "name": "#%%\n"
    }
   }
  },
  {
   "cell_type": "markdown",
   "source": [
    "### Estratégias? Simples.\n",
    "\n",
    "1. Dados textuais."
   ],
   "metadata": {
    "collapsed": false
   }
  },
  {
   "cell_type": "code",
   "execution_count": null,
   "outputs": [],
   "source": [
    "exemplo1.nome = exemplo1.nome.str.lower()\n",
    "exemplo1"
   ],
   "metadata": {
    "collapsed": false,
    "pycharm": {
     "name": "#%%\n"
    }
   }
  },
  {
   "cell_type": "code",
   "execution_count": null,
   "outputs": [],
   "source": [
    "# Be careful. Check that's what you really want\n",
    "exemplo1.nome = exemplo1.nome.str.normalize('NFKD').str.encode('ascii', errors='ignore').str.decode('utf-8')\n",
    "exemplo1.nome = exemplo1.nome.str.lower()\n",
    "exemplo1"
   ],
   "metadata": {
    "collapsed": false,
    "pycharm": {
     "name": "#%%\n"
    }
   }
  },
  {
   "cell_type": "markdown",
   "source": [
    "**Pandas datetime** is your friend"
   ],
   "metadata": {
    "collapsed": false
   }
  },
  {
   "cell_type": "code",
   "execution_count": null,
   "outputs": [],
   "source": [
    "exemplo1.dob = pd.to_datetime(exemplo1.dob)\n",
    "exemplo1"
   ],
   "metadata": {
    "collapsed": false,
    "pycharm": {
     "name": "#%%\n"
    }
   }
  },
  {
   "cell_type": "code",
   "execution_count": null,
   "outputs": [],
   "source": [
    "exemplo1.info()"
   ],
   "metadata": {
    "collapsed": false,
    "pycharm": {
     "name": "#%%\n"
    }
   }
  },
  {
   "cell_type": "markdown",
   "source": [
    "**Sobraram ainda <span style=\"color:blue\">DUAS ARMADILHAS</span> nas datas! Quem identifica?**\n",
    "\n",
    "---"
   ],
   "metadata": {
    "collapsed": false
   }
  },
  {
   "cell_type": "markdown",
   "source": [
    "## E para a altura?"
   ],
   "metadata": {
    "collapsed": false
   }
  },
  {
   "cell_type": "code",
   "execution_count": null,
   "outputs": [],
   "source": [
    "#  pandas.DataFrame.loc[condition, column_label] = new_value\n",
    "exemplo1.loc[exemplo1['altura'] > 3, 'altura'] = exemplo1.altura / 100\n",
    "exemplo1"
   ],
   "metadata": {
    "collapsed": false,
    "pycharm": {
     "name": "#%%\n"
    }
   }
  },
  {
   "cell_type": "markdown",
   "source": [
    "---\n",
    "### <span style=\"color:red\">Não recomendo</span> uso de apply, mas...\n",
    "\n",
    "Realiza a operação linha por linha.\n",
    "\n",
    "É custoso em tempo, pois não é vetorizado."
   ],
   "metadata": {
    "collapsed": false
   }
  },
  {
   "cell_type": "code",
   "execution_count": null,
   "outputs": [],
   "source": [
    "def correct_height(col):\n",
    "    if col > 3:\n",
    "        col /= 100\n",
    "    return col\n",
    "\n",
    "e2 = pd.read_csv('https://github.com/BAFurtado/MBA_IDP_CapturaTratamento/blob/main/data/exemplo1.csv?raw=true')\n",
    "e2.altura = e2.altura.apply(correct_height)\n",
    "e2"
   ],
   "metadata": {
    "collapsed": false,
    "pycharm": {
     "name": "#%%\n"
    }
   }
  },
  {
   "cell_type": "markdown",
   "source": [
    "---\n",
    "### Captura 101. Acesso imediato"
   ],
   "metadata": {
    "collapsed": false
   }
  },
  {
   "cell_type": "code",
   "execution_count": null,
   "outputs": [],
   "source": [
    "tabelas = pd.read_html('http://economia.uol.com.br')"
   ],
   "metadata": {
    "collapsed": false,
    "pycharm": {
     "name": "#%%\n"
    }
   }
  },
  {
   "cell_type": "markdown",
   "source": [
    "**Não tivemos erro. Vamos investigar os achados**"
   ],
   "metadata": {
    "collapsed": false
   }
  },
  {
   "cell_type": "code",
   "execution_count": null,
   "outputs": [],
   "source": [
    "type(tabelas)"
   ],
   "metadata": {
    "collapsed": false,
    "pycharm": {
     "name": "#%%\n"
    }
   }
  },
  {
   "cell_type": "code",
   "execution_count": null,
   "outputs": [],
   "source": [
    "len(tabelas)"
   ],
   "metadata": {
    "collapsed": false,
    "pycharm": {
     "name": "#%%\n"
    }
   }
  },
  {
   "cell_type": "code",
   "execution_count": null,
   "outputs": [],
   "source": [
    "type(tabelas[0])"
   ],
   "metadata": {
    "collapsed": false,
    "pycharm": {
     "name": "#%%\n"
    }
   }
  },
  {
   "cell_type": "code",
   "execution_count": null,
   "outputs": [],
   "source": [
    "tabelas[0].info()"
   ],
   "metadata": {
    "collapsed": false,
    "pycharm": {
     "name": "#%%\n"
    }
   }
  },
  {
   "cell_type": "code",
   "execution_count": null,
   "outputs": [],
   "source": [
    "for each in tabelas:\n",
    "    print(each.head())"
   ],
   "metadata": {
    "collapsed": false,
    "pycharm": {
     "name": "#%%\n"
    }
   }
  },
  {
   "cell_type": "markdown",
   "source": [
    "---\n",
    "### Observações I\n",
    "\n",
    "1. Usando `info()` percebemos que a informação não é numérica: 'object'\n",
    "2. Notem que para o caso brasileiro, moeda está em real."
   ],
   "metadata": {
    "collapsed": false
   }
  },
  {
   "cell_type": "code",
   "execution_count": null,
   "outputs": [],
   "source": [
    "tabelas = pd.read_html('https://economia.uol.com.br', decimal=',', thousands='.')\n",
    "moedas = tabelas[0]\n",
    "moedas.columns = ['moeda', 'variacao', 'valor_reais']\n",
    "print(moedas.head())"
   ],
   "metadata": {
    "collapsed": false,
    "pycharm": {
     "name": "#%%\n"
    }
   }
  },
  {
   "cell_type": "code",
   "execution_count": null,
   "outputs": [],
   "source": [
    "# source: https://pbpython.com/currency-cleanup.html\n",
    "def clean_currency(x):\n",
    "    \"\"\" If the value is a string, then remove currency symbol and delimiters\n",
    "    otherwise, the value is numeric and can be converted\n",
    "    \"\"\"\n",
    "    if isinstance(x, str):\n",
    "        return x.replace('R$', '').replace('.', '').replace(',', '.')\n",
    "    return x"
   ],
   "metadata": {
    "collapsed": false,
    "pycharm": {
     "name": "#%%\n"
    }
   }
  },
  {
   "cell_type": "code",
   "execution_count": null,
   "outputs": [],
   "source": [
    "moedas.valor_reais = moedas.valor_reais.apply(clean_currency).astype(float)\n",
    "print(moedas)\n",
    "print(moedas.valor_reais.dtype)"
   ],
   "metadata": {
    "collapsed": false,
    "pycharm": {
     "name": "#%%\n"
    }
   }
  },
  {
   "cell_type": "markdown",
   "source": [
    "---\n",
    "### Observações II\n",
    "\n",
    "1. O código `str.replace` só pode ser feito uma vez.\n",
    "2. Note a ordem correta do `replace`!\n",
    "2. Não é muito robusto, portanto.\n",
    "3. Idealmente, é preferível ler a tabela já com as opções corretas:\n",
    "```\n",
    "sep=';'\n",
    "decimal=','\n",
    "thousands='.'\n",
    "```"
   ],
   "metadata": {
    "collapsed": false
   }
  },
  {
   "cell_type": "markdown",
   "source": [
    "---\n",
    "### Persistência -- caso básico"
   ],
   "metadata": {
    "collapsed": false
   }
  },
  {
   "cell_type": "code",
   "execution_count": null,
   "outputs": [],
   "source": [
    "exemplo1.to_csv('tab_exemplo1_formatada.csv', sep=';', index=False)"
   ],
   "metadata": {
    "collapsed": false,
    "pycharm": {
     "name": "#%%\n"
    }
   }
  },
  {
   "cell_type": "markdown",
   "source": [
    "---\n",
    "### Observações III\n",
    "\n",
    "1. Não há espaços ou acentos no nome, que é explicativo.\n",
    "2. Formato CSV, com separador ponto-e-vírgula, é relativamente eficiente, acessível para humanos e ...\n",
    "3. Abre direto no EXCEL brasileiro\n",
    "4. Sempre eu utilizo `index=False` de modo que colunas de `index` não se acumulem ou abrir\n",
    "e salvar o arquivo inúmeras vezes..."
   ],
   "metadata": {
    "collapsed": false
   }
  },
  {
   "cell_type": "markdown",
   "source": [
    "### Take-away\n",
    "\n",
    "* **Mantemos o processo completo: da leitura do arquivo na fonte ao tratamento e salvamento**\n",
    "\n",
    "* **Desse modo, diferentemente de alterações realizadas no EXCEL, por exemplo,\n",
    "mantivemos a <span style=\"color:blue\">REPRODUCIBILIDADE</span> da análise.\n",
    "Agregando transparência ao processo.**"
   ],
   "metadata": {
    "collapsed": false
   }
  },
  {
   "cell_type": "markdown",
   "source": [
    "---\n",
    "# Exercício. Básico.\n",
    "\n",
    "1. Leia a tabela disponível em:\n",
    "\n",
    "https://github.com/BAFurtado/MBA_IDP_CapturaTratamento/blob/main/data/exemplo2.csv\n",
    "\n",
    "2. Não se esqueça de adicionar: `?raw=True` ao fim do endereço para importar diretamente a tabela e não a própria página\n",
    "3. Não se esqueça de importar o `pandas` antes de tentar ler a tabela.\n",
    "4. Verifique se os nomes das colunas contém espaços.\n",
    "Ou altere o nome das colunas, ou utilize `tabela['nome da coluna']`.\n",
    "Nesses casos, `tabela.nome da coluna` não vai funcionar...\n",
    "5. Padronize os nomes, como feito para o exemplo1\n",
    "6. Corrija os valores de impostos pagos.\n",
    "7. Utilize a função `clean_currency()` utilizada acima.\n",
    "Não se esqueça de aplicar imediatamente após o `apply` a porção `.astype(float)`\n",
    "8. Utilize o `describe()` ou outro comando nos impostos corrigidos e identifique a média de impostos pagos.\n",
    "9. Utilize `sum(coluna)` para o valor total de impostos pagos.\n",
    "10. O que mais é possível notar de estranho neste exemplo simples?\n",
    "Alguém está familiarizado com o comando `value_counts()` do pandas? Ele pode ajudar a identificar se há valores repetidos (uma de vários jeitos possíveis).\n"
   ],
   "metadata": {
    "collapsed": false
   }
  },
  {
   "cell_type": "code",
   "execution_count": null,
   "outputs": [],
   "source": [
    "# Valores esperados.\n",
    "v, tt = '41.364,28', '206.821,40'\n",
    "print(f'Valor médio impostos pagos: {v}.')\n",
    "print(f'Total: {tt}.')"
   ],
   "metadata": {
    "collapsed": false,
    "pycharm": {
     "name": "#%%\n"
    }
   }
  },
  {
   "cell_type": "markdown",
   "source": [
    "---\n",
    "# Dados estruturados.\n",
    "\n",
    "### Definição: *\"Structured  data  is  data  that  depends  on  a  data  model  and  resides  in  a  fixed  field within a record.* (...)\n",
    "\n",
    "### *\"The  world  isn’t  made  up  of  structured  data,  though\"* (CIELEN, MEYSMAN, 2016, p.4)\n",
    "\n",
    "---\n",
    "* Note. Nem dados do IBGE. Do censo, por vezes, são assim, assim, tão estruturados...\n",
    "\n",
    "* https://twitter.com/furtadobb/status/1287762378550108161 (série de erros encontrados ao lidar com dados do Censo 2010)\n",
    "\n",
    "    Oito erros distintos\n",
    "\n",
    "* source resultado final: https://www.ipea.gov.br/portal/index.php?option=com_content&view=article&id=37073"
   ],
   "metadata": {
    "collapsed": false
   }
  },
  {
   "cell_type": "markdown",
   "source": [
    "---\n",
    "# Não estruturados\n",
    "\n",
    "* Depende do contexto\n",
    "* Pode ser mutável, variável, condicional\n",
    "* *Natural language*: ... tudo (twitter, notícias, e-mails, qualquer informação textual)"
   ],
   "metadata": {
    "collapsed": false
   }
  },
  {
   "cell_type": "markdown",
   "source": [
    "**Observação IV**\n",
    "\n",
    "Ainda que seus dados sejam estruturados, há necessidade de se manter crítico em relação a eles. Sempre."
   ],
   "metadata": {
    "collapsed": false
   }
  },
  {
   "cell_type": "markdown",
   "source": [
    "---\n",
    "### Big Data. Data for Data Science.\n",
    "\n",
    "Provavelmente serão estruturadas, *reliable*:\n",
    "\n",
    "1. https://Data.gov The home of the US Government’s open data\n",
    "2. https://data.europa.eu/en The home of the European Commission’s open data\n",
    "3. https://Data.worldbank.org  Open data initiative from the World Bank\n",
    "4. https://www.aiddata.org/datasets  Open data for international development\n",
    "6. https://Open.fda.gov Open data from the US Food and Drug Administration\n",
    "\n",
    "adapted from (CIELEN, MEYSMAN, 2016)"
   ],
   "metadata": {
    "collapsed": false
   }
  },
  {
   "cell_type": "markdown",
   "source": [
    "### Caso brasileiro.\n",
    "\n",
    "1. https://ftp.ibge.gov.br/\n",
    "2. https://basedosdados.org/\n",
    "3. http://www2.datasus.gov.br/DATASUS/index.php\n",
    "4. https://dados.gov.br/\n",
    "5. https://www3.bcb.gov.br/sgspub/localizarseries/localizarSeries.do?method=prepararTelaLocalizarSeries\n",
    "\n",
    "### Recentes.\n",
    "\n",
    "1. 'https://queridodiario.ok.org.br/api/gazettes/': **Vamos investigar na seção de APIs**\n",
    "2. https://www.gov.br/receitafederal/pt-br/assuntos/noticias/2021/junho/receita-federal-institui-o-cadastro-imobiliario-brasileiro-2013-cib"
   ],
   "metadata": {
    "collapsed": false
   }
  },
  {
   "cell_type": "markdown",
   "source": [
    "---\n",
    "# Exemplo típico. Censo 2010. IBGE. `read_fwf` fixed-width-format\n",
    "\n",
    "source: https://github.com/BAFurtado/censo2010/blob/master/read_amostra.py\n",
    "\n",
    "### Automated\n",
    "1. Download\n",
    "2. Unzip\n",
    "3. Identifica arquivo interesse\n",
    "4. Identifica variável de interesse\n",
    "5. Faz a expansão da amostra\n",
    "6. Salva em arquivo Pandas (estruturado)\n",
    "\n",
    "### Gerencia erros, omissões, sub-folders"
   ],
   "metadata": {
    "collapsed": false
   }
  },
  {
   "cell_type": "code",
   "execution_count": null,
   "outputs": [],
   "source": [
    "# Na prática\n",
    "path = r\"ftp.ibge.gov.br\"\n",
    "folder = r'Censos/Censo_Demografico_2010/Resultados_Gerais_da_Amostra/Microdados/'\n",
    "file = 'AC.zip'"
   ],
   "metadata": {
    "collapsed": false,
    "pycharm": {
     "name": "#%%\n"
    }
   }
  },
  {
   "cell_type": "markdown",
   "source": [
    "# Ilustração real dados com delimitação fixa\n",
    "# Download e UNZIP"
   ],
   "metadata": {
    "collapsed": false
   }
  },
  {
   "cell_type": "markdown",
   "source": [
    "---\n",
    "# via FTP"
   ],
   "metadata": {
    "collapsed": false
   }
  },
  {
   "cell_type": "code",
   "execution_count": null,
   "outputs": [],
   "source": [
    "import ftplib\n",
    "import os"
   ],
   "metadata": {
    "collapsed": false,
    "pycharm": {
     "name": "#%%\n"
    }
   }
  },
  {
   "cell_type": "code",
   "execution_count": null,
   "outputs": [],
   "source": [
    "ftp = ftplib.FTP(path)\n",
    "ftp.login('anonymous', 'censo2010')\n",
    "ftp.cwd(folder)\n",
    "files = ftp.nlst()\n",
    "print(files[:5])"
   ],
   "metadata": {
    "collapsed": false,
    "pycharm": {
     "name": "#%%\n"
    }
   }
  },
  {
   "cell_type": "code",
   "execution_count": null,
   "outputs": [],
   "source": [
    "with open(os.path.join('data', file), 'wb') as f:\n",
    "    ftp.retrbinary('RETR ' + file, f.write)"
   ],
   "metadata": {
    "collapsed": false,
    "pycharm": {
     "name": "#%%\n"
    }
   }
  },
  {
   "cell_type": "markdown",
   "source": [
    "## Usando requests (só como exemplo, não adequado para FTP)"
   ],
   "metadata": {
    "collapsed": false
   }
  },
  {
   "cell_type": "code",
   "execution_count": null,
   "outputs": [],
   "source": [
    "filepath = r'https://ftp.ibge.gov.br/Censos/Censo_Demografico_2010/Resultados_Gerais_da_Amostra/Microdados/AC.zip'"
   ],
   "metadata": {
    "collapsed": false,
    "pycharm": {
     "name": "#%%\n"
    }
   }
  },
  {
   "cell_type": "code",
   "execution_count": null,
   "outputs": [],
   "source": [
    "import requests, zipfile, io\n",
    "# verify = False, não vai ser mais permitido no Chrome, no futuro.\n",
    "# vantagem, nesse caso, é que o arquivo ZIP já pode ser extraído imediatamente de `response`\n",
    "response = requests.get(filepath, verify=False)\n",
    "print(response.ok)"
   ],
   "metadata": {
    "collapsed": false,
    "pycharm": {
     "name": "#%%\n"
    }
   }
  },
  {
   "cell_type": "markdown",
   "source": [
    "## Unzipping with python"
   ],
   "metadata": {
    "collapsed": false
   }
  },
  {
   "cell_type": "code",
   "execution_count": null,
   "outputs": [],
   "source": [
    "z = zipfile.ZipFile(io.BytesIO(response.content))\n",
    "z.extractall(r'data/')"
   ],
   "metadata": {
    "collapsed": false,
    "pycharm": {
     "name": "#%%\n"
    }
   }
  },
  {
   "cell_type": "markdown",
   "source": [
    "## Unzipping quando foi usado o FTP"
   ],
   "metadata": {
    "collapsed": false
   }
  },
  {
   "cell_type": "code",
   "execution_count": null,
   "outputs": [],
   "source": [
    "file_interest = 'data/AC/Amostra_Domicilios_12.txt'\n",
    "if not os.path.exists(file_interest):\n",
    "    with zipfile.ZipFile(os.path.join('data', 'AC.zip'), 'r') as zip_ref:\n",
    "        zip_ref.extractall('data')\n"
   ],
   "metadata": {
    "collapsed": false,
    "pycharm": {
     "name": "#%%\n"
    }
   }
  },
  {
   "cell_type": "markdown",
   "source": [
    "![info](https://github.com/BAFurtado/MBA_IDP_CapturaTratamento/blob/main/data/documentacao_IBGE.png?raw=True)"
   ],
   "metadata": {
    "collapsed": false
   }
  },
  {
   "cell_type": "markdown",
   "source": [
    "## ARMADILHA GIGANTE\n",
    "\n",
    "Para o python, a contagem começa em 0. Sempre. Portanto, a posição inicial do IBGE é reduzida de 1"
   ],
   "metadata": {
    "collapsed": false
   }
  },
  {
   "cell_type": "markdown",
   "source": [
    "## Faça o teste\n",
    "![Códigos UFs](https://github.com/BAFurtado/MBA_IDP_CapturaTratamento/blob/main/data/assert.png?raw=True)"
   ],
   "metadata": {
    "collapsed": false
   }
  },
  {
   "cell_type": "markdown",
   "source": [
    "### Note a colspecs. A coluna inicial é 0 (e não 1, como indica a documentação).\n",
    "### A segunda informação é a posição inicial, adicionada do seu tamanho INT + DEC, quando houver."
   ],
   "metadata": {
    "collapsed": false
   }
  },
  {
   "cell_type": "markdown",
   "source": [
    "---\n",
    "* v0220: Computador com internet\n",
    "* 1: Sim\n",
    "* 2: Não\n",
    "* Branco (domicílios coletivos, sem computador...) Veja documentação.\n",
    "---"
   ],
   "metadata": {
    "collapsed": false
   }
  },
  {
   "cell_type": "code",
   "execution_count": null,
   "outputs": [],
   "source": [
    "# Nomes das colunas\n",
    "cols = ['uf', 'codmun', 'peso', 'v0220']\n",
    "\n",
    "# Converte pesos já na leitura\n",
    "def convert_to_decimals(x):\n",
    "    \"\"\" Auxiliary function for the text reading of weights on text files from IBGE\n",
    "    \"\"\"\n",
    "    return float(x[:3] + '.' + x[3:])\n",
    "\n",
    "# Aplica read_fwf\n",
    "p = pd.read_fwf('data/AC/Amostra_Domicilios_12.txt',\n",
    "                colspecs=[(0, 2), (2, 7), (28, 44), (100, 101)],\n",
    "                header=None,\n",
    "                names=cols,\n",
    "                converters={'uf': str, 'codmun': str, 'peso': convert_to_decimals, 'v0220': str})\n",
    "\n",
    "# Output\n",
    "p.head()"
   ],
   "metadata": {
    "collapsed": false,
    "pycharm": {
     "name": "#%%\n"
    }
   }
  },
  {
   "cell_type": "code",
   "execution_count": null,
   "outputs": [],
   "source": [
    "def check():\n",
    "    try:\n",
    "        assert sum(p['uf'] != '12') == 0\n",
    "        assert all(p['uf'] == '12')\n",
    "        print('All is good!')\n",
    "    except AssertionError:\n",
    "        print('Go back and check')\n",
    "\n",
    "check()"
   ],
   "metadata": {
    "collapsed": false,
    "pycharm": {
     "name": "#%%\n"
    }
   }
  },
  {
   "cell_type": "code",
   "execution_count": null,
   "outputs": [],
   "source": [
    "# Percentual de domicílios com computador e acesso a internet Acre 2010\n",
    "p.groupby('v0220').agg({'peso': 'sum'})/p.peso.sum()\n"
   ],
   "metadata": {
    "collapsed": false,
    "pycharm": {
     "name": "#%%\n"
    }
   }
  },
  {
   "cell_type": "markdown",
   "source": [
    "---\n",
    "# Apresentação alunos. Expectativas. Projetos. Interesses. Feedback\n",
    "\n",
    "\n"
   ],
   "metadata": {
    "collapsed": false
   }
  }
 ]
}