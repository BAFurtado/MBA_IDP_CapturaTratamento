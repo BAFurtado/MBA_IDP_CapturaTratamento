{
  "nbformat": 4,
  "nbformat_minor": 0,
  "metadata": {
    "colab": {
      "name": "Aula1.ipynb",
      "provenance": [],
      "collapsed_sections": []
    },
    "kernelspec": {
      "name": "python3",
      "display_name": "Python 3"
    },
    "language_info": {
      "name": "python"
    }
  },
  "cells": [
    {
      "cell_type": "markdown",
      "metadata": {
        "id": "8I82Jgb43ADO"
      },
      "source": [
        ""
      ]
    },
    {
      "cell_type": "markdown",
      "metadata": {
        "id": "c4gzskN_2NWQ"
      },
      "source": [
        "# Técnicas Avançadas de **Captura e Tratamento** de Dados\n",
        "\n",
        "---\n",
        "## Prof. Bernardo Alves Furtado\n",
        "---\n",
        "### MBA em Big Data, Business Analytics e Gestão de Negócios. @**IDP**\n",
        "---\n",
        "3 a 21 agosto  -- 21 horas/aula\n"
      ]
    },
    {
      "cell_type": "markdown",
      "metadata": {
        "id": "mRbXIwLH3CpB"
      },
      "source": [
        ""
      ]
    }
  ]
}