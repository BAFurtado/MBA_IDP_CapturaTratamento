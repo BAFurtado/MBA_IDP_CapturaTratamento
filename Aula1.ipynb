{
 "nbformat": 4,
 "nbformat_minor": 0,
 "metadata": {
  "colab": {
   "name": "Aula1.ipynb",
   "provenance": [],
   "collapsed_sections": []
  },
  "kernelspec": {
   "display_name": "Python 3 (ipykernel)",
   "language": "python",
   "name": "python3"
  },
  "language_info": {
   "codemirror_mode": {
    "name": "ipython",
    "version": 3
   },
   "file_extension": ".py",
   "mimetype": "text/x-python",
   "name": "python",
   "nbconvert_exporter": "python",
   "pygments_lexer": "ipython3",
   "version": "3.9.2"
  }
 },
 "cells": [
  {
   "cell_type": "markdown",
   "metadata": {
    "id": "c4gzskN_2NWQ"
   },
   "source": [
    "# Técnicas Avançadas de **Captura e Tratamento** de Dados\n",
    "\n",
    "## Prof. Bernardo Alves Furtado\n",
    "\n",
    "### MBA em Big Data, Business Analytics e Gestão de Negócios. @**IDP**\n",
    "\n",
    "3 a 21 agosto  -- 21 horas/aula\n",
    "\n",
    "---"
   ]
  },
  {
   "cell_type": "markdown",
   "metadata": {
    "pycharm": {
     "name": "#%% md\n"
    },
    "id": "jjfUYRVwb37G"
   },
   "source": [
    "# Conteúdo (preliminar)\n",
    "1. Introdução. Armadilhas. Aperitivo. Exercícios. Dados estruturados e não-estruturados.\n",
    "2. Formatos: tabulares, hierárquicos. Captura. Web. Api. Twitter. Exercícios.\n",
    "3. Persistência. TXT, JSON, pickle, SQL. Captura internet e XML. Exercícios\n",
    "4. Captura massiva. Exercícios DOU.\n",
    "5. Tratamento. Texto. Filtrando texto. NOÇÕES de REGEX. Regular expressions. `import re`\n",
    "6. Tratamento. Pandas. Pandas. Exercícios. Checagem básica. Missing data. Outliers.\n",
    "7. Captura, tratamento, análise e resultado. Exercício.\n",
    "\n",
    "---"
   ]
  },
  {
   "cell_type": "code",
   "metadata": {
    "pycharm": {
     "name": "#%%\n"
    },
    "id": "9poIO4kjb37H",
    "outputId": "3af9df62-8436-40ec-b1fa-0303c74c4e57",
    "colab": {
     "base_uri": "https://localhost:8080/"
    }
   },
   "source": [
    "print('...')"
   ],
   "execution_count": 65,
   "outputs": [
    {
     "output_type": "stream",
     "text": [
      "...\n"
     ],
     "name": "stdout"
    }
   ]
  },
  {
   "cell_type": "markdown",
   "metadata": {
    "id": "VxxPqfo4b37I"
   },
   "source": [
    "#  Apresentação\n",
    "\n",
    "Bernardo Alves Furtado\n",
    "\n",
    "1. Ipea. CNPq.\n",
    "2. PhD. Geociências. Economica -- Utrecht. Cedeplar\n",
    "3. Mestrado em 'Tratamento da Informação Espacial'. Regional Science\n",
    "4. Spatial Analyst\n",
    "5. Modeleiro... Python. Agent-based models\n",
    "\n",
    "[CV Bernardo Alves Furtado](https://sites.google.com/view/bernardo-alves-furtado)\n",
    "\n",
    "[ResearchGate. Produção acadêmica completa](https://www.researchgate.net/profile/Bernardo-Furtado-2)\n",
    "\n",
    "[Plano Ensino. Bibliografia. Aulas. Código. Disponíveis GitHub](https://github.com/BAFurtado/MBA_IDP_CapturaTratamento)\n",
    "\n",
    "**github.com/BAFurtado/MBA_IDP_CapturaTratamento**\n",
    "\n",
    "@furtadobb\n",
    "\n",
    "---"
   ]
  },
  {
   "cell_type": "code",
   "metadata": {
    "pycharm": {
     "name": "#%%\n"
    },
    "id": "i9Nrj3sYb37I",
    "outputId": "b50662db-d77f-41d0-85da-a2a9dd0346ad",
    "colab": {
     "base_uri": "https://localhost:8080/"
    }
   },
   "source": [
    "print('...')"
   ],
   "execution_count": 66,
   "outputs": [
    {
     "output_type": "stream",
     "text": [
      "...\n"
     ],
     "name": "stdout"
    }
   ]
  },
  {
   "cell_type": "markdown",
   "metadata": {
    "id": "L6IPRbNYb37I"
   },
   "source": [
    "# Armadilhas\n",
    "\n",
    "### Source: @lmonasterio -- Coordenador Dados ENAP. Ipea e comentários\n",
    "\n",
    "### Manchetes possíveis. Caso acreditássemos imediatamente nos dados...\n",
    "\n",
    "1. \"48 pessoas têm o CPF 111.111.111-11: veja se você os conhece\"\n",
    "\n",
    "2. \"SILV e SLIVA estão entre os sobrenomes mais comuns no Brasil\"\n",
    "\n",
    "---\n",
    "\n",
    "1. Qual erro está ocorrendo?\n",
    "\n",
    "2. Como seria possível identificar esse erro?"
   ]
  },
  {
   "cell_type": "code",
   "metadata": {
    "pycharm": {
     "name": "#%%\n"
    },
    "id": "GuC2IQFTb37J",
    "outputId": "9f009f99-781e-4a2b-c50d-b4d4915027b1",
    "colab": {
     "base_uri": "https://localhost:8080/"
    }
   },
   "source": [
    "print('...')"
   ],
   "execution_count": 67,
   "outputs": [
    {
     "output_type": "stream",
     "text": [
      "...\n"
     ],
     "name": "stdout"
    }
   ]
  },
  {
   "cell_type": "markdown",
   "metadata": {
    "id": "XOukRQqzb37J"
   },
   "source": [
    "3. \"Descubra o nome da menina de 8 anos que já tem carteira de trabalho.\"\n",
    "\n",
    "4. “Turma de 1900 dá as caras” Subtítulo: “Centenas de brasileiros nascidos na virada do século finalmente saem de casa para se vacinar. Conheça suas histórias: ”\n",
    "\n",
    "E esses dois?\n",
    "___"
   ]
  },
  {
   "cell_type": "code",
   "metadata": {
    "pycharm": {
     "name": "#%%\n"
    },
    "id": "SE5rWMFMb37K",
    "outputId": "9808dadd-0fe0-4e9f-fb77-8d8c4a6eb684",
    "colab": {
     "base_uri": "https://localhost:8080/"
    }
   },
   "source": [
    "print('...')"
   ],
   "execution_count": 68,
   "outputs": [
    {
     "output_type": "stream",
     "text": [
      "...\n"
     ],
     "name": "stdout"
    }
   ]
  },
  {
   "cell_type": "markdown",
   "metadata": {
    "id": "8Tq-9lhXb37K"
   },
   "source": [
    "5. “Escândalo em Minas Gerais! Empresas sem CNPJ conseguem obter licenciamento ambiental”\n",
    "\n",
    "6. Conheça quem são os brasileiros que nasceram no dia 30 de fevereiro e nunca fizeram aniversário\n",
    "\n",
    "7. Homem mais alto do mundo é brasileiro. Conheça João da Silv, 18 metros de altura.\n",
    "\n",
    "8. Brasil já aplicou 120 variantes da Coronavac. Conheça a CornaVAC, CronaVAC, CrnVAC, CoronaButantan, entre outras.\n",
    "\n",
    "9. \"Brasil tem a pessoa vacinada mais idosa do mundo, com 221 anos de idade\"\n",
    "\n",
    "Recomendação: [SHIKIDA, C. D.; MONASTERIO, L.; NERY, P. F. Guia brasileiro de análise de dados: armadilhas & soluções. Brasília, DF: ENAP, 2021.](https://repositorio.enap.gov.br/bitstream/1/6039/1/Guia%20BR%20de%20Ana%CC%81lise%20de%20Dados.pdf)"
   ]
  },
  {
   "cell_type": "code",
   "metadata": {
    "pycharm": {
     "name": "#%%\n"
    },
    "id": "2FOgTM7Tb37L",
    "outputId": "8715e337-5853-4dfd-b8c6-cb9aeccf7639",
    "colab": {
     "base_uri": "https://localhost:8080/"
    }
   },
   "source": [
    "print('...')"
   ],
   "execution_count": 69,
   "outputs": [
    {
     "output_type": "stream",
     "text": [
      "...\n"
     ],
     "name": "stdout"
    }
   ]
  },
  {
   "cell_type": "markdown",
   "metadata": {
    "id": "5DmNkD5Tb37L"
   },
   "source": [
    "### Exemplos de erros\n",
    "\n",
    "1. Erros de digitação (typos)\n",
    "2. Erros de separação: ponto ou vírgula, para números, por exemplo.\n",
    "3. Informação ausente (missing)\n",
    "4. Datas. Datas. Datas."
   ]
  },
  {
   "cell_type": "code",
   "metadata": {
    "pycharm": {
     "name": "#%%\n"
    },
    "id": "cOSFUk_bb37L",
    "outputId": "3136bc8b-9741-4032-bdc2-ee031911aa88",
    "colab": {
     "base_uri": "https://localhost:8080/"
    }
   },
   "source": [
    "print('...')"
   ],
   "execution_count": 70,
   "outputs": [
    {
     "output_type": "stream",
     "text": [
      "...\n"
     ],
     "name": "stdout"
    }
   ]
  },
  {
   "cell_type": "markdown",
   "metadata": {
    "id": "h_3FxCW_b37L"
   },
   "source": [
    "---\n",
    "# Aperitivo I. Ilustração"
   ]
  },
  {
   "cell_type": "code",
   "metadata": {
    "pycharm": {
     "name": "#%%\n"
    },
    "id": "PdY94wYWb37M"
   },
   "source": [
    "# To use it on your drive folder... Needs folder changing.\n",
    "# from google.colab import drive\n",
    "# drive.mount('/content/drive')"
   ],
   "execution_count": 71,
   "outputs": []
  },
  {
   "cell_type": "code",
   "metadata": {
    "pycharm": {
     "name": "#%%\n"
    },
    "id": "-E7c2o7pb37M"
   },
   "source": [
    "import pandas as pd\n",
    "exemplo1 = pd.read_csv('https://github.com/BAFurtado/MBA_IDP_CapturaTratamento/blob/main/data/exemplo1.csv?raw=true')"
   ],
   "execution_count": 72,
   "outputs": []
  },
  {
   "cell_type": "markdown",
   "metadata": {
    "collapsed": false,
    "id": "yPK5tmmdb37M"
   },
   "source": [
    "1. Talvez primeiro comando: ```describe```?"
   ]
  },
  {
   "cell_type": "code",
   "metadata": {
    "pycharm": {
     "name": "#%%\n"
    },
    "id": "cWBjlGPNb37M",
    "outputId": "2fd39ef6-f76d-4c5c-b57d-53fa3fe0710e",
    "colab": {
     "base_uri": "https://localhost:8080/",
     "height": 297
    }
   },
   "source": [
    "exemplo1.describe()"
   ],
   "execution_count": 73,
   "outputs": [
    {
     "output_type": "execute_result",
     "data": {
      "text/html": [
       "<div>\n",
       "<style scoped>\n",
       "    .dataframe tbody tr th:only-of-type {\n",
       "        vertical-align: middle;\n",
       "    }\n",
       "\n",
       "    .dataframe tbody tr th {\n",
       "        vertical-align: top;\n",
       "    }\n",
       "\n",
       "    .dataframe thead th {\n",
       "        text-align: right;\n",
       "    }\n",
       "</style>\n",
       "<table border=\"1\" class=\"dataframe\">\n",
       "  <thead>\n",
       "    <tr style=\"text-align: right;\">\n",
       "      <th></th>\n",
       "      <th>altura</th>\n",
       "    </tr>\n",
       "  </thead>\n",
       "  <tbody>\n",
       "    <tr>\n",
       "      <th>count</th>\n",
       "      <td>6.000000</td>\n",
       "    </tr>\n",
       "    <tr>\n",
       "      <th>mean</th>\n",
       "      <td>86.153333</td>\n",
       "    </tr>\n",
       "    <tr>\n",
       "      <th>std</th>\n",
       "      <td>92.841548</td>\n",
       "    </tr>\n",
       "    <tr>\n",
       "      <th>min</th>\n",
       "      <td>1.420000</td>\n",
       "    </tr>\n",
       "    <tr>\n",
       "      <th>25%</th>\n",
       "      <td>1.725000</td>\n",
       "    </tr>\n",
       "    <tr>\n",
       "      <th>50%</th>\n",
       "      <td>80.900000</td>\n",
       "    </tr>\n",
       "    <tr>\n",
       "      <th>75%</th>\n",
       "      <td>167.500000</td>\n",
       "    </tr>\n",
       "    <tr>\n",
       "      <th>max</th>\n",
       "      <td>182.000000</td>\n",
       "    </tr>\n",
       "  </tbody>\n",
       "</table>\n",
       "</div>"
      ],
      "text/plain": [
       "           altura\n",
       "count    6.000000\n",
       "mean    86.153333\n",
       "std     92.841548\n",
       "min      1.420000\n",
       "25%      1.725000\n",
       "50%     80.900000\n",
       "75%    167.500000\n",
       "max    182.000000"
      ]
     },
     "metadata": {
      "tags": []
     },
     "execution_count": 73
    }
   ]
  },
  {
   "cell_type": "markdown",
   "metadata": {
    "pycharm": {
     "name": "#%% md\n"
    },
    "id": "0Fi1_7Lib37N"
   },
   "source": [
    "Será que a tabela só tem essa coluna?"
   ]
  },
  {
   "cell_type": "code",
   "metadata": {
    "pycharm": {
     "name": "#%%\n"
    },
    "id": "Je6cIlfIb37N",
    "outputId": "ef230a41-498b-44f5-847e-db5d4ef1ac02",
    "colab": {
     "base_uri": "https://localhost:8080/"
    }
   },
   "source": [
    "exemplo1.columns"
   ],
   "execution_count": 74,
   "outputs": [
    {
     "output_type": "execute_result",
     "data": {
      "text/plain": [
       "Index(['nome', 'dob', 'altura'], dtype='object')"
      ]
     },
     "metadata": {
      "tags": []
     },
     "execution_count": 74
    }
   ]
  },
  {
   "cell_type": "code",
   "metadata": {
    "pycharm": {
     "name": "#%%\n"
    },
    "id": "KHWc0P5mb37N",
    "outputId": "5a90ef7b-eec3-4bbd-ce24-7122a8fb191c",
    "colab": {
     "base_uri": "https://localhost:8080/",
     "height": 204
    }
   },
   "source": [
    "exemplo1.head()"
   ],
   "execution_count": 75,
   "outputs": [
    {
     "output_type": "execute_result",
     "data": {
      "text/html": [
       "<div>\n",
       "<style scoped>\n",
       "    .dataframe tbody tr th:only-of-type {\n",
       "        vertical-align: middle;\n",
       "    }\n",
       "\n",
       "    .dataframe tbody tr th {\n",
       "        vertical-align: top;\n",
       "    }\n",
       "\n",
       "    .dataframe thead th {\n",
       "        text-align: right;\n",
       "    }\n",
       "</style>\n",
       "<table border=\"1\" class=\"dataframe\">\n",
       "  <thead>\n",
       "    <tr style=\"text-align: right;\">\n",
       "      <th></th>\n",
       "      <th>nome</th>\n",
       "      <th>dob</th>\n",
       "      <th>altura</th>\n",
       "    </tr>\n",
       "  </thead>\n",
       "  <tbody>\n",
       "    <tr>\n",
       "      <th>0</th>\n",
       "      <td>maria</td>\n",
       "      <td>16/10/2001</td>\n",
       "      <td>1.7</td>\n",
       "    </tr>\n",
       "    <tr>\n",
       "      <th>1</th>\n",
       "      <td>Maria</td>\n",
       "      <td>01/01/00</td>\n",
       "      <td>1.8</td>\n",
       "    </tr>\n",
       "    <tr>\n",
       "      <th>2</th>\n",
       "      <td>João</td>\n",
       "      <td>20/2/2023</td>\n",
       "      <td>182.0</td>\n",
       "    </tr>\n",
       "    <tr>\n",
       "      <th>3</th>\n",
       "      <td>Joao</td>\n",
       "      <td>01/09/81</td>\n",
       "      <td>170.0</td>\n",
       "    </tr>\n",
       "    <tr>\n",
       "      <th>4</th>\n",
       "      <td>João</td>\n",
       "      <td>9/14/82</td>\n",
       "      <td>160.0</td>\n",
       "    </tr>\n",
       "  </tbody>\n",
       "</table>\n",
       "</div>"
      ],
      "text/plain": [
       "    nome         dob  altura\n",
       "0  maria  16/10/2001     1.7\n",
       "1  Maria    01/01/00     1.8\n",
       "2   João   20/2/2023   182.0\n",
       "3   Joao    01/09/81   170.0\n",
       "4   João     9/14/82   160.0"
      ]
     },
     "metadata": {
      "tags": []
     },
     "execution_count": 75
    }
   ]
  },
  {
   "cell_type": "markdown",
   "metadata": {
    "collapsed": false,
    "id": "wQfPUEgCb37O"
   },
   "source": [
    "Talvez, então, `info()`"
   ]
  },
  {
   "cell_type": "code",
   "metadata": {
    "pycharm": {
     "name": "#%%\n"
    },
    "id": "OB6YuK5Rb37O",
    "outputId": "4a977f85-5e08-4f8a-ba19-53771fb75398",
    "colab": {
     "base_uri": "https://localhost:8080/"
    }
   },
   "source": [
    "exemplo1.info()"
   ],
   "execution_count": 76,
   "outputs": [
    {
     "output_type": "stream",
     "text": [
      "<class 'pandas.core.frame.DataFrame'>\n",
      "RangeIndex: 6 entries, 0 to 5\n",
      "Data columns (total 3 columns):\n",
      " #   Column  Non-Null Count  Dtype  \n",
      "---  ------  --------------  -----  \n",
      " 0   nome    6 non-null      object \n",
      " 1   dob     6 non-null      object \n",
      " 2   altura  6 non-null      float64\n",
      "dtypes: float64(1), object(2)\n",
      "memory usage: 272.0+ bytes\n"
     ],
     "name": "stdout"
    }
   ]
  },
  {
   "cell_type": "markdown",
   "metadata": {
    "collapsed": false,
    "pycharm": {
     "name": "#%% md\n"
    },
    "id": "uNJ9v7snb37O"
   },
   "source": [
    "### Estratégias? Simples.\n",
    "\n",
    "1. Dados textuais."
   ]
  },
  {
   "cell_type": "code",
   "metadata": {
    "pycharm": {
     "name": "#%%\n"
    },
    "id": "Bqan7dscb37O",
    "outputId": "002e14a6-7d60-4fc8-f3d7-e8e56586b519",
    "colab": {
     "base_uri": "https://localhost:8080/",
     "height": 235
    }
   },
   "source": [
    "exemplo1.nome = exemplo1.nome.str.lower()\n",
    "exemplo1"
   ],
   "execution_count": 77,
   "outputs": [
    {
     "output_type": "execute_result",
     "data": {
      "text/html": [
       "<div>\n",
       "<style scoped>\n",
       "    .dataframe tbody tr th:only-of-type {\n",
       "        vertical-align: middle;\n",
       "    }\n",
       "\n",
       "    .dataframe tbody tr th {\n",
       "        vertical-align: top;\n",
       "    }\n",
       "\n",
       "    .dataframe thead th {\n",
       "        text-align: right;\n",
       "    }\n",
       "</style>\n",
       "<table border=\"1\" class=\"dataframe\">\n",
       "  <thead>\n",
       "    <tr style=\"text-align: right;\">\n",
       "      <th></th>\n",
       "      <th>nome</th>\n",
       "      <th>dob</th>\n",
       "      <th>altura</th>\n",
       "    </tr>\n",
       "  </thead>\n",
       "  <tbody>\n",
       "    <tr>\n",
       "      <th>0</th>\n",
       "      <td>maria</td>\n",
       "      <td>16/10/2001</td>\n",
       "      <td>1.70</td>\n",
       "    </tr>\n",
       "    <tr>\n",
       "      <th>1</th>\n",
       "      <td>maria</td>\n",
       "      <td>01/01/00</td>\n",
       "      <td>1.80</td>\n",
       "    </tr>\n",
       "    <tr>\n",
       "      <th>2</th>\n",
       "      <td>joão</td>\n",
       "      <td>20/2/2023</td>\n",
       "      <td>182.00</td>\n",
       "    </tr>\n",
       "    <tr>\n",
       "      <th>3</th>\n",
       "      <td>joao</td>\n",
       "      <td>01/09/81</td>\n",
       "      <td>170.00</td>\n",
       "    </tr>\n",
       "    <tr>\n",
       "      <th>4</th>\n",
       "      <td>joão</td>\n",
       "      <td>9/14/82</td>\n",
       "      <td>160.00</td>\n",
       "    </tr>\n",
       "    <tr>\n",
       "      <th>5</th>\n",
       "      <td>joao</td>\n",
       "      <td>08/05/00</td>\n",
       "      <td>1.42</td>\n",
       "    </tr>\n",
       "  </tbody>\n",
       "</table>\n",
       "</div>"
      ],
      "text/plain": [
       "    nome         dob  altura\n",
       "0  maria  16/10/2001    1.70\n",
       "1  maria    01/01/00    1.80\n",
       "2   joão   20/2/2023  182.00\n",
       "3   joao    01/09/81  170.00\n",
       "4   joão     9/14/82  160.00\n",
       "5   joao    08/05/00    1.42"
      ]
     },
     "metadata": {
      "tags": []
     },
     "execution_count": 77
    }
   ]
  },
  {
   "cell_type": "code",
   "metadata": {
    "pycharm": {
     "name": "#%%\n"
    },
    "id": "iS3gfCdOb37O",
    "outputId": "b216d2ad-dc86-4fd0-b61d-1daebb6c0e0d",
    "colab": {
     "base_uri": "https://localhost:8080/",
     "height": 235
    }
   },
   "source": [
    "# Be careful. Check that's what you really want\n",
    "exemplo1.nome = exemplo1.nome.str.normalize('NFKD').str.encode('ascii', errors='ignore').str.decode('utf-8')\n",
    "exemplo1.nome = exemplo1.nome.str.lower()\n",
    "exemplo1"
   ],
   "execution_count": 78,
   "outputs": [
    {
     "output_type": "execute_result",
     "data": {
      "text/html": [
       "<div>\n",
       "<style scoped>\n",
       "    .dataframe tbody tr th:only-of-type {\n",
       "        vertical-align: middle;\n",
       "    }\n",
       "\n",
       "    .dataframe tbody tr th {\n",
       "        vertical-align: top;\n",
       "    }\n",
       "\n",
       "    .dataframe thead th {\n",
       "        text-align: right;\n",
       "    }\n",
       "</style>\n",
       "<table border=\"1\" class=\"dataframe\">\n",
       "  <thead>\n",
       "    <tr style=\"text-align: right;\">\n",
       "      <th></th>\n",
       "      <th>nome</th>\n",
       "      <th>dob</th>\n",
       "      <th>altura</th>\n",
       "    </tr>\n",
       "  </thead>\n",
       "  <tbody>\n",
       "    <tr>\n",
       "      <th>0</th>\n",
       "      <td>maria</td>\n",
       "      <td>16/10/2001</td>\n",
       "      <td>1.70</td>\n",
       "    </tr>\n",
       "    <tr>\n",
       "      <th>1</th>\n",
       "      <td>maria</td>\n",
       "      <td>01/01/00</td>\n",
       "      <td>1.80</td>\n",
       "    </tr>\n",
       "    <tr>\n",
       "      <th>2</th>\n",
       "      <td>joao</td>\n",
       "      <td>20/2/2023</td>\n",
       "      <td>182.00</td>\n",
       "    </tr>\n",
       "    <tr>\n",
       "      <th>3</th>\n",
       "      <td>joao</td>\n",
       "      <td>01/09/81</td>\n",
       "      <td>170.00</td>\n",
       "    </tr>\n",
       "    <tr>\n",
       "      <th>4</th>\n",
       "      <td>joao</td>\n",
       "      <td>9/14/82</td>\n",
       "      <td>160.00</td>\n",
       "    </tr>\n",
       "    <tr>\n",
       "      <th>5</th>\n",
       "      <td>joao</td>\n",
       "      <td>08/05/00</td>\n",
       "      <td>1.42</td>\n",
       "    </tr>\n",
       "  </tbody>\n",
       "</table>\n",
       "</div>"
      ],
      "text/plain": [
       "    nome         dob  altura\n",
       "0  maria  16/10/2001    1.70\n",
       "1  maria    01/01/00    1.80\n",
       "2   joao   20/2/2023  182.00\n",
       "3   joao    01/09/81  170.00\n",
       "4   joao     9/14/82  160.00\n",
       "5   joao    08/05/00    1.42"
      ]
     },
     "metadata": {
      "tags": []
     },
     "execution_count": 78
    }
   ]
  },
  {
   "cell_type": "markdown",
   "metadata": {
    "collapsed": false,
    "pycharm": {
     "name": "#%% md\n"
    },
    "id": "iTyamR1wb37O"
   },
   "source": [
    "**Pandas datetime** is your friend"
   ]
  },
  {
   "cell_type": "code",
   "metadata": {
    "pycharm": {
     "name": "#%%\n"
    },
    "id": "0HuBScDmb37P",
    "outputId": "c36aaa7b-5ce4-446b-9503-5a88e7d7e5c0",
    "colab": {
     "base_uri": "https://localhost:8080/",
     "height": 235
    }
   },
   "source": [
    "exemplo1.dob = pd.to_datetime(exemplo1.dob)\n",
    "exemplo1"
   ],
   "execution_count": 79,
   "outputs": [
    {
     "output_type": "execute_result",
     "data": {
      "text/html": [
       "<div>\n",
       "<style scoped>\n",
       "    .dataframe tbody tr th:only-of-type {\n",
       "        vertical-align: middle;\n",
       "    }\n",
       "\n",
       "    .dataframe tbody tr th {\n",
       "        vertical-align: top;\n",
       "    }\n",
       "\n",
       "    .dataframe thead th {\n",
       "        text-align: right;\n",
       "    }\n",
       "</style>\n",
       "<table border=\"1\" class=\"dataframe\">\n",
       "  <thead>\n",
       "    <tr style=\"text-align: right;\">\n",
       "      <th></th>\n",
       "      <th>nome</th>\n",
       "      <th>dob</th>\n",
       "      <th>altura</th>\n",
       "    </tr>\n",
       "  </thead>\n",
       "  <tbody>\n",
       "    <tr>\n",
       "      <th>0</th>\n",
       "      <td>maria</td>\n",
       "      <td>2001-10-16</td>\n",
       "      <td>1.70</td>\n",
       "    </tr>\n",
       "    <tr>\n",
       "      <th>1</th>\n",
       "      <td>maria</td>\n",
       "      <td>2000-01-01</td>\n",
       "      <td>1.80</td>\n",
       "    </tr>\n",
       "    <tr>\n",
       "      <th>2</th>\n",
       "      <td>joao</td>\n",
       "      <td>2023-02-20</td>\n",
       "      <td>182.00</td>\n",
       "    </tr>\n",
       "    <tr>\n",
       "      <th>3</th>\n",
       "      <td>joao</td>\n",
       "      <td>1981-01-09</td>\n",
       "      <td>170.00</td>\n",
       "    </tr>\n",
       "    <tr>\n",
       "      <th>4</th>\n",
       "      <td>joao</td>\n",
       "      <td>1982-09-14</td>\n",
       "      <td>160.00</td>\n",
       "    </tr>\n",
       "    <tr>\n",
       "      <th>5</th>\n",
       "      <td>joao</td>\n",
       "      <td>2000-08-05</td>\n",
       "      <td>1.42</td>\n",
       "    </tr>\n",
       "  </tbody>\n",
       "</table>\n",
       "</div>"
      ],
      "text/plain": [
       "    nome        dob  altura\n",
       "0  maria 2001-10-16    1.70\n",
       "1  maria 2000-01-01    1.80\n",
       "2   joao 2023-02-20  182.00\n",
       "3   joao 1981-01-09  170.00\n",
       "4   joao 1982-09-14  160.00\n",
       "5   joao 2000-08-05    1.42"
      ]
     },
     "metadata": {
      "tags": []
     },
     "execution_count": 79
    }
   ]
  },
  {
   "cell_type": "code",
   "metadata": {
    "pycharm": {
     "name": "#%%\n"
    },
    "id": "Eu0lPGg5b37P",
    "outputId": "2cd9ab12-d97f-4c84-e715-da75f6af9f38",
    "colab": {
     "base_uri": "https://localhost:8080/"
    }
   },
   "source": [
    "exemplo1.info()"
   ],
   "execution_count": 80,
   "outputs": [
    {
     "output_type": "stream",
     "text": [
      "<class 'pandas.core.frame.DataFrame'>\n",
      "RangeIndex: 6 entries, 0 to 5\n",
      "Data columns (total 3 columns):\n",
      " #   Column  Non-Null Count  Dtype         \n",
      "---  ------  --------------  -----         \n",
      " 0   nome    6 non-null      object        \n",
      " 1   dob     6 non-null      datetime64[ns]\n",
      " 2   altura  6 non-null      float64       \n",
      "dtypes: datetime64[ns](1), float64(1), object(1)\n",
      "memory usage: 272.0+ bytes\n"
     ],
     "name": "stdout"
    }
   ]
  },
  {
   "cell_type": "markdown",
   "metadata": {
    "collapsed": false,
    "pycharm": {
     "name": "#%% md\n"
    },
    "id": "XNN2apllb37P"
   },
   "source": [
    "**Sobraram ainda <span style=\"color:blue\">DUAS ARMADILHAS</span> nas datas! Quem identifica?**\n",
    "\n",
    "---"
   ]
  },
  {
   "cell_type": "markdown",
   "metadata": {
    "collapsed": false,
    "pycharm": {
     "name": "#%% md\n"
    },
    "id": "nLa0jM0Jb37P"
   },
   "source": [
    "## E para a altura?"
   ]
  },
  {
   "cell_type": "code",
   "metadata": {
    "pycharm": {
     "name": "#%%\n"
    },
    "id": "BMTLFi_mb37P",
    "outputId": "223ee7d4-a4d7-4dfb-9b77-a442db9bf887",
    "colab": {
     "base_uri": "https://localhost:8080/",
     "height": 235
    }
   },
   "source": [
    "#  pandas.DataFrame.loc[condition, column_label] = new_value\n",
    "exemplo1.loc[exemplo1['altura'] > 3, 'altura'] = exemplo1.altura / 100\n",
    "exemplo1"
   ],
   "execution_count": 81,
   "outputs": [
    {
     "output_type": "execute_result",
     "data": {
      "text/html": [
       "<div>\n",
       "<style scoped>\n",
       "    .dataframe tbody tr th:only-of-type {\n",
       "        vertical-align: middle;\n",
       "    }\n",
       "\n",
       "    .dataframe tbody tr th {\n",
       "        vertical-align: top;\n",
       "    }\n",
       "\n",
       "    .dataframe thead th {\n",
       "        text-align: right;\n",
       "    }\n",
       "</style>\n",
       "<table border=\"1\" class=\"dataframe\">\n",
       "  <thead>\n",
       "    <tr style=\"text-align: right;\">\n",
       "      <th></th>\n",
       "      <th>nome</th>\n",
       "      <th>dob</th>\n",
       "      <th>altura</th>\n",
       "    </tr>\n",
       "  </thead>\n",
       "  <tbody>\n",
       "    <tr>\n",
       "      <th>0</th>\n",
       "      <td>maria</td>\n",
       "      <td>2001-10-16</td>\n",
       "      <td>1.70</td>\n",
       "    </tr>\n",
       "    <tr>\n",
       "      <th>1</th>\n",
       "      <td>maria</td>\n",
       "      <td>2000-01-01</td>\n",
       "      <td>1.80</td>\n",
       "    </tr>\n",
       "    <tr>\n",
       "      <th>2</th>\n",
       "      <td>joao</td>\n",
       "      <td>2023-02-20</td>\n",
       "      <td>1.82</td>\n",
       "    </tr>\n",
       "    <tr>\n",
       "      <th>3</th>\n",
       "      <td>joao</td>\n",
       "      <td>1981-01-09</td>\n",
       "      <td>1.70</td>\n",
       "    </tr>\n",
       "    <tr>\n",
       "      <th>4</th>\n",
       "      <td>joao</td>\n",
       "      <td>1982-09-14</td>\n",
       "      <td>1.60</td>\n",
       "    </tr>\n",
       "    <tr>\n",
       "      <th>5</th>\n",
       "      <td>joao</td>\n",
       "      <td>2000-08-05</td>\n",
       "      <td>1.42</td>\n",
       "    </tr>\n",
       "  </tbody>\n",
       "</table>\n",
       "</div>"
      ],
      "text/plain": [
       "    nome        dob  altura\n",
       "0  maria 2001-10-16    1.70\n",
       "1  maria 2000-01-01    1.80\n",
       "2   joao 2023-02-20    1.82\n",
       "3   joao 1981-01-09    1.70\n",
       "4   joao 1982-09-14    1.60\n",
       "5   joao 2000-08-05    1.42"
      ]
     },
     "metadata": {
      "tags": []
     },
     "execution_count": 81
    }
   ]
  },
  {
   "cell_type": "markdown",
   "metadata": {
    "collapsed": false,
    "pycharm": {
     "name": "#%% md\n"
    },
    "id": "PKoXB-Hcb37P"
   },
   "source": [
    "---\n",
    "### <span style=\"color:red\">Não recomendo</span> uso de apply, mas...\n",
    "\n",
    "Realiza a operação linha por linha.\n",
    "\n",
    "É custoso em tempo, pois não é vetorizado."
   ]
  },
  {
   "cell_type": "code",
   "metadata": {
    "pycharm": {
     "name": "#%%\n"
    },
    "id": "0BqTbrwZb37P",
    "outputId": "041350c5-7d86-4c1b-b7f2-8718fb8d47bd",
    "colab": {
     "base_uri": "https://localhost:8080/",
     "height": 235
    }
   },
   "source": [
    "def correct_height(col):\n",
    "    if col > 3:\n",
    "        col /= 100\n",
    "    return col\n",
    "\n",
    "e2 = pd.read_csv('https://github.com/BAFurtado/MBA_IDP_CapturaTratamento/blob/main/data/exemplo1.csv?raw=true')\n",
    "e2.altura = e2.altura.apply(correct_height)\n",
    "e2"
   ],
   "execution_count": 82,
   "outputs": [
    {
     "output_type": "execute_result",
     "data": {
      "text/html": [
       "<div>\n",
       "<style scoped>\n",
       "    .dataframe tbody tr th:only-of-type {\n",
       "        vertical-align: middle;\n",
       "    }\n",
       "\n",
       "    .dataframe tbody tr th {\n",
       "        vertical-align: top;\n",
       "    }\n",
       "\n",
       "    .dataframe thead th {\n",
       "        text-align: right;\n",
       "    }\n",
       "</style>\n",
       "<table border=\"1\" class=\"dataframe\">\n",
       "  <thead>\n",
       "    <tr style=\"text-align: right;\">\n",
       "      <th></th>\n",
       "      <th>nome</th>\n",
       "      <th>dob</th>\n",
       "      <th>altura</th>\n",
       "    </tr>\n",
       "  </thead>\n",
       "  <tbody>\n",
       "    <tr>\n",
       "      <th>0</th>\n",
       "      <td>maria</td>\n",
       "      <td>16/10/2001</td>\n",
       "      <td>1.70</td>\n",
       "    </tr>\n",
       "    <tr>\n",
       "      <th>1</th>\n",
       "      <td>Maria</td>\n",
       "      <td>01/01/00</td>\n",
       "      <td>1.80</td>\n",
       "    </tr>\n",
       "    <tr>\n",
       "      <th>2</th>\n",
       "      <td>João</td>\n",
       "      <td>20/2/2023</td>\n",
       "      <td>1.82</td>\n",
       "    </tr>\n",
       "    <tr>\n",
       "      <th>3</th>\n",
       "      <td>Joao</td>\n",
       "      <td>01/09/81</td>\n",
       "      <td>1.70</td>\n",
       "    </tr>\n",
       "    <tr>\n",
       "      <th>4</th>\n",
       "      <td>João</td>\n",
       "      <td>9/14/82</td>\n",
       "      <td>1.60</td>\n",
       "    </tr>\n",
       "    <tr>\n",
       "      <th>5</th>\n",
       "      <td>Joao</td>\n",
       "      <td>08/05/00</td>\n",
       "      <td>1.42</td>\n",
       "    </tr>\n",
       "  </tbody>\n",
       "</table>\n",
       "</div>"
      ],
      "text/plain": [
       "    nome         dob  altura\n",
       "0  maria  16/10/2001    1.70\n",
       "1  Maria    01/01/00    1.80\n",
       "2   João   20/2/2023    1.82\n",
       "3   Joao    01/09/81    1.70\n",
       "4   João     9/14/82    1.60\n",
       "5   Joao    08/05/00    1.42"
      ]
     },
     "metadata": {
      "tags": []
     },
     "execution_count": 82
    }
   ]
  },
  {
   "cell_type": "markdown",
   "metadata": {
    "collapsed": false,
    "pycharm": {
     "name": "#%% md\n"
    },
    "id": "8Mdpipfsb37Q"
   },
   "source": [
    "---\n",
    "### Captura 101. Acesso imediato"
   ]
  },
  {
   "cell_type": "code",
   "metadata": {
    "pycharm": {
     "name": "#%%\n"
    },
    "id": "64TTNU7Wb37Q"
   },
   "source": [
    "tabelas = pd.read_html('http://economia.uol.com.br')"
   ],
   "execution_count": 83,
   "outputs": []
  },
  {
   "cell_type": "markdown",
   "metadata": {
    "collapsed": false,
    "pycharm": {
     "name": "#%% md\n"
    },
    "id": "sNzEPIkib37Q"
   },
   "source": [
    "**Não tivemos erro. Vamos investigar os achados**"
   ]
  },
  {
   "cell_type": "code",
   "metadata": {
    "pycharm": {
     "name": "#%%\n"
    },
    "id": "n_2e3yWnb37Q",
    "outputId": "087a0ce5-a0c3-4ef4-a406-d9da075d9ca8",
    "colab": {
     "base_uri": "https://localhost:8080/"
    }
   },
   "source": [
    "type(tabelas)"
   ],
   "execution_count": 84,
   "outputs": [
    {
     "output_type": "execute_result",
     "data": {
      "text/plain": [
       "list"
      ]
     },
     "metadata": {
      "tags": []
     },
     "execution_count": 84
    }
   ]
  },
  {
   "cell_type": "code",
   "metadata": {
    "pycharm": {
     "name": "#%%\n"
    },
    "id": "8WSR3GPRb37Q",
    "outputId": "500f5fab-bbbd-4f63-d8d9-29efb6a412ba",
    "colab": {
     "base_uri": "https://localhost:8080/"
    }
   },
   "source": [
    "len(tabelas)"
   ],
   "execution_count": 85,
   "outputs": [
    {
     "output_type": "execute_result",
     "data": {
      "text/plain": [
       "6"
      ]
     },
     "metadata": {
      "tags": []
     },
     "execution_count": 85
    }
   ]
  },
  {
   "cell_type": "code",
   "metadata": {
    "pycharm": {
     "name": "#%%\n"
    },
    "id": "WfHzojBCb37Q",
    "outputId": "ff44df64-de6e-4744-cd3c-088bc3713979",
    "colab": {
     "base_uri": "https://localhost:8080/"
    }
   },
   "source": [
    "type(tabelas[0])"
   ],
   "execution_count": 86,
   "outputs": [
    {
     "output_type": "execute_result",
     "data": {
      "text/plain": [
       "pandas.core.frame.DataFrame"
      ]
     },
     "metadata": {
      "tags": []
     },
     "execution_count": 86
    }
   ]
  },
  {
   "cell_type": "code",
   "metadata": {
    "pycharm": {
     "name": "#%%\n"
    },
    "id": "SqMLAukMb37Q",
    "outputId": "b3094d82-9546-4ab1-9590-07672cbcd72e",
    "colab": {
     "base_uri": "https://localhost:8080/"
    }
   },
   "source": [
    "tabelas[0].info()"
   ],
   "execution_count": 87,
   "outputs": [
    {
     "output_type": "stream",
     "text": [
      "<class 'pandas.core.frame.DataFrame'>\n",
      "RangeIndex: 4 entries, 0 to 3\n",
      "Data columns (total 3 columns):\n",
      " #   Column  Non-Null Count  Dtype \n",
      "---  ------  --------------  ----- \n",
      " 0   0       4 non-null      object\n",
      " 1   1       4 non-null      object\n",
      " 2   2       4 non-null      object\n",
      "dtypes: object(3)\n",
      "memory usage: 224.0+ bytes\n"
     ],
     "name": "stdout"
    }
   ]
  },
  {
   "cell_type": "code",
   "metadata": {
    "pycharm": {
     "name": "#%%\n"
    },
    "id": "oNkVcD5eb37R",
    "outputId": "9a41defd-2dda-49a1-9a8b-c086467c6e93",
    "colab": {
     "base_uri": "https://localhost:8080/"
    }
   },
   "source": [
    "for each in tabelas:\n",
    "    print(each.head())"
   ],
   "execution_count": 88,
   "outputs": [
    {
     "output_type": "stream",
     "text": [
      "                0       1               2\n",
      "0   Dólar Turismo  -0,75%        R$ 5,320\n",
      "1           Libra  -1,02%        R$ 7,166\n",
      "2  Peso Argentino  -0,92%        R$ 0,053\n",
      "3         Bitcoin  -1,33%  R$ 204.116,219\n",
      "       0       1\n",
      "0    IBX   +0,8%\n",
      "1  IBX50   +0,7%\n",
      "2    IEE  +1,16%\n",
      "3   INDX  +1,22%\n",
      "          0       1          2\n",
      "0  PETR4.SA  -1,86%   R$ 26,41\n",
      "1  VALE3.SA  +0,67%  R$ 109,49\n",
      "2  ITUB4.SA  +1,11%   R$ 30,62\n",
      "3  BBDC4.SA  +0,49%   R$ 24,37\n",
      "           0       1         2\n",
      "0   HYPE3.SA   +4,1%  R$ 37,11\n",
      "1  TAEE11.SA  +4,08%  R$ 39,55\n",
      "2   TOTS3.SA  +3,85%  R$ 36,72\n",
      "3   B3SA3.SA  +3,21%  R$ 15,74\n",
      "4   WEGE3.SA  +3,12%  R$ 36,66\n",
      "          0       1         2\n",
      "0  CVCB3.SA  -1,88%  R$ 21,88\n",
      "1  PETR4.SA  -1,78%  R$ 26,43\n",
      "2  BBSE3.SA  -1,68%  R$ 21,01\n",
      "3  ECOR3.SA  -1,65%  R$ 10,73\n",
      "4  CSNA3.SA  -1,28%  R$ 44,90\n",
      "          0       1         2\n",
      "0  PETR4.SA  -1,78%  R$ 26,43\n",
      "1  BBDC4.SA  +0,54%  R$ 24,38\n",
      "2  ITSA4.SA  +1,88%  R$ 11,38\n",
      "3  ITUB4.SA  +1,07%  R$ 30,61\n",
      "4  VVAR3.SA  +1,11%  R$ 12,73\n"
     ],
     "name": "stdout"
    }
   ]
  },
  {
   "cell_type": "markdown",
   "metadata": {
    "collapsed": false,
    "pycharm": {
     "name": "#%% md\n"
    },
    "id": "K53FLvBSb37R"
   },
   "source": [
    "---\n",
    "### Observações I\n",
    "\n",
    "1. Usando `info()` percebemos que a informação não é numérica: 'object'\n",
    "2. Notem que para o caso brasileiro, moeda está em real."
   ]
  },
  {
   "cell_type": "code",
   "metadata": {
    "pycharm": {
     "name": "#%%\n"
    },
    "id": "6mXk8PHLb37R",
    "outputId": "d8912944-e74d-41ff-84a1-060dd404263b",
    "colab": {
     "base_uri": "https://localhost:8080/"
    }
   },
   "source": [
    "tabelas = pd.read_html('https://economia.uol.com.br', decimal=',', thousands='.')\n",
    "moedas = tabelas[0]\n",
    "moedas.columns = ['moeda', 'variacao', 'valor_reais']\n",
    "print(moedas.head())"
   ],
   "execution_count": 89,
   "outputs": [
    {
     "output_type": "stream",
     "text": [
      "            moeda variacao     valor_reais\n",
      "0   Dólar Turismo   -0,75%        R$ 5,320\n",
      "1           Libra   -1,02%        R$ 7,166\n",
      "2  Peso Argentino   -0,92%        R$ 0,053\n",
      "3         Bitcoin   -1,33%  R$ 204.116,219\n"
     ],
     "name": "stdout"
    }
   ]
  },
  {
   "cell_type": "code",
   "metadata": {
    "pycharm": {
     "name": "#%%\n"
    },
    "id": "BdSjrs1Wb37R"
   },
   "source": [
    "# source: https://pbpython.com/currency-cleanup.html\n",
    "def clean_currency(x):\n",
    "    \"\"\" If the value is a string, then remove currency symbol and delimiters\n",
    "    otherwise, the value is numeric and can be converted\n",
    "    \"\"\"\n",
    "    if isinstance(x, str):\n",
    "        return x.replace('R$', '').replace('.', '').replace(',', '.')\n",
    "    return x"
   ],
   "execution_count": 90,
   "outputs": []
  },
  {
   "cell_type": "code",
   "metadata": {
    "pycharm": {
     "name": "#%%\n"
    },
    "id": "XqYsWDtXb37R",
    "outputId": "004dd8b2-de98-4f03-fd1d-00db112f8dec",
    "colab": {
     "base_uri": "https://localhost:8080/"
    }
   },
   "source": [
    "moedas.valor_reais = moedas.valor_reais.apply(clean_currency).astype(float)\n",
    "print(moedas)\n",
    "print(moedas.valor_reais.dtype)"
   ],
   "execution_count": 91,
   "outputs": [
    {
     "output_type": "stream",
     "text": [
      "            moeda variacao  valor_reais\n",
      "0   Dólar Turismo   -0,75%        5.320\n",
      "1           Libra   -1,02%        7.166\n",
      "2  Peso Argentino   -0,92%        0.053\n",
      "3         Bitcoin   -1,33%   204116.219\n",
      "float64\n"
     ],
     "name": "stdout"
    }
   ]
  },
  {
   "cell_type": "markdown",
   "metadata": {
    "collapsed": false,
    "pycharm": {
     "name": "#%% md\n"
    },
    "id": "dYBO5kUvb37R"
   },
   "source": [
    "---\n",
    "### Observações II\n",
    "\n",
    "1. O código `str.replace` só pode ser feito uma vez.\n",
    "2. Note a ordem correta do `replace`!\n",
    "2. Não é muito robusto, portanto.\n",
    "3. Idealmente, é preferível ler a tabela já com as opções corretas:\n",
    "```\n",
    "sep=';'\n",
    "decimal=','\n",
    "thousands='.'\n",
    "```"
   ]
  },
  {
   "cell_type": "markdown",
   "metadata": {
    "collapsed": false,
    "pycharm": {
     "name": "#%% md\n"
    },
    "id": "wXfrFkRab37R"
   },
   "source": [
    "---\n",
    "### Persistência -- caso básico"
   ]
  },
  {
   "cell_type": "code",
   "metadata": {
    "pycharm": {
     "name": "#%%\n"
    },
    "id": "0B3tRjR8b37R"
   },
   "source": [
    "exemplo1.to_csv('tab_exemplo1_formatada.csv', sep=';', index=False)"
   ],
   "execution_count": 92,
   "outputs": []
  },
  {
   "cell_type": "markdown",
   "metadata": {
    "collapsed": false,
    "pycharm": {
     "name": "#%% md\n"
    },
    "id": "4Iq4CQNbb37S"
   },
   "source": [
    "---\n",
    "### Observações III\n",
    "\n",
    "1. Não há espaços ou acentos no nome, que é explicativo.\n",
    "2. Formato CSV, com separador ponto-e-vírgula, é relativamente eficiente, acessível para humanos e ...\n",
    "3. Abre direto no EXCEL brasileiro\n",
    "4. Sempre eu utilizo `index=False` de modo que colunas de `index` não se acumulem ou abrir\n",
    "e salvar o arquivo inúmeras vezes..."
   ]
  },
  {
   "cell_type": "markdown",
   "metadata": {
    "collapsed": false,
    "pycharm": {
     "name": "#%% md\n"
    },
    "id": "CnbaGr2Tb37S"
   },
   "source": [
    "### Take-away\n",
    "\n",
    "* **Mantemos o processo completo: da leitura do arquivo na fonte ao tratamento e salvamento**\n",
    "\n",
    "* **Desse modo, diferentemente de alterações realizadas no EXCEL, por exemplo,\n",
    "mantivemos a <span style=\"color:blue\">REPRODUCIBILIDADE</span> da análise.\n",
    "Agregando transparência ao processo.**"
   ]
  },
  {
   "cell_type": "markdown",
   "metadata": {
    "collapsed": false,
    "pycharm": {
     "name": "#%% md\n"
    },
    "id": "-7jExOcjb37S"
   },
   "source": [
    "---\n",
    "# Exercício. Básico.\n",
    "\n",
    "1. Leia a tabela disponível em:\n",
    "\n",
    "https://github.com/BAFurtado/MBA_IDP_CapturaTratamento/blob/main/data/exemplo2.csv\n",
    "\n",
    "2. Não se esqueça de adicionar: `?raw=True` ao fim do endereço para importar diretamente a tabela e não a própria página\n",
    "3. Não se esqueça de importar o `pandas` antes de tentar ler a tabela.\n",
    "4. Verifique se os nomes das colunas contém espaços.\n",
    "Ou altere o nome das colunas, ou utilize `tabela['nome da coluna']`.\n",
    "Nesses casos, `tabela.nome da coluna` não vai funcionar...\n",
    "5. Padronize os nomes, como feito para o exemplo1\n",
    "6. Corrija os valores de impostos pagos.\n",
    "7. Utilize a função `clean_currency()` utilizada acima.\n",
    "Não se esqueça de aplicar imediatamente após o `apply` a porção `.astype(float)`\n",
    "8. Utilize o `describe()` ou outro comando nos impostos corrigidos e identifique a média de impostos pagos.\n",
    "9. Utilize `sum(coluna)` para o valor total de impostos pagos.\n",
    "10. O que mais é possível notar de estranho neste exemplo simples?\n",
    "Alguém está familiarizado com o comando `value_counts()` do pandas? Ele pode ajudar a identificar se há valores repetidos (uma de vários jeitos possíveis).\n"
   ]
  },
  {
   "cell_type": "code",
   "metadata": {
    "pycharm": {
     "name": "#%%\n"
    },
    "id": "pNwZiyQQb37S",
    "outputId": "793ecc8b-e270-483e-9fa3-d700f088f8d6",
    "colab": {
     "base_uri": "https://localhost:8080/"
    }
   },
   "source": [
    "# Valores esperados.\n",
    "v, tt = '41.364,28', '206.821,40'\n",
    "print(f'Valor médio impostos pagos: {v}.')\n",
    "print(f'Total: {tt}.')"
   ],
   "execution_count": 93,
   "outputs": [
    {
     "output_type": "stream",
     "text": [
      "Valor médio impostos pagos: 41.364,28.\n",
      "Total: 206.821,40.\n"
     ],
     "name": "stdout"
    }
   ]
  },
  {
   "cell_type": "markdown",
   "metadata": {
    "collapsed": false,
    "pycharm": {
     "name": "#%% md\n"
    },
    "id": "WdXZ92JAb37S"
   },
   "source": [
    "---\n",
    "# Dados estruturados.\n",
    "\n",
    "### Definição: *\"Structured  data  is  data  that  depends  on  a  data  model  and  resides  in  a  fixed  field within a record.* (...)\n",
    "\n",
    "### *\"The  world  isn’t  made  up  of  structured  data,  though\"* (CIELEN, MEYSMAN, 2016, p.4)\n",
    "\n",
    "---\n",
    "* Note. Nem dados do IBGE. Do censo, por vezes, são assim, assim, tão estruturados...\n",
    "\n",
    "* https://twitter.com/furtadobb/status/1287762378550108161 (série de erros encontrados ao lidar com dados do Censo 2010)\n",
    "\n",
    "    Oito erros distintos\n",
    "\n",
    "* source resultado final: https://www.ipea.gov.br/portal/index.php?option=com_content&view=article&id=37073"
   ]
  },
  {
   "cell_type": "markdown",
   "metadata": {
    "collapsed": false,
    "pycharm": {
     "name": "#%% md\n"
    },
    "id": "o5mO4e3Xb37S"
   },
   "source": [
    "---\n",
    "# Não estruturados\n",
    "\n",
    "* Depende do contexto\n",
    "* Pode ser mutável, variável, condicional\n",
    "* *Natural language*: ... tudo (twitter, notícias, e-mails, qualquer informação textual)"
   ]
  },
  {
   "cell_type": "markdown",
   "metadata": {
    "collapsed": false,
    "pycharm": {
     "name": "#%% md\n"
    },
    "id": "IhP3WYftb37T"
   },
   "source": [
    "**Observação IV**\n",
    "\n",
    "Ainda que seus dados sejam estruturados, há necessidade de se manter crítico em relação a eles. Sempre."
   ]
  },
  {
   "cell_type": "markdown",
   "metadata": {
    "collapsed": false,
    "pycharm": {
     "name": "#%% md\n"
    },
    "id": "SG9yEnRob37T"
   },
   "source": [
    "---\n",
    "### Big Data. Data for Data Science.\n",
    "\n",
    "Provavelmente serão estruturadas, *reliable*:\n",
    "\n",
    "1. https://Data.gov The home of the US Government’s open data\n",
    "2. https://data.europa.eu/en The home of the European Commission’s open data\n",
    "3. https://Data.worldbank.org  Open data initiative from the World Bank\n",
    "4. https://www.aiddata.org/datasets  Open data for international development\n",
    "6. https://Open.fda.gov Open data from the US Food and Drug Administration\n",
    "\n",
    "adapted from (CIELEN, MEYSMAN, 2016)"
   ]
  },
  {
   "cell_type": "markdown",
   "metadata": {
    "collapsed": false,
    "pycharm": {
     "name": "#%% md\n"
    },
    "id": "iwg5mmQXb37T"
   },
   "source": [
    "### Caso brasileiro.\n",
    "\n",
    "1. https://ftp.ibge.gov.br/\n",
    "2. https://basedosdados.org/\n",
    "3. http://www2.datasus.gov.br/DATASUS/index.php\n",
    "4. https://dados.gov.br/\n",
    "5. https://www3.bcb.gov.br/sgspub/localizarseries/localizarSeries.do?method=prepararTelaLocalizarSeries\n",
    "\n",
    "### Recentes.\n",
    "\n",
    "1. 'https://queridodiario.ok.org.br/api/gazettes/': **Vamos investigar na seção de APIs**\n",
    "2. https://www.gov.br/receitafederal/pt-br/assuntos/noticias/2021/junho/receita-federal-institui-o-cadastro-imobiliario-brasileiro-2013-cib"
   ]
  },
  {
   "cell_type": "markdown",
   "metadata": {
    "collapsed": false,
    "pycharm": {
     "name": "#%% md\n"
    },
    "id": "4eKP_JgUb37T"
   },
   "source": [
    "---\n",
    "# Exemplo típico. Censo 2010. IBGE. `read_fwf` fixed-width-format\n",
    "\n",
    "source: https://github.com/BAFurtado/censo2010/blob/master/read_amostra.py\n",
    "\n",
    "### Automated\n",
    "1. Download\n",
    "2. Unzip\n",
    "3. Identifica arquivo interesse\n",
    "4. Identifica variável de interesse\n",
    "5. Faz a expansão da amostra\n",
    "6. Salva em arquivo Pandas (estruturado)\n",
    "\n",
    "### Gerencia erros, omissões, sub-folders"
   ]
  },
  {
   "cell_type": "code",
   "metadata": {
    "pycharm": {
     "name": "#%%\n"
    },
    "id": "Qb1ox7aHb37T"
   },
   "source": [
    "# Na prática\n",
    "path = r\"ftp.ibge.gov.br\"\n",
    "folder = r'Censos/Censo_Demografico_2010/Resultados_Gerais_da_Amostra/Microdados/'\n",
    "file = 'AC.zip'"
   ],
   "execution_count": 94,
   "outputs": []
  },
  {
   "cell_type": "markdown",
   "source": [
    "# Ilustração real dados com delimitação fixa\n",
    "# Download e UNZIP"
   ],
   "metadata": {
    "collapsed": false,
    "pycharm": {
     "name": "#%% md\n"
    }
   }
  },
  {
   "cell_type": "markdown",
   "metadata": {
    "collapsed": false,
    "pycharm": {
     "name": "#%% md\n"
    },
    "id": "hSBw6lJyb37T"
   },
   "source": [
    "---\n",
    "# via FTP"
   ]
  },
  {
   "cell_type": "code",
   "metadata": {
    "pycharm": {
     "name": "#%%\n"
    },
    "id": "EwalKpMOb37U",
    "outputId": "35556a8c-ec5a-40d4-ec11-a9d7bb5ab749",
    "colab": {
     "base_uri": "https://localhost:8080/"
    }
   },
   "source": [
    "import ftplib\n",
    "import os"
   ],
   "execution_count": 95,
   "outputs": [
    {
     "output_type": "stream",
     "text": [
      "['1_Atualizacoes_20160311.txt', 'AC.zip', 'AL.zip', 'AM.zip', 'AP.zip']\n"
     ],
     "name": "stdout"
    }
   ]
  },
  {
   "cell_type": "code",
   "execution_count": null,
   "outputs": [],
   "source": [
    "ftp = ftplib.FTP(path)\n",
    "ftp.login('anonymous', 'censo2010')\n",
    "ftp.cwd(folder)\n",
    "files = ftp.nlst()\n",
    "print(files[:5])"
   ],
   "metadata": {
    "collapsed": false,
    "pycharm": {
     "name": "#%%\n"
    }
   }
  },
  {
   "cell_type": "code",
   "execution_count": null,
   "outputs": [],
   "source": [
    "with open(os.path.join('data', file), 'wb') as f:\n",
    "    ftp.retrbinary('RETR ' + file, f.write)"
   ],
   "metadata": {
    "collapsed": false,
    "pycharm": {
     "name": "#%%\n"
    }
   }
  },
  {
   "cell_type": "markdown",
   "metadata": {
    "pycharm": {
     "name": "#%% md\n"
    },
    "id": "PDwJ-FLub37U",
    "outputId": "a99f6158-241a-4c30-b7e6-f19328db781a",
    "colab": {
     "base_uri": "https://localhost:8080/"
    }
   },
   "source": [
    "## Usando requests (só como exemplo, não adequado para FTP)"
   ]
  },
  {
   "cell_type": "code",
   "execution_count": null,
   "outputs": [],
   "source": [
    "filepath = r'https://ftp.ibge.gov.br/Censos/Censo_Demografico_2010/Resultados_Gerais_da_Amostra/Microdados/AC.zip'"
   ],
   "metadata": {
    "collapsed": false,
    "pycharm": {
     "name": "#%%\n"
    }
   }
  },
  {
   "cell_type": "code",
   "execution_count": null,
   "outputs": [],
   "source": [
    "import requests, zipfile, io\n",
    "# verify = False, não vai ser mais permitido no Chrome, no futuro.\n",
    "# vantagem, nesse caso, é que o arquivo ZIP já pode ser extraído imediatamente de `response`\n",
    "response = requests.get(filepath, verify=False)\n",
    "print(response.ok)"
   ],
   "metadata": {
    "collapsed": false,
    "pycharm": {
     "name": "#%%\n"
    }
   }
  },
  {
   "cell_type": "markdown",
   "metadata": {
    "pycharm": {
     "name": "#%% md\n"
    },
    "id": "CWM6dzMFb37U"
   },
   "source": [
    "## Unzipping with python"
   ]
  },
  {
   "cell_type": "code",
   "execution_count": null,
   "outputs": [],
   "source": [
    "z = zipfile.ZipFile(io.BytesIO(response.content))\n",
    "z.extractall(r'data/')"
   ],
   "metadata": {
    "collapsed": false,
    "pycharm": {
     "name": "#%%\n"
    }
   }
  },
  {
   "cell_type": "markdown",
   "metadata": {
    "pycharm": {
     "name": "#%% md\n"
    },
    "id": "8sFWQY3Rb37U"
   },
   "source": [
    "## Unzipping quando foi usado o FTP"
   ]
  },
  {
   "cell_type": "code",
   "execution_count": null,
   "outputs": [],
   "source": [
    "file_interest = 'data/AC/Amostra_Domicilios_12.txt'\n",
    "if not os.path.exists(file_interest):\n",
    "    with zipfile.ZipFile(os.path.join('data', 'AC.zip'), 'r') as zip_ref:\n",
    "        zip_ref.extractall('data')\n"
   ],
   "metadata": {
    "collapsed": false,
    "pycharm": {
     "name": "#%%\n"
    }
   }
  },
  {
   "cell_type": "markdown",
   "metadata": {
    "collapsed": false,
    "pycharm": {
     "name": "#%% md\n"
    },
    "id": "llzvbppBb37U"
   },
   "source": [
    "![info](https://github.com/BAFurtado/MBA_IDP_CapturaTratamento/blob/main/data/documentacao_IBGE.png?raw=True)"
   ]
  },
  {
   "cell_type": "markdown",
   "metadata": {
    "collapsed": false,
    "pycharm": {
     "name": "#%% md\n"
    },
    "id": "4T6jAL4Cb37U"
   },
   "source": [
    "## ARMADILHA GIGANTE\n",
    "\n",
    "Para o python, a contagem começa em 0. Sempre. Portanto, a posição inicial do IBGE é reduzida de 1"
   ]
  },
  {
   "cell_type": "markdown",
   "metadata": {
    "collapsed": false,
    "pycharm": {
     "name": "#%% md\n"
    },
    "id": "HT21Tgnxb37U"
   },
   "source": [
    "## Faça o teste\n",
    "![Códigos UFs](https://github.com/BAFurtado/MBA_IDP_CapturaTratamento/blob/main/data/assert.png?raw=True)"
   ]
  },
  {
   "cell_type": "markdown",
   "metadata": {
    "collapsed": false,
    "pycharm": {
     "name": "#%% md\n"
    },
    "id": "CxzxVgr-b37U"
   },
   "source": [
    "### Note a colspecs. A coluna inicial é 0 (e não 1, como indica a documentação).\n",
    "### A segunda informação é a posição inicial, adicionada do seu tamanho INT + DEC, quando houver."
   ]
  },
  {
   "cell_type": "markdown",
   "metadata": {
    "collapsed": false,
    "pycharm": {
     "name": "#%% md\n"
    },
    "id": "4zhliR3cb37U"
   },
   "source": [
    "---\n",
    "* v0220: Computador com internet\n",
    "* 1: Sim\n",
    "* 2: Não\n",
    "* Branco (domicílios coletivos, sem computador...) Veja documentação.\n",
    "---"
   ]
  },
  {
   "cell_type": "code",
   "metadata": {
    "pycharm": {
     "name": "#%%\n"
    },
    "id": "9f_76hhyb37U",
    "outputId": "513037ed-6264-4a30-cdd5-691cd999becc",
    "colab": {
     "base_uri": "https://localhost:8080/",
     "height": 204
    }
   },
   "source": [
    "# Nomes das colunas\n",
    "cols = ['uf', 'codmun', 'peso', 'v0220']\n",
    "\n",
    "# Converte pesos já na leitura\n",
    "def convert_to_decimals(x):\n",
    "    \"\"\" Auxiliary function for the text reading of weights on text files from IBGE\n",
    "    \"\"\"\n",
    "    return float(x[:3] + '.' + x[3:])\n",
    "\n",
    "# Aplica read_fwf\n",
    "p = pd.read_fwf('data/AC/Amostra_Domicilios_12.txt',\n",
    "                colspecs=[(0, 2), (2, 7), (28, 44), (100, 101)],\n",
    "                header=None,\n",
    "                names=cols,\n",
    "                converters={'uf': str, 'codmun': str, 'peso': convert_to_decimals, 'v0220': str})\n",
    "\n",
    "# Output\n",
    "p.head()"
   ],
   "execution_count": 99,
   "outputs": [
    {
     "output_type": "execute_result",
     "data": {
      "text/html": [
       "<div>\n",
       "<style scoped>\n",
       "    .dataframe tbody tr th:only-of-type {\n",
       "        vertical-align: middle;\n",
       "    }\n",
       "\n",
       "    .dataframe tbody tr th {\n",
       "        vertical-align: top;\n",
       "    }\n",
       "\n",
       "    .dataframe thead th {\n",
       "        text-align: right;\n",
       "    }\n",
       "</style>\n",
       "<table border=\"1\" class=\"dataframe\">\n",
       "  <thead>\n",
       "    <tr style=\"text-align: right;\">\n",
       "      <th></th>\n",
       "      <th>uf</th>\n",
       "      <th>codmun</th>\n",
       "      <th>peso</th>\n",
       "      <th>v0220</th>\n",
       "    </tr>\n",
       "  </thead>\n",
       "  <tbody>\n",
       "    <tr>\n",
       "      <th>0</th>\n",
       "      <td>12</td>\n",
       "      <td>00013</td>\n",
       "      <td>4.679949</td>\n",
       "      <td>NaN</td>\n",
       "    </tr>\n",
       "    <tr>\n",
       "      <th>1</th>\n",
       "      <td>12</td>\n",
       "      <td>00013</td>\n",
       "      <td>4.285558</td>\n",
       "      <td>NaN</td>\n",
       "    </tr>\n",
       "    <tr>\n",
       "      <th>2</th>\n",
       "      <td>12</td>\n",
       "      <td>00013</td>\n",
       "      <td>4.324012</td>\n",
       "      <td>1</td>\n",
       "    </tr>\n",
       "    <tr>\n",
       "      <th>3</th>\n",
       "      <td>12</td>\n",
       "      <td>00013</td>\n",
       "      <td>4.903580</td>\n",
       "      <td>NaN</td>\n",
       "    </tr>\n",
       "    <tr>\n",
       "      <th>4</th>\n",
       "      <td>12</td>\n",
       "      <td>00013</td>\n",
       "      <td>5.732516</td>\n",
       "      <td>NaN</td>\n",
       "    </tr>\n",
       "  </tbody>\n",
       "</table>\n",
       "</div>"
      ],
      "text/plain": [
       "   uf codmun      peso v0220\n",
       "0  12  00013  4.679949   NaN\n",
       "1  12  00013  4.285558   NaN\n",
       "2  12  00013  4.324012     1\n",
       "3  12  00013  4.903580   NaN\n",
       "4  12  00013  5.732516   NaN"
      ]
     },
     "metadata": {
      "tags": []
     },
     "execution_count": 99
    }
   ]
  },
  {
   "cell_type": "code",
   "metadata": {
    "pycharm": {
     "name": "#%%\n"
    },
    "id": "aotrT-6Ob37V",
    "outputId": "48927f9b-3a12-48a9-dfb7-f3092158fcfb",
    "colab": {
     "base_uri": "https://localhost:8080/"
    }
   },
   "source": [
    "def check():\n",
    "    try:\n",
    "        assert sum(p['uf'] != '12') == 0\n",
    "        assert all(p['uf'] == '12')\n",
    "        print('All is good!')\n",
    "    except AssertionError:\n",
    "        print('Go back and check')\n",
    "\n",
    "check()"
   ],
   "execution_count": 100,
   "outputs": [
    {
     "output_type": "stream",
     "text": [
      "All is good!\n"
     ],
     "name": "stdout"
    }
   ]
  },
  {
   "cell_type": "code",
   "metadata": {
    "pycharm": {
     "name": "#%%\n"
    },
    "id": "iD87U6mkb37V",
    "outputId": "0750ff98-10c2-4bdb-a35c-6ebae5bb3a1f",
    "colab": {
     "base_uri": "https://localhost:8080/",
     "height": 142
    }
   },
   "source": [
    "# Percentual de domicílios com computador e acesso a internet Acre 2010\n",
    "p.groupby('v0220').agg({'peso': 'sum'})/p.peso.sum()"
   ],
   "execution_count": 101,
   "outputs": [
    {
     "output_type": "execute_result",
     "data": {
      "text/html": [
       "<div>\n",
       "<style scoped>\n",
       "    .dataframe tbody tr th:only-of-type {\n",
       "        vertical-align: middle;\n",
       "    }\n",
       "\n",
       "    .dataframe tbody tr th {\n",
       "        vertical-align: top;\n",
       "    }\n",
       "\n",
       "    .dataframe thead th {\n",
       "        text-align: right;\n",
       "    }\n",
       "</style>\n",
       "<table border=\"1\" class=\"dataframe\">\n",
       "  <thead>\n",
       "    <tr style=\"text-align: right;\">\n",
       "      <th></th>\n",
       "      <th>peso</th>\n",
       "    </tr>\n",
       "    <tr>\n",
       "      <th>v0220</th>\n",
       "      <th></th>\n",
       "    </tr>\n",
       "  </thead>\n",
       "  <tbody>\n",
       "    <tr>\n",
       "      <th>1</th>\n",
       "      <td>0.189195</td>\n",
       "    </tr>\n",
       "    <tr>\n",
       "      <th>2</th>\n",
       "      <td>0.052181</td>\n",
       "    </tr>\n",
       "  </tbody>\n",
       "</table>\n",
       "</div>"
      ],
      "text/plain": [
       "           peso\n",
       "v0220          \n",
       "1      0.189195\n",
       "2      0.052181"
      ]
     },
     "metadata": {
      "tags": []
     },
     "execution_count": 101
    }
   ]
  },
  {
   "cell_type": "markdown",
   "metadata": {
    "collapsed": false,
    "pycharm": {
     "name": "#%% md\n"
    },
    "id": "CyzyY0Lmb37V"
   },
   "source": [
    "---\n",
    "# Aperitivo II\n",
    "source: https://open.fda.gov/apis/\n",
    "\n",
    "### API is an acronym for Application Programming Interface. <br>\n",
    "\n",
    "### An **API call** is any request sent to the API.\n",
    "\n",
    "### Requests are typically sent to the API in one of two ways:\n",
    "\n",
    "1. Manually using a web browser\n",
    "(such as navigating to the URL https://api.fda.gov/drug/label.json) or\n",
    "\n",
    "2. **Programmatically** sending the request via executing code that **sends the API call** and processes the response. Continue reading this documentation for more details on how to compose an API call for openFDA specifically.\n",
    "\n",
    "### The API **returns individual results as JSON** by default.\n",
    "\n",
    "### The JSON object has two sections:\n",
    "\n",
    "   1. `meta`: Metadata about the query, including a disclaimer, link to data license, last-updated date, and total matching records, if applicable.\n",
    "\n",
    "   2. `results`: An **array** of matching results, dependent on which endpoint was **queried**."
   ]
  },
  {
   "cell_type": "markdown",
   "metadata": {
    "collapsed": false,
    "pycharm": {
     "name": "#%% md\n"
    },
    "id": "NLWpHimBb37V"
   },
   "source": [
    "---\n",
    "# Apresentação alunos. Expectativas. Projetos. Interesses.\n"
   ]
  },
  {
   "cell_type": "markdown",
   "metadata": {
    "collapsed": false,
    "pycharm": {
     "name": "#%% md\n"
    },
    "id": "8K6NFLUrb37V"
   },
   "source": [
    "---\n",
    "# $$+$$: Exercícios com pandas. Revisão."
   ]
  },
  {
   "cell_type": "markdown",
   "metadata": {
    "collapsed": false,
    "pycharm": {
     "name": "#%% md\n"
    },
    "id": "LrmbsvkJb37W"
   },
   "source": [
    "### Dados do Titanic. Análise livre\n",
    "\n",
    "1. Pergunta: Passageiros de classes inferiores apresentam taxa de sobrevivência menor?\n",
    "\n",
    "source: https://www.kaggle.com/c/titanic/data\n",
    "\n",
    "Observação: serve como introdução ao Kaggle, para os interessados."
   ]
  },
  {
   "cell_type": "markdown",
   "metadata": {
    "collapsed": false,
    "pycharm": {
     "name": "#%% md\n"
    },
    "id": "rpF0bErDb37W"
   },
   "source": [
    "### Dicionário"
   ]
  },
  {
   "cell_type": "code",
   "metadata": {
    "pycharm": {
     "name": "#%%\n"
    },
    "id": "hGJkrbHkb37W",
    "outputId": "9cf5c10d-c357-43f8-fc46-d1c01e08bc71",
    "colab": {
     "base_uri": "https://localhost:8080/",
     "height": 120
    }
   },
   "source": [
    "'''\n",
    "Data Dictionary\n",
    "Variable\tDefinition\tKey\n",
    "survival \tSurvival \t0 = No, 1 = Yes\n",
    "pclass \tTicket class \t1 = 1st, 2 = 2nd, 3 = 3rd\n",
    "sex \tSex\n",
    "Age \tAge in years\n",
    "sibsp \t# of siblings / spouses aboard the Titanic\n",
    "parch \t# of parents / children aboard the Titanic\n",
    "ticket \tTicket number\n",
    "fare \tPassenger fare\n",
    "cabin \tCabin number\n",
    "embarked \tPort of Embarkation \tC = Cherbourg, Q = Queenstown, S = Southampton\n",
    "Variable Notes\n",
    "\n",
    "pclass: A proxy for socio-economic status (SES)\n",
    "1st = Upper\n",
    "2nd = Middle\n",
    "3rd = Lower\n",
    "\n",
    "age: Age is fractional if less than 1. If the age is estimated, is it in the form of xx.5\n",
    "\n",
    "sibsp: The dataset defines family relations in this way...\n",
    "Sibling = brother, sister, stepbrother, stepsister\n",
    "Spouse = husband, wife (mistresses and fiancés were ignored)\n",
    "\n",
    "parch: The dataset defines family relations in this way...\n",
    "Parent = mother, father\n",
    "Child = daughter, son, stepdaughter, stepson\n",
    "Some children travelled only with a nanny, therefore parch=0 for them.\n",
    "'''"
   ],
   "execution_count": 102,
   "outputs": [
    {
     "output_type": "execute_result",
     "data": {
      "application/vnd.google.colaboratory.intrinsic+json": {
       "type": "string"
      },
      "text/plain": [
       "'\\nData Dictionary\\nVariable\\tDefinition\\tKey\\nsurvival \\tSurvival \\t0 = No, 1 = Yes\\npclass \\tTicket class \\t1 = 1st, 2 = 2nd, 3 = 3rd\\nsex \\tSex\\nAge \\tAge in years\\nsibsp \\t# of siblings / spouses aboard the Titanic\\nparch \\t# of parents / children aboard the Titanic\\nticket \\tTicket number\\nfare \\tPassenger fare\\ncabin \\tCabin number\\nembarked \\tPort of Embarkation \\tC = Cherbourg, Q = Queenstown, S = Southampton\\nVariable Notes\\n\\npclass: A proxy for socio-economic status (SES)\\n1st = Upper\\n2nd = Middle\\n3rd = Lower\\n\\nage: Age is fractional if less than 1. If the age is estimated, is it in the form of xx.5\\n\\nsibsp: The dataset defines family relations in this way...\\nSibling = brother, sister, stepbrother, stepsister\\nSpouse = husband, wife (mistresses and fiancés were ignored)\\n\\nparch: The dataset defines family relations in this way...\\nParent = mother, father\\nChild = daughter, son, stepdaughter, stepson\\nSome children travelled only with a nanny, therefore parch=0 for them.\\n'"
      ]
     },
     "metadata": {
      "tags": []
     },
     "execution_count": 102
    }
   ]
  },
  {
   "cell_type": "code",
   "metadata": {
    "pycharm": {
     "name": "#%%\n"
    },
    "id": "M4v1DcFQb37W",
    "outputId": "0eaa8fb5-9d59-4500-e8e7-61287fd212c4",
    "colab": {
     "base_uri": "https://localhost:8080/",
     "height": 204
    }
   },
   "source": [
    "import pandas as pd\n",
    "df = pd.read_csv('https://raw.githubusercontent.com/datasciencedojo/datasets/master/titanic.csv')\n",
    "# df = pd.read_csv(\"https://github.com/BAFurtado/MBA_IDP_CapturaTratamento/blob/main/data/titanic_test.csv?raw=True\")\n",
    "df.head()\n",
    "\n",
    "# source: https://minerandodados.com.br/analise-de-dados-com-python-usando-pandas/"
   ],
   "execution_count": 3,
   "outputs": [
    {
     "data": {
      "text/plain": "   PassengerId  Survived  Pclass  \\\n0            1         0       3   \n1            2         1       1   \n2            3         1       3   \n3            4         1       1   \n4            5         0       3   \n\n                                                Name     Sex   Age  SibSp  \\\n0                            Braund, Mr. Owen Harris    male  22.0      1   \n1  Cumings, Mrs. John Bradley (Florence Briggs Th...  female  38.0      1   \n2                             Heikkinen, Miss. Laina  female  26.0      0   \n3       Futrelle, Mrs. Jacques Heath (Lily May Peel)  female  35.0      1   \n4                           Allen, Mr. William Henry    male  35.0      0   \n\n   Parch            Ticket     Fare Cabin Embarked  \n0      0         A/5 21171   7.2500   NaN        S  \n1      0          PC 17599  71.2833   C85        C  \n2      0  STON/O2. 3101282   7.9250   NaN        S  \n3      0            113803  53.1000  C123        S  \n4      0            373450   8.0500   NaN        S  ",
      "text/html": "<div>\n<style scoped>\n    .dataframe tbody tr th:only-of-type {\n        vertical-align: middle;\n    }\n\n    .dataframe tbody tr th {\n        vertical-align: top;\n    }\n\n    .dataframe thead th {\n        text-align: right;\n    }\n</style>\n<table border=\"1\" class=\"dataframe\">\n  <thead>\n    <tr style=\"text-align: right;\">\n      <th></th>\n      <th>PassengerId</th>\n      <th>Survived</th>\n      <th>Pclass</th>\n      <th>Name</th>\n      <th>Sex</th>\n      <th>Age</th>\n      <th>SibSp</th>\n      <th>Parch</th>\n      <th>Ticket</th>\n      <th>Fare</th>\n      <th>Cabin</th>\n      <th>Embarked</th>\n    </tr>\n  </thead>\n  <tbody>\n    <tr>\n      <th>0</th>\n      <td>1</td>\n      <td>0</td>\n      <td>3</td>\n      <td>Braund, Mr. Owen Harris</td>\n      <td>male</td>\n      <td>22.0</td>\n      <td>1</td>\n      <td>0</td>\n      <td>A/5 21171</td>\n      <td>7.2500</td>\n      <td>NaN</td>\n      <td>S</td>\n    </tr>\n    <tr>\n      <th>1</th>\n      <td>2</td>\n      <td>1</td>\n      <td>1</td>\n      <td>Cumings, Mrs. John Bradley (Florence Briggs Th...</td>\n      <td>female</td>\n      <td>38.0</td>\n      <td>1</td>\n      <td>0</td>\n      <td>PC 17599</td>\n      <td>71.2833</td>\n      <td>C85</td>\n      <td>C</td>\n    </tr>\n    <tr>\n      <th>2</th>\n      <td>3</td>\n      <td>1</td>\n      <td>3</td>\n      <td>Heikkinen, Miss. Laina</td>\n      <td>female</td>\n      <td>26.0</td>\n      <td>0</td>\n      <td>0</td>\n      <td>STON/O2. 3101282</td>\n      <td>7.9250</td>\n      <td>NaN</td>\n      <td>S</td>\n    </tr>\n    <tr>\n      <th>3</th>\n      <td>4</td>\n      <td>1</td>\n      <td>1</td>\n      <td>Futrelle, Mrs. Jacques Heath (Lily May Peel)</td>\n      <td>female</td>\n      <td>35.0</td>\n      <td>1</td>\n      <td>0</td>\n      <td>113803</td>\n      <td>53.1000</td>\n      <td>C123</td>\n      <td>S</td>\n    </tr>\n    <tr>\n      <th>4</th>\n      <td>5</td>\n      <td>0</td>\n      <td>3</td>\n      <td>Allen, Mr. William Henry</td>\n      <td>male</td>\n      <td>35.0</td>\n      <td>0</td>\n      <td>0</td>\n      <td>373450</td>\n      <td>8.0500</td>\n      <td>NaN</td>\n      <td>S</td>\n    </tr>\n  </tbody>\n</table>\n</div>"
     },
     "execution_count": 3,
     "metadata": {},
     "output_type": "execute_result"
    }
   ]
  },
  {
   "cell_type": "markdown",
   "metadata": {
    "collapsed": false,
    "pycharm": {
     "name": "#%% md\n"
    },
    "id": "_XBwcRNrb37W"
   },
   "source": [
    "## Aperitivo. Missing dados\n"
   ]
  },
  {
   "cell_type": "code",
   "metadata": {
    "pycharm": {
     "name": "#%%\n"
    },
    "id": "3znGLz_4b37W",
    "outputId": "d40a9ed5-a48f-43ca-a2e5-39187bedbc9a",
    "colab": {
     "base_uri": "https://localhost:8080/"
    }
   },
   "source": [
    "df.isnull().sum()"
   ],
   "execution_count": 104,
   "outputs": [
    {
     "output_type": "execute_result",
     "data": {
      "text/plain": [
       "PassengerId      0\n",
       "Survived         0\n",
       "Pclass           0\n",
       "Name             0\n",
       "Sex              0\n",
       "Age            177\n",
       "SibSp            0\n",
       "Parch            0\n",
       "Ticket           0\n",
       "Fare             0\n",
       "Cabin          687\n",
       "Embarked         2\n",
       "dtype: int64"
      ]
     },
     "metadata": {
      "tags": []
     },
     "execution_count": 104
    }
   ]
  },
  {
   "cell_type": "code",
   "metadata": {
    "pycharm": {
     "name": "#%%\n"
    },
    "id": "lRaRgdpfb37W",
    "outputId": "4e355f01-bfea-420e-dfa1-3f314452bcbe",
    "colab": {
     "base_uri": "https://localhost:8080/"
    }
   },
   "source": [
    "df.info()"
   ],
   "execution_count": 105,
   "outputs": [
    {
     "output_type": "stream",
     "text": [
      "<class 'pandas.core.frame.DataFrame'>\n",
      "RangeIndex: 891 entries, 0 to 890\n",
      "Data columns (total 12 columns):\n",
      " #   Column       Non-Null Count  Dtype  \n",
      "---  ------       --------------  -----  \n",
      " 0   PassengerId  891 non-null    int64  \n",
      " 1   Survived     891 non-null    int64  \n",
      " 2   Pclass       891 non-null    int64  \n",
      " 3   Name         891 non-null    object \n",
      " 4   Sex          891 non-null    object \n",
      " 5   Age          714 non-null    float64\n",
      " 6   SibSp        891 non-null    int64  \n",
      " 7   Parch        891 non-null    int64  \n",
      " 8   Ticket       891 non-null    object \n",
      " 9   Fare         891 non-null    float64\n",
      " 10  Cabin        204 non-null    object \n",
      " 11  Embarked     889 non-null    object \n",
      "dtypes: float64(2), int64(5), object(5)\n",
      "memory usage: 83.7+ KB\n"
     ],
     "name": "stdout"
    }
   ]
  },
  {
   "cell_type": "code",
   "metadata": {
    "pycharm": {
     "name": "#%%\n"
    },
    "id": "mpVqMonNb37W",
    "outputId": "faaef128-a515-40ea-97b1-77ecd4a99402",
    "colab": {
     "base_uri": "https://localhost:8080/"
    }
   },
   "source": [
    "df.Embarked.head()"
   ],
   "execution_count": 106,
   "outputs": [
    {
     "output_type": "execute_result",
     "data": {
      "text/plain": [
       "0    S\n",
       "1    C\n",
       "2    S\n",
       "3    S\n",
       "4    S\n",
       "Name: Embarked, dtype: object"
      ]
     },
     "metadata": {
      "tags": []
     },
     "execution_count": 106
    }
   ]
  },
  {
   "cell_type": "code",
   "metadata": {
    "pycharm": {
     "name": "#%%\n"
    },
    "id": "Lwe4rrSIb37X",
    "outputId": "b36031a7-2c69-42d4-9d25-aa4ff87ee840",
    "colab": {
     "base_uri": "https://localhost:8080/"
    }
   },
   "source": [
    "df.Cabin.value_counts()"
   ],
   "execution_count": 107,
   "outputs": [
    {
     "output_type": "execute_result",
     "data": {
      "text/plain": [
       "B96 B98        4\n",
       "C23 C25 C27    4\n",
       "G6             4\n",
       "F2             3\n",
       "F33            3\n",
       "              ..\n",
       "B82 B84        1\n",
       "B69            1\n",
       "A14            1\n",
       "D21            1\n",
       "B50            1\n",
       "Name: Cabin, Length: 147, dtype: int64"
      ]
     },
     "metadata": {
      "tags": []
     },
     "execution_count": 107
    }
   ]
  },
  {
   "cell_type": "code",
   "metadata": {
    "pycharm": {
     "name": "#%%\n"
    },
    "id": "08Z9YnT_b37X",
    "outputId": "94fd4434-501c-403c-a86e-bab069d9439a",
    "colab": {
     "base_uri": "https://localhost:8080/"
    }
   },
   "source": [
    "df.Age.mode()"
   ],
   "execution_count": 108,
   "outputs": [
    {
     "output_type": "execute_result",
     "data": {
      "text/plain": [
       "0    24.0\n",
       "dtype: float64"
      ]
     },
     "metadata": {
      "tags": []
     },
     "execution_count": 108
    }
   ]
  },
  {
   "cell_type": "code",
   "metadata": {
    "pycharm": {
     "name": "#%%\n"
    },
    "id": "HXw7cldyb37X",
    "outputId": "ff86db4e-cba5-4f87-a2c8-0c1235baadea",
    "colab": {
     "base_uri": "https://localhost:8080/"
    }
   },
   "source": [
    "df.Fare.mean()"
   ],
   "execution_count": 109,
   "outputs": [
    {
     "output_type": "execute_result",
     "data": {
      "text/plain": [
       "32.2042079685746"
      ]
     },
     "metadata": {
      "tags": []
     },
     "execution_count": 109
    }
   ]
  },
  {
   "cell_type": "code",
   "metadata": {
    "pycharm": {
     "name": "#%%\n"
    },
    "id": "oIub5DDJb37X",
    "outputId": "e4786782-b60c-4017-a16c-f50eef40f47e",
    "colab": {
     "base_uri": "https://localhost:8080/"
    }
   },
   "source": [
    "values = {'Age': df.Age.mode()[0],\n",
    "          'Cabin': 'SC',\n",
    "          'Fare': df.Fare.mean()}\n",
    "\n",
    "df.fillna(value=values, inplace=True)\n",
    "df.info()"
   ],
   "execution_count": 4,
   "outputs": [
    {
     "name": "stdout",
     "output_type": "stream",
     "text": [
      "<class 'pandas.core.frame.DataFrame'>\n",
      "RangeIndex: 891 entries, 0 to 890\n",
      "Data columns (total 12 columns):\n",
      " #   Column       Non-Null Count  Dtype  \n",
      "---  ------       --------------  -----  \n",
      " 0   PassengerId  891 non-null    int64  \n",
      " 1   Survived     891 non-null    int64  \n",
      " 2   Pclass       891 non-null    int64  \n",
      " 3   Name         891 non-null    object \n",
      " 4   Sex          891 non-null    object \n",
      " 5   Age          891 non-null    float64\n",
      " 6   SibSp        891 non-null    int64  \n",
      " 7   Parch        891 non-null    int64  \n",
      " 8   Ticket       891 non-null    object \n",
      " 9   Fare         891 non-null    float64\n",
      " 10  Cabin        891 non-null    object \n",
      " 11  Embarked     889 non-null    object \n",
      "dtypes: float64(2), int64(5), object(5)\n",
      "memory usage: 83.7+ KB\n"
     ]
    }
   ]
  },
  {
   "cell_type": "code",
   "metadata": {
    "pycharm": {
     "name": "#%%\n"
    },
    "id": "uy6H_4l7b37X",
    "outputId": "8968693a-5b60-4b51-ff2a-1519a0fe0184",
    "colab": {
     "base_uri": "https://localhost:8080/",
     "height": 204
    }
   },
   "source": [
    "# Replace: male, female\n",
    "sex = {'male': 0, 'female': 1}\n",
    "df['sex_dummy'] = df.Sex.replace(sex)\n",
    "df.head()"
   ],
   "execution_count": 5,
   "outputs": [
    {
     "data": {
      "text/plain": "   PassengerId  Survived  Pclass  \\\n0            1         0       3   \n1            2         1       1   \n2            3         1       3   \n3            4         1       1   \n4            5         0       3   \n\n                                                Name     Sex   Age  SibSp  \\\n0                            Braund, Mr. Owen Harris    male  22.0      1   \n1  Cumings, Mrs. John Bradley (Florence Briggs Th...  female  38.0      1   \n2                             Heikkinen, Miss. Laina  female  26.0      0   \n3       Futrelle, Mrs. Jacques Heath (Lily May Peel)  female  35.0      1   \n4                           Allen, Mr. William Henry    male  35.0      0   \n\n   Parch            Ticket     Fare Cabin Embarked  sex_dummy  \n0      0         A/5 21171   7.2500    SC        S          0  \n1      0          PC 17599  71.2833   C85        C          1  \n2      0  STON/O2. 3101282   7.9250    SC        S          1  \n3      0            113803  53.1000  C123        S          1  \n4      0            373450   8.0500    SC        S          0  ",
      "text/html": "<div>\n<style scoped>\n    .dataframe tbody tr th:only-of-type {\n        vertical-align: middle;\n    }\n\n    .dataframe tbody tr th {\n        vertical-align: top;\n    }\n\n    .dataframe thead th {\n        text-align: right;\n    }\n</style>\n<table border=\"1\" class=\"dataframe\">\n  <thead>\n    <tr style=\"text-align: right;\">\n      <th></th>\n      <th>PassengerId</th>\n      <th>Survived</th>\n      <th>Pclass</th>\n      <th>Name</th>\n      <th>Sex</th>\n      <th>Age</th>\n      <th>SibSp</th>\n      <th>Parch</th>\n      <th>Ticket</th>\n      <th>Fare</th>\n      <th>Cabin</th>\n      <th>Embarked</th>\n      <th>sex_dummy</th>\n    </tr>\n  </thead>\n  <tbody>\n    <tr>\n      <th>0</th>\n      <td>1</td>\n      <td>0</td>\n      <td>3</td>\n      <td>Braund, Mr. Owen Harris</td>\n      <td>male</td>\n      <td>22.0</td>\n      <td>1</td>\n      <td>0</td>\n      <td>A/5 21171</td>\n      <td>7.2500</td>\n      <td>SC</td>\n      <td>S</td>\n      <td>0</td>\n    </tr>\n    <tr>\n      <th>1</th>\n      <td>2</td>\n      <td>1</td>\n      <td>1</td>\n      <td>Cumings, Mrs. John Bradley (Florence Briggs Th...</td>\n      <td>female</td>\n      <td>38.0</td>\n      <td>1</td>\n      <td>0</td>\n      <td>PC 17599</td>\n      <td>71.2833</td>\n      <td>C85</td>\n      <td>C</td>\n      <td>1</td>\n    </tr>\n    <tr>\n      <th>2</th>\n      <td>3</td>\n      <td>1</td>\n      <td>3</td>\n      <td>Heikkinen, Miss. Laina</td>\n      <td>female</td>\n      <td>26.0</td>\n      <td>0</td>\n      <td>0</td>\n      <td>STON/O2. 3101282</td>\n      <td>7.9250</td>\n      <td>SC</td>\n      <td>S</td>\n      <td>1</td>\n    </tr>\n    <tr>\n      <th>3</th>\n      <td>4</td>\n      <td>1</td>\n      <td>1</td>\n      <td>Futrelle, Mrs. Jacques Heath (Lily May Peel)</td>\n      <td>female</td>\n      <td>35.0</td>\n      <td>1</td>\n      <td>0</td>\n      <td>113803</td>\n      <td>53.1000</td>\n      <td>C123</td>\n      <td>S</td>\n      <td>1</td>\n    </tr>\n    <tr>\n      <th>4</th>\n      <td>5</td>\n      <td>0</td>\n      <td>3</td>\n      <td>Allen, Mr. William Henry</td>\n      <td>male</td>\n      <td>35.0</td>\n      <td>0</td>\n      <td>0</td>\n      <td>373450</td>\n      <td>8.0500</td>\n      <td>SC</td>\n      <td>S</td>\n      <td>0</td>\n    </tr>\n  </tbody>\n</table>\n</div>"
     },
     "execution_count": 5,
     "metadata": {},
     "output_type": "execute_result"
    }
   ]
  },
  {
   "cell_type": "code",
   "metadata": {
    "pycharm": {
     "name": "#%%\n"
    },
    "id": "F9TA6fP8b37X",
    "outputId": "1757476e-a30b-4615-de45-33c0e71875ee",
    "colab": {
     "base_uri": "https://localhost:8080/"
    }
   },
   "source": [
    "df.info()"
   ],
   "execution_count": 112,
   "outputs": [
    {
     "output_type": "stream",
     "text": [
      "<class 'pandas.core.frame.DataFrame'>\n",
      "RangeIndex: 891 entries, 0 to 890\n",
      "Data columns (total 13 columns):\n",
      " #   Column       Non-Null Count  Dtype  \n",
      "---  ------       --------------  -----  \n",
      " 0   PassengerId  891 non-null    int64  \n",
      " 1   Survived     891 non-null    int64  \n",
      " 2   Pclass       891 non-null    int64  \n",
      " 3   Name         891 non-null    object \n",
      " 4   Sex          891 non-null    object \n",
      " 5   Age          891 non-null    float64\n",
      " 6   SibSp        891 non-null    int64  \n",
      " 7   Parch        891 non-null    int64  \n",
      " 8   Ticket       891 non-null    object \n",
      " 9   Fare         891 non-null    float64\n",
      " 10  Cabin        891 non-null    object \n",
      " 11  Embarked     889 non-null    object \n",
      " 12  sex_dummy    891 non-null    int64  \n",
      "dtypes: float64(2), int64(6), object(5)\n",
      "memory usage: 90.6+ KB\n"
     ],
     "name": "stdout"
    }
   ]
  },
  {
   "cell_type": "code",
   "metadata": {
    "pycharm": {
     "name": "#%%\n"
    },
    "id": "0yFaIGOIb37X",
    "outputId": "7a4f0de3-ae1d-4f3e-9bac-2d42339ef6fc",
    "colab": {
     "base_uri": "https://localhost:8080/",
     "height": 204
    }
   },
   "source": [
    "cols = [1, 2, 5, 9, 12]\n",
    "df_simples = df.iloc[:, cols]\n",
    "df_simples.head()"
   ],
   "execution_count": 19,
   "outputs": [
    {
     "data": {
      "text/plain": "   Survived  Pclass   Age     Fare  sex_dummy\n0         0       3  22.0   7.2500          0\n1         1       1  38.0  71.2833          1\n2         1       3  26.0   7.9250          1\n3         1       1  35.0  53.1000          1\n4         0       3  35.0   8.0500          0",
      "text/html": "<div>\n<style scoped>\n    .dataframe tbody tr th:only-of-type {\n        vertical-align: middle;\n    }\n\n    .dataframe tbody tr th {\n        vertical-align: top;\n    }\n\n    .dataframe thead th {\n        text-align: right;\n    }\n</style>\n<table border=\"1\" class=\"dataframe\">\n  <thead>\n    <tr style=\"text-align: right;\">\n      <th></th>\n      <th>Survived</th>\n      <th>Pclass</th>\n      <th>Age</th>\n      <th>Fare</th>\n      <th>sex_dummy</th>\n    </tr>\n  </thead>\n  <tbody>\n    <tr>\n      <th>0</th>\n      <td>0</td>\n      <td>3</td>\n      <td>22.0</td>\n      <td>7.2500</td>\n      <td>0</td>\n    </tr>\n    <tr>\n      <th>1</th>\n      <td>1</td>\n      <td>1</td>\n      <td>38.0</td>\n      <td>71.2833</td>\n      <td>1</td>\n    </tr>\n    <tr>\n      <th>2</th>\n      <td>1</td>\n      <td>3</td>\n      <td>26.0</td>\n      <td>7.9250</td>\n      <td>1</td>\n    </tr>\n    <tr>\n      <th>3</th>\n      <td>1</td>\n      <td>1</td>\n      <td>35.0</td>\n      <td>53.1000</td>\n      <td>1</td>\n    </tr>\n    <tr>\n      <th>4</th>\n      <td>0</td>\n      <td>3</td>\n      <td>35.0</td>\n      <td>8.0500</td>\n      <td>0</td>\n    </tr>\n  </tbody>\n</table>\n</div>"
     },
     "execution_count": 19,
     "metadata": {},
     "output_type": "execute_result"
    }
   ]
  },
  {
   "cell_type": "code",
   "metadata": {
    "pycharm": {
     "name": "#%%\n"
    },
    "id": "jE8U0GK_b37Y"
   },
   "source": [
    "corr = df_simples.corr()"
   ],
   "execution_count": 20,
   "outputs": []
  },
  {
   "cell_type": "code",
   "metadata": {
    "pycharm": {
     "name": "#%%\n"
    },
    "id": "Z8Um5Ki9b37Y",
    "outputId": "2a644c26-ef8d-4b48-d000-5ffabcc023f6",
    "colab": {
     "base_uri": "https://localhost:8080/",
     "height": 298
    }
   },
   "source": [
    "import seaborn as sns\n",
    "import matplotlib.pyplot as plt\n",
    "%matplotlib inline\n",
    "\n",
    "# plot the heatmap\n",
    "sns.heatmap(corr.iloc[:],\n",
    "            xticklabels=corr.columns,\n",
    "            yticklabels=corr.columns,\n",
    "            annot=True,\n",
    "            cmap='viridis')"
   ],
   "execution_count": 22,
   "outputs": [
    {
     "data": {
      "text/plain": "<AxesSubplot:>"
     },
     "execution_count": 22,
     "metadata": {},
     "output_type": "execute_result"
    },
    {
     "data": {
      "text/plain": "<Figure size 432x288 with 2 Axes>",
      "image/png": "[encoded data removed]"
     },
     "metadata": {
      "needs_background": "light"
     },
     "output_type": "display_data"
    }
   ]
  },
  {
   "cell_type": "markdown",
   "source": [
    "# Simple regression and output"
   ],
   "metadata": {
    "collapsed": false,
    "pycharm": {
     "name": "#%% md\n"
    }
   }
  },
  {
   "cell_type": "code",
   "execution_count": 26,
   "outputs": [
    {
     "name": "stderr",
     "output_type": "stream",
     "text": [
      "/home/furtado/.conda/envs/py39web/lib/python3.9/site-packages/seaborn/distributions.py:2557: FutureWarning: `distplot` is a deprecated function and will be removed in a future version. Please adapt your code to use either `displot` (a figure-level function with similar flexibility) or `histplot` (an axes-level function for histograms).\n",
      "  warnings.warn(msg, FutureWarning)\n"
     ]
    },
    {
     "data": {
      "text/plain": "<Figure size 432x288 with 1 Axes>",
      "image/png": "[encoded data removed]"
     },
     "metadata": {
      "needs_background": "light"
     },
     "output_type": "display_data"
    },
    {
     "name": "stdout",
     "output_type": "stream",
     "text": [
      "                            OLS Regression Results                            \n",
      "==============================================================================\n",
      "Dep. Variable:               Survived   R-squared:                       0.382\n",
      "Model:                            OLS   Adj. R-squared:                  0.380\n",
      "Method:                 Least Squares   F-statistic:                     183.1\n",
      "Date:                Tue, 03 Aug 2021   Prob (F-statistic):           2.25e-92\n",
      "Time:                        10:46:18   Log-Likelihood:                -407.28\n",
      "No. Observations:                 891   AIC:                             822.6\n",
      "Df Residuals:                     887   BIC:                             841.7\n",
      "Df Model:                           3                                         \n",
      "Covariance Type:            nonrobust                                         \n",
      "==============================================================================\n",
      "                 coef    std err          t      P>|t|      [0.025      0.975]\n",
      "------------------------------------------------------------------------------\n",
      "Intercept      0.7757      0.061     12.761      0.000       0.656       0.895\n",
      "Pclass        -0.1864      0.017    -11.177      0.000      -0.219      -0.154\n",
      "sex_dummy      0.5003      0.027     18.307      0.000       0.447       0.554\n",
      "Age           -0.0048      0.001     -4.595      0.000      -0.007      -0.003\n",
      "==============================================================================\n",
      "Omnibus:                       36.100   Durbin-Watson:                   1.918\n",
      "Prob(Omnibus):                  0.000   Jarque-Bera (JB):               39.591\n",
      "Skew:                           0.514   Prob(JB):                     2.53e-09\n",
      "Kurtosis:                       3.106   Cond. No.                         155.\n",
      "==============================================================================\n",
      "\n",
      "Notes:\n",
      "[1] Standard Errors assume that the covariance matrix of the errors is correctly specified.\n"
     ]
    }
   ],
   "source": [
    "import statsmodels.formula.api as smf\n",
    "\n",
    "def reg(y, data, colunas=''):\n",
    "    \"\"\" Função que roda as regressões\n",
    "        Entre com colunas e com base de dados \"\"\"\n",
    "    resultado = smf.ols(f\"{y} ~  {colunas}\", data=data).fit()\n",
    "    sns.distplot(resultado.resid)\n",
    "    plt.show()\n",
    "    return resultado\n",
    "\n",
    "res = reg('Survived', df_simples, 'Pclass + sex_dummy + Age')\n",
    "print(res.summary())"
   ],
   "metadata": {
    "collapsed": false,
    "pycharm": {
     "name": "#%%\n"
    }
   }
  },
  {
   "cell_type": "markdown",
   "source": [
    "---\n",
    "## Nice output: com cara de paper\n",
    "\n",
    "Outros resultados com boa apresentação, from Quantative Economics:\n",
    "\n",
    "https://python.quantecon.org/ols.html\n"
   ],
   "metadata": {
    "collapsed": false,
    "pycharm": {
     "name": "#%% md\n"
    }
   }
  },
  {
   "cell_type": "code",
   "execution_count": 32,
   "outputs": [
    {
     "name": "stdout",
     "output_type": "stream",
     "text": [
      "     Table - OLS Regressions\n",
      "==================================\n",
      "                 Model 1     m2   \n",
      "----------------------------------\n",
      "Intercept        0.78***  0.78*** \n",
      "                 (0.06)   (0.06)  \n",
      "Pclass           -0.19*** -0.19***\n",
      "                 (0.02)   (0.02)  \n",
      "sex_dummy        0.50***  0.50*** \n",
      "                 (0.03)   (0.03)  \n",
      "Age              -0.00*** -0.00***\n",
      "                 (0.00)   (0.00)  \n",
      "R-squared        0.38     0.38    \n",
      "R-squared Adj.   0.38     0.38    \n",
      "Log-likelihood   -407.28  -407.28 \n",
      "R-squared Adj    0.38     0.38    \n",
      "AIC              822.56   822.56  \n",
      "BIC              841.73   841.73  \n",
      "No. observations 891      891     \n",
      "==================================\n",
      "Standard errors in parentheses.\n",
      "* p<.1, ** p<.05, ***p<.01\n"
     ]
    }
   ],
   "source": [
    "from statsmodels.iolib.summary2 import summary_col\n",
    "\n",
    "def print_reg3(m1):\n",
    "    info_dict={'Log-likelihood': lambda x: f\"{x.llf:.2f}\",\n",
    "               'R-squared Adj': lambda x: f\"{x.rsquared_adj:.2f}\",\n",
    "               'AIC': lambda x: f\"{x.aic:.2f}\",\n",
    "               'BIC': lambda x: f\"{x.bic:.2f}\",\n",
    "               'No. observations': lambda x: f\"{int(x.nobs):d}\"}\n",
    "\n",
    "    results_table = summary_col(results=[m1],\n",
    "                                float_format='%0.2f',\n",
    "                                stars=True,\n",
    "                                model_names=['Model 1'],\n",
    "                                info_dict=info_dict)\n",
    "\n",
    "    results_table.add_title('Table - OLS Regressions')\n",
    "    print(results_table)\n",
    "\n",
    "    with open('data/nice_output.txt', 'w') as f:\n",
    "        f.write(results_table.as_text())\n",
    "    # return results_table\n",
    "\n",
    "print_reg3(res)"
   ],
   "metadata": {
    "collapsed": false,
    "pycharm": {
     "name": "#%%\n"
    }
   }
  },
  {
   "cell_type": "markdown",
   "source": [
    "---\n",
    "# Exercício extra\n",
    "\n",
    "0. Simples. Duas modificações apenas.\n",
    "1. Modifique a função `print_reg3` para que imprima o resultado comparativo de três modelos.\n",
    "2. Por exemplo, só com **Pclass**, adicionando **Age** e adicionando **sex_dummy**"
   ],
   "metadata": {
    "collapsed": false,
    "pycharm": {
     "name": "#%% md\n"
    }
   }
  }
 ]
}