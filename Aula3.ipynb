{
 "nbformat": 4,
 "nbformat_minor": 0,
 "metadata": {
  "colab": {
   "name": "Aula3.ipynb",
   "provenance": [],
   "collapsed_sections": []
  },
  "kernelspec": {
   "name": "python3",
   "language": "python",
   "display_name": "Python 3 (ipykernel)"
  },
  "language_info": {
   "name": "python"
  }
 },
 "cells": [
  {
   "cell_type": "markdown",
   "source": [
    "# Técnicas Avançadas de **Captura e Tratamento** de Dados\n",
    "\n",
    "---\n",
    "## Prof. Bernardo Alves Furtado\n",
    "---\n",
    "### MBA em Big Data, Business Analytics e Gestão de Negócios. @**IDP**\n",
    "---\n",
    "3 a 21 agosto  -- 21 horas/aula"
   ],
   "metadata": {
    "collapsed": false
   }
  },
  {
   "cell_type": "markdown",
   "source": [
    "---\n",
    "1. Retomando aula anterior: list comprehension $$+$$ exercício JSON\n",
    "\n",
    "# Resolução exercício JSON, preparado pelo Lucas"
   ],
   "metadata": {
    "collapsed": false
   }
  },
  {
   "cell_type": "code",
   "execution_count": 6,
   "outputs": [],
   "source": [
    "ans = '''\n",
    "{\n",
    "    \"quiz\": {\n",
    "        \"sport\": {\n",
    "            \"q1\": {\n",
    "                \"question\": \"Qual é o nome correto do time na NBA?\",\n",
    "                \"options\": [\n",
    "                    \"New York Bulls\",\n",
    "                    \"Los Angeles Kings\",\n",
    "                    \"Golden State Warriros\",\n",
    "                    \"Huston Rocket\"\n",
    "                ],\n",
    "                \"answer\": \"Huston Rocket\"\n",
    "            }\n",
    "        },\n",
    "        \"maths\": {\n",
    "            \"q1\": {\n",
    "                \"question\": \"5 + 7 = ?\",\n",
    "                \"options\": [\n",
    "                    \"10\",\n",
    "                    \"11\",\n",
    "                    \"12\",\n",
    "                    \"13\"\n",
    "                ],\n",
    "                \"answer\": \"12\"\n",
    "            },\n",
    "            \"q2\": {\n",
    "                \"question\": \"12 - 8 = ?\",\n",
    "                \"options\": [\n",
    "                    \"1\",\n",
    "                    \"2\",\n",
    "                    \"3\",\n",
    "                    \"4\"\n",
    "                ],\n",
    "                \"answer\": \"4\"\n",
    "            }\n",
    "        }\n",
    "    }\n",
    "}\n",
    "'''\n",
    "\n",
    "marcus = '''\n",
    "{\n",
    "\"student\": \"Marcus\",\n",
    "    \"quiz\": {\n",
    "        \"sport\": {\n",
    "            \"q1\": {\n",
    "                \"answer\": \"Huston Rocket\"\n",
    "            }\n",
    "        },\n",
    "        \"maths\": {\n",
    "            \"q1\": {\n",
    "                \"answer\": \"12\"\n",
    "            },\n",
    "            \"q2\": {\n",
    "                \"answer\": \"4\"\n",
    "            }\n",
    "        }\n",
    "    }\n",
    "}\n",
    "'''\n",
    "\n",
    "petra = '''{\n",
    "\"student\": \"Petra\",\n",
    "    \"quiz\": {\n",
    "        \"sport\": {\n",
    "            \"q1\": {\n",
    "                \"answer\": \"Huston Rocket\"\n",
    "            }\n",
    "        },\n",
    "        \"maths\": {\n",
    "            \"q1\": {\n",
    "                \"answer\": \"12\"\n",
    "            },\n",
    "            \"q2\": {\n",
    "                \"answer\": \"3\"\n",
    "            }\n",
    "        }\n",
    "    }\n",
    "}\n",
    "'''\n",
    "\n",
    "joanna = '''\n",
    "{\n",
    "\"student\": \"Joanna\",\n",
    "    \"quiz\": {\n",
    "        \"sport\": {\n",
    "            \"q1\": {\n",
    "                \"answer\": \"Huston Rocket\"\n",
    "            }\n",
    "        },\n",
    "        \"maths\": {\n",
    "            \"q1\": {\n",
    "                \"answer\": \"10\"\n",
    "            },\n",
    "            \"q2\": {\n",
    "                \"answer\": \"1\"\n",
    "            }\n",
    "        }\n",
    "    }\n",
    "}\n",
    "'''"
   ],
   "metadata": {
    "collapsed": false,
    "pycharm": {
     "name": "#%%\n"
    }
   }
  },
  {
   "cell_type": "markdown",
   "source": [
    "1. Lendo a informação JSON (que se fosse da web, poderia ter sido recebida via requests ou API)."
   ],
   "metadata": {
    "collapsed": false,
    "pycharm": {
     "name": "#%% md\n"
    }
   }
  },
  {
   "cell_type": "code",
   "execution_count": 8,
   "outputs": [],
   "source": [
    "import json\n",
    "\n",
    "\n",
    "def calculate_results(answers, *alunos):\n",
    "    \"\"\" Recebe strings the respostas e número variável de alunos,\n",
    "        calcula e imprime notas.\n",
    "    \"\"\"\n",
    "    # Transforma o quiz em JSON\n",
    "    answers = json.loads(answers)\n",
    "    # Se a lista de alunos existe\n",
    "    if alunos:\n",
    "        # Para cada aluno\n",
    "        for aluno in alunos:\n",
    "            # Transforma a resposta em JSON\n",
    "            respostas = json.loads(aluno)\n",
    "            # Guarda o retorno como bool (True or False)\n",
    "            r1 = answers['quiz']['sport']['q1']['answer'] == respostas['quiz']['sport']['q1']['answer']\n",
    "            r2 = answers['quiz']['maths']['q1']['answer'] == respostas['quiz']['maths']['q1']['answer']\n",
    "            r3 = answers['quiz']['maths']['q2']['answer'] == respostas['quiz']['maths']['q2']['answer']\n",
    "            # Some as resultados, já que True é 1 e False é 0.\n",
    "            print(f\"{respostas['student']} obteve {r1 + r2 + r3} no quiz\")"
   ],
   "metadata": {
    "collapsed": false,
    "pycharm": {
     "name": "#%%\n"
    }
   }
  },
  {
   "cell_type": "code",
   "execution_count": 9,
   "outputs": [
    {
     "name": "stdout",
     "output_type": "stream",
     "text": [
      "Petra obteve 2 no quiz\n",
      "Joanna obteve 1 no quiz\n",
      "Marcus obteve 3 no quiz\n"
     ]
    }
   ],
   "source": [
    "calculate_results(ans, petra, joanna, marcus)"
   ],
   "metadata": {
    "collapsed": false,
    "pycharm": {
     "name": "#%%\n"
    }
   }
  },
  {
   "cell_type": "code",
   "execution_count": 11,
   "outputs": [
    {
     "name": "stdout",
     "output_type": "stream",
     "text": [
      "Petra obteve 2 no quiz\n",
      "Joanna obteve 1 no quiz\n"
     ]
    }
   ],
   "source": [
    "calculate_results(ans, petra, joanna)"
   ],
   "metadata": {
    "collapsed": false,
    "pycharm": {
     "name": "#%%\n"
    }
   }
  },
  {
   "cell_type": "markdown",
   "source": [
    "2. List comprehension. Jeito simples de implementar LOOPs no python"
   ],
   "metadata": {
    "collapsed": false
   }
  },
  {
   "cell_type": "code",
   "execution_count": 12,
   "outputs": [
    {
     "name": "stdout",
     "output_type": "stream",
     "text": [
      "0\n",
      "1\n",
      "2\n",
      "3\n",
      "4\n"
     ]
    }
   ],
   "source": [
    "for i in range(5):\n",
    "    print(i)"
   ],
   "metadata": {
    "collapsed": false,
    "pycharm": {
     "name": "#%%\n"
    }
   }
  },
  {
   "cell_type": "code",
   "execution_count": 13,
   "outputs": [
    {
     "name": "stdout",
     "output_type": "stream",
     "text": [
      "0\n",
      "1\n",
      "2\n",
      "3\n",
      "4\n"
     ]
    },
    {
     "data": {
      "text/plain": "[None, None, None, None, None]"
     },
     "execution_count": 13,
     "metadata": {},
     "output_type": "execute_result"
    }
   ],
   "source": [
    "[print(i) for i in range(5)]"
   ],
   "metadata": {
    "collapsed": false,
    "pycharm": {
     "name": "#%%\n"
    }
   }
  },
  {
   "cell_type": "markdown",
   "source": [
    "[] : entre colchetes\n",
    "\n",
    "[i: resultado]\n",
    "\n",
    "[for i in range: loop]\n",
    "\n",
    "[resultado loop conditional]"
   ],
   "metadata": {
    "collapsed": false,
    "pycharm": {
     "name": "#%% md\n"
    }
   }
  },
  {
   "cell_type": "code",
   "execution_count": 15,
   "outputs": [
    {
     "name": "stdout",
     "output_type": "stream",
     "text": [
      "0\n",
      "1\n",
      "2\n",
      "3\n",
      "4\n"
     ]
    }
   ],
   "source": [
    "for i in range(10):\n",
    "    if i < 5:\n",
    "        print(i)"
   ],
   "metadata": {
    "collapsed": false,
    "pycharm": {
     "name": "#%%\n"
    }
   }
  },
  {
   "cell_type": "code",
   "execution_count": 16,
   "outputs": [
    {
     "name": "stdout",
     "output_type": "stream",
     "text": [
      "0\n",
      "1\n",
      "2\n",
      "3\n",
      "4\n"
     ]
    },
    {
     "data": {
      "text/plain": "[None, None, None, None, None]"
     },
     "execution_count": 16,
     "metadata": {},
     "output_type": "execute_result"
    }
   ],
   "source": [
    "[print(i) for i in range(10) if i < 5]\n"
   ],
   "metadata": {
    "collapsed": false,
    "pycharm": {
     "name": "#%%\n"
    }
   }
  },
  {
   "cell_type": "code",
   "execution_count": 20,
   "outputs": [
    {
     "data": {
      "text/plain": "[0, 1, 2, 3, 4]"
     },
     "execution_count": 20,
     "metadata": {},
     "output_type": "execute_result"
    }
   ],
   "source": [
    "resultado = [i for i in range(10) if i < 5]\n",
    "resultado"
   ],
   "metadata": {
    "collapsed": false,
    "pycharm": {
     "name": "#%%\n"
    }
   }
  },
  {
   "cell_type": "code",
   "execution_count": 21,
   "outputs": [
    {
     "data": {
      "text/plain": "[0, 1, 2, 3, 4]"
     },
     "execution_count": 21,
     "metadata": {},
     "output_type": "execute_result"
    }
   ],
   "source": [
    "resultado = list()\n",
    "for i in range(10):\n",
    "    if i < 5:\n",
    "        resultado.append(i)\n",
    "\n",
    "resultado"
   ],
   "metadata": {
    "collapsed": false,
    "pycharm": {
     "name": "#%%\n"
    }
   }
  },
  {
   "cell_type": "markdown",
   "source": [
    "---\n",
    "# XML\n",
    "### eXtensible Markup Language: noções\n",
    "\n",
    "* complex\n",
    "* semelhante a HTML. Usa tags <> </> para definir os branches."
   ],
   "metadata": {
    "collapsed": false,
    "pycharm": {
     "name": "#%% md\n"
    }
   }
  },
  {
   "cell_type": "code",
   "execution_count": 22,
   "outputs": [],
   "source": [
    "# source: adapted from Mertz, 2021, p.99\n",
    "users = \"\"\"<?xml version=\"1.0\" encoding=\"utf-8\" ?>\n",
    "<users>\n",
    "  <user>\n",
    "    <name>Mr. John</name>\n",
    "    <password>26sXFSAFQqlj.*24</password>\n",
    "    <details>\n",
    "      <profession employer=\"IDP\">\n",
    "      Professor</profession>\n",
    "      <telephone>+55 61 2021 4000</telephone>\n",
    "    </details>\n",
    "  </user>\n",
    "  <user>\n",
    "    <name>Ms. Bevilacqua</name>\n",
    "    <password>26sXF584Qqlj.*24</password>\n",
    "    <details>\n",
    "      <profession employer=\"Casa Civil\">\n",
    "      Lobista</profession>\n",
    "      <telephone>+55 61 1021 4000</telephone>\n",
    "    </details>\n",
    "  </user>\n",
    "</users>\n",
    "\"\"\""
   ],
   "metadata": {
    "collapsed": false,
    "pycharm": {
     "name": "#%%\n"
    }
   }
  },
  {
   "cell_type": "code",
   "execution_count": 25,
   "outputs": [
    {
     "name": "stdout",
     "output_type": "stream",
     "text": [
      "Mr. John: IDP\n",
      "Ms. Bevilacqua: Casa Civil\n"
     ]
    },
    {
     "data": {
      "text/plain": "<xml.etree.ElementTree.ElementTree at 0x7f9adc764a60>"
     },
     "execution_count": 25,
     "metadata": {},
     "output_type": "execute_result"
    }
   ],
   "source": [
    "import xml.etree.ElementTree as ET\n",
    "tree = ET.fromstring(users)\n",
    "# tree2 = ET.parse('data/users.xml')\n",
    "# Let us first find the attributes and text of a profession\n",
    "user = tree.findall('user')\n",
    "for each in user:\n",
    "    print(f\"{each.find('name').text}: {each.find('details').find('profession').attrib.get('employer')}\")\n",
    "\n",
    "# tree2"
   ],
   "metadata": {
    "collapsed": false,
    "pycharm": {
     "name": "#%%\n"
    }
   }
  },
  {
   "cell_type": "markdown",
   "source": [
    "---\n",
    "### Ilustração: bookstore\n",
    "source: https://www.w3schools.com/xml/xml_tree.asp\n",
    "\n",
    "* root\n",
    "* parent\n",
    "* child\n",
    "* sibling\n",
    "* attribute\n",
    "* text"
   ],
   "metadata": {
    "collapsed": false
   }
  },
  {
   "cell_type": "code",
   "execution_count": 26,
   "outputs": [],
   "source": [
    "books = \"\"\"<?xml version=\"1.0\" encoding=\"UTF-8\"?>\n",
    "<bookstore>\n",
    "  <book category=\"cooking\">\n",
    "    <title lang=\"en\">Everyday Italian</title>\n",
    "    <author>Giada De Laurentiis</author>\n",
    "    <year>2005</year>\n",
    "    <price>30.00</price>\n",
    "  </book>\n",
    "  <book category=\"children\">\n",
    "    <title lang=\"en\">Harry Potter</title>\n",
    "    <author>J K. Rowling</author>\n",
    "    <year>2005</year>\n",
    "    <price>29.99</price>\n",
    "  </book>\n",
    "  <book category=\"web\">\n",
    "    <title lang=\"en\">Learning XML</title>\n",
    "    <author>Erik T. Ray</author>\n",
    "    <year>2003</year>\n",
    "    <price>39.95</price>\n",
    "  </book>\n",
    "</bookstore>\n",
    "\"\"\""
   ],
   "metadata": {
    "collapsed": false,
    "pycharm": {
     "name": "#%%\n"
    }
   }
  },
  {
   "cell_type": "code",
   "execution_count": 27,
   "outputs": [
    {
     "data": {
      "text/plain": "<Element 'bookstore' at 0x7f9adc74ea40>"
     },
     "execution_count": 27,
     "metadata": {},
     "output_type": "execute_result"
    }
   ],
   "source": [
    "import xml.etree.ElementTree as ET\n",
    "books = ET.fromstring(books)\n",
    "books"
   ],
   "metadata": {
    "collapsed": false,
    "pycharm": {
     "name": "#%%\n"
    }
   }
  },
  {
   "cell_type": "code",
   "execution_count": 28,
   "outputs": [
    {
     "name": "stdout",
     "output_type": "stream",
     "text": [
      "book {'category': 'cooking'}\n",
      "book {'category': 'children'}\n",
      "book {'category': 'web'}\n"
     ]
    }
   ],
   "source": [
    "for child in books:\n",
    "    print(child.tag, child.attrib)"
   ],
   "metadata": {
    "collapsed": false,
    "pycharm": {
     "name": "#%%\n"
    }
   }
  },
  {
   "cell_type": "code",
   "execution_count": 29,
   "outputs": [
    {
     "data": {
      "text/plain": "[<Element 'book' at 0x7f9adc74e040>,\n <Element 'book' at 0x7f9adc74eea0>,\n <Element 'book' at 0x7f9adc74e720>]"
     },
     "execution_count": 29,
     "metadata": {},
     "output_type": "execute_result"
    }
   ],
   "source": [
    "books = books.findall('book')\n",
    "books"
   ],
   "metadata": {
    "collapsed": false,
    "pycharm": {
     "name": "#%%\n"
    }
   }
  },
  {
   "cell_type": "code",
   "execution_count": 30,
   "outputs": [
    {
     "data": {
      "text/plain": "['Giada De Laurentiis', 'J K. Rowling', 'Erik T. Ray']"
     },
     "execution_count": 30,
     "metadata": {},
     "output_type": "execute_result"
    }
   ],
   "source": [
    "[b.find('author').text for b in books]"
   ],
   "metadata": {
    "collapsed": false,
    "pycharm": {
     "name": "#%%\n"
    }
   }
  },
  {
   "cell_type": "code",
   "execution_count": 31,
   "outputs": [
    {
     "data": {
      "text/plain": "['Everyday Italian', 'Harry Potter', 'Learning XML']"
     },
     "execution_count": 31,
     "metadata": {},
     "output_type": "execute_result"
    }
   ],
   "source": [
    "[b.find('title').text for b in books]"
   ],
   "metadata": {
    "collapsed": false,
    "pycharm": {
     "name": "#%%\n"
    }
   }
  },
  {
   "cell_type": "code",
   "execution_count": 32,
   "outputs": [
    {
     "data": {
      "text/plain": "['cooking', 'children', 'web']"
     },
     "execution_count": 32,
     "metadata": {},
     "output_type": "execute_result"
    }
   ],
   "source": [
    "[b.attrib.get('category') for b in books]"
   ],
   "metadata": {
    "collapsed": false,
    "pycharm": {
     "name": "#%%\n"
    }
   }
  },
  {
   "cell_type": "code",
   "execution_count": 33,
   "outputs": [
    {
     "data": {
      "text/plain": "['en', 'en', 'en']"
     },
     "execution_count": 33,
     "metadata": {},
     "output_type": "execute_result"
    }
   ],
   "source": [
    "[b.find('title').attrib.get('lang') for b in books]"
   ],
   "metadata": {
    "collapsed": false,
    "pycharm": {
     "name": "#%%\n"
    }
   }
  },
  {
   "cell_type": "markdown",
   "source": [
    "---\n",
    "# Pickle $$+$$\n",
    "* Nativo para python\n",
    "* Prático para projetos próprios, salvando resultados intermediários.\n",
    "* Não são seguros, se obtidos na *internet* (não-inspecionáveis)\n",
    "* Salva `python objects`: por exemplo, `funções` e `class` e `class instance`\n",
    "\n",
    "---\n",
    "# `class`\n",
    "\n",
    "* Fábrica de objetos\n",
    "* Contém a estrutura em comum\n",
    "* Contém alguns tipos de funções *mágicas*\n",
    "    * Tais como: `__init__` ou `__eq__` ou `__repr__`\n",
    "* Ao criar um objeto vindo de uma `class` específica, por exemplo, roda automaticamente a função `__init__`\n",
    "## **Especialmente** contêm MÉTODOS, ou seja, funções e VARIÁVEIS, ou seja, dados!"
   ],
   "metadata": {
    "collapsed": false
   }
  },
  {
   "cell_type": "code",
   "execution_count": 34,
   "outputs": [],
   "source": [
    "# Cria uma classe de alunos\n",
    "\n",
    "class Aluno:\n",
    "    def __init__(self, name):\n",
    "        # O parâmetro name passa a ser obrigatório para criar um objeto tipo Aluno.\n",
    "        # A cada aluno será associado um dicionário com suas notas.\n",
    "        self.nome = name\n",
    "        self.notas = dict()\n",
    "\n",
    "    def add_course(self, aluno, nome_curso, nota):\n",
    "        if self.nome == aluno:\n",
    "            self.notas[nome_curso] = nota\n",
    "\n",
    "    def __repr__(self):\n",
    "        return f'Aluno {self.nome}'"
   ],
   "metadata": {
    "collapsed": false,
    "pycharm": {
     "name": "#%%\n"
    }
   }
  },
  {
   "cell_type": "code",
   "execution_count": 35,
   "outputs": [
    {
     "name": "stdout",
     "output_type": "stream",
     "text": [
      "{'Paulo': Aluno Paulo, 'Joana': Aluno Joana}\n"
     ]
    }
   ],
   "source": [
    "# Cria várias instâncias (python objects) de alunos e guarda em um relatório\n",
    "nomes = ['Paulo', 'Joana']\n",
    "report = dict()\n",
    "for nome in nomes:\n",
    "    report[nome] = Aluno(nome)\n",
    "\n",
    "print(report)"
   ],
   "metadata": {
    "collapsed": false,
    "pycharm": {
     "name": "#%%\n"
    }
   }
  },
  {
   "cell_type": "code",
   "execution_count": 38,
   "outputs": [
    {
     "data": {
      "text/plain": "{'Paulo': Aluno Paulo, 'Joana': Aluno Joana}"
     },
     "execution_count": 38,
     "metadata": {},
     "output_type": "execute_result"
    }
   ],
   "source": [
    "# Adicione um curso e uma nota, por exemplo.\n",
    "report['Paulo'].add_course('Paulo', 'TACTD', 9)\n",
    "report"
   ],
   "metadata": {
    "collapsed": false,
    "pycharm": {
     "name": "#%%\n"
    }
   }
  },
  {
   "cell_type": "code",
   "execution_count": 39,
   "outputs": [
    {
     "data": {
      "text/plain": "{'TACTD': 10}"
     },
     "execution_count": 39,
     "metadata": {},
     "output_type": "execute_result"
    }
   ],
   "source": [
    "report['Paulo'].notas"
   ],
   "metadata": {
    "collapsed": false,
    "pycharm": {
     "name": "#%%\n"
    }
   }
  },
  {
   "cell_type": "markdown",
   "source": [
    "---\n",
    "## Ilustração Pickle"
   ],
   "metadata": {
    "collapsed": false,
    "pycharm": {
     "name": "#%% md\n"
    }
   }
  },
  {
   "cell_type": "code",
   "execution_count": 40,
   "outputs": [
    {
     "name": "stdout",
     "output_type": "stream",
     "text": [
      "Saved!!!\n"
     ]
    }
   ],
   "source": [
    "# Salva o relatório\n",
    "import os\n",
    "import pickle\n",
    "\n",
    "if not os.path.exists('data'):\n",
    "    os.mkdir('data')\n",
    "\n",
    "\n",
    "def save_pickle(ob, name='data/my_first_pickle'):\n",
    "    with open(name, 'wb') as handler:\n",
    "        pickle.dump(ob, handler)\n",
    "    print('Saved!!!')\n",
    "\n",
    "save_pickle(report)"
   ],
   "metadata": {
    "collapsed": false,
    "pycharm": {
     "name": "#%%\n"
    }
   }
  },
  {
   "cell_type": "code",
   "execution_count": 41,
   "outputs": [
    {
     "name": "stdout",
     "output_type": "stream",
     "text": [
      "data/my_first_pickle lido!\n",
      "{'Paulo': Aluno Paulo, 'Joana': Aluno Joana}\n"
     ]
    }
   ],
   "source": [
    "# Em outro momento, load o arquivo salvo, atualize as notas\n",
    "def load_pickle(name='data/my_first_pickle'):\n",
    "    with open(name, 'rb') as handler:\n",
    "        loaded_obj = pickle.load(handler)\n",
    "    print(f'{name} lido!')\n",
    "    return loaded_obj\n",
    "\n",
    "my_old_report = load_pickle()\n",
    "print(my_old_report)"
   ],
   "metadata": {
    "collapsed": false,
    "pycharm": {
     "name": "#%%\n"
    }
   }
  },
  {
   "cell_type": "code",
   "execution_count": 43,
   "outputs": [
    {
     "data": {
      "text/plain": "{'TACTD': 10}"
     },
     "execution_count": 43,
     "metadata": {},
     "output_type": "execute_result"
    }
   ],
   "source": [
    "my_old_report['Joana'].add_course('Joana', 'TACTD', 10)\n",
    "my_old_report['Joana'].notas"
   ],
   "metadata": {
    "collapsed": false,
    "pycharm": {
     "name": "#%%\n"
    }
   }
  },
  {
   "cell_type": "code",
   "execution_count": 44,
   "outputs": [
    {
     "data": {
      "text/plain": "{'TACTD': 10}"
     },
     "execution_count": 44,
     "metadata": {},
     "output_type": "execute_result"
    }
   ],
   "source": [
    "my_old_report['Paulo'].notas\n"
   ],
   "metadata": {
    "collapsed": false,
    "pycharm": {
     "name": "#%%\n"
    }
   }
  },
  {
   "cell_type": "markdown",
   "source": [
    "---\n",
    "# Exercício\n",
    "\n",
    "1. Crie uma classe simples, como o exemplo de Aluno\n",
    "2. Chame-a de **Pet**, por exemplo e dê uma _id ou nome, ou ambos\n",
    "3. Utilize somente a primeira função `__init__` que é construtora\n",
    "4. Se a _id for numérica, crie 10 objetos do tipo Pet"
   ],
   "metadata": {
    "collapsed": false
   }
  },
  {
   "cell_type": "code",
   "execution_count": null,
   "outputs": [],
   "source": [
    "# Exemplo\n",
    "try:\n",
    "    my_pets = [Pet(i) for i in range(10)]\n",
    "except NameError:\n",
    "    print(\"Essa função só funciona se houver a `class` Pet() com uma função __init__ que recebe uma id\")"
   ],
   "metadata": {
    "collapsed": false,
    "pycharm": {
     "name": "#%%\n"
    }
   }
  },
  {
   "cell_type": "markdown",
   "source": [
    "5. Criado o objeto my_pets, salve ele em PICKLE\n",
    "6. Não será possível salvar em JSON. Nesse caso, crie um dicionário simples e salve em JSON\n",
    "7. Load o PICKLE que você salvou e inspecione o objeto.\n",
    "8. Abra o arquivo JSON no diretório que você salvou e inspecione o objeto."
   ],
   "metadata": {
    "collapsed": false
   }
  },
  {
   "cell_type": "markdown",
   "source": [
    "---\n",
    "# SQL\n",
    "source: https://www.sqlitetutorial.net/sqlite-python\n",
    "### Exemplo básico\n",
    "\n",
    "1. Cria database\n",
    "2. Faz conexão"
   ],
   "metadata": {
    "collapsed": false
   }
  },
  {
   "cell_type": "code",
   "execution_count": null,
   "outputs": [],
   "source": [
    "import sqlite3\n",
    "\n",
    "# Endereço no qual irá guardar a database\n",
    "my_first_db = 'data/my_db.db'\n",
    "\n",
    "def connect_db(database):\n",
    "    con = sqlite3.connect(database)\n",
    "    print(f'Conexão realizada com sucesso. Versão sqlite: {sqlite3.version}')\n",
    "    return con"
   ],
   "metadata": {
    "collapsed": false,
    "pycharm": {
     "name": "#%%\n"
    }
   }
  },
  {
   "cell_type": "markdown",
   "source": [
    "3. Cria planilhas -- tables. Isso só é feito no início do projeto\n",
    "    1. Criaremos uma planilha `projects` e uma `tasks`"
   ],
   "metadata": {
    "collapsed": false
   }
  },
  {
   "cell_type": "code",
   "execution_count": null,
   "outputs": [],
   "source": [
    "sql_create_projects_table = \"\"\" CREATE TABLE IF NOT EXISTS projects (\n",
    "                                    id integer PRIMARY KEY,\n",
    "                                    name text NOT NULL,\n",
    "                                    begin_date text,\n",
    "                                    end_date text\n",
    "                                ); \"\"\"\n",
    "\n",
    "sql_create_tasks_table = \"\"\"CREATE TABLE IF NOT EXISTS tasks (\n",
    "                                id integer PRIMARY KEY,\n",
    "                                name text NOT NULL,\n",
    "                                priority integer,\n",
    "                                status_id integer NOT NULL,\n",
    "                                project_id integer NOT NULL,\n",
    "                                begin_date text NOT NULL,\n",
    "                                end_date text NOT NULL,\n",
    "                                FOREIGN KEY (project_id) REFERENCES projects (id)\n",
    "                            );\"\"\""
   ],
   "metadata": {
    "collapsed": false,
    "pycharm": {
     "name": "#%%\n"
    }
   }
  },
  {
   "cell_type": "markdown",
   "source": [
    "4. Em python, usamos o `with` toda vez que um processo precisa de `open` e depois `close`\n",
    "O `with` cria um contexto no qual o `handler`, a `conexão` são válidos!"
   ],
   "metadata": {
    "collapsed": false
   }
  },
  {
   "cell_type": "code",
   "execution_count": null,
   "outputs": [],
   "source": [
    "with connect_db(my_first_db) as conn:\n",
    "    conn.execute(sql_create_projects_table)\n",
    "    conn.execute(sql_create_tasks_table)\n",
    "    conn.commit()"
   ],
   "metadata": {
    "collapsed": false,
    "pycharm": {
     "name": "#%%\n"
    }
   }
  },
  {
   "cell_type": "markdown",
   "source": [
    "5. Agora, existe uma database, com duas planilhas formatadas.\n",
    "6. Estamos prontos para criar um projeto, com tarefas.\n",
    "7. As duas funções abaixo criam o processo de inserção de projetos e tarefas nas planilhas."
   ],
   "metadata": {
    "collapsed": false
   }
  },
  {
   "cell_type": "code",
   "execution_count": null,
   "outputs": [],
   "source": [
    "def create_project(conn, project):\n",
    "    \"\"\"\n",
    "    Create a new project into the projects table\n",
    "    :param conn:\n",
    "    :param project:\n",
    "    :return: project id\n",
    "    \"\"\"\n",
    "    sql = ''' INSERT INTO projects(name,begin_date,end_date)\n",
    "              VALUES(?,?,?) '''\n",
    "    cur = conn.cursor()\n",
    "    cur.execute(sql, project)\n",
    "    conn.commit()\n",
    "    return cur.lastrowid\n",
    "\n",
    "\n",
    "def create_task(conn, task):\n",
    "    \"\"\"\n",
    "    Create a new task\n",
    "    :param conn:\n",
    "    :param task:\n",
    "    :return:\n",
    "    \"\"\"\n",
    "\n",
    "    sql = ''' INSERT INTO tasks(name,priority,status_id,project_id,begin_date,end_date)\n",
    "              VALUES(?,?,?,?,?,?) '''\n",
    "    cur = conn.cursor()\n",
    "    cur.execute(sql, task)\n",
    "    conn.commit()\n",
    "    return cur.lastrowid"
   ],
   "metadata": {
    "collapsed": false,
    "pycharm": {
     "name": "#%%\n"
    }
   }
  },
  {
   "cell_type": "markdown",
   "source": [
    "8. Agora, já temos a database, as planilhas e as funções que inserem informações.\n",
    "9. Vamos começar a inserir, de fato, detalhes dos projetos."
   ],
   "metadata": {
    "collapsed": false
   }
  },
  {
   "cell_type": "code",
   "execution_count": null,
   "outputs": [],
   "source": [
    "with connect_db(my_first_db) as conn:\n",
    "    # create a new project\n",
    "    project = ('Primeiro Cool App com SQLite & Python', '2021-07-21', '2021-12-31');\n",
    "    project_id = create_project(conn, project)\n",
    "\n",
    "    # tasks\n",
    "    task_1 = ('Rever com cuidado e treinar as aulas Prof. Bernardo', 1, 1, project_id, '2021-08-03', '2021-08-21')\n",
    "    task_2 = ('Realizar exercícios que extrapolam os exemplos básicos', 2, 1, project_id, '2021-08-03', '2021-08-21')\n",
    "\n",
    "    # create tasks\n",
    "    create_task(conn, task_1)\n",
    "    create_task(conn, task_2)"
   ],
   "metadata": {
    "collapsed": false,
    "pycharm": {
     "name": "#%%\n"
    }
   }
  },
  {
   "cell_type": "markdown",
   "source": [
    "10. Se você rodar esse comando em uma IDE de python. Tipo PyCharm community, my favorite.\n",
    "11. Então pode ir ao terminal\n",
    "    1. Enter `sqlite3 data/my_db.db`\n",
    "    2. `.header on`\n",
    "    3. `.mode column`\n",
    "    4. `select * from tasks;`\n",
    "    5. `.exit`"
   ],
   "metadata": {
    "collapsed": false
   }
  },
  {
   "cell_type": "markdown",
   "source": [
    "![sql exemplo](https://github.com/BAFurtado/MBA_IDP_CapturaTratamento/blob/main/data/sql_exemplo.png?raw=True)"
   ],
   "metadata": {
    "collapsed": false
   }
  },
  {
   "cell_type": "markdown",
   "source": [
    "12. Alternativamente, novamente usando o `pandas`, você pode fazer:"
   ],
   "metadata": {
    "collapsed": false
   }
  },
  {
   "cell_type": "code",
   "execution_count": null,
   "outputs": [],
   "source": [
    "import pandas as pd\n",
    "\n",
    "with connect_db(my_first_db) as conn:\n",
    "    data = pd.read_sql_query(\"SELECT * FROM tasks\", conn)\n",
    "\n",
    "print(data)"
   ],
   "metadata": {
    "collapsed": false,
    "pycharm": {
     "name": "#%%\n"
    }
   }
  },
  {
   "cell_type": "code",
   "execution_count": null,
   "outputs": [],
   "source": [
    "print(data.info())"
   ],
   "metadata": {
    "collapsed": false,
    "pycharm": {
     "name": "#%%\n"
    }
   }
  },
  {
   "cell_type": "markdown",
   "source": [
    "# Exercício SQL.\n",
    "### Vamos repetir exatamente o mesmo processo do exemplo acima, porém, no próprio ambiente e mudando algumas configurações:\n",
    "\n",
    "1. (Instale, se necessário) e import no seu ambiente a biblioteca `sqlite3`.\n",
    "2. Crie um local/nome para a sua primeira database.\n",
    "3. Utilize a mesma função **connect_db()**\n",
    "    1. Pode alterar o nome da função, se quiser,\n",
    "    2. bem como, a mensagem do `print`\n",
    "4. Verifique se vai fazer alguma alteração nas colunas e nos nomes das suas tabelas.\n",
    "5. Crie a o texto original para criar as duas tabelas.\n",
    "6. Efetivamente, use `conexao.execute()` para criar a database e as duas tabelas.\n",
    "7. Verifique, de acordo com sua possível mudança de colunas nas tabelas, se as funções `create_project` e\n",
    " `create_task` precisam ser alteradas.\n",
    "8. Insira alguns elementos na sua nova database.\n",
    "9. Leia a nova database com `pandas` para verificarmos todo o processo.\n"
   ],
   "metadata": {
    "collapsed": false
   }
  },
  {
   "cell_type": "markdown",
   "source": [
    "---\n",
    "# Aperitivo II\n",
    "source: https://open.fda.gov/apis/\n",
    "\n",
    "### API is an acronym for Application Programming Interface. <br>\n",
    "\n",
    "### An **API call** is any request sent to the API.\n",
    "\n",
    "### Requests are typically sent to the API in one of two ways:\n",
    "\n",
    "1. Manually using a web browser\n",
    "(such as navigating to the URL https://api.fda.gov/drug/label.json) or\n",
    "\n",
    "2. **Programmatically** sending the request via executing code that **sends the API call** and processes the response. Continue reading this documentation for more details on how to compose an API call for openFDA specifically.\n",
    "\n",
    "### The API **returns individual results as JSON** by default.\n",
    "\n",
    "### The JSON object has two sections:\n",
    "\n",
    "   1. `meta`: Metadata about the query, including a disclaimer, link to data license, last-updated date, and total matching records, if applicable.\n",
    "\n",
    "   2. `results`: An **array** of matching results, dependent on which endpoint was **queried**."
   ],
   "metadata": {
    "collapsed": false
   }
  },
  {
   "cell_type": "markdown",
   "source": [
    "---\n",
    "# Captura\n",
    "\n",
    "### Por API:\n",
    "\n",
    "dados.gov.br\n",
    "\n",
    "### Por scraping\n",
    "\n",
    "\"*the data we are interested in at least lives within HTML tables inside a web page*\" (Mertz, 2021, p.136)\n",
    "\n",
    "\"*Constructing a script for web scraping inevitably involves a **large amount of trial\n",
    "and error**.*\" (p. 139)\n",
    "\n",
    "#### Mas, lembrem-se, `pandas` é nosso amigo..."
   ],
   "metadata": {
    "collapsed": false,
    "pycharm": {
     "name": "#%% md\n"
    }
   }
  },
  {
   "cell_type": "code",
   "execution_count": null,
   "outputs": [],
   "source": [
    "import pandas as pd\n",
    "\n",
    "wiki_data = pd.read_html('https://en.wikipedia.org/wiki/COVID-19_pandemic_by_country_and_territory')\n",
    "print(f'Número tabelas: {len(wiki_data)}')"
   ],
   "metadata": {
    "collapsed": false,
    "pycharm": {
     "name": "#%%\n"
    }
   }
  },
  {
   "cell_type": "markdown",
   "source": [
    "Vamos ver a organização geral de algumas tabelas"
   ],
   "metadata": {
    "collapsed": false
   }
  },
  {
   "cell_type": "code",
   "execution_count": null,
   "outputs": [],
   "source": [
    "for i in range(10):\n",
    "    print(wiki_data[i].head(2))"
   ],
   "metadata": {
    "collapsed": false,
    "pycharm": {
     "name": "#%%\n"
    }
   }
  },
  {
   "cell_type": "markdown",
   "source": [
    "A tabela 9 parece de interesse"
   ],
   "metadata": {
    "collapsed": false
   }
  },
  {
   "cell_type": "code",
   "execution_count": null,
   "outputs": [],
   "source": [
    "print(wiki_data[9].head())\n",
    "print('')\n",
    "print(f'Colunas: {wiki_data[9].columns}')"
   ],
   "metadata": {
    "collapsed": false,
    "pycharm": {
     "name": "#%%\n"
    }
   }
  },
  {
   "cell_type": "code",
   "execution_count": null,
   "outputs": [],
   "source": [
    "# Ou simplesmente:\n",
    "wiki_data[9]"
   ],
   "metadata": {
    "collapsed": false,
    "pycharm": {
     "name": "#%%\n"
    }
   }
  },
  {
   "cell_type": "code",
   "execution_count": null,
   "outputs": [],
   "source": [
    "wiki_data[9].iloc[:, 0]"
   ],
   "metadata": {
    "collapsed": false,
    "pycharm": {
     "name": "#%%\n"
    }
   }
  },
  {
   "cell_type": "code",
   "execution_count": null,
   "outputs": [],
   "source": [
    "wiki_data[9].loc[13]"
   ],
   "metadata": {
    "collapsed": false,
    "pycharm": {
     "name": "#%%\n"
    }
   }
  },
  {
   "cell_type": "markdown",
   "source": [
    "---\n",
    "## Observação sobre PDFs\n",
    "\n",
    "1. PDFs são feitos para leitura humana.\n",
    "2. Processos automatizados buscam extrair informações disponíveis somente em PDF.\n",
    "3. Há bastante variância dentre os PDFs e as opções/programas usados para sua geração.\n",
    "\n",
    "\n",
    "* Com python já utilizei com sucesso, porém apenas em Linux (Unix).\n",
    "* Veja uma comparação atual sobre as bibliotecas disponíveis em: https://github.com/erfelipe/PDFtextExtraction\n",
    "---\n",
    "Veja no [exemplo](https://github.com/BAFurtado/PAS_UnB/blob/master/read_pdf.py) como o trabalho é organizado quando a operação é em `script`\n",
    "\n",
    "O `__main__` ao final da página (que no fundo é um TXT), organiza a chamada de funções.\n",
    "\n",
    "Sucessivamente:\n",
    "\n",
    "1. Abre o arquivo em formato de read bytes: **rb**: `pdf_file = open('redacao.pdf', 'rb')`\n",
    "2. Usa a biblioteca `import PyPDF2` para ler o PDF em si\n",
    "3. A função `reading()` ..."
   ],
   "metadata": {
    "collapsed": false
   }
  },
  {
   "cell_type": "code",
   "execution_count": null,
   "outputs": [],
   "source": [
    "def reading(pdf_doc):\n",
    "    # Extract text from PDF and outputs results as a list\n",
    "    outputs = list()\n",
    "    for p in range(pdf_doc.getNumPages()):\n",
    "        page = pdf_doc.getPage(p)\n",
    "        outputs.append(page.extractText())\n",
    "    return outputs"
   ],
   "metadata": {
    "collapsed": false,
    "pycharm": {
     "name": "#%%\n"
    }
   }
  },
  {
   "cell_type": "markdown",
   "source": [
    "cria uma lista de página por página\n",
    "4. Em seguida as páginas são processadas e inseridas em uma base de dados (`into_database()`) com as notas\n",
    "5. Sem não antes serem consideradas várias exceções (`fixing_data()`, `treating_leftovers()`)\n",
    "---"
   ],
   "metadata": {
    "collapsed": false
   }
  },
  {
   "cell_type": "markdown",
   "source": [
    "## Boa prática: robots.txt\n",
    "\n",
    "No exempĺo acima, os resultados de um concurso público, são públicos e podem ser conferidos por qualquer parte\n",
    "interessada.\n",
    "\n",
    "O agente que divulga a informação pode fazê-lo por meio de um PDF (talvez mais simples ou imediato),\n",
    "ou pode fazê-lo também com uma simples planilha.\n",
    "\n",
    "Portanto, a leitura dos dados está em consonância com o caráter público da sua divulgação.\n",
    "\n",
    "O mesmo acontece (deveria acontecer) com os DIÁRIOS OFICIAIS, ou com as informações dos cartórios, por exemplo.\n",
    "\n",
    "---\n",
    "\n",
    "Nos sites, o arquivo **robots.txt** é uma maneira padrão de informar (não exige, apenas informa) ao\n",
    "usuário o que *spider, crawler, robôs* podem ou não realizar em determinado site. O chamado *Robots Exclusion Protocol*\n",
    "\n"
   ],
   "metadata": {
    "collapsed": false
   }
  },
  {
   "cell_type": "code",
   "execution_count": null,
   "outputs": [],
   "source": [
    "# Exemplo. source: (Jarmul e Lawson, 2017)\n",
    "\n",
    "# section 1\n",
    "# User-agent: BadCrawler\n",
    "# Disallow: /"
   ],
   "metadata": {
    "collapsed": false,
    "pycharm": {
     "name": "#%%\n"
    }
   }
  },
  {
   "cell_type": "markdown",
   "source": [
    "`Disallow: /` restringe todo o conteúdo do site a robôs."
   ],
   "metadata": {
    "collapsed": false
   }
  },
  {
   "cell_type": "code",
   "execution_count": null,
   "outputs": [],
   "source": [
    "# section 2\n",
    "# User-agent: *\n",
    "# Crawl-delay: 5\n",
    "# Disallow: /trap"
   ],
   "metadata": {
    "collapsed": false,
    "pycharm": {
     "name": "#%%\n"
    }
   }
  },
  {
   "cell_type": "markdown",
   "source": [
    "Crawl-delay recomenda que o robô pause entre pedidos de request"
   ],
   "metadata": {
    "collapsed": false
   }
  },
  {
   "cell_type": "code",
   "execution_count": null,
   "outputs": [],
   "source": [
    "# section 3\n",
    "# Sitemap: https://economia.uol.com.br/sitemap/v2/201902.xml"
   ],
   "metadata": {
    "collapsed": false,
    "pycharm": {
     "name": "#%%\n"
    }
   }
  },
  {
   "cell_type": "markdown",
   "source": [
    "Além das regras, o robots.txt pode conter o link para o arquivo XML que fornece a estrutura da página.\n",
    "\n",
    "Esta informação já pode ser útil, por exemplo, para quem busca por títulos de notícias para associar a preços de ativos, por exemplo."
   ],
   "metadata": {
    "collapsed": false
   }
  },
  {
   "cell_type": "code",
   "execution_count": null,
   "outputs": [],
   "source": [
    "# Outro exemplo:\n",
    "\n",
    "# robots.txt for http://www.folha.com.br/\n",
    "# Contact webmaster@grupofolha.com.br if you have questions regarding this file\n",
    "\n",
    "# User-agent: *\n",
    "# Disallow: /cgi-bin/\n",
    "# Disallow: /folha/\n",
    "# Disallow: /guia/\n",
    "# Disallow: /logs/\n",
    "# Disallow: /simulador/\n",
    "#\n",
    "# User-agent: Googlebot-News\n",
    "# Allow: *\n",
    "#\n",
    "# User-agent: Twitterbot\n",
    "# Disallow: /virtual/"
   ],
   "metadata": {
    "collapsed": false,
    "pycharm": {
     "name": "#%%\n"
    }
   }
  },
  {
   "cell_type": "markdown",
   "source": [
    "---\n",
    "# APIs 0\n",
    "## Request: exemplo simplista"
   ],
   "metadata": {
    "collapsed": false
   }
  },
  {
   "cell_type": "markdown",
   "source": [
    "Check: https://www.earthdatascience.org/courses/use-data-open-source-python/intro-to-apis/apis-in-python/"
   ],
   "metadata": {
    "collapsed": false
   }
  },
  {
   "cell_type": "code",
   "execution_count": null,
   "outputs": [],
   "source": [
    "import urllib.request\n",
    "\n",
    "url = 'https://economia.uol.com.br'\n",
    "response = urllib.request.urlopen(url)\n",
    "response.status"
   ],
   "metadata": {
    "collapsed": false,
    "pycharm": {
     "name": "#%%\n"
    }
   }
  },
  {
   "cell_type": "code",
   "execution_count": null,
   "outputs": [],
   "source": [
    "from bs4 import BeautifulSoup as BS\n",
    "soup = BS(response, 'html5lib')"
   ],
   "metadata": {
    "collapsed": false,
    "pycharm": {
     "name": "#%%\n"
    }
   }
  },
  {
   "cell_type": "code",
   "execution_count": null,
   "outputs": [],
   "source": [
    "some_results = soup.find_all('section', {'class': 'highlights-headline'})\n",
    "print(some_results[0].text.strip())"
   ],
   "metadata": {
    "collapsed": false,
    "pycharm": {
     "name": "#%%\n"
    }
   }
  },
  {
   "cell_type": "markdown",
   "source": [
    "---\n",
    "Na prática\n",
    "# APIs I\n",
    "\n",
    "\"*Uma API define uma sintaxe padronizada que permite a um software se comunicar com\n",
    "outro, mesmo que tenham sido escritos em linguagens diferentes ou\n",
    "estejam estruturados de modo distinto.*\" (Mitchel, 2019, p. 201)\n",
    "\n",
    "## Ilustração: lat, long"
   ],
   "metadata": {
    "collapsed": false
   }
  },
  {
   "cell_type": "code",
   "execution_count": null,
   "outputs": [],
   "source": [
    "import requests\n",
    "import urllib.parse\n",
    "\n",
    "locais = 'IDP', 'Ipea', 'CNPq'\n",
    "\n",
    "for local in locais:\n",
    "    address = f'{local}, Brasília, Brazil'\n",
    "    url = 'https://nominatim.openstreetmap.org/search/' + urllib.parse.quote(address) +'?format=json'\n",
    "    response = requests.get(url).json()\n",
    "    # Note que para cada local uma response é gerada.\n",
    "    # Como poderíamos armazenar essas informações?\n",
    "    print(response[0]['display_name'])\n",
    "    lat = float(response[0]['lat'])\n",
    "    long = float(response[0]['lon'])\n",
    "    print(f'lat: {lat:.8}, long: {long:.8}')"
   ],
   "metadata": {
    "collapsed": false,
    "pycharm": {
     "name": "#%%\n"
    }
   }
  },
  {
   "cell_type": "markdown",
   "source": [
    "## Exercício rápido.\n",
    "\n",
    "1. Calcule a distância linear da sua casa ao IDP.\n",
    "2. Crie um local novo: 'SQS 402', ou o seu endereço.\n",
    "3. Adicione no address completo (cidade, país)\n",
    "4. Use o código acima\n",
    "5. Use teorema de pitágoras"
   ],
   "metadata": {
    "collapsed": false
   }
  },
  {
   "cell_type": "code",
   "execution_count": null,
   "outputs": [],
   "source": [
    "def calculate_distancia(x1, y1, x2, y2):\n",
    "    return ((x1 - x2) ** 2 + (y1 - y2) ** 2) ** .5"
   ],
   "metadata": {
    "collapsed": false,
    "pycharm": {
     "name": "#%%\n"
    }
   }
  },
  {
   "cell_type": "markdown",
   "source": [
    "---\n",
    "# APIs II"
   ],
   "metadata": {
    "collapsed": false
   }
  },
  {
   "cell_type": "code",
   "execution_count": null,
   "outputs": [],
   "source": [
    "url = 'https://queridodiario.ok.org.br/api/'\n",
    "endpoint = 'gazettes/'\n",
    "\n",
    "params = {'since': '2020-12-15',\n",
    "          'until': '2020-12-31',\n",
    "          'keywords': ['pandemia']}\n",
    "\n",
    "r = requests.get(f'{url}{endpoint}', params=params).json()\n",
    "r"
   ],
   "metadata": {
    "collapsed": false,
    "pycharm": {
     "name": "#%%\n"
    }
   }
  },
  {
   "cell_type": "code",
   "execution_count": null,
   "outputs": [],
   "source": [
    "print(r.keys())"
   ],
   "metadata": {
    "collapsed": false,
    "pycharm": {
     "name": "#%%\n"
    }
   }
  },
  {
   "cell_type": "code",
   "execution_count": null,
   "outputs": [],
   "source": [
    "print(type(r['gazettes']))"
   ],
   "metadata": {
    "collapsed": false,
    "pycharm": {
     "name": "#%%\n"
    }
   }
  },
  {
   "cell_type": "code",
   "execution_count": null,
   "outputs": [],
   "source": [
    "print(type(r['gazettes'][0]))"
   ],
   "metadata": {
    "collapsed": false,
    "pycharm": {
     "name": "#%%\n"
    }
   }
  },
  {
   "cell_type": "code",
   "execution_count": null,
   "outputs": [],
   "source": [
    "print(r['gazettes'][0].keys())"
   ],
   "metadata": {
    "collapsed": false,
    "pycharm": {
     "name": "#%%\n"
    }
   }
  },
  {
   "cell_type": "code",
   "execution_count": null,
   "outputs": [],
   "source": [
    "for gazette in r['gazettes']:\n",
    "    try:\n",
    "        texto = gazette['file_raw_txt']\n",
    "    except KeyError:\n",
    "        pass\n",
    "    finally:\n",
    "        break\n",
    "\n",
    "texto"
   ],
   "metadata": {
    "collapsed": false,
    "pycharm": {
     "name": "#%%\n"
    }
   }
  },
  {
   "cell_type": "code",
   "execution_count": null,
   "outputs": [],
   "source": [
    "response = urllib.request.urlopen(texto)\n",
    "response.status"
   ],
   "metadata": {
    "collapsed": false,
    "pycharm": {
     "name": "#%%\n"
    }
   }
  },
  {
   "cell_type": "code",
   "execution_count": null,
   "outputs": [],
   "source": [
    "txt = BS(response, 'html5lib')\n",
    "txt"
   ],
   "metadata": {
    "collapsed": false,
    "pycharm": {
     "name": "#%%\n"
    }
   }
  },
  {
   "cell_type": "markdown",
   "source": [
    "---\n",
    "# Exercício II\n",
    "\n",
    "1. Utilize o modelo acima.\n",
    "2. Consulte as regras da API dos Diários Oficiais dos municípios:\n",
    "\n",
    "https://queridodiario.ok.org.br/api/docs#/default/Get_gazettes_gazettes__get\n",
    "\n",
    "3. Construa outro dicionário de parâmetros, de acordo com seus interesses, como o exemplo:"
   ],
   "metadata": {
    "collapsed": false
   }
  },
  {
   "cell_type": "code",
   "execution_count": null,
   "outputs": [],
   "source": [
    "params = {'since': '2020-12-15',\n",
    "          'until': '2020-12-31',\n",
    "          'keywords': ['pandemia']}"
   ],
   "metadata": {
    "collapsed": false,
    "pycharm": {
     "name": "#%%\n"
    }
   }
  },
  {
   "cell_type": "markdown",
   "source": [
    "4. Faça o request e avalie o resultado.\n"
   ],
   "metadata": {
    "collapsed": false
   }
  },
  {
   "cell_type": "code",
   "execution_count": null,
   "outputs": [],
   "source": [
    "# Exemplo 2. APIs Diários\n",
    "url = 'https://queridodiario.ok.org.br/api/'\n",
    "endpoint = 'gazettes/'\n",
    "\n",
    "params = {'territory_id': '3304557',\n",
    "          'since': '2020-01-01',\n",
    "          'until': '2020-12-31',\n",
    "          'keywords': ['ITBI']}\n",
    "\n",
    "r = requests.get(f\"{url}{endpoint}/{params['territory_id']}\", params=params).json()\n",
    "r"
   ],
   "metadata": {
    "collapsed": false,
    "pycharm": {
     "name": "#%%\n"
    }
   }
  },
  {
   "cell_type": "markdown",
   "source": [
    "# APIs III\n",
    "## Serious illustration\n",
    "\n",
    "### Passo-a-passo\n",
    "1. https://developer.twitter.com/en/docs/tutorials/step-by-step-guide-to-making-your-first-request-to-the-twitter-api-v2\n",
    "\n",
    "Depois, esse:\n",
    "\n",
    "2. https://github.com/twitterdev/Twitter-API-v2-sample-code\n",
    "\n",
    "Nem tudo é possível, por exemplo, limitado aos últimos 7 dias. Para detalhes, veja:\n",
    "\n",
    "3. https://developer.twitter.com/en/docs/twitter-api/early-access"
   ],
   "metadata": {
    "collapsed": false
   }
  },
  {
   "cell_type": "code",
   "execution_count": null,
   "outputs": [],
   "source": [
    "import requests\n",
    "import json"
   ],
   "metadata": {
    "collapsed": false,
    "pycharm": {
     "name": "#%%\n"
    }
   }
  },
  {
   "cell_type": "code",
   "execution_count": null,
   "outputs": [],
   "source": [
    "from getpass import getpass\n",
    "bearer_token = getpass()"
   ],
   "metadata": {
    "collapsed": false,
    "pycharm": {
     "name": "#%%\n"
    }
   }
  },
  {
   "cell_type": "code",
   "execution_count": null,
   "outputs": [],
   "source": [
    "search_url = \"https://api.twitter.com/2/tweets/search/recent\"\n",
    "\n",
    "# Optional params: start_time,end_time,since_id,until_id,max_results,next_token,\n",
    "# expansions,tweet.fields,media.fields,poll.fields,place.fields,user.fields\n",
    "#\n",
    "# twitter_handle = 'furtadobb'\n",
    "# twitter_handle = 'SejaIDP'\n",
    "# twitter_handle = 'Reguffe'\n",
    "twitter_handle = 'folha'\n",
    "\n",
    "# start_time = '2021-07-29T00:00:00Z'\n",
    "# end_time = '2021-08-02T00:00:00Z'\n",
    "query_params = {'query': f'(from:{twitter_handle})',\n",
    "                'tweet.fields': 'author_id'}\n",
    "\n",
    "\n",
    "def bearer_oauth(bear):\n",
    "    \"\"\"\n",
    "    Method required by bearer token authentication.\n",
    "    \"\"\"\n",
    "\n",
    "    bear.headers[\"Authorization\"] = f\"Bearer {bearer_token}\"\n",
    "    bear.headers[\"User-Agent\"] = \"v2RecentSearchPython\"\n",
    "    return bear\n",
    "\n",
    "\n",
    "def connect_to_endpoint(url, params):\n",
    "    response = requests.get(url, auth=bearer_oauth, params=params)\n",
    "    print(response.status_code)\n",
    "    if response.status_code != 200:\n",
    "        raise Exception(response.status_code, response.text)\n",
    "    return response.json()\n",
    "\n",
    "\n",
    "def main():\n",
    "    json_response = connect_to_endpoint(search_url, query_params)\n",
    "    print(json.dumps(json_response, indent=4, sort_keys=True))\n",
    "    return json_response\n",
    "\n",
    "exemplo_json = main()"
   ],
   "metadata": {
    "collapsed": false,
    "pycharm": {
     "name": "#%%\n"
    }
   }
  },
  {
   "cell_type": "markdown",
   "source": [
    "# Exercício\n",
    "\n",
    "1. Note que pelas regras do Twitter, o plano grátis inclui somente os últimos 7 dias.\n",
    "2. Quais seriam os passos necessários para que uma base de dados acumulasse, ao longo de um mês, por exemplo,\n",
    "todos os *tweets*?\n",
    "3. Considerando o exemplo abaixo como um objeto `python` (`dict`), como poderíamos automatizar o processo atualização\n",
    "da base?"
   ],
   "metadata": {
    "collapsed": false
   }
  },
  {
   "cell_type": "code",
   "execution_count": null,
   "outputs": [],
   "source": [
    "json_response_exemplo = {\n",
    "    \"data\": [\n",
    "        {\n",
    "            \"author_id\": \"14594813\",\n",
    "            \"id\": \"1420089179690737668\",\n",
    "            \"text\": \"O ato contra a est\\u00e1tua em S\\u00e3o Paulo ocorre num momento em que h\\u00e1 um questionamento global sobre homenagens a figuras controversas \\u2014como \\u00e9 o caso dos bandeirantes, que atuavam na manuten\\u00e7\\u00e3o da escravid\\u00e3o e na persegui\\u00e7\\u00e3o aos ind\\u00edgenas no Brasil colonial https://t.co/0lfHQjlUR4 https://t.co/2DP40F6gra\"\n",
    "        },\n",
    "        {\n",
    "            \"author_id\": \"14594813\",\n",
    "            \"id\": \"1420086844637728777\",\n",
    "            \"text\": \"L\\u00edderes do The Who, Pete Townshend e Roger Daltrey, trocam alfinetadas em livros https://t.co/zktrgs8X3Z\"\n",
    "        },\n",
    "        {\n",
    "            \"author_id\": \"14594813\",\n",
    "            \"id\": \"1420074263617417221\",\n",
    "            \"text\": \"Mudan\\u00e7a de governo no Haiti n\\u00e3o deve transformar vida da popula\\u00e7\\u00e3o, dizem haitianos https://t.co/9qP635znaa\"\n",
    "        },\n",
    "        {\n",
    "            \"author_id\": \"14594813\",\n",
    "            \"id\": \"1420073763643830275\",\n",
    "            \"text\": \"Com reforma, Bolsonaro consolida 27 trocas na Esplanada dos Minist\\u00e9rios em dois anos e meio https://t.co/r2kv1TmtzU\"\n",
    "        }\n",
    "    ],\n",
    "    \"meta\": {\n",
    "        \"newest_id\": \"1420089179690737668\",\n",
    "        \"next_token\": \"b26v89c19zqg8o3fpdm6gluv37fhc1o08leaaw7iwmmwt\",\n",
    "        \"oldest_id\": \"1420073763643830275\",\n",
    "        \"result_count\": 10\n",
    "    }\n",
    "}"
   ],
   "metadata": {
    "collapsed": false,
    "pycharm": {
     "name": "#%%\n"
    }
   }
  },
  {
   "cell_type": "markdown",
   "source": [
    "1. Vamos investigar o JSON (dict) de retorno. Veja que há duas *keys* no dicionário de resultados."
   ],
   "metadata": {
    "collapsed": false
   }
  },
  {
   "cell_type": "code",
   "execution_count": null,
   "outputs": [],
   "source": [
    "json_response_exemplo.keys()"
   ],
   "metadata": {
    "collapsed": false,
    "pycharm": {
     "name": "#%%\n"
    }
   }
  },
  {
   "cell_type": "markdown",
   "source": [
    "2. 'meta' sempre contém as fronteiras em termos de _id (newest, oldest) e o 'next_token' que é o endereço da próxima página\n",
    "3. Teremos que sistematizar o download de todos os tweets, até que 'next_token' seja null\n",
    "4. E teremos que tornar persistente uma database para que mantenha os tweets com mais de 7 dias na base, a partir do oitavo dia, certo?"
   ],
   "metadata": {
    "collapsed": false
   }
  },
  {
   "cell_type": "markdown",
   "source": [
    "Portanto, será necessário\n",
    "1. Criar uma base e salvá-la\n",
    "2. A cada novo processo/dia:\n",
    "    1. Ler/abrir a base\n",
    "    2. Ler os novos tweets\n",
    "    3. Verificar se os tweets já existem na base\n",
    "    4. Caso negativo, adicioná-los\n",
    "\n",
    "3. Salvar novamente a base\n",
    "\n",
    "**10 minutos para pensarem um pouco antes da resolução**\n",
    "\n",
    "---"
   ],
   "metadata": {
    "collapsed": false
   }
  },
  {
   "cell_type": "markdown",
   "source": [
    "0. Atualizando os parâmetros da *query*. Garantindo o token."
   ],
   "metadata": {
    "collapsed": false
   }
  },
  {
   "cell_type": "code",
   "execution_count": null,
   "outputs": [],
   "source": [
    "search_url = \"https://api.twitter.com/2/tweets/search/recent\"\n",
    "\n",
    "twitter_handle = 'folha'\n",
    "\n",
    "query_params = {'query': f'(from:{twitter_handle})',\n",
    "                'tweet.fields': 'author_id'}\n",
    "\n",
    "bearer_token = getpass()"
   ],
   "metadata": {
    "collapsed": false,
    "pycharm": {
     "name": "#%%\n"
    }
   }
  },
  {
   "cell_type": "markdown",
   "source": [
    "1. Criação base"
   ],
   "metadata": {
    "collapsed": false
   }
  },
  {
   "cell_type": "code",
   "execution_count": null,
   "outputs": [],
   "source": [
    "import os\n",
    "import pandas as pd\n",
    "\n",
    "path = 'data'\n",
    "filename = 'base_tweets.csv'\n",
    "if not os.path.exists(path):\n",
    "    os.mkdir(path)\n",
    "filename = os.path.join(path, filename)\n",
    "cols_names = ['author_id', 'id', 'text']\n",
    "\n",
    "base = pd.DataFrame(columns=cols_names)\n",
    "base.to_csv(filename, sep=';', index=False)"
   ],
   "metadata": {
    "collapsed": false,
    "pycharm": {
     "name": "#%%\n"
    }
   }
  },
  {
   "cell_type": "markdown",
   "source": [
    "2. Modificando somente a função `main()` para realizar várias leituras"
   ],
   "metadata": {
    "collapsed": false
   }
  },
  {
   "cell_type": "code",
   "execution_count": null,
   "outputs": [],
   "source": [
    "def main(database, path):\n",
    "    next_token = True\n",
    "    # Fazendo a leitura, enquanto existir 'next_token' na resposta\n",
    "    while next_token:\n",
    "        # Realizar a conexão com os parâmetros já estabelecidos\n",
    "        json_response = connect_to_endpoint(search_url, query_params)\n",
    "        # Atualizar o valor do next_token, de acordo com a resposta\n",
    "        if 'next_token' in json_response['meta']:\n",
    "            next_token = json_response['meta']['next_token']\n",
    "            # Conferindo a atualização realizada\n",
    "            print(next_token)\n",
    "            # Atualizando para a conexão que precisamos capturar a página seguinte\n",
    "            query_params['next_token'] = next_token\n",
    "        else:\n",
    "            next_token = False\n",
    "        # Atualizando o DataFrame em si.\n",
    "        # 1. Sabemos que o retorno tem duas keys. A key data, que contém uma lista de dicionários, precisa ser lida.\n",
    "        # 2. Uma vez lida, é adicionada à base existente\n",
    "        database = database.append(base.from_dict(x for x in json_response['data']))\n",
    "        # A título de exemplo, vamos interromper a leitura após maia de 10 leituras\n",
    "        # if len(database) > 20:\n",
    "        #     break\n",
    "    # Salvamos a base\n",
    "    database.to_csv(path, sep=';', index=False)\n",
    "    return database\n",
    "\n",
    "base = pd.read_csv(filename, sep=';')\n",
    "tweet_base = main(base, filename)"
   ],
   "metadata": {
    "collapsed": false,
    "pycharm": {
     "name": "#%%\n"
    }
   }
  },
  {
   "cell_type": "markdown",
   "source": [
    "3. Agora atualizando o exercício para o dia seguinte.\n",
    "4. Temos que verificar a *id* do nosso tweet mais recente da base"
   ],
   "metadata": {
    "collapsed": false
   }
  },
  {
   "cell_type": "code",
   "execution_count": null,
   "outputs": [],
   "source": [
    "def main(database, path):\n",
    "    next_token = True\n",
    "    # Note que a condição abaixo é necessária para verificar se há algum item com id na base\n",
    "    if database.id.max():\n",
    "        # Caso afirmativo, adicione o mais recente nos parâmetros da query\n",
    "        query_params['since_id'] = database.id.max()\n",
    "    while next_token:\n",
    "        json_response = connect_to_endpoint(search_url, query_params)\n",
    "        # Verificando se é necessária mais de uma conexão, ou se já é a última ou única.\n",
    "        if 'next_token' in json_response['meta']:\n",
    "            next_token = json_response['meta']['next_token']\n",
    "            print(next_token)\n",
    "            query_params['next_token'] = next_token\n",
    "        else:\n",
    "            next_token = False\n",
    "        if 'data' in json_response:\n",
    "            # Novamente. json_response['data'] é uma lista.\n",
    "            # Vamos precisar dos dicionários que estão dentro da lista.\n",
    "            database = database.append(database.from_dict(x for x in json_response['data']))\n",
    "        # if len(database) > 20:\n",
    "        #     break\n",
    "    database.to_csv(path, sep=';', index=False)\n",
    "    return database\n",
    "\n",
    "\n",
    "base = pd.read_csv(filename, sep=';')\n",
    "tweet_base = main(base, filename)"
   ],
   "metadata": {
    "collapsed": false,
    "pycharm": {
     "name": "#%%\n"
    }
   }
  },
  {
   "cell_type": "markdown",
   "source": [
    "---\n",
    "\n",
    "# Reforçando Captura $+$ Base de Dados\n",
    "# Exercício II API $+$ SQL\n",
    "\n",
    "---"
   ],
   "metadata": {
    "collapsed": false
   }
  },
  {
   "cell_type": "markdown",
   "source": [
    "1. Seguindo exatamente os passos que utilizamos para ilustrar SQL, vamos simplificar o processo e\n",
    "criar uma base que atenda os requisitos desta captura de dados de tweets.\n",
    "\n",
    "**10 minutos para voltarem ao exercício anterior e se familiarizarem novamente com os passos necessários**\n",
    "\n",
    "... e me contarem quais passos são esses."
   ],
   "metadata": {
    "collapsed": false
   }
  },
  {
   "cell_type": "code",
   "execution_count": null,
   "outputs": [],
   "source": [
    "import time\n",
    "\n",
    "def countdown(t):\n",
    "    while t:\n",
    "        print(f'Faltando...: {t} segundos')\n",
    "        time.sleep(60)\n",
    "        t -= 60\n",
    "    print('Comecemos!')\n",
    "\n",
    "minutes = 10\n",
    "countdown(minutes * 60)"
   ],
   "metadata": {
    "collapsed": false,
    "pycharm": {
     "name": "#%%\n"
    }
   }
  },
  {
   "cell_type": "code",
   "execution_count": null,
   "outputs": [],
   "source": [
    "print('Brincando de python de forma útil...')"
   ],
   "metadata": {
    "collapsed": false,
    "pycharm": {
     "name": "#%%\n"
    }
   }
  },
  {
   "cell_type": "markdown",
   "source": [
    "1. Vamos começar **CRIANDO** a função de conexão com uma base nova. E o nome da nova base."
   ],
   "metadata": {
    "collapsed": false
   }
  },
  {
   "cell_type": "code",
   "execution_count": null,
   "outputs": [],
   "source": [
    "import sqlite3"
   ],
   "metadata": {
    "collapsed": false,
    "pycharm": {
     "name": "#%%\n"
    }
   }
  },
  {
   "cell_type": "markdown",
   "source": [
    "2. Configuração de dados básicos."
   ],
   "metadata": {
    "collapsed": false
   }
  },
  {
   "cell_type": "code",
   "execution_count": null,
   "outputs": [],
   "source": [
    "# Endereço no qual irá guardar a database\n",
    "tweet_db = 'data/my_first_tweet_database.db'\n",
    "\n",
    "# Relembrando dados básicos\n",
    "search_url = \"https://api.twitter.com/2/tweets/search/recent\"\n",
    "\n",
    "twitter_handle = 'folha'\n",
    "query_params = {'query': f'(from:{twitter_handle})',\n",
    "                'tweet.fields': 'author_id'}"
   ],
   "metadata": {
    "collapsed": false,
    "pycharm": {
     "name": "#%%\n"
    }
   }
  },
  {
   "cell_type": "markdown",
   "source": [
    "3. Função genérica de conexão"
   ],
   "metadata": {
    "collapsed": false
   }
  },
  {
   "cell_type": "code",
   "execution_count": null,
   "outputs": [],
   "source": [
    "def connect_db(database):\n",
    "    conn = sqlite3.connect(database)\n",
    "    print(f'Conexão realizada com sucesso.')\n",
    "    return conn"
   ],
   "metadata": {
    "collapsed": false,
    "pycharm": {
     "name": "#%%\n"
    }
   }
  },
  {
   "cell_type": "markdown",
   "source": [
    "4. Na sequência, vamos adaptar os comandos **SQL** para a CRIAÇÃO DE TABELAS na base nova.\n",
    "\n",
    " * Como exemplo, vamos fazer só uma tabela. Sugiro realizarem de forma mais completa posteriormente."
   ],
   "metadata": {
    "collapsed": false
   }
  },
  {
   "cell_type": "code",
   "execution_count": null,
   "outputs": [],
   "source": [
    "sql_create_table = \"\"\"CREATE TABLE IF NOT EXISTS tweets (\n",
    "                                id integer PRIMARY KEY,\n",
    "                                texto text NOT NULL,\n",
    "                                author_id NOT NULL\n",
    "                            );\"\"\""
   ],
   "metadata": {
    "collapsed": false,
    "pycharm": {
     "name": "#%%\n"
    }
   }
  },
  {
   "cell_type": "markdown",
   "source": [
    "5. Com a função de conexão, o nome da base e a instrução para criação da tabela, vamos DE FACTO, criar a tabela.\n",
    " * Simplesmente passa o nome da base, executa o comando de criar tabela e *commit* (salva localmente)."
   ],
   "metadata": {
    "collapsed": false
   }
  },
  {
   "cell_type": "code",
   "execution_count": null,
   "outputs": [],
   "source": [
    "# Rode somente uma vez para criar a table.\n",
    "with connect_db(tweet_db) as con:\n",
    "    con.execute(sql_create_table)\n",
    "    con.commit()"
   ],
   "metadata": {
    "collapsed": false,
    "pycharm": {
     "name": "#%%\n"
    }
   }
  },
  {
   "cell_type": "markdown",
   "source": [
    "6. Agora a parte distinta do exemplo anterior. Temos que inserir o processo de ATUALIZAÇÃO da base SQL ao processo de consulta da API!\n",
    "7. Vamos utilizar a mesma função `main` anterior, porém, **alterando**:\n",
    " 1. No momento de atualização da base.\n",
    " 2. E na consulta ao valor máximo presente na base."
   ],
   "metadata": {
    "collapsed": false
   }
  },
  {
   "cell_type": "code",
   "execution_count": null,
   "outputs": [],
   "source": [
    "def insere_tweet(conn, tweet):\n",
    "    sql = ''' INSERT INTO tweets(author_id,id,texto)\n",
    "              VALUES(?,?,?) '''\n",
    "    cur = conn.cursor()\n",
    "    # Note que 'tweet' precisa ser recebido como uma lista com sequência de id, author_id e texto\n",
    "    cur.executemany(sql, tweet)\n",
    "    conn.commit()\n",
    "    return cur.lastrowid"
   ],
   "metadata": {
    "collapsed": false,
    "pycharm": {
     "name": "#%%\n"
    }
   }
  },
  {
   "cell_type": "code",
   "execution_count": null,
   "outputs": [],
   "source": [
    "def check_since_id(conn):\n",
    "    sql = '''SELECT MAX(id) FROM tweets;'''\n",
    "    cur = conn.cursor()\n",
    "    cur.execute(sql)\n",
    "    return cur.fetchone()[0]"
   ],
   "metadata": {
    "collapsed": false,
    "pycharm": {
     "name": "#%%\n"
    }
   }
  },
  {
   "cell_type": "code",
   "execution_count": null,
   "outputs": [],
   "source": [
    "def main(database):\n",
    "    # Abre a conexão com SQL\n",
    "    with connect_db(database) as conn:\n",
    "        next_token = True\n",
    "        # # Note que a condição abaixo é necessária para verificar se há algum item com id na base\n",
    "        # if database.id.max():\n",
    "        #     # Caso afirmativo, adicione o mais recente nos parâmetros da query\n",
    "        #     query_params['since_id'] = database.id.max()\n",
    "        while next_token:\n",
    "            # Verificando se o tweet mais recente já está na base\n",
    "            max_value = check_since_id(con)\n",
    "            if max_value:\n",
    "                query_params['since_id'] = max_value\n",
    "            json_response = connect_to_endpoint(search_url, query_params)\n",
    "            # Verificando se é necessária mais de uma conexão, ou se já é a última ou única.\n",
    "            if 'next_token' in json_response['meta']:\n",
    "                next_token = json_response['meta']['next_token']\n",
    "                print(next_token)\n",
    "                query_params['next_token'] = next_token\n",
    "            else:\n",
    "                next_token = False\n",
    "            if 'data' in json_response:\n",
    "                # Novamente. json_response['data'] é uma lista.\n",
    "                # Vamos precisar dos dicionários que estão dentro da lista.\n",
    "                tweets = [list(x.values()) for x in json_response['data']]\n",
    "                insere_tweet(conn, tweets)"
   ],
   "metadata": {
    "collapsed": false,
    "pycharm": {
     "name": "#%%\n"
    }
   }
  },
  {
   "cell_type": "markdown",
   "source": [
    "Chama a função com a database"
   ],
   "metadata": {
    "collapsed": false
   }
  },
  {
   "cell_type": "code",
   "execution_count": null,
   "outputs": [],
   "source": [
    "main(tweet_db)"
   ],
   "metadata": {
    "collapsed": false,
    "pycharm": {
     "name": "#%%\n"
    }
   }
  }
 ]
}