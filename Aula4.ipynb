{
 "nbformat": 4,
 "nbformat_minor": 0,
 "metadata": {
  "colab": {
   "name": "Aula4.ipynb",
   "provenance": [],
   "collapsed_sections": []
  },
  "kernelspec": {
   "name": "python3",
   "language": "python",
   "display_name": "Python 3 (ipykernel)"
  },
  "language_info": {
   "name": "python"
  }
 },
 "cells": [
  {
   "cell_type": "markdown",
   "source": [
    "# Técnicas Avançadas de **Captura e Tratamento** de Dados\n",
    "\n",
    "---\n",
    "## Prof. Bernardo Alves Furtado\n",
    "---\n",
    "### MBA em Big Data, Business Analytics e Gestão de Negócios. @**IDP**\n",
    "\n",
    "3 a 21 agosto  -- 21 horas/aula"
   ],
   "metadata": {
    "collapsed": false
   }
  },
  {
   "cell_type": "markdown",
   "source": [
    "---\n",
    "### Recuperando elementos da última aula:\n",
    "# `class`\n",
    "\n",
    "1. https://sites.google.com/view/bernardo-alves-furtado/presentations\n",
    "\n",
    "PDF apresentação sobre `class`\n",
    "2. https://drive.google.com/file/d/1XmhDXW_dI3qS23bse0p9TUCUa__nxiq9/view?usp=sharing\n",
    "\n",
    "# Exercício Lucas. API. Post"
   ],
   "metadata": {
    "collapsed": false
   }
  },
  {
   "cell_type": "code",
   "execution_count": 1,
   "outputs": [
    {
     "data": {
      "text/plain": "'https://pastebin.com/GRzcTQXq'"
     },
     "execution_count": 1,
     "metadata": {},
     "output_type": "execute_result"
    }
   ],
   "source": [
    "import requests\n",
    "# Exemplo\n",
    "\n",
    "# Chave da API\n",
    "API_KEY = \"bISrNciS0j0yT4WGEWHnkj6cuhs1eZw6\"\n",
    "\n",
    "# Endereço que enviaremos os dados\n",
    "API_ENDPOINT = \"https://pastebin.com/api/api_post.php\"\n",
    "\n",
    "# Esse é o código que queremos enviar\n",
    "source_code = '''\n",
    "class MyFirstClass:\n",
    "    def __init__(self, _id):\n",
    "        self.id = _id\n",
    "        print('This is my first class')\n",
    "        print(f'This is object {self.id}')\n",
    "\n",
    "for i in range(5):\n",
    "    MyFirstClass(i)\n",
    "'''\n",
    "# O \"data\" tem tudo que\n",
    "data = {'api_dev_key':API_KEY,\n",
    "        'api_option':'paste',\n",
    "        'api_method':'post',\n",
    "        'api_paste_code':source_code,\n",
    "        'api_paste_format':'python'}\n",
    "\n",
    "# Post dos nossos dados\n",
    "r = requests.post(url=API_ENDPOINT, data=data)\n",
    "r.text"
   ],
   "metadata": {
    "collapsed": false,
    "pycharm": {
     "name": "#%%\n"
    }
   }
  },
  {
   "cell_type": "markdown",
   "source": [
    "---\n",
    "## Boa prática: robots.txt\n",
    "\n",
    "No exempĺo da aula passada de PDF, os resultados de um concurso público, são públicos e podem ser conferidos por qualquer parte\n",
    "interessada.\n",
    "\n",
    "O agente que divulga a informação pode fazê-lo por meio de um PDF (talvez mais simples ou imediato),\n",
    "ou pode fazê-lo também com uma simples planilha.\n",
    "\n",
    "Portanto, a leitura dos dados está em consonância com o caráter público da sua divulgação.\n",
    "\n",
    "O mesmo acontece (deveria acontecer) com os DIÁRIOS OFICIAIS, ou com as informações dos cartórios, por exemplo.\n",
    "\n",
    "---\n",
    "\n",
    "Nos sites, o arquivo **robots.txt** é uma maneira padrão de informar (não exige, apenas informa) ao\n",
    "usuário o que *spider, crawler, robôs* podem ou não realizar em determinado site. O chamado *Robots Exclusion Protocol*\n",
    "\n"
   ],
   "metadata": {
    "collapsed": false
   }
  },
  {
   "cell_type": "code",
   "execution_count": 2,
   "outputs": [],
   "source": [
    "# Exemplo. source: (Jarmul e Lawson, 2017)\n",
    "\n",
    "# section 1\n",
    "# User-agent: BadCrawler\n",
    "# Disallow: /"
   ],
   "metadata": {
    "collapsed": false,
    "pycharm": {
     "name": "#%%\n"
    }
   }
  },
  {
   "cell_type": "markdown",
   "source": [
    "`Disallow: /` restringe todo o conteúdo do site a robôs."
   ],
   "metadata": {
    "collapsed": false
   }
  },
  {
   "cell_type": "code",
   "execution_count": 3,
   "outputs": [],
   "source": [
    "# section 2\n",
    "# User-agent: *\n",
    "# Crawl-delay: 5\n",
    "# Disallow: /trap"
   ],
   "metadata": {
    "collapsed": false,
    "pycharm": {
     "name": "#%%\n"
    }
   }
  },
  {
   "cell_type": "markdown",
   "source": [
    "Crawl-delay recomenda que o robô pause entre pedidos de request"
   ],
   "metadata": {
    "collapsed": false
   }
  },
  {
   "cell_type": "code",
   "execution_count": 4,
   "outputs": [],
   "source": [
    "# section 3\n",
    "# Sitemap: https://economia.uol.com.br/sitemap/v2/201902.xml"
   ],
   "metadata": {
    "collapsed": false,
    "pycharm": {
     "name": "#%%\n"
    }
   }
  },
  {
   "cell_type": "markdown",
   "source": [
    "Além das regras, o robots.txt pode conter o link para o arquivo XML que fornece a estrutura da página.\n",
    "\n",
    "Esta informação já pode ser útil, por exemplo, para quem busca por títulos de notícias para associar a preços de ativos, por exemplo."
   ],
   "metadata": {
    "collapsed": false
   }
  },
  {
   "cell_type": "code",
   "execution_count": 5,
   "outputs": [],
   "source": [
    "# Outro exemplo:\n",
    "\n",
    "# robots.txt for http://www.folha.com.br/\n",
    "# Contact webmaster@grupofolha.com.br if you have questions regarding this file\n",
    "\n",
    "# User-agent: *\n",
    "# Disallow: /cgi-bin/\n",
    "# Disallow: /folha/\n",
    "# Disallow: /guia/\n",
    "# Disallow: /logs/\n",
    "# Disallow: /simulador/\n",
    "#\n",
    "# User-agent: Googlebot-News\n",
    "# Allow: *\n",
    "#\n",
    "# User-agent: Twitterbot\n",
    "# Disallow: /virtual/"
   ],
   "metadata": {
    "collapsed": false,
    "pycharm": {
     "name": "#%%\n"
    }
   }
  },
  {
   "cell_type": "markdown",
   "source": [
    "---\n",
    "# APIs 0\n",
    "## Request: exemplo simplista"
   ],
   "metadata": {
    "collapsed": false
   }
  },
  {
   "cell_type": "markdown",
   "source": [
    "Check: https://www.earthdatascience.org/courses/use-data-open-source-python/intro-to-apis/apis-in-python/"
   ],
   "metadata": {
    "collapsed": false
   }
  },
  {
   "cell_type": "code",
   "execution_count": 6,
   "outputs": [
    {
     "data": {
      "text/plain": "200"
     },
     "execution_count": 6,
     "metadata": {},
     "output_type": "execute_result"
    }
   ],
   "source": [
    "import urllib.request\n",
    "\n",
    "url = 'https://economia.uol.com.br'\n",
    "response = urllib.request.urlopen(url)\n",
    "response.status"
   ],
   "metadata": {
    "collapsed": false,
    "pycharm": {
     "name": "#%%\n"
    }
   }
  },
  {
   "cell_type": "code",
   "execution_count": 7,
   "outputs": [],
   "source": [
    "from bs4 import BeautifulSoup as BS\n",
    "soup = BS(response, 'html5lib')"
   ],
   "metadata": {
    "collapsed": false,
    "pycharm": {
     "name": "#%%\n"
    }
   }
  },
  {
   "cell_type": "code",
   "execution_count": 8,
   "outputs": [
    {
     "name": "stdout",
     "output_type": "stream",
     "text": [
      "Destaques                          Opinião: Jefferson é corajoso, ingênuo, irresponsável ou estrategista?                   Conta digital tem garantia? FGC responde a dúvidas comuns dos investidores                   Banco do Brasil realiza leilão de 100 imóveis com desconto de até 64%                   Militares não farão desfile de 7 de setembro, mas estudam outras atividades\n"
     ]
    }
   ],
   "source": [
    "some_results = soup.find_all('section', {'class': 'highlights-headline'})\n",
    "print(some_results[0].text.strip())"
   ],
   "metadata": {
    "collapsed": false,
    "pycharm": {
     "name": "#%%\n"
    }
   }
  },
  {
   "cell_type": "markdown",
   "source": [
    "---\n",
    "Na prática\n",
    "# APIs I\n",
    "\n",
    "\"*Uma API define uma sintaxe padronizada que permite a um software se comunicar com\n",
    "outro, mesmo que tenham sido escritos em linguagens diferentes ou\n",
    "estejam estruturados de modo distinto.*\" (Mitchel, 2019, p. 201)\n",
    "\n",
    "## Ilustração: lat, long"
   ],
   "metadata": {
    "collapsed": false
   }
  },
  {
   "cell_type": "code",
   "execution_count": 9,
   "outputs": [
    {
     "name": "stdout",
     "output_type": "stream",
     "text": [
      "Instituto Brasiliense de Direito Público, SGAS - Quadra 607, SQS 407, Asa Sul, Brasília, Plano Piloto, Região Geográfica Imediata do Distrito Federal, Região Integrada de Desenvolvimento do Distrito Federal e Entorno, Região Geográfica Intermediária do Distrito Federal, Distrito Federal, Região Centro-Oeste, 70422-900, Brasil\n",
      "lat: -15.821596, long: -47.894647\n",
      "Instituto de Pesquisa Econômica Aplicada, SBS Quadra 01, Setor Bancário Sul, Brasília, Plano Piloto, Região Geográfica Imediata do Distrito Federal, Região Integrada de Desenvolvimento do Distrito Federal e Entorno, Região Geográfica Intermediária do Distrito Federal, Distrito Federal, Região Centro-Oeste, 70070-120, Brasil\n",
      "lat: -15.798409, long: -47.880742\n",
      "Conselho Nacional de Desenvolvimento Científico e Tecnológico, Estrada Parque Dom Bosco, Lago Sul, Região Geográfica Imediata do Distrito Federal, Região Integrada de Desenvolvimento do Distrito Federal e Entorno, Região Geográfica Intermediária do Distrito Federal, Distrito Federal, Região Centro-Oeste, 70210000, Brasil\n",
      "lat: -15.859079, long: -47.927222\n"
     ]
    }
   ],
   "source": [
    "import requests\n",
    "import urllib.parse\n",
    "\n",
    "places = 'IDP', 'Ipea', 'CNPq'\n",
    "\n",
    "\n",
    "def lat_long(locais):\n",
    "    for local in locais:\n",
    "        address = f'{local}, Brasília, Brazil'\n",
    "        url = 'https://nominatim.openstreetmap.org/search/' + urllib.parse.quote(address) +'?format=json'\n",
    "        response = requests.get(url).json()\n",
    "        # Note que para cada local uma response é gerada.\n",
    "        # Como poderíamos armazenar essas informações?\n",
    "        print(response[0]['display_name'])\n",
    "        lat = float(response[0]['lat'])\n",
    "        long = float(response[0]['lon'])\n",
    "        print(f'lat: {lat:.8}, long: {long:.8}')\n",
    "\n",
    "\n",
    "lat_long(places)"
   ],
   "metadata": {
    "collapsed": false,
    "pycharm": {
     "name": "#%%\n"
    }
   }
  },
  {
   "cell_type": "markdown",
   "source": [
    "## Exercício rápido.\n",
    "\n",
    "1. Calcule a distância linear da sua casa ao IDP.\n",
    "2. Crie um local novo: 'SQS 402', ou o seu endereço.\n",
    "3. Adicione no address completo (cidade, país)\n",
    "4. Use o código acima\n",
    "5. Use teorema de pitágoras"
   ],
   "metadata": {
    "collapsed": false
   }
  },
  {
   "cell_type": "code",
   "execution_count": 10,
   "outputs": [],
   "source": [
    "# Tip.\n",
    "# Convert to meters by multiplying it to  111,139. (111 mil)\n",
    "def calculate_distancia_in_meters(x1, y1, x2, y2):\n",
    "    return ((x1 - x2) ** 2 + (y1 - y2) ** 2) ** .5 * 111139\n"
   ],
   "metadata": {
    "collapsed": false,
    "pycharm": {
     "name": "#%%\n"
    }
   }
  },
  {
   "cell_type": "code",
   "execution_count": 11,
   "outputs": [],
   "source": [
    "def lat_long2(place):\n",
    "    address = f'{place}, Brasília, Brazil'\n",
    "    url = 'https://nominatim.openstreetmap.org/search/' + urllib.parse.quote(address) +'?format=json'\n",
    "    response = requests.get(url).json()\n",
    "    try:\n",
    "        print(response[0]['display_name'])\n",
    "        return float(response[0]['lat']), float(response[0]['lon'])\n",
    "    except IndexError:\n",
    "        print(f'Place not found {place}!')\n",
    "        return False, False"
   ],
   "metadata": {
    "collapsed": false,
    "pycharm": {
     "name": "#%%\n"
    }
   }
  },
  {
   "cell_type": "code",
   "execution_count": 12,
   "outputs": [],
   "source": [
    "def distance(place1, place2):\n",
    "    x1, y1 = lat_long2(place1)\n",
    "    x2, y2 = lat_long2(place2)\n",
    "    if all([x1, y1, x2, y2]):\n",
    "        print(f'Distância estimada de {calculate_distancia_in_meters(x1, y1, x2, y2)/1000:.2f} km')\n",
    "    else:\n",
    "        print('Not all places were found')"
   ],
   "metadata": {
    "collapsed": false,
    "pycharm": {
     "name": "#%%\n"
    }
   }
  },
  {
   "cell_type": "code",
   "execution_count": 13,
   "outputs": [
    {
     "name": "stdout",
     "output_type": "stream",
     "text": [
      "Instituto Brasiliense de Direito Público, SGAS - Quadra 607, SQS 407, Asa Sul, Brasília, Plano Piloto, Região Geográfica Imediata do Distrito Federal, Região Integrada de Desenvolvimento do Distrito Federal e Entorno, Região Geográfica Intermediária do Distrito Federal, Distrito Federal, Região Centro-Oeste, 70422-900, Brasil\n",
      "SQN 216, Brasília, Plano Piloto, Região Geográfica Imediata do Distrito Federal, Região Integrada de Desenvolvimento do Distrito Federal e Entorno, Região Geográfica Intermediária do Distrito Federal, Distrito Federal, Região Centro-Oeste, 70875510, Brasil\n",
      "Distância estimada de 9.37 km\n"
     ]
    }
   ],
   "source": [
    "p1 = 'IDP'\n",
    "p2 = 'SQN 216'\n",
    "\n",
    "distance(p1, p2)"
   ],
   "metadata": {
    "collapsed": false,
    "pycharm": {
     "name": "#%%\n"
    }
   }
  },
  {
   "cell_type": "markdown",
   "source": [
    "---\n",
    "# APIs II"
   ],
   "metadata": {
    "collapsed": false
   }
  },
  {
   "cell_type": "code",
   "execution_count": 14,
   "outputs": [
    {
     "data": {
      "text/plain": "{'total_gazettes': 82,\n 'gazettes': [{'territory_id': '2927408',\n   'date': '2020-12-31',\n   'url': 'https://querido-diario.nyc3.cdn.digitaloceanspaces.com/2927408/2020-12-31/b13e9cc325502b91376f8fb1a7577a22f7bff477.pdf',\n   'territory_name': 'Salvador',\n   'state_code': 'BA',\n   'highlight_texts': ['à Pandemia do Covid-19 - SEMOB Ações Realizadas Percentual Inter-Regionais  100,00  100.000 \\n\\n26.122.0002.263019 Enfrentamento à Pandemia do Covid-19'],\n   'is_extra_edition': False,\n   'file_raw_txt': 'https://querido-diario.nyc3.cdn.digitaloceanspaces.com/2927408/2020-12-31/b13e9cc325502b91376f8fb1a7577a22f7bff477.txt'},\n  {'territory_id': '1721000',\n   'date': '2020-12-31',\n   'url': 'https://querido-diario.nyc3.cdn.digitaloceanspaces.com/1721000/2020-12-31/0d0b3226bebf787a3030ccefc9ef7561eb653eac.pdf',\n   'territory_name': 'Palmas',\n   'state_code': 'TO',\n   'highlight_texts': ['lenta, tendo \\n\\nque o Ministério da Economia projeta a volta da fase pré-pandemia em 2022.'],\n   'is_extra_edition': False,\n   'file_raw_txt': 'https://querido-diario.nyc3.cdn.digitaloceanspaces.com/1721000/2020-12-31/0d0b3226bebf787a3030ccefc9ef7561eb653eac.txt'},\n  {'territory_id': '3304557',\n   'date': '2020-12-31',\n   'url': 'https://querido-diario.nyc3.cdn.digitaloceanspaces.com/3304557/2020-12-31/725c7257e6a95847e9771e46b666b3c55878d3bc',\n   'territory_name': 'Rio de Janeiro',\n   'state_code': 'RJ',\n   'highlight_texts': ['DATA, HORA E LOCAL: Em 17 de novembro de 2020, às 15h, realizada \\natravés de teleconferência (zoom.us/previrio), devido à pandemia da \\nCOVID-19.\\n\\n2.'],\n   'is_extra_edition': False,\n   'file_raw_txt': 'https://querido-diario.nyc3.cdn.digitaloceanspaces.com/3304557/2020-12-31/725c7257e6a95847e9771e46b666b3c55878d3bc.txt'},\n  {'territory_id': '1302603',\n   'date': '2020-12-31',\n   'url': 'https://querido-diario.nyc3.cdn.digitaloceanspaces.com/1302603/2020-12-31/019c4d6e61ed7d519610ae8bf0f1146d4a4e385b.pdf',\n   'territory_name': 'Manaus',\n   'state_code': 'AM',\n   'highlight_texts': ['180101 - Secretaria Municipal de Educação       \\n\\nEVENTO FR ND UG F SF P AÇÃO VALOR \\n1096 - Fortalecimento das Ações Emergenciais de Enfrentamento à Pandemia'],\n   'is_extra_edition': False},\n  {'territory_id': '2507507',\n   'date': '2020-12-31',\n   'url': 'https://querido-diario.nyc3.cdn.digitaloceanspaces.com/2507507/2020-12-31/08bbfaeb37b3136770e2fd696a78aec0dfb27009.pdf',\n   'territory_name': 'João Pessoa',\n   'state_code': 'PB',\n   'highlight_texts': ['ABRE CRÉDITO EXTRAORDINÁRIO NO\\n\\nORÇAMENTO MUNICIPAL, VISANDO AO\\n\\nCOMBATE À PANDEMIA DO\\n\\nCORONAVÍRUS (COVID - 19), NO\\n\\nMUNICÍPIO DE JOÃO PESSOA - PB.'],\n   'is_extra_edition': True,\n   'file_raw_txt': 'https://querido-diario.nyc3.cdn.digitaloceanspaces.com/2507507/2020-12-31/08bbfaeb37b3136770e2fd696a78aec0dfb27009.txt'},\n  {'territory_id': '2704302',\n   'date': '2020-12-30',\n   'url': 'https://querido-diario.nyc3.cdn.digitaloceanspaces.com/2704302/2020-12-30/6880e353c91313fbc11663d356385f218727a367.pdf',\n   'territory_name': 'Maceió',\n   'state_code': 'AL',\n   'highlight_texts': ['Dispõe sobre a prorrogação dos prazos de vigência \\ndas emendas parlamentares com execução para 2020, \\nem decorrência da Pandemia da COVID-19.'],\n   'is_extra_edition': True,\n   'file_raw_txt': 'https://querido-diario.nyc3.cdn.digitaloceanspaces.com/2704302/2020-12-30/6880e353c91313fbc11663d356385f218727a367.txt'},\n  {'territory_id': '1302603',\n   'date': '2020-12-30',\n   'url': 'https://querido-diario.nyc3.cdn.digitaloceanspaces.com/1302603/2020-12-30/c0cbb3e0785e76bec5eb7332524aeb846a554fb1.pdf',\n   'territory_name': 'Manaus',\n   'state_code': 'AM',\n   'highlight_texts': ['Outros Serviços de Terceiros - Pessoa Jurídica 01000000 50.000 \\n\\n \\n \\n\\n \\n01.305.0151.1096 - Fortalecimento das Ações Emergenciais de Enfrentamento da Pandemia'],\n   'is_extra_edition': True},\n  {'territory_id': '2704302',\n   'date': '2020-12-30',\n   'url': 'https://querido-diario.nyc3.cdn.digitaloceanspaces.com/2704302/2020-12-30/98145868e181afac62524af694ef54f944915ba8.pdf',\n   'territory_name': 'Maceió',\n   'state_code': 'AL',\n   'highlight_texts': ['Diante desse cenário adveio a pandemia que assolou todo o mundo \\ncom consequências diretas e trágicas para com o transporte público de \\nforma a interferir'],\n   'is_extra_edition': False,\n   'file_raw_txt': 'https://querido-diario.nyc3.cdn.digitaloceanspaces.com/2704302/2020-12-30/98145868e181afac62524af694ef54f944915ba8.txt'},\n  {'territory_id': '2211001',\n   'date': '2020-12-30',\n   'url': 'https://querido-diario.nyc3.cdn.digitaloceanspaces.com/2211001/2020-12-30/ec432a7f330442cd32556028fc668f3ac24258c3.pdf',\n   'territory_name': 'Teresina',\n   'state_code': 'PI',\n   'highlight_texts': [', para os usu-\\nários/as e famílias dos serviços socioassistenciais inscritos no Cadúnico ou \\nbeneficiários do Programa Bolsa Família que, em razão da pandemia'],\n   'edition': '2927',\n   'is_extra_edition': False,\n   'file_raw_txt': 'https://querido-diario.nyc3.cdn.digitaloceanspaces.com/2211001/2020-12-30/ec432a7f330442cd32556028fc668f3ac24258c3.txt'},\n  {'territory_id': '4205407',\n   'date': '2020-12-30',\n   'url': 'https://querido-diario.nyc3.cdn.digitaloceanspaces.com/4205407/2020-12-30/e83f5e1b581d6482ff83d834937fdae741e3a7d4.pdf',\n   'territory_name': 'Florianópolis',\n   'state_code': 'SC',\n   'highlight_texts': ['considerando o Decreto \\nEstadual n. 1.027, de 2020, que declara estado de \\ncalamidade pública em todo o território \\ncatarinense, para fins de enfrentamento da \\npandemia'],\n   'edition': '2851',\n   'is_extra_edition': False,\n   'file_raw_txt': 'https://querido-diario.nyc3.cdn.digitaloceanspaces.com/4205407/2020-12-30/e83f5e1b581d6482ff83d834937fdae741e3a7d4.txt'}]}"
     },
     "execution_count": 14,
     "metadata": {},
     "output_type": "execute_result"
    }
   ],
   "source": [
    "import requests\n",
    "url = 'https://queridodiario.ok.org.br/api/'\n",
    "endpoint = 'gazettes/'\n",
    "\n",
    "params = {'since': '2020-12-15',\n",
    "          'until': '2020-12-31',\n",
    "          'keywords': ['pandemia']}\n",
    "\n",
    "r = requests.get(f'{url}{endpoint}', params=params).json()\n",
    "r"
   ],
   "metadata": {
    "collapsed": false,
    "pycharm": {
     "name": "#%%\n"
    }
   }
  },
  {
   "cell_type": "code",
   "execution_count": 15,
   "outputs": [
    {
     "name": "stdout",
     "output_type": "stream",
     "text": [
      "dict_keys(['total_gazettes', 'gazettes'])\n"
     ]
    }
   ],
   "source": [
    "print(r.keys())"
   ],
   "metadata": {
    "collapsed": false,
    "pycharm": {
     "name": "#%%\n"
    }
   }
  },
  {
   "cell_type": "code",
   "execution_count": 16,
   "outputs": [
    {
     "name": "stdout",
     "output_type": "stream",
     "text": [
      "<class 'list'>\n"
     ]
    }
   ],
   "source": [
    "print(type(r['gazettes']))"
   ],
   "metadata": {
    "collapsed": false,
    "pycharm": {
     "name": "#%%\n"
    }
   }
  },
  {
   "cell_type": "code",
   "execution_count": 17,
   "outputs": [
    {
     "name": "stdout",
     "output_type": "stream",
     "text": [
      "<class 'dict'>\n"
     ]
    }
   ],
   "source": [
    "print(type(r['gazettes'][0]))"
   ],
   "metadata": {
    "collapsed": false,
    "pycharm": {
     "name": "#%%\n"
    }
   }
  },
  {
   "cell_type": "code",
   "execution_count": 18,
   "outputs": [
    {
     "name": "stdout",
     "output_type": "stream",
     "text": [
      "dict_keys(['territory_id', 'date', 'url', 'territory_name', 'state_code', 'highlight_texts', 'is_extra_edition', 'file_raw_txt'])\n"
     ]
    }
   ],
   "source": [
    "print(r['gazettes'][0].keys())"
   ],
   "metadata": {
    "collapsed": false,
    "pycharm": {
     "name": "#%%\n"
    }
   }
  },
  {
   "cell_type": "code",
   "execution_count": 19,
   "outputs": [
    {
     "data": {
      "text/plain": "'https://querido-diario.nyc3.cdn.digitaloceanspaces.com/4205407/2020-12-30/e83f5e1b581d6482ff83d834937fdae741e3a7d4.txt'"
     },
     "execution_count": 19,
     "metadata": {},
     "output_type": "execute_result"
    }
   ],
   "source": [
    "for gazette in r['gazettes']:\n",
    "    try:\n",
    "        texto = gazette['file_raw_txt']\n",
    "    except KeyError:\n",
    "        pass\n",
    "\n",
    "texto\n"
   ],
   "metadata": {
    "collapsed": false,
    "pycharm": {
     "name": "#%%\n"
    }
   }
  },
  {
   "cell_type": "code",
   "execution_count": 20,
   "outputs": [
    {
     "data": {
      "text/plain": "['https://querido-diario.nyc3.cdn.digitaloceanspaces.com/2927408/2020-12-31/b13e9cc325502b91376f8fb1a7577a22f7bff477.txt',\n 'https://querido-diario.nyc3.cdn.digitaloceanspaces.com/1721000/2020-12-31/0d0b3226bebf787a3030ccefc9ef7561eb653eac.txt',\n 'https://querido-diario.nyc3.cdn.digitaloceanspaces.com/3304557/2020-12-31/725c7257e6a95847e9771e46b666b3c55878d3bc.txt',\n 'https://querido-diario.nyc3.cdn.digitaloceanspaces.com/2507507/2020-12-31/08bbfaeb37b3136770e2fd696a78aec0dfb27009.txt',\n 'https://querido-diario.nyc3.cdn.digitaloceanspaces.com/2704302/2020-12-30/6880e353c91313fbc11663d356385f218727a367.txt',\n 'https://querido-diario.nyc3.cdn.digitaloceanspaces.com/2704302/2020-12-30/98145868e181afac62524af694ef54f944915ba8.txt',\n 'https://querido-diario.nyc3.cdn.digitaloceanspaces.com/2211001/2020-12-30/ec432a7f330442cd32556028fc668f3ac24258c3.txt',\n 'https://querido-diario.nyc3.cdn.digitaloceanspaces.com/4205407/2020-12-30/e83f5e1b581d6482ff83d834937fdae741e3a7d4.txt']"
     },
     "execution_count": 20,
     "metadata": {},
     "output_type": "execute_result"
    }
   ],
   "source": [
    "textos = list()\n",
    "for gazette in r['gazettes']:\n",
    "    try:\n",
    "        textos.append(gazette['file_raw_txt'])\n",
    "    except KeyError:\n",
    "        pass\n",
    "textos"
   ],
   "metadata": {
    "collapsed": false,
    "pycharm": {
     "name": "#%%\n"
    }
   }
  },
  {
   "cell_type": "code",
   "execution_count": 21,
   "outputs": [
    {
     "data": {
      "text/plain": "200"
     },
     "execution_count": 21,
     "metadata": {},
     "output_type": "execute_result"
    }
   ],
   "source": [
    "response = urllib.request.urlopen(texto)\n",
    "response.status"
   ],
   "metadata": {
    "collapsed": false,
    "pycharm": {
     "name": "#%%\n"
    }
   }
  },
  {
   "cell_type": "code",
   "execution_count": 22,
   "outputs": [
    {
     "data": {
      "text/plain": "<html><head></head><body>DIÁRIO OFICIAL ELETRÔNICO \n DO MUNICÍPIO DE FLORIANÓPOLIS \nEdição Nº  2851 Florianópolis/SC, quarta-feira, 30 de dezembro de 2020 pg. 1 \n \n\n \n\nPREFEITURA MUNICIPAL DE FLORIANÓPOLIS  Secretário:  Everson Mendes Rua Tenente Silveira, 60, 5º Andar - Centro - 88010-300– Florianópolis / SC  \nSecretaria Municipal da Casa Civil   Fone: (48) 3251-6066 - 3251-6062 \nGerência de Diário Oficial Controle:  Thamara Malta Diários Online:  http://www.pmf.sc.gov.br/governo/index.php?pagina=govdiariooficial  \n\npg. 1 \n \n\n Sumário: \nOrgãos Municipais Pg. \n\nSECRETARIA MUNICIPAL DA CASA CIVIL 1 \nSECRETARIA MUNICIPAL DE ADMINISTRAÇÃO 1 \nSECRETARIA MUNICIPAL DA FAZENDA 2 \nSECRETARIA MUNICIPAL DE SAÚDE 2 \nSECRETARIA MUNICIPAL DE EDUCAÇÃO 3 \nSECRETARIA MUNICIPAL DE INFRAESTRUTURA 9 \nSECRETARIA MUNICIPAL DE ASSISTÊNCIA SOCIAL 10 \nSECRETARIA MUNICIPAL DE MOBILIDADE E PLANEJAMENTO \nURBANO 20 \nFUNDO MUNICIPAL DE SAÚDE 20 \nFUNDO MUNICIPAL DE  CINEMA 23 \nAUTARQUIA DE MELHORAMENTOS DA CAPITAL 25 \nINSTITUTO DE PREVIDÊNCIA SOCIAL DOS SERVIDORES \nPUBLICOS 29 \n\n(clique nos itens para consulta) \n\nSECRETARIA MUNICIPAL DA \n\nCASA CIVIL \n\nDECRETO N. 22.357, DE 30 DE DEZEMBRO DE \n2020. DESIGNA SERVIDOR O PREFEITO MUNICIPAL \nDE FLORIANÓPOLIS, usando da competência e \natribuições que lhe são conferidas pelo inciso VI do \nart. 74 da Lei Orgânica do Município, RESOLVE: Art. \n1º DESIGNAR EDUARDO SAVARIS GUTIERRES para \nresponder pelo Cargo em Comissão de Secretário \nMunicipal de Educação, no período de 08/01/2021 \na 06/02/2021, em virtude do afastamento do \ntitular por motivo de férias. Art. 2º Este Decreto \nentra em vigor na data de sua publicação. \nFlorianópolis, aos 30 de dezembro de 2020. GEAN \nMARQUES LOUREIRO PREFEITO MUNICIPAL \nEVERSON MENDES SECRETÁRIO MUNICIPAL DA \nCASA CIVIL. \n\nDECRETO N. 22.358, DE 30 DE DEZEMBRO DE \n2020. REVOGA O DECRETO N. 22.029, DE 2020, \nQUE CRIA O COMITÊ ESTRATÉGICO DE RETORNO \nÀS AULAS NO MUNICÍPIO DE FLORIANÓPOLIS O \nPREFEITO MUNICIPAL DE FLORIANÓPOLIS, usando \nda competência e atribuições que lhe são \nconferidas pelo inciso VI do art. 74 da Lei Orgânica \ndo Município, Considerando o Decreto Estadual n. \n1.003, de 2020, RESOLVE: Art. 1º Revogar o \nDecreto n. 22.029, de 2020. Art. 2º Este Decreto \nentra em vigor na data de sua publicação. \nFlorianópolis, aos 30 de dezembro de 2020. GEAN \nMARQUES LOUREIRO PREFEITO MUNICIPAL \nEVERSON MENDES SECRETÁRIO MUNICIPAL DA \nCASA CIVIL. \n\nDECRETO N. 22.359, DE 30 DE DEZEMBRO DE \n2020. PRORROGA ATÉ O DIA 28 DE FEVEREIRO DE \n2021 O DECRETO N. 21.545, DE 2020, QUE \nDECLARA SITUAÇÃO ANORMAL, CARACTERIZADA \nCOMO ESTADO DE CALAMIDADE PÚBLICA NO \nMUNICÍPIO DE FLORIANÓPOLIS, NOS TERMOS DO \nCOBRADE Nº 1.5.1.1.0 - DOENÇAS INFECCIOSAS \nVIRAIS - EM RAZÃO DA PANDEMIA DECORRENTE \nDA INFECÇÃO HUMANA PELO NOVO \nCORONAVÍRUS (COVID-19), E DÁ OUTRAS \nPROVIDÊNCIAS O PREFEITO MUNICIPAL DE \nFLORIANÓPOLIS, no uso de suas atribuições legais, \nque lhe são conferidas pelo artigo 74, inciso IV da \nLei Orgânica do Município, considerando o Decreto \nEstadual n. 1.027, de 2020, que declara estado de \ncalamidade pública em todo o território \ncatarinense, para fins de enfrentamento da \npandemia de COVID-19, até 28 de fevereiro de \n2021. DECRETA: Art. 1º Fica prorrogado até o dia \n28 de fevereiro de 2021 o Decreto n. 21.545, de \n2020, que declara situação anormal, caracterizada \ncomo Estado de Calamidade Pública no município \nde Florianópolis, decorrente da infecção humana \npelo novo Coronavírus (COVID-19), e dá outras \nprovidências. Art. 2º Este Decreto entra em vigor \nna data de sua publicação. Florianópolis, aos 30 de \ndezembro de 2020. GEAN MARQUES LOUREIRO \nPREFEITO MUNICIPAL EVERSON MENDES \nSECRETÁRIO MUNICIPAL DA CASA CIVIL CARLOS \nALBERTO JUSTO DA SILVA SECRETÁRIO MUNICIPAL \nDE SAÚDE. \n\nDECRETO N. 22.360, DE 30 DE DEZEMBRO DE \n2020. O PREFEITO MUNICIPAL DE FLORIANÓPOLIS, \nusando da competência e atribuições, que lhe são \nconferidas pelo inciso VI do art. 74, da Lei Orgânica \ndo Município, RESOLVE: EXONERAR, A PEDIDO, \nEDMILSON CARLOS PEREIRA JUNIOR do cargo em \nComissão de Secretário Municipal de Cultura, \nEsporte e Juventude, a partir de 31/12/2020. \nFlorianópolis, aos 30 de dezembro de 2020. GEAN \nMARQUES LOUREIRO PREFEITO MUNICIPAL \nEVERSON MENDES SECRETÁRIO MUNICIPAL DA \nCASA CIVIL. \n\nSECRETARIA MUNICIPAL DE \n\nADMINISTRAÇÃO \n\nPORTARIA Nº 02529/2020, DE 18 DE DEZEMBRO \nDE 2020 - A SECRETÁRIA MUNICIPAL DA \nADMINISTRAÇÃO, usando da competência e \natribuições que lhe são conferidas pelo Decreto nº \n11.359/2013,Decreto nº 11.374/2013,e Ofício \nnº263/SMCAM/GAB/2020, resolve:CESSAR OS \nEFEITOS,a partir de 11 dedezembrode 2020, à \ndisposição da servidoraANDREA FARIAS ADÃO DE \n\nhttp://www.pmf.sc.gov.br/governo/index.php?pagina=govdiariooficial\n\n\n DIÁRIO OFICIAL ELETRÔNICO \n DO MUNICÍPIO DE FLORIANÓPOLIS \nEdição Nº  2851 Florianópolis/SC, quarta-feira, 30 de dezembro de 2020 pg. 2 \n \n\n \n\nPREFEITURA MUNICIPAL DE FLORIANÓPOLIS  Secretário:  Everson Mendes Rua Tenente Silveira, 60, 5º Andar - Centro - 88010-300– Florianópolis / SC  \nSecretaria Municipal da Casa Civil   Fone: (48) 3251-6066 - 3251-6062 \nGerência de Diário Oficial Controle:  Thamara Malta Diários Online:  http://www.pmf.sc.gov.br/governo/index.php?pagina=govdiariooficial  \n\npg. 2 \n \n\nFARIAS, matrícula nº 09.223-1, ocupante do cargo \nde Professor Auxiliar, lotada na Secretaria \nMunicipal da Educação, atuando na Secretaria \nMunicipal do Continente e Assuntos \nMetropolitanos, pelaPortaria nº00453/2020, de 27 \nde janeiro de 2020. KATHERINE SCHREINER, \nSecretária Municipal da Administração. \n\nPORTARIA Nº 02530/2020, DE 18 DE DEZEMBRO \nDE 2020 - A SECRETÁRIA MUNICIPAL DA \nADMINISTRAÇÃO, usando da competência e \natribuições que lhe são conferidas pelo Decreto nº \n11.359/2013,Decreto nº 11.374/2013,e Ofício \nnº264/SMCAM/GAB/2020, resolve: CESSAR OS \nEFEITOS, a partir de 11 de dezembro de 2020, à \ndisposição da servidora LEILA DAIANE FAGUNDES, \nmatrícula nº 19.228-7, ocupante do cargo de \nAuxiliar de Sala, lotada na Secretaria Municipal da \nEducação, atuando na Secretaria Municipal do \nContinente e Assuntos Metropolitanos, pela \nPortaria nº00398/2020, de 23 de janeiro de 2020. \nKATHERINE SCHREINER, Secretária Municipal da \nAdministração. \n\nPORTARIA Nº 2569/2020 - A Secretária Municipal \nde Administração, usando de sua competência e \ncom base no Decreto nº 11.359/2013, Decreto nº \n21.347/2020 e suas alterações, Instrução \nNormativa n° 006/2015, Art. 6º, das Leis \nComplementares nº 597/2017 e nº 655/2018; \nResolve: Art. 1º Alterar o Art. 1º da Portaria nº \n1179/2020, Incluir a servidora Alana Barbosa \nFerreira Cypriano, matrícula nº 51411-0, a partir de \n11/11/2020. Art. 2º Esta portaria será publicada no \nDiário Oficial Eletrônico do Município, retroagindo \nseus efeitos a 11/11/2020. Florianópolis, 29 de \ndezembro de 2020. Katherine Schreiner - \nSecretária Municipal de Administração \n\nPORTARIA Nº 02574/2020, DE 30 DE DEZEMBRO \nDE 2020 - A SECRETÁRIA MUNICIPAL DA \nADMINISTRAÇÃO, usando da competência e \natribuições que lhe são conferidas pelo Decreto \n11.359/2013 e, com base no Decreto 11.374/2013, \nresolve PRORROGAR  A DISPOSIÇÃO do servidor \nRODRIGO FRANCIEL DOS SANTOS, matrícula n. \n30.753-0, ocupante do cargo de Motorista, lotado \nna Secretaria Municipal de Educação, para atuar na \nSecretaria Municipal de Infraestrutura, com ônus \npara o destino, pelo período de 14/10/2020 a \n28/02/2021. KATHERINE SCHREINER, Secretária \nMunicipal da Administração. \n\nPORTARIA Nº 02577/2020 - A Secretária Municipal \nda Administração, no uso de suas atribuições, e de \nacordo com o Artigo 23, inciso II da letra \"a\" da Lei \nOrgânica do Município de Florianópolis, Resolve: \nArt. 1º - Nomear, de acordo com o Mandado de \n\nSegurança nº 5088870-23.2020.8.24.0023, e de \nacordo com o Artigo 8º inciso I e Artigo 9º da Lei \nComplementar CMF nº 063/2003, de 23 de \noutubro de 2003, Jun Takeshita Takeuchi, \naprovada em Concurso Público regido pelo Edital \nnº 008/19, para exercício do Cargo de Médico da \nFamília e Comunidade, Classe Analista, Nível 01, \nReferência A, 40 (quarenta) horas semanais, do \nQuadro Único do Pessoal Civil, da Administração \nDireta Municipal, lotada na Secretaria Municipal de \nSaúde. Art. 2º - A candidata habilitada e nomeada \ndeverá tomar posse do cargo no prazo máximo de \n30 (trinta) dias, após a publicação. Art. 3º - Esta \nPortaria entrará em vigor na data de sua \npublicação. Prefeitura Municipal, em Florianópolis, \naos 30 de Dezembro de 2020. Katherine Schreiner - \nSecretária Municipal da Administração. \n\nSECRETARIA MUNICIPAL DA \n\nFAZENDA  \n\nDÉCIMO TERMO ADITIVO AO CONTRATO Nº \n1042/PMF/2015 – PMF X ORBENK \nADMINISTRAÇÃO E SERVIÇOS LTDA. Objeto: A \nCláusula Vigésima Primeira do Contrato original \ncontinua subsistindo em todos os seus termos e \ncondições, renovando o presente Contrato, com o \nprazo que continua por tempo determinado, \npassando a fluir de 07 de outubro de 2020 até 31 \nde dezembro de 2020, em caráter de \nexcepcionalidade, em conformidade com o art. 57, \ninciso II, § 4º da Lei nº 8.666/93, no Parecer nº \n051/2020 – SMDU/GAB/ASSJUR da Assessoria \nJurídica da Secretaria Municipal de Meio Ambiente, \nPlanejamento e Desenvolvimento Urbano, no \nOfício OE 172/SMDU/DG/GAF/2020 e na \nDeliberação nº 6263/2020 do Comitê Gestor de \nGoverno, partes integrantes deste Termo Aditivo; \nNúmero e Modalidade da Licitação: Concorrência \nnº 371/SMA/DLC/2015; Data de Assinaturas: \n01/10/2020; Nome das partes que assinaram: Pela \nSecretaria Municipal da Fazenda: o Sr. Constâncio \nAlberto Salles Maciel, pela Secretaria Municipal de \nMeio Ambiente, Planejamento e Desenvolvimento \nUrbano o Sr. Nelson Gomes Mattos, pela Secretaria \nMunicipal de Mobilidade e Planejamento Urbano o \nSr. Michel de Andrado Mittmann, e pela empresa: \no Sr. Ronaldo Benkendorf. \n\nSECRETARIA MUNICIPAL DE \n\nSAÚDE \n\nPRORROGA A PORTARIA Nº 206/SMS/GAB/2020 \nPARA OS MESES DE JANEIRO, FEVEREIRO E \n\nhttp://www.pmf.sc.gov.br/governo/index.php?pagina=govdiariooficial\n\n\n DIÁRIO OFICIAL ELETRÔNICO \n DO MUNICÍPIO DE FLORIANÓPOLIS \nEdição Nº  2851 Florianópolis/SC, quarta-feira, 30 de dezembro de 2020 pg. 3 \n \n\n \n\nPREFEITURA MUNICIPAL DE FLORIANÓPOLIS  Secretário:  Everson Mendes Rua Tenente Silveira, 60, 5º Andar - Centro - 88010-300– Florianópolis / SC  \nSecretaria Municipal da Casa Civil   Fone: (48) 3251-6066 - 3251-6062 \nGerência de Diário Oficial Controle:  Thamara Malta Diários Online:  http://www.pmf.sc.gov.br/governo/index.php?pagina=govdiariooficial  \n\npg. 3 \n \n\nMARÇO DE 2021 -  O Secretário de Saúde do \nmunicípio de Florianópolis, no uso das atribuições \nque lhe confere o art. 82, inciso I, da Lei Orgânica \ndo Município, c/c o art. 9º, inciso III, da Lei \nComplementar nº 596/2017.Considerando a Lei nº \n8.080, de 19 de setembro de 1990, que dispõe \nsobre as condições para a promoção, proteção e \nrecuperação da saúde, a organização e o \nfuncionamento dos serviços correspondentes e dá \noutras providências;Considerando o art. 18, IV da \nLei nº 8.080, de 19 de setembro de 1990, que \ndispõe sobre as competências dos gestores em \ntodas as esferas, sendo competência da direção \nmunicipal do Sistema Único de Saúde (SUS) \nplanejar, organizar, controlar e avaliar as ações e os \nserviços de saúde e gerir e executar os serviços \npúblicos de saúde;Considerando o Decreto nº \n7.508, de 21 de junho de 2011, que regulamenta a \nLei nº 8.080, de 19 de setembro de 1990, para \ndispor sobre a organização do Sistema Único de \nSaúde - SUS, o planejamento da saúde, a \nassistência à saúde, e a articulação \ninterfederativa;Considerando a Portaria de \nConsolidação nº 2, de 28 de setembro de 2017, que \ntrata da consolidação das normas sobre as políticas \nnacionais de saúde do Sistema Único de \nSaúde;Considerando a Portaria de Consolidação n° \n3, de 28 de setembro de 2017, que trata da \nconsolidação das normas sobre as redes do \nSistema Único de Saúde;Considerando a Portaria no \n2.979, de 12 novembro de 2019, que institui o \nPrograma Previne Brasil, o qual estabelece novo \nmodelo de financiamento de custeio da Atenção \nPrimária à Saúde no âmbito do Sistema Único de \nSaúde, por meio da alteração da Portaria de \nConsolidação nº 6/GM/MS, de 28 de setembro de \n2017;Considerando a Portaria Nº 1.740, de 10 de \njulho de 2020, que estabelece o pagamento por \ndesempenho do Programa Previne Brasil diante do \ncontexto da emergência de saúde pública de \nimportância nacional e internacional decorrente do \nCorona vírus (Covid-19).Considerando o Decreto nº  \n21.965, de 08 de setembro de 2020, que institui o \ncomponente municipal, na forma de incentivo \ndesempenho, do modelo de financiamento da \natenção primária à saúde determinado pelo \nMinistério da Saúde em substituição ao \ncomponente municipal do Programa de Melhoria \ndo Acesso e da Qualidade na Atenção Básica – \nPMAQ-AB.Considerando a Portaria nº \n206/SMS/GAB/2020, de 20 de novembro de 2020, \nque normatiza o componente municipal do modelo \nde financiamento da Atenção Primária à Saúde \nestabelecido pelo Ministério da Saúde, na forma de \nincentivo desempenho, em substituição ao \ncomponente municipal do Programa de Melhoria \ndo Acesso e da Qualidade na Atenção Básica – \n\nPMAQ-AB.            RESOLVE: Art. 1°. Prorrogar a \nPortaria nº 206/SMS/GAB/2020, de 20 de \nnovembro de 2020, publicada no Diário Oficial \nEletrônico do Município nº 2823, para os meses de \njaneiro, fevereiro e março de 2021. Art. 2º. Esta \nportaria entra em vigor na data da sua \npublicação.Florianópolis, 30 de dezembro de 2020. \nCarlos Alberto Justo da Silva Secretário Municipal \nde Saúde. \n\nEXTRATO DE INEXIGIBILIDADE DE LICITAÇÃO N° \n602/SMA/DSLC/2020 - Objeto: Contratação de \nempresa para prestação de serviços de saúde \nespecializadas na realização de Atendimentos \nMédicos de Clínica Geral e nas especialidades \nCirúrgica e Pediátrica, nas Unidades de Pronto \nAtendimento do município de Florianópolis, \nrespeitando as especificações no Termo de \nReferência, Plano Operativo Assistencial e edital de \nChamada Pública nº 011/2020/SMS/PMF. \nContratados: Nova Expansão Assessoria e Serviços \nMédicos Ltda – CNPJ 14.109.937/0001-04; RMS &amp; \nGC Medicina e Saúde Ltda – CNPJ: \n27.852.816/0001-08.Valor estimado mensal: Será \npago o valor estimado mensal de R$ 312.500,00 \n(trezentos e doze mil e quinhentos reais), sendo:R$ \n156.250,00 (Cento e cinquenta e seis mil duzentos \ne cinquenta reais), para a empresa Nova Expansão \nAssessoria e Serviços Médicos Ltda.; e R$ \n156.250,00 (Cento e cinquenta e seis mil duzentos \ne cinquenta reais), para a empresa RMS &amp; GC \nMedicina e Saúde Ltda.Vigência do contrato: O \ncontrato terá prazo até o dia 31 de julho de 2021, \ncontados da assinatura, podendo ser prorrogado, a \ncritério do Município, pelo prazo máximo \nestabelecido na Lei 8.666/93 e suas alterações. \nFundamento legal: art. 25, caput, da Lei nº \n8.666/93. \n\nSECRETARIA MUNICIPAL DE \n\nEDUCAÇÃO \n\nPORTARIA Nº 004/2020 - O Coordenador do \n“Projeto de Expansão e Aperfeiçoamento da \nEducação Infantil e do Ensino Fundamental em \nFlorianópolis”, no uso de suas atribuições, \nRESOLVE: Art. 1º.  Designar a servidora e os \nConsultores Técnicos, Gabriela Matilde dos Santos, \nLucas Faversani da Costa e Ana Clara Almeida Stock \nFranzoni, para comporem o Comitê de Avaliação \nTécnica, referente à Expansão da Cobertura e \nMelhoria da Infraestrutura Educativa – \nComponente 1 do Projeto de Expansão e \nAperfeiçoamento da Educação Infantil e do Ensino \nFundamental em Florianópolis - PRAEB. Art. 2º.  \nEste Comitê terá como atribuição a Análise e \n\nhttp://www.pmf.sc.gov.br/governo/index.php?pagina=govdiariooficial\n\n\n DIÁRIO OFICIAL ELETRÔNICO \n DO MUNICÍPIO DE FLORIANÓPOLIS \nEdição Nº  2851 Florianópolis/SC, quarta-feira, 30 de dezembro de 2020 pg. 4 \n \n\n \n\nPREFEITURA MUNICIPAL DE FLORIANÓPOLIS  Secretário:  Everson Mendes Rua Tenente Silveira, 60, 5º Andar - Centro - 88010-300– Florianópolis / SC  \nSecretaria Municipal da Casa Civil   Fone: (48) 3251-6066 - 3251-6062 \nGerência de Diário Oficial Controle:  Thamara Malta Diários Online:  http://www.pmf.sc.gov.br/governo/index.php?pagina=govdiariooficial  \n\npg. 4 \n \n\nParecer das Propostas Técnica e Financeira, bem \ncomo o preenchimento de Quadros e Tabelas \ninseridas nos Autos. Art. 3º.  Esta \nPortaria entrará em vigor na data de sua \nassinatura, revogando-se a Portaria nº 003/2020. \nFlorianópolis, 28 de dezembro de 2020. Leonardo \nFermino Pacheco. Assessor Especial/ Coordenador \ndo Projeto de Expansão e Aperfeiçoamento da \nEducação Infantil e do Ensino Fundamental em \nFlorianópolis-PRAEB \n\nPORTARIA N º 494/2020 - O Secretário Municipal \nde Educação de Florianópolis/SC, no uso de suas \natribuições legais de acordo com a Lei nº \n7508/2007, que criou o Sistema Municipal de \nEnsino e as Resoluções 01/2017 e 01/2019 do \nConselho Municipal de Educação, que autorizam o \nfuncionamento e a supervisão das Instituições \nPúblicas e Privadas de Educação Infantil no âmbito \ndo Município de Florianópolis. Resolve: Artigo 1º \nFica autorizado o funcionamento do Espaço \nEducacional Lazuli, inscrito no CNPJ \n29.676.687/0001-61, sito a Rua Dino Calixto, nº \n345A, Córrego Grande - Florianópolis/SC, CEP \n880373-20; com base na legislação vigente de \nacordo com o Parecer Nº 023/2020, do Conselho \nMunicipal de Educação aprovado em 09 de \ndezembro de 2020.                                                 \nArtigo 2º A autorização de funcionamento fica \nestabelecida para atendimento a Educação Infantil. \nArtigo 3º Fica estabelecido que o Espaço \nEducacional Lazuli, será supervisionado pela \nSecretaria Municipal de Educação, podendo ser \nsuspensa a autorização, quando detectadas \nirregularidades, com base na legislação vigente. \nArtigo 4º Esta Portaria entrará em vigor na data de \nsua publicação, revogando-se as disposições em \ncontrário. Florianópolis, 17 de dezembro de 2020.                      \nMAURÍCIO FERNANDES PEREIRA - Secretário \nMunicipal de Educação.      \n\nPORTARIA N º 495/2020 - O Secretário Municipal \nde Educação de Florianópolis/SC, no uso de suas \natribuições legais de acordo com a Lei nº \n7508/2007, que criou o Sistema Municipal de \nEnsino e as Resoluções 01/2017 e 01/2019 do \nConselho Municipal de Educação, que autorizam o \nfuncionamento e a supervisão das Instituições \nPúblicas e Privadas de Educação Infantil no âmbito \ndo Município de Florianópolis. Resolve: Artigo 1º \nFica autorizado o funcionamento da instituição \nGuata Porã Casa Escola Ltda Me, inscrito no CNPJ \n29.262.773/0001-28, sito a Servidão Vila Harmonia, \nnº 269, Campeche - Florianópolis/SC, CEP 88063-\n500; com base na legislação vigente de acordo com \no Parecer Nº 018/2020, do Conselho Municipal de \nEducação aprovado em 09 de dezembro de 2020.                                                 \nArtigo 2º A autorização de funcionamento fica \n\nestabelecida para atendimento a Educação Infantil. \nArtigo 3º Fica estabelecido que a instituição Guata \nPorã Casa Escola Ltda Me, será supervisionado pela \nSecretaria Municipal de Educação, podendo ser \nsuspensa a autorização, quando detectadas \nirregularidades, com base na legislação vigente. \nArtigo 4º Esta Portaria entrará em vigor na data de \nsua publicação, revogando-se as disposições em \ncontrário. Florianópolis, 17 de dezembro de 2020. \nMAURÍCIO FERNANDES PEREIRA - Secretário \nMunicipal de Educação.     \n\nPORTARIA N º 496/2020 - O Secretário Municipal \nde Educação de Florianópolis/SC, no uso de suas \natribuições legais de acordo com a Lei nº \n7508/2007, que criou o Sistema Municipal de \nEnsino e as Resoluções 01/2017 e 01/2019 do \nConselho Municipal de Educação, que autorizam o \nfuncionamento e a supervisão das Instituições \nPúblicas e Privadas de Educação Infantil no âmbito \ndo Município de Florianópolis. Resolve: Artigo 1º \nFica autorizado o funcionamento do Instituto \nMulticultural Crystal, nome fantasia Espaço \nCrystal, inscrito no CNPJ 21.505.178/0001-64, sito a \nServidão Red Park, s/n, Rio Vermelho - \nFlorianópolis/SC, CEP 88060-292; com base na \nlegislação vigente de acordo com o Parecer Nº \n19/2020, do Conselho Municipal de Educação \naprovado em 09 de dezembro de 2020. Artigo 2º A \nautorização de funcionamento fica estabelecida \npara atendimento a Educação Infantil. Artigo 3º \nFica estabelecido que o Instituto Multicultural \nCrystal, nome fantasia Espaço Crystal, será \nsupervisionado pela Secretaria Municipal de \nEducação, podendo ser suspensa a autorização, \nquando detectadas irregularidades, com base na \nlegislação vigente. Artigo 4º Esta Portaria entrará \nem vigor na data de sua publicação, revogando-se \nas disposições em contrário. Florianópolis, 17 de \ndezembro de 2020. MAURÍCIO FERNANDES \nPEREIRA - Secretário Municipal de Educação.     \n\nEXTRATO DO 4º APOSTILAMENTO AO TERMO DE \nFOMENTO Nº 050/PMF/SME/2018 – Instituição \nParceira: CONSELHO COMUNITÁRIO DA COSTEIRA \nDO PIRAJUBAÉ. Objeto: O presente Apostilamento \nprorroga o prazo do convênio somente para a \npossibilidade de execução financeira e prestação \nde contas da(s) última(s) parcela(s) dos trabalhos \nplanejados e desenvolvidos pela instituição no \natendimento à Educação Infantil, conforme o \ncronograma de desembolso do Plano de Trabalho \nde 2020, a partir de 01/01/2021 até 31/01/2021, \nde acordo com o Of. 88/2020 do Conselho \nComunitário da Costeira do Pirajubaé, do Setor de \nParceria e Termo de Colaboração (SPRC OSC) pela \nCI nº 553/2020, Deliberação do comitê Gestor n. \n6859/2020 e Parecer Jurídico nº \n\nhttp://www.pmf.sc.gov.br/governo/index.php?pagina=govdiariooficial\n\n\n DIÁRIO OFICIAL ELETRÔNICO \n DO MUNICÍPIO DE FLORIANÓPOLIS \nEdição Nº  2851 Florianópolis/SC, quarta-feira, 30 de dezembro de 2020 pg. 5 \n \n\n \n\nPREFEITURA MUNICIPAL DE FLORIANÓPOLIS  Secretário:  Everson Mendes Rua Tenente Silveira, 60, 5º Andar - Centro - 88010-300– Florianópolis / SC  \nSecretaria Municipal da Casa Civil   Fone: (48) 3251-6066 - 3251-6062 \nGerência de Diário Oficial Controle:  Thamara Malta Diários Online:  http://www.pmf.sc.gov.br/governo/index.php?pagina=govdiariooficial  \n\npg. 5 \n \n\n1340/2020/SME/ASSJUD/PMF, partes integrantes \ndeste instrumento. Assinatura: Maurício Fernandes \nPereira. \n\nEXTRATO DO 3º APOSTILAMENTO AO TERMO DE \nFOMENTO Nº 053/PMF/SME/2018 - Instituição \nParceira: ASSOCIAÇÃO DOS MORADORES DA \nLAGOA DO PERI – ASMOPE. Objeto: O presente \nApostilamento prorroga o prazo do convênio \nsomente para a possibilidade de execução \nfinanceira e prestação de contas da(s) última(s) \nparcela(s) dos trabalhos planejados e \ndesenvolvidos pela instituição no atendimento à \nEducação Infantil, conforme o cronograma de \ndesembolso do Plano de Trabalho de 2020, a partir \nde 01/01/2021 até 31/01/2021, de acordo com o \nOf. 010/2020  da Associação dos Moradores da \nLagoa do Peri, do Setor de Parceria e Termo de \nColaboração (SPRC OSC) pela CI nº 552/2020, \nDeliberação do Comitê Gestor n. 6859/2020 e \nParecer Jurídico nº 1340/2020/SME/ASSJUD/PMF, \npartes integrantes deste instrumento. Assinatura: \nMaurício Fernandes Pereira. \n\nEXTRATTO DO 3º APOSTILAMENTO AO TERMO DE \nFOMENTO Nº 058/PMF/SME/2018 - Instituição \nParceira: ASSOCIAÇÃO LAR RECANTO DO CARINHO. \nObjeto:  O presente Apostilamento prorroga o \nprazo do convênio somente para a possibilidade de \nexecução financeira e prestação de contas da(s) \núltima(s) parcela(s) dos trabalhos planejados e \ndesenvolvidos pela instituição no atendimento à \nEducação Infantil, conforme o cronograma de \ndesembolso do Plano de Trabalho de 2020, a partir \nde 01/01/2021 até 31/01/2021, de acordo com o \nOf. Associação Lar Recanto do Carinho, do Setor de \nParceria e Termo de Colaboração (SPRC OSC) pela \nCI nº 552/2020, Deliberação do Comitê Gestor n. \n6859/2020 e Parecer Jurídico nº \n1340/2020/SME/ASSJUD/PMF, partes integrantes \ndeste instrumento. Assinatura: Maurício Fernandes \nPereira. \n\nEXTRATO DO 2º APOSTILAMENTO AO TERMO DE \nFOMENTO Nº 027/PMF/SME/2018 - Instituição \nParceira: ACIC - ASSOCIAÇÃO CATARINENSE PARA \nINTEGRAÇÃO DO CEGO. Objeto: O presente \nApostilamento prorroga o prazo do convênio \nsomente para a possibilidade de execução \nfinanceira e prestação de contas da(s) última(s) \nparcela(s) dos trabalhos planejados e \ndesenvolvidos pela instituição no atendimento à \nEducação Complementar Especial, conforme o \ncronograma de desembolso do Plano de Trabalho \nde 2020, a partir de 01/01/2021 até 31/01/2021, \nde acordo com o Of. 078/2020/CAPT/ACIC da \nAssociação Catarinense para integração do Cego, \ndo Setor de Parceria e Termo de Colaboração \n\n(SPRC OSC) pela CI nº 552/2020, Deliberação do \nComitê Gestor n. 6859/2020 e Parecer Jurídico nº \n1340/2020/SME/ASSJUD/PMF, partes integrantes \ndeste instrumento. Assinatura: Maurício Fernandes \nPereira. \n\nEXTRATO DO 1º APOSTILAMENTO AO TERMO DE \nFOMENTO Nº 046/PMF/SME/2018 - Instituição \nParceira: ASGF – ASSOCIAÇÃO DE SURDOS DA \nGRANDE FLORIANÓPOLIS. Objeto: O presente \nApostilamento prorroga o prazo do convênio \nsomente para a possibilidade de execução \nfinanceira e prestação de contas da(s) última(s) \nparcela(s) dos trabalhos planejados e \ndesenvolvidos pela instituição no atendimento à \nEducação Complementar Especial, conforme o \ncronograma de desembolso do Plano de Trabalho \nde 2020, a partir de 01/01/2021 até 31/01/2021, \nde acordo com o Of. 014/2020da Associação de \nSurdos da Grande Florianópolis, do Setor de \nParceria e Termo de Colaboração (SPRC OSC) pela \nCI nº 553/2020, Deliberação do comitê Gestor n. \n6859/2020 e Parecer Jurídico nº \n1340/2020/SME/ASSJUD/PMF, partes integrantes \ndeste instrumento. Assinatura: Maurício Fernandes \nPereira. \n\nEXTRATO DO 3º APOSTILAMENTO AO TERMO DE \nFOMENTO Nº 025/PMF/SME/2018 - Instituição \nParceira: ASSOCIAÇÃO AÇÃO SOCIAL COLONINHA. \nObjeto: O presente Apostilamento prorroga o \nprazo do convênio somente para a possibilidade de \nexecução financeira e prestação de contas da(s) \núltima(s) parcela(s) dos trabalhos planejados e \ndesenvolvidos pela instituição no atendimento à \nEducação Complementar, conforme o cronograma \nde desembolso do Plano de Trabalho de 2020, a \npartir de 01/01/2021 até 31/01/2021, de acordo \ncom o Of. 03/2020 da Associação Ação Social \nColoninha, do Setor de Parceria e Termo de \nColaboração (SPRC OSC) pela CI nº 552/2020, \nDeliberação do Comitê Gestor n. 6859/2020 e \nParecer Jurídico nº 1340/2020/SME/ASSJUD/PMF, \npartes integrantes deste instrumento. Assinatura: \nMaurício Fernandes Pereira. \n\nEXTRATO DO 3º APOSTILAMENTO AO TERMO DE \nFOMENTO Nº 043/PMF/SME/2018 - Instituição \nParceira: OBRAS SOCIAIS DA COMUNIDADE \nPAROQUIAL DE COQUEIROS – OSCOPAC. Objeto: O \npresente Apostilamento prorroga o prazo do \nconvênio somente para a possibilidade de \nexecução financeira e prestação de contas da(s) \núltima(s) parcela(s) dos trabalhos planejados e \ndesenvolvidos pela instituição no atendimento à \nEducação Complementar, conforme o cronograma \nde desembolso do Plano de Trabalho de 2020, a \npartir de 01/01/2021 até 31/01/2021, de acordo \n\nhttp://www.pmf.sc.gov.br/governo/index.php?pagina=govdiariooficial\n\n\n DIÁRIO OFICIAL ELETRÔNICO \n DO MUNICÍPIO DE FLORIANÓPOLIS \nEdição Nº  2851 Florianópolis/SC, quarta-feira, 30 de dezembro de 2020 pg. 6 \n \n\n \n\nPREFEITURA MUNICIPAL DE FLORIANÓPOLIS  Secretário:  Everson Mendes Rua Tenente Silveira, 60, 5º Andar - Centro - 88010-300– Florianópolis / SC  \nSecretaria Municipal da Casa Civil   Fone: (48) 3251-6066 - 3251-6062 \nGerência de Diário Oficial Controle:  Thamara Malta Diários Online:  http://www.pmf.sc.gov.br/governo/index.php?pagina=govdiariooficial  \n\npg. 6 \n \n\ncom o Of. 018/2020 -OSCOPAC, do Setor de \nParceria e Termo de Colaboração (SPRC OSC) pela \nCI nº 552/2020, Deliberação do Comitê Gestor n. \n6859/2020 e Parecer Jurídico nº \n1340/2020/SME/ASSJUD/PMF, partes integrantes \ndeste instrumento. Assinatura: Maurício Fernandes \nPereira. \n\nEXTRATO DO 5º APOSTILAMENTO AO TERMO DE \nFOMENTO Nº 051/PMF/SME/2018 - Instituição \nParceira: SERTE – SOCIEDADE ESPÍRITA DE \nRECUPERAÇÃO, TRABALHO E EDUCAÇÃO \n“Educandário Lar de Jesus”. Objeto: O presente \nApostilamento prorroga o prazo do convênio \nsomente para a possibilidade de execução \nfinanceira e prestação de contas da(s) última(s) \nparcela(s) dos trabalhos planejados e \ndesenvolvidos pela instituição no atendimento à \nEducação Infantil, conforme o cronograma de \ndesembolso do Plano de Trabalho de 2020, a partir \nde 01/01/2021 até 31/01/2021, de acordo com o \nOf. 111/2020 da SERTE, do Setor de Parceria e \nTermo de Colaboração (SPRC OSC) pela CI nº \n552/2020, Deliberação do Comitê Gestor n. \n6859/2020 e Parecer Jurídico nº \n1340/2020/SME/ASSJUD/PMF, partes integrantes \ndeste instrumento. Assinatura: Maurício Fernandes \nPereira. \n\nEXTRATO DO 4º APOSTILAMENTO AO TERMO DE \nFOMENTO Nº 128/PMF/SME/2018 - Instituição \nParceira: CONSELHO COMUNITÁRIO DA \nCOLONINHA. Objeto: O presente Apostilamento \nprorroga o prazo do convênio somente para a \npossibilidade de execução financeira e prestação \nde contas da(s) última(s) parcela(s) dos trabalhos \nplanejados e desenvolvidos pela instituição no \natendimento à Educação Infantil, conforme o \ncronograma de desembolso do Plano de Trabalho \nde 2020, a partir de 01/01/2021 até 31/01/2021, \nde acordo com o Ofício do Conselho Comunitário \nda Coloninha, do Setor de Parceria e Termo de \nColaboração (SPRC OSC) pela CI nº 552/2020, \nDeliberação do Comitê Gestor n. 6859/2020 e \nParecer Jurídico nº 1340/2020/SME/ASSJUD/PMF, \npartes integrantes deste instrumento. Assinatura: \nMaurício Fernandes Pereira. \n\nEXTRATO DO 3º APOSTILAMENTO AO TERMO DE \nFOMENTO Nº 047/PMF/SME/2018 - Instituição \nParceira: IRMANDADE DO DIVINO ESPÍRITO SANTO \n– IDES “CEI Girassol”. Objeto: O presente \nApostilamento prorroga o prazo do convênio \nsomente para a possibilidade de execução \nfinanceira e prestação de contas da(s) última(s) \nparcela(s) dos trabalhos planejados e \ndesenvolvidos pela instituição no atendimento à \nEducação Infantil, conforme o cronograma de \n\ndesembolso do Plano de Trabalho de 2020, a partir \nde 01/01/2021 até 31/01/2021, de acordo com o \nOf. 046/2020 - IDES, do Setor de Parceria e Termo \nde Colaboração (SPRC OSC) pela CI nº 552/2020, \nDeliberação do Comitê Gestor n. 6859/2020 e \nParecer Jurídico nº 1340/2020/SME/ASSJUD/PMF, \npartes integrantes deste instrumento. Assinatura: \nMaurício Fernandes Pereira. \n\nEXTRATO DO 2º APOSTILAMENTO AO TERMO DE \nFOMENTO Nº 25/2019 - Instituição Parceira: \nASSOCIAÇÃO PROMOCIONAL DO MENOR \nTRABALHADOR – PROMENOR. Objeto: O presente \nApostilamento prorroga o prazo do convênio \nsomente para a possibilidade de execução \nfinanceira e prestação de contas da(s) última(s) \nparcela(s) dos trabalhos planejados e \ndesenvolvidos pela instituição no atendimento à \nEducação Complementar, conforme o cronograma \nde desembolso do Plano de Trabalho de 2020, a \npartir de 01/01/2021 até 31/01/2021, de acordo \ncom o Of. 049/2020 – IDES, do Setor de Parceria e \nTermo de Colaboração (SPRC OSC) pela CI nº \n552/2020, Deliberação do Comitê Gestor n. \n6859/2020 e Parecer Jurídico nº \n1340/2020/SME/ASSJUD/PMF, partes integrantes \ndeste instrumento. Assinatura: Maurício Fernandes \nPereira. \n\nEXTRATO DO 3º APOSTILAMENTO AO TERMO DE \nFOMENTO Nº 024/PMF/SME/2018 - Instituição \nParceira: ASSOCIAÇÃO DOS AMIGOS DA CASA DA \nCRIANÇA E DO ADOLESCENTE DO MORRO DO \nMOCOTÓ – ACAM. Objeto: O presente \nApostilamento prorroga o prazo do convênio \nsomente para a possibilidade de execução \nfinanceira e prestação de contas da(s) última(s) \nparcela(s) dos trabalhos planejados e \ndesenvolvidos pela instituição no atendimento à \nEducação Complementar, conforme o cronograma \nde desembolso do Plano de Trabalho de 2020, a \npartir de 01/01/2021 até 31/01/2021, de acordo \ncom o Of. 47/2020 - ACAM, do Setor de Parceria e \nTermo de Colaboração (SPRC OSC) pela CI nº \n552/2020, Deliberação do Comitê Gestor n. \n6859/2020 e Parecer Jurídico nº \n1340/2020/SME/ASSJUD/PMF, partes integrantes \ndeste instrumento. Assinatura: Maurício Fernandes \nPereira. \n\nEXTRATO DO 4º APOSTILAMENTO AO TERMO DE \nFOMENTO Nº 059/PMF/SME/2018 - Instituição \nParceira: AFLODEF – ASSOCIAÇÃO \nFLORIANOPOLITANA DE DEFICIENTES FÍSICOS. \nObjeto: O presente Apostilamento prorroga o \nprazo do convênio somente para a possibilidade de \nexecução financeira e prestação de contas da(s) \núltima(s) parcela(s) dos trabalhos planejados e \n\nhttp://www.pmf.sc.gov.br/governo/index.php?pagina=govdiariooficial\n\n\n DIÁRIO OFICIAL ELETRÔNICO \n DO MUNICÍPIO DE FLORIANÓPOLIS \nEdição Nº  2851 Florianópolis/SC, quarta-feira, 30 de dezembro de 2020 pg. 7 \n \n\n \n\nPREFEITURA MUNICIPAL DE FLORIANÓPOLIS  Secretário:  Everson Mendes Rua Tenente Silveira, 60, 5º Andar - Centro - 88010-300– Florianópolis / SC  \nSecretaria Municipal da Casa Civil   Fone: (48) 3251-6066 - 3251-6062 \nGerência de Diário Oficial Controle:  Thamara Malta Diários Online:  http://www.pmf.sc.gov.br/governo/index.php?pagina=govdiariooficial  \n\npg. 7 \n \n\ndesenvolvidos pela instituição no atendimento à \nEducação Complementar Especial, conforme o \ncronograma de desembolso do Plano de Trabalho \nde 2020, a partir de 01/01/2021 até 31/01/2021, \nde acordo com o Of. 103/2020-B – AFLODEF, do \nSetor de Parceria e Termo de Colaboração (SPRC \nOSC) pela CI nº 552/2020, Deliberação do Comitê \nGestor n. 6859/2020 e Parecer Jurídico nº \n1340/2020/SME/ASSJUD/PMF, partes integrantes \ndeste instrumento. Assinatura: Maurício Fernandes \nPereira. \n\n EXTRATO DO 4º APOSTILAMENTO AO TERMO DE \nFOMENTO Nº 029/PMF/SME/2018 - Instituição \nParceira: AFLODEF – ASSOCIAÇÃO \nFLORIANOPOLITANA DE DEFICIENTES FÍSICOS. \nObjeto: O presente Apostilamento prorroga o \nprazo do convênio somente para a possibilidade de \nexecução financeira e prestação de contas da(s) \núltima(s) parcela(s) dos trabalhos planejados e \ndesenvolvidos pela instituição no atendimento à \nEducação Infantil, conforme o cronograma de \ndesembolso do Plano de Trabalho de 2020, a partir \nde 01/01/2021 até 31/01/2021, de acordo com o \nOf. 103/2020-A – AFLODEF, do Setor de Parceria e \nTermo de Colaboração (SPRC OSC) pela CI nº \n552/2020, Deliberação do Comitê Gestor n. \n6859/2020 e Parecer Jurídico nº \n1340/2020/SME/ASSJUD/PMF, partes integrantes \ndeste instrumento. Assinatura: Maurício Fernandes \nPereira. \n\nPRIMEIRO TERMO ADITIVO AO CONTRATO Nº \n618/SME/2020 – PMF X MARESIA TURISMO \nNÁUTICO LTDA - ME. Objeto: A Cláusula Quinta do \nContrato original continua subsistindo em todos os \nseus termos e condições, renovando o presente \nContrato, com o prazo que continua por tempo \ndeterminado, passando a fluir de 01 de janeiro de \n2021 até 31 de março de 2021, com fundamento \nno art. 57, inciso II da Lei 8.666/93, no Parecer nº \n1314/2020/SME/ASSJUD/SUBSIJUD/OMF da \nAssessoria Jurídica da Secretaria Municipal de \nEducação, no OF. DIOP nº 0545 e na Deliberação nº \n6603/2020 do Comitê Gestor de Governo, , partes \nintegrantes deste Termo Aditivo. O prazo renovado \nde que consta nesta Cláusula, fica suspenso para \ncomputo de aplicação de reajuste e reequilíbrio.; \nNúmero e Modalidade da Licitação: Pregão \nEletrônico nº 207/SMA/DSLC/2020; Data de \nAssinaturas: 21/12/2020; Nome das partes que \nassinaram: Pela Secretaria Municipal de Educação, \no Sr. Mauricio Fernandes Pereira, e pela empresa, o \nSr. Claudio Alcino Rosa. \n\nSEXTO TERMO ADITIVO AO CONTRATO Nº \n1312/SME/2015 – PMF X SR. CLEBERSON \nPLAKITCA. Objeto: A Cláusula Segunda do Contrato \n\noriginal continua subsistindo em todos os seus \ntermos e condições, renovando o presente \nContrato, com o prazo que continua por tempo \ndeterminado, passando a fluir de 01 de janeiro de \n2021 até 31 de dezembro de 2021, com \nfundamento no art. 57, II da Lei 8.666/93 c/c art. \n62, § 3º, I da Lei 8.666/93 e art. 51, da Lei nº \n8.245/91, no Parecer nº \n1301/2020/SME/ASSJUD/PMF da Assessoria \nJurídica da Secretaria Municipal de Educação, o \nOfício OF. DIOP nº 0508/2020/SME/PMF e na \nDeliberação nº 6315/2020 do Comitê Gestor de \nGoverno, partes integrantes deste Termo Aditivo. \nO prazo renovado de que consta nesta Cláusula, \nfica suspenso para computo de aplicação de \nreajuste e reequilíbrio; Número e Modalidade da \nLicitação: Dispensa de Licitação nº \n855/SMA/DLC/2015; Data de Assinaturas: \n21/12/2020; Nome das partes que assinaram: Pela \nSecretaria Municipal de Educação, o Sr. Mauricio \nFernandes Pereira, e pela empresa, o Sr. Cleberson \nPlakitca. \n\nEXTRATO DE CONTRATO N° 976/SME/2020; \nObjeto: aquisição de gêneros alimentícios de \ngrupos formais da Agricultura Familiar e do \nEmpreendedor Familiar Rural, ou suas \norganizações para atender ao Programa Municipal \nde Alimentação Escolar da Rede Municipal de \nEnsino de Florianópolis, em conformidade com o \nPrograma Nacional de Alimentação Escolar, para \nalunos da rede de educação infantil e fundamental \npública municipal, descritos nos itens enumerados \nna Cláusula Sexta, todos de acordo com a \nCHAMADA PÚBLICA Nº 172/SMA/DSLC/2020; \nNúmero e Modalidade da Licitação: Chamada \nPública nº 172/SMA/DSLC/2020; Contratada: \nANNA GABRIELA FERREIRA PEGO 39108736855.; \nValor: Pelo fornecimento dos gêneros alimentícios, \nnos quantitativos descritos no Projeto de Venda de \nGêneros Alimentícios da Agricultura Familiar, a \nCONTRATADA receberá o valor total R$ 20.000,00 \n(vinte mil reais).; Vigência: O presente Contrato \nvigorará da sua assinatura até a entrega total dos \nprodutos adquiridos ou de 12 (doze) meses, \npodendo ser prorrogado os termos da lei; Dotação: \nÓrgão e Unidade Orçamentária 19.01; Funcional: \n12.365.0103 – Educação Infantil; Atividade: 2.060 – \nAlimentação Escolar Ed. Infantil Creche / 2.365 - \nAlimentação Escolar na Ed. De Jovens e Adultos; \npelo elemento de despesa: 3.3.90.30 – Material de \nConsumo e Fonte de Recurso: 1043. Órgão e \nUnidade Orçamentária 19.01; Funcional: \n12.306.0103 – Alimentação e Nutrição; Atividade: \n2.365 - Alimentação Escolar na Ed. De Jovens e \nAdultos / 2.927 - Alimentação Escolar Ens. \nFundamental; pelo elemento de despesa: 3.3.90.30 \n\nhttp://www.pmf.sc.gov.br/governo/index.php?pagina=govdiariooficial\n\n\n DIÁRIO OFICIAL ELETRÔNICO \n DO MUNICÍPIO DE FLORIANÓPOLIS \nEdição Nº  2851 Florianópolis/SC, quarta-feira, 30 de dezembro de 2020 pg. 8 \n \n\n \n\nPREFEITURA MUNICIPAL DE FLORIANÓPOLIS  Secretário:  Everson Mendes Rua Tenente Silveira, 60, 5º Andar - Centro - 88010-300– Florianópolis / SC  \nSecretaria Municipal da Casa Civil   Fone: (48) 3251-6066 - 3251-6062 \nGerência de Diário Oficial Controle:  Thamara Malta Diários Online:  http://www.pmf.sc.gov.br/governo/index.php?pagina=govdiariooficial  \n\npg. 8 \n \n\n– Material de Consumo e Fonte de Recurso: 1043; \nData de Assinatura: 03/12/2020; Nome das partes \nque assinaram: Pela Secretaria Municipal de \nEducação, o Sr. Maurício Fernandes Pereira, e pela \nempresa, a Sra. Anna Gabriela Ferreira Pego \n\nSEGUNDO TERMO ADITIVO AO CONTRATO Nº \n1249/SME/2018 – PMF X SRA. MARILENE DA \nSILVA. Objeto:  A Cláusula Segunda do Contrato \noriginal continua subsistindo em todos os seus \ntermos e condições, renovando o presente \nContrato, com o prazo que continua por tempo \ndeterminado, passando a fluir de 28 de dezembro \nde 2020 até 27 de dezembro de 2021, com \nfundamento no art. 57, II da Lei 8.666/93 c/c art. \n62, § 3º, I da Lei 8.666/93 e art. 51, da Lei nº \n8.245/91, no Parecer nº \n1293/2020/SME/ASSJUD/PMF da Assessoria \nJurídica da Secretaria Municipal de Educação, no \nOF. DIOP nº 0579/2020/SME/PMF e na Deliberação \nnº 6448/2020 do Comitê Gestor de Governo, \npartes integrantes deste Termo Aditivo. O prazo \nrenovado de que consta nesta Cláusula, fica \nsuspenso para computo de aplicação de reajuste e \nreequilíbrio; Número e Modalidade da Licitação: \nDispensa de Licitação nº 883/SMA/DLC/2018; Data \nde Assinaturas: 21/12/2020; Nome das partes que \nassinaram: Pela Secretaria Municipal de Educação, \no Sr. Mauricio Fernandes Pereira, e pela empresa, a \nSra. Marilene da Silva. \n\nSÉTIMO TERMO ADITIVO AO CONTRATO Nº \n789/SME/2016 – PMF X EMPRESA W.S. \nCOMÉRCIO DE REFRIGERAÇÃO E EQUIPAMENTOS \nINDUSTRIAIS LTDA – ME. Objeto:  A Cláusula Sexta \ndo Contrato original continua subsistindo em todos \nos seus termos e condições, renovando o presente \nContrato, com o prazo que continua por tempo \ndeterminado, com início em 01 de janeiro de 2021 \ne término em 31 de julho de 2021, com \nfundamento no artigo 57, inciso II da Lei Federal nº \n8.666/93, no Parecer nº \n1274/2020/SME/ASSJUD/PMF da Assessoria \nJurídica da Secretaria Municipal de Educação, no \nOF DIOP nº. 0454/2020/SME/PMF e na Deliberação \nnº 6313/2020 do Comitê Gestor de Governo, \npartes integrantes deste Termo Aditivo. O prazo \nrenovado que consta nesta Cláusula, fica suspenso \npara computo de aplicação de reajuste e \nreequilíbrio. O Preâmbulo do presente Contrato \npassa a vigorar com a seguinte redação: “TERMO \nDE CONTRATO QUE ENTRE SI CELEBRAM O \nMUNICIPIO DE FLORIANÓPOLIS, POR INTERMÉDIO \nDA SECRETARIA MUNICIPAL DE EDUCAÇÃO E A \nEMPRESA W.S. COMÉRCIO DE REFRIGERAÇÃO E \nEQUIPAMENTOS INDUSTRIAIS EIRELI. O Município \nde Florianópolis, pessoa jurídica de direito público, \npor intermédio da SECRETARIA MUNICIPAL DE \n\nEDUCAÇÃO, inscrita no CNPJ sob nº \n82.892.282/0009-09, situado à Rua Conselheiro \nMafra nº 656 – 5º andar, Centro, Florianópolis / SC \ndoravante denominada CONTRATANTE, neste ato \nrepresentada pela sua Secretária Sra. Maria José da \nCosta Brandão, inscrita no CPF sob nº 467.276.397-\n87, e a empresa W.S. COMÉRCIO DE \nREFRIGERAÇÃO E EQUIPAMENTOS INDUSTRIAIS \nEIRELI, pessoa jurídica de direito privado, inscrita \nno CNPJ sob nº 13.624.180/0001-24, com sede à \nRua Pedro Alvares Cabral, nº 121 – sala 01, Bairro \nCentro, Sobradinho/RS, doravante denominada \nCONTRATADA, neste ato representada pelo Sr. \nSergio Ubirajara Petrucci Barbosa, inscrito no CPF \nsob nº 507.262.500-15,(...)”.; Número e \nModalidade da Licitação: Pregão Presencial nº \n196/SMA/DLC/2016; Data de Assinaturas: \n23/12/2020; Nome das partes que assinaram: Pela \nSecretaria Municipal de Educação, o Sr. Mauricio \nFernandes Pereira, e pela empresa, o procurador \nSr. William de Oliveira Barbosa. \n\nSÉTIMO TERMO ADITIVO AO CONTRATO Nº \n790/SME/2016 – PMF X EMPRESA W.S. \nCOMÉRCIO DE REFRIGERAÇÃO E EQUIPAMENTOS \nINDUSTRIAIS LTDA – ME. Objeto: A Cláusula Sexta \ndo Contrato original continua subsistindo em todos \nos seus termos e condições, renovando-se o \npresente Contrato com o prazo que continua por \ntempo determinado, com início em 01 de janeiro \nde 2021 e término em 31 de julho de 2021, com \nfundamento no artigo 57, inciso II da Lei Federal nº \n8.666/93, no Parecer nº \n1273/2020/SME/ASSJUD/PMF da Assessoria \nJurídica da Secretaria Municipal de Educação, no \nOF. DIOP nº 0455/2020/SME/PMF e na Deliberação \nnº 6311/2020 do Comitê Gestor de Governo, \npartes integrantes deste Termo Aditivo. O prazo \nrenovado que consta nesta Cláusula, fica suspenso \npara computo de aplicação de reajuste e \nreequilíbrio. O Preâmbulo do presente Contrato \npassa a vigorar com a seguinte redação: “TERMO \nDE CONTRATO QUE ENTRE SI CELEBRAM O \nMUNICIPIO DE FLORIANÓPOLIS, POR INTERMÉDIO \nDA SECRETARIA MUNICIPAL DE EDUCAÇÃO E A \nEMPRESA W.S. COMÉRCIO DE REFRIGERAÇÃO E \nEQUIPAMENTOS INDUSTRIAIS EIRELI. O Município \nde Florianópolis, pessoa jurídica de direito público, \npor intermédio da SECRETARIA MUNICIPAL DE \nEDUCAÇÃO, inscrita no CNPJ sob nº \n82.892.282/0009-09, situado à Rua Conselheiro \nMafra nº 656 – 5º andar, Centro, Florianópolis / SC \ndoravante denominada CONTRATANTE, neste ato \nrepresentada pela sua Secretária Sra. Maria José da \nCosta Brandão, inscrita no CPF sob nº 467.276.397-\n87, e a empresa W.S. COMÉRCIO DE \nREFRIGERAÇÃO E EQUIPAMENTOS INDUSTRIAIS \n\nhttp://www.pmf.sc.gov.br/governo/index.php?pagina=govdiariooficial\n\n\n DIÁRIO OFICIAL ELETRÔNICO \n DO MUNICÍPIO DE FLORIANÓPOLIS \nEdição Nº  2851 Florianópolis/SC, quarta-feira, 30 de dezembro de 2020 pg. 9 \n \n\n \n\nPREFEITURA MUNICIPAL DE FLORIANÓPOLIS  Secretário:  Everson Mendes Rua Tenente Silveira, 60, 5º Andar - Centro - 88010-300– Florianópolis / SC  \nSecretaria Municipal da Casa Civil   Fone: (48) 3251-6066 - 3251-6062 \nGerência de Diário Oficial Controle:  Thamara Malta Diários Online:  http://www.pmf.sc.gov.br/governo/index.php?pagina=govdiariooficial  \n\npg. 9 \n \n\nEIRELI, inscrita no CNPJ sob nº 13.624.180/0001-\n24, com sede à Rua Pedro Alvares Cabral, nº 121 – \nsala 01, Bairro Centro, Sobradinho/RS, doravante \ndenominada CONTRATADA, neste ato \nrepresentada pelo Sr. Sergio Ubirajara Petrucci \nBarbosa, inscrito no CPF sob nº 507.262.500-15, \n(...)”; Número e Modalidade da Licitação: Pregão \nPresencial nº 196/SMA/DLC/2016; Data de \nAssinaturas: 23/12/2020; Nome das partes que \nassinaram: Pela Secretaria Municipal de Educação, \no Sr. Mauricio Fernandes Pereira, e pela empresa, o \nprocurador Sr. William de Oliveira Barbosa. \n\nSEXTO TERMO ADITIVO AO CONTRATO Nº \n791/SME/2016 – PMF X EMPRESA W.S. \nCOMÉRCIO DE REFRIGERAÇÃO E EQUIPAMENTOS \nINDUSTRIAIS LTDA – ME. Objeto: A Cláusula Sexta \ndo Contrato original continua subsistindo em todos \nos seus termos e condições, renovando o presente \nContrato, com o prazo que continua por tempo \ndeterminado, passando a fluir de 01 de janeiro de \n2021 até 31 de julho de 2021, com fundamento no \nartigo 57, inciso II da Lei Federal nº 8.666/93, no \nParecer nº \n1283/2020/SME/ASSJUD/SUBSIJUD/PMF do \nAssessor Jurídico da Secretaria Municipal de \nEducação, no OF. DIOP nº 0468/SME/DAF/2020 e \nna Deliberação nº 6312/2020 do Comitê Gestor de \nGoverno, partes integrantes deste Termo Aditivo. \nO prazo renovado de que consta nesta Cláusula, \nfica suspenso para computo de aplicação de \nreajuste e reequilíbrio. O Preâmbulo do presente \nContrato passa a vigorar com a seguinte redação: \nTERMO DE CONTRATO QUE ENTRE SI CELEBRAM O \nMUNICIPIO DE FLORIANÓPOLIS, POR INTERMÉDIO \nDA SECRETARIA MUNICIPAL DE EDUCAÇÃO E A \nEMPRESA W.S. COMÉRCIO DE REFRIGERAÇÃO E \nEQUIPAMENTOS INDUSTRIAIS EIRELI. O Município \nde Florianópolis, pessoa jurídica de direito público, \npor intermédio da SECRETARIA MUNICIPAL DE \nEDUCAÇÃO, inscrita no CNPJ sob nº \n82.892.282/0009-09, situado à Rua Conselheiro \nMafra nº 656 – 5º andar, Centro, Florianópolis / SC \ndoravante denominada CONTRATANTE, neste ato \nrepresentada pela sua Secretária Sra. Maria José da \nCosta Brandão, inscrita no CPF sob nº 467.276.397-\n87, e a empresa W.S. COMÉRCIO DE \nREFRIGERAÇÃO E EQUIPAMENTOS INDUSTRIAIS \nEIRELI, inscrita no CNPJ sob nº 13.624.180/0001-\n24, com sede à Rua Pedro Alvares Cabral, nº 121 – \nsala 01, Bairro Centro, Sobradinho/RS, doravante \ndenominada CONTRATADA, neste ato \nrepresentada pelo Sr. Sergio Ubirajara Petrucci \nBarbosa, inscrito no CPF sob nº 507.262.500-15 \n(...)”; Número e Modalidade da Licitação: Pregão \nPresencial nº 196/SMA/DLC/2016; Data de \nAssinaturas: 21/12/2020; Nome das partes que \n\nassinaram: Pela Secretaria Municipal de Educação, \no Sr. Mauricio Fernandes Pereira, e pela empresa, o \nprocurador Sr. William de Oliveira Barbosa. \n\nERRATA DE PUBLICAÇÃO – DISPENSA DE \nLICITAÇÃO  Nº 603/SMA/DSLC/2020 - Publicada \nno Diário Oficial Eletrônico do Município, nº 2850, \npágina 6, em 29 de dezembro de 2020. Considera-\nse Prazo de vigência: O contrato terá vigência de 60 \n(sessenta) dias, ou até que se conclua processo \nlicitatório para o objeto, o que ocorrer primeiro. \n\nSECRETARIA MUNICIPAL DE \n\nINFRAESTRUTURA \n\nEDITAL DE CONCORRÊNCIA Nº \n573/SMA/DSLC/2020 - A Secretaria Municipal da \nAdministração torna público, para o conhecimento \ndos interessados, que em ato público será realizada \nlicitação, na modalidade Concorrência, tipo menor \npreço, tendo como objeto a contratação de \nempresa para execução das obras de revitalização \nde Ligação da praia dos Ingleses à praia do \nSantinho – Rua Vereador Onildo Lemos e acesso à \npraia pela Rua Raul Pereira Caldas (Orla da Praia do \nSantinho) - Florianópolis/SC. O limite para a \nentrega dos envelopes será até às 13h50min do dia \n03/02/2021. A reunião de abertura dos envelopes \nserá no mesmo dia, às 14h, na Secretaria Municipal \nde Administração, Diretoria do Sistema de \nLicitações e Contratos, na Rua Conselheiro Mafra,     \nnº 656, Ed. Aldo Beck, 3º andar, sala 301, Centro, \nFlorianópolis/SC. O Edital poderá ser acessado pelo \nsite www.pmf.sc.gov.br. \n\nEDITAL DE TOMADA DE PREÇOS Nº \n562/SMA/DSLC/2020 - A Secretaria Municipal da \nAdministração torna público, para o conhecimento \ndos interessados, que em ato público será realizada \nlicitação, na modalidade Tomada de Preços, tipo \nmenor preço, tendo como objeto a contratação de \nempresa para execução de gavetas Mortuárias e \ncontenção no cemitério São Francisco de Assis – \nItacorubi - Florianópolis/SC. O limite para a entrega \ndos envelopes será até às 13h50min do dia \n20/01/2021. A reunião de abertura dos envelopes \nserá no mesmo dia, às 14h, na Secretaria Municipal \nde Administração, Diretoria do Sistema de \nLicitações e Contratos, na Rua Conselheiro Mafra, \nnº 656, Ed. Aldo Beck, 3º andar, sala 301, Centro, \nFlorianópolis/SC. O Edital poderá ser acessado pelo \nsite www.pmf.sc.gov.br. \n\nRESULTADO DA TOMADA DE PREÇOS   Nº \n453/SMA/DSLC/2020. O Município de \nFlorianópolis, por intermédio da Comissão \n\nhttp://www.pmf.sc.gov.br/governo/index.php?pagina=govdiariooficial\nhttp://www.pmf.sc.gov.br/\nhttp://www.pmf.sc.gov.br/\n\n\n DIÁRIO OFICIAL ELETRÔNICO \n DO MUNICÍPIO DE FLORIANÓPOLIS \nEdição Nº  2851 Florianópolis/SC, quarta-feira, 30 de dezembro de 2020 pg. 10 \n \n\n \n\nPREFEITURA MUNICIPAL DE FLORIANÓPOLIS  Secretário:  Everson Mendes Rua Tenente Silveira, 60, 5º Andar - Centro - 88010-300– Florianópolis / SC  \nSecretaria Municipal da Casa Civil   Fone: (48) 3251-6066 - 3251-6062 \nGerência de Diário Oficial Controle:  Thamara Malta Diários Online:  http://www.pmf.sc.gov.br/governo/index.php?pagina=govdiariooficial  \n\npg. 10 \n \n\nPermanente de Licitações para Obras e Serviços de \nEngenharia torna público aos interessados que a \nempresa, após o atendimento ao art. 40, §1º e art. \n45, inciso I da Lei   nº 123/2006, Suíça Transportes \nLtda - EPP com o valor de R$ 234.500,00 (duzentos \ne trinta e quatro mil e quinhentos reais). Abre-se \nprazo de 05 (cinco) dias úteis, conforme preceitua \no art. 109, inciso I, alínea “b” da Lei nº 8.666/93, \npara apresentação de recurso administrativo. A \nComissão. \n\nRERRATIFICAÇÃO AO CONTRATO DE EMPRÉSTIMO \nNº 2625.0409.678-42/2013 CAIXA X PMF - 2 – \nRETIFICAÇÃO  –  2.1 – Os contratantes retificam o \ncontrato nº. 2625.0409.678-42/2013, Pró-\nTransporte – Mobilidade Médias Cidades, datado \nde 23/05/2014, em: – CLÁUSULA PRIMEIRA – \nOBJETO, que passa a vigorar com a seguinte \nredação: 1 – Empréstimo no valor de R$ \n2.830.133,08 (dois milhões, oitocentos e trinta mil, \ncento e trinta e três reais e oito centavos), sob a \nforma de financiamento concedido pela CAIXA, \nlastreado em recursos do FGTS, repassados pelo \nAGENTE OPERADOR à CAIXA, nas condições \nestabelecidas no Programa Pró-Transporte, \nobservadas as condições estabelecidas neste \ncontrato. – CLÁUSULA SEGUNDA – DO \nFINANCIAMENTO, que passa a vigorar com a \nseguinte redação: 2.1 – Investimento: no valor de \nR$ 2.979.087,45 (dois milhões, novecentos e \nsetenta e nove mil, oitenta e sete reais e quarenta \ne cinco centavos); 2.2 – Financiamento no motante \nde R$ 2.830.133,08 (dois milhões, oitocentos e \ntrinta mil, cento e trinta e três reais e oito \ncentavos), destinado à implantação do Anel Viário \npara Corredor de Transporte Público Coletivo e \nTeleférico, no município de Florianópolis/SC para \natender a população estimada de 250.000 \nhabitantes, equivalente a 95% do valor do \ninvestimento. 2.3 – Contrapartida: no valor de R$ \n148.954,37 (cento e quarenta e oito mil, \nnovecentos e cinquenta e quatro reais e trinta e \nsete centavos), equivalente a 5% do valor do \ninvestimento; 3 – RATIFICAÇÃO – 3.1 – Assim, os \ncontratantes ratificam o instrumento datado de \n23/05/2014, ora retificado, em todos os demais \ntermos, cláusulas e condições, passando o \npresente instrumento de rerratificação fazer parte \nintegrante e complementar daquele instrumento, a \nfim de que juntos produzam um só efeito. Data e \nAssinaturas: 22/12/2020, MARCELO BERNARDES \nTEODÓSIO/GEAN MARQUES LOUREIRO. \n\nSECRETARIA MUNICIPAL DE \n\nASSISTÊNCIA SOCIAL \n\nEXTRATO DO TERMO DE COLABORAÇÃO NO \n180/PMF/SEMAS/FMAS/2020 - Objeto: execução \ndo Serviço de Convivência e Fortalecimento de \nVínculos para Criança e Adolescente (SCFV), o qual \nintegra a Proteção Social Básica do SUAS, \nobservando o estabelecido no Plano de Trabalho \naprovado através da Dispensa de Chamamento \nPúblico n. 004/2018 (D.O.E.M. 2177 de 27 abril de \n2018), aos moldes da Lei Federal nº 13.019/2014 e \ndo Decreto Municipal 21.966/2020. Partes \nparceiras: Município de Florianópolis, com \ninterveniência da Secretaria Municipal de \nAssistência Social, através do Fundo Municipal de \nAssistência Social, e a Organização da Sociedade \nCivil “Associação Beneficente, Educacional e \nAssistencial Gente Amiga”, inscrita no CNPJ sob o \nnº 07.004.037/0001-37. Valor: R$ 166.848,00 \n(cento e sessenta e seis mil e oitocentos e quarenta \ne oito reais), a ser repassado em 12 (doze) parcelas \nmensais e consecutivas. As despesas decorrentes \ndo atendimento ao disposto deste Termo de \nColaboração correrão à conta do orçamento do \nFundo Municipal de Assistência Social, PROJETO \nATIVIDADE: 2326, ELEMENTO DE DESPESA: \n3.3.50.43.00.00.00.00.0080 – Subvenções Sociais -  \nFonte 80. Vigência: 01 de janeiro de 2021 até 31 de \ndezembro de 2021. Signatários: Maria Cláudia \nGoulart da Silva, pela Secretaria Municipal de \nAssistência Social e Ana Luzia Gonzaga, pela \nOrganização da Sociedade Civil. Florianópolis, 29 \nde dezembro de 2020. \n\nEXTRATO DO TERMO DE COLABORAÇÃO NO \n181/PMF/SEMAS/FMAS/2020 - Objeto: execução \ndo Serviço de Convivência e Fortalecimento de \nVínculos para Criança e Adolescente (SCFV), o qual \nintegra a Proteção Social Básica do SUAS, \nobservando o estabelecido no Plano de Trabalho \naprovado através da Dispensa de Chamamento \nPúblico n. 004/2018 (D.O.E.M. 2177 de 27 abril de \n2018), aos moldes da Lei Federal nº 13.019/2014 e \ndo Decreto Municipal 21.966/2020. Partes \nparceiras: Município de Florianópolis, com \ninterveniência da Secretaria Municipal de \nAssistência Social, através do Fundo Municipal de \nAssistência Social, e a Organização Da Sociedade \nCivil “Associação Ações Sociais Amigos Solidários \n(ASAS)”, inscrita no CNPJ sob o nº \n09.072.503/0001-47. Valor: R$ 125.136,00 (cento e \nvinte e cinco mil e cento e trinta e seis reais), a ser \nrepassado em 12 (doze) parcelas mensais e \nconsecutivas. As despesas decorrentes do \natendimento ao disposto deste Termo de \n\nhttp://www.pmf.sc.gov.br/governo/index.php?pagina=govdiariooficial\n\n\n DIÁRIO OFICIAL ELETRÔNICO \n DO MUNICÍPIO DE FLORIANÓPOLIS \nEdição Nº  2851 Florianópolis/SC, quarta-feira, 30 de dezembro de 2020 pg. 11 \n \n\n \n\nPREFEITURA MUNICIPAL DE FLORIANÓPOLIS  Secretário:  Everson Mendes Rua Tenente Silveira, 60, 5º Andar - Centro - 88010-300– Florianópolis / SC  \nSecretaria Municipal da Casa Civil   Fone: (48) 3251-6066 - 3251-6062 \nGerência de Diário Oficial Controle:  Thamara Malta Diários Online:  http://www.pmf.sc.gov.br/governo/index.php?pagina=govdiariooficial  \n\npg. 11 \n \n\nColaboração correrão à conta do orçamento do \nFundo Municipal de Assistência Social, PROJETO \nATIVIDADE: 2326, ELEMENTO DE DESPESA: \n3.3.50.43.00.00.00.00.0080 – Subvenções Sociais -  \nFonte 80. Vigência: 01 de janeiro de 2021 até 31 de \ndezembro de 2021. Signatários: Maria Cláudia \nGoulart da Silva, pela Secretaria Municipal de \nAssistência Social e Juliana Cunha, pela \nOrganização da Sociedade Civil. Florianópolis, 29 \nde dezembro de 2020. \n\nEXTRATO DO TERMO DE COLABORAÇÃO NO \n182/PMF/SEMAS/FMAS/2020 - Objeto: execução \ndo Serviço de Convivência e Fortalecimento de \nVínculos para Criança e Adolescente (SCFV), o qual \nintegra a Proteção Social Básica do SUAS, \nobservando o estabelecido no Plano de Trabalho \naprovado através da Dispensa de Chamamento \nPúblico n. 004/2018 (D.O.E.M. 2177 de 27 abril de \n2018), aos moldes da Lei Federal nº 13.019/2014 e \ndo Decreto Municipal 21.966/2020. Partes \nparceiras: Município de Florianópolis, com \ninterveniência da Secretaria Municipal de \nAssistência Social, através do Fundo Municipal de \nAssistência Social, e a Organização da Sociedade \nCivil “Associação de Pais e Amigos da Criança e do \nAdolescente do Morro das Pedras (APAM)”, CNPJ \nsob o nº 81.617.433/0001-92. Valor: R$ 158.505,60 \n(cento e cinquenta e oito mil e quinhentos e cinco \nreais e sessenta centavos), a ser repassado em 12 \n(doze) parcelas mensais e consecutivas. As \ndespesas decorrentes do atendimento ao disposto \ndeste Termo de Colaboração correrão à conta do \norçamento do Fundo Municipal de Assistência \nSocial, PROJETO ATIVIDADE: 2326, ELEMENTO DE \nDESPESA: 3.3.50.43.00.00.00.00.0080 – \nSubvenções Sociais -  Fonte 80. Vigência: 01 de \njaneiro de 2021 até 31 de dezembro de 2021. \nSignatários: Maria Cláudia Goulart da Silva, pela \nSecretaria Municipal de Assistência Social e \nSuzielem Silveira de Souza Giacomoni, pela \nOrganização da Sociedade Civil. Florianópolis, 29 \nde dezembro de 2020. \n\nEXTRATO DO TERMO DE COLABORAÇÃO NO \n183/PMF/SEMAS/FMAS/2020 - Objeto: execução \ndo Serviço de Convivência e Fortalecimento de \nVínculos para Criança e Adolescente (SCFV), o qual \nintegra a Proteção Social Básica do SUAS, \nobservando o estabelecido no Plano de Trabalho \naprovado através da Dispensa de Chamamento \nPúblico n. 004/2018 (D.O.E.M. 2177 de 27 abril de \n2018), aos moldes da Lei Federal nº 13.019/2014 e \ndo Decreto Municipal 21.966/2020. Partes \nparceiras: Município de Florianópolis, com \ninterveniência da Secretaria Municipal de \nAssistência Social, através do Fundo Municipal de \nAssistência Social, e a Organização da Sociedade \n\nCivil “Associação de Amigos da Casa da Criança e \ndo Adolescente do Morro do Mocotó (ACAM)”, \ninscrita no CNPJ sob o nº 00.924.300/0001-67. \nValor: R$ 333.696,00 (trezentos e trinta e três mil e \nseiscentos e noventa e seis reais), a ser repassado \nem 12 (doze) parcelas mensais e consecutivas. As \ndespesas decorrentes do atendimento ao disposto \ndeste Termo de Colaboração correrão à conta do \norçamento do Fundo Municipal de Assistência \nSocial, PROJETO ATIVIDADE: 2326, ELEMENTO DE \nDESPESA: 3.3.50.43.00.00.00.00.0080 – \nSubvenções Sociais -  Fonte 80. Vigência: 01 de \njaneiro de 2021 até 31 de dezembro de 2021. \nSignatários: Maria Cláudia Goulart da Silva, pela \nSecretaria Municipal de Assistência Social e Cláudio \nRamos Floriani Júnior, pela Organização da \nSociedade Civil. Florianópolis, 29 de dezembro de \n2020. \n\nEXTRATO DO TERMO DE COLABORAÇÃO NO \n184/PMF/SEMAS/FMAS/2020 - Objeto: execução \ndo Serviço de Convivência e Fortalecimento de \nVínculos para Criança e Adolescente (SCFV), o qual \nintegra a Proteção Social Básica do SUAS, \nobservando o estabelecido no Plano de Trabalho \naprovado através da Dispensa de Chamamento \nPúblico n. 004/2018 (D.O.E.M. 2177 de 27 abril de \n2018), aos moldes da Lei Federal nº 13.019/2014 e \ndo Decreto Municipal 21.966/2020. Partes \nparceiras: Município de Florianópolis, com \ninterveniência da Secretaria Municipal de \nAssistência Social, através do Fundo Municipal de \nAssistência Social, e a Organização da Sociedade \nCivil “Associação Evangélica Beneficente de \nAssistência Social (AEBAS)”, inscrita no CNPJ sob o \nnº 83.932.608/0001-81. Valor: R$ 201.927,36 \n(duzentos e um mil e novecentos e vinte e sete \nreais e trinta e seis centavos), a ser repassado em \n12 (doze) parcelas mensais e consecutivas. As \ndespesas decorrentes do atendimento ao disposto \ndeste Termo de Colaboração correrão à conta do \norçamento do Fundo Municipal de Assistência \nSocial, PROJETO ATIVIDADE: 2326, ELEMENTO DE \nDESPESA: 3.3.50.43.00.00.00.00.0080 – \nSubvenções Sociais -  Fonte 80. Vigência: 01 de \njaneiro de 2021 até 31 de dezembro de 2021. \nSignatários: Maria Cláudia Goulart da Silva, pela \nSecretaria Municipal de Assistência Social e Carlos \nOtavio Scheidt, pela Organização da Sociedade \nCivil. Florianópolis, 29 de dezembro de 2020. \n\nEXTRATO DO TERMO DE COLABORAÇÃO NO \n185/PMF/SEMAS/FMAS/2020 - Objeto: execução \ndo Serviço de Convivência e Fortalecimento de \nVínculos para Criança e Adolescente (SCFV), o qual \nintegra a Proteção Social Básica do SUAS, \nobservando o estabelecido no Plano de Trabalho \naprovado através da Dispensa de Chamamento \n\nhttp://www.pmf.sc.gov.br/governo/index.php?pagina=govdiariooficial\n\n\n DIÁRIO OFICIAL ELETRÔNICO \n DO MUNICÍPIO DE FLORIANÓPOLIS \nEdição Nº  2851 Florianópolis/SC, quarta-feira, 30 de dezembro de 2020 pg. 12 \n \n\n \n\nPREFEITURA MUNICIPAL DE FLORIANÓPOLIS  Secretário:  Everson Mendes Rua Tenente Silveira, 60, 5º Andar - Centro - 88010-300– Florianópolis / SC  \nSecretaria Municipal da Casa Civil   Fone: (48) 3251-6066 - 3251-6062 \nGerência de Diário Oficial Controle:  Thamara Malta Diários Online:  http://www.pmf.sc.gov.br/governo/index.php?pagina=govdiariooficial  \n\npg. 12 \n \n\nPúblico n. 004/2018 (D.O.E.M. 2177 de 27 abril de \n2018), aos moldes da Lei Federal nº 13.019/2014 e \ndo Decreto Municipal 21.966/2020. Partes \nparceiras: Município de Florianópolis, com \ninterveniência da Secretaria Municipal de \nAssistência Social, através do Fundo Municipal de \nAssistência Social, e a Organização da Sociedade \nCivil “Associação Promocional do Menor \nTrabalhador (PROMENOR)”, inscrita no CNPJ sob o \nnº 82.509.183/0001-30. Valor: R$ 271.128,00 \n(duzentos e setenta e um mil cento e vinte e oito \nreais), a ser repassado em 12 (doze) parcelas \nmensais e consecutivas. As despesas decorrentes \ndo atendimento ao disposto deste Termo de \nColaboração correrão à conta do orçamento do \nFundo Municipal de Assistência Social, PROJETO \nATIVIDADE: 2326, ELEMENTO DE DESPESA: \n3.3.50.43.00.00.00.00.0080 – Subvenções Sociais -  \nFonte 80. Vigência: 01 de janeiro de 2021 até 31 de \ndezembro de 2021. Signatários: Maria Cláudia \nGoulart da Silva, pela Secretaria Municipal de \nAssistência Social e Paulo Teixeira do Valle Pereira, \npela Organização da Sociedade Civil. Florianópolis, \n29 de dezembro de 2020. \n\nEXTRATO DO TERMO DE COLABORAÇÃO NO \n186/PMF/SEMAS/FMAS/2020 - Objeto: execução \ndo Serviço de Convivência e Fortalecimento de \nVínculos para Criança e Adolescente (SCFV), o qual \nintegra a Proteção Social Básica do SUAS, \nobservando o estabelecido no Plano de Trabalho \naprovado através da Dispensa de Chamamento \nPúblico n. 004/2018 (D.O.E.M. 2177 de 27 abril de \n2018), aos moldes da Lei Federal nº 13.019/2014 e \ndo Decreto Municipal 21.966/2020. Partes \nparceiras: Município de Florianópolis, com \ninterveniência da Secretaria Municipal de \nAssistência Social, através do Fundo Municipal de \nAssistência Social, e a Organização da Sociedade \nCivil “Casa da Criança do Morro da Penitenciária”, \ninscrita no CNPJ sob o nº 81.617.789/0001-26. \nValor: R$ 229.416,00 (duzentos e vinte e nove mil e \nquatrocentos e dezesseis reais), a ser repassado \nem 12 (doze) parcelas mensais e consecutivas. As \ndespesas decorrentes do atendimento ao disposto \ndeste Termo de Colaboração correrão à conta do \norçamento do Fundo Municipal de Assistência \nSocial, PROJETO ATIVIDADE: 2326, ELEMENTO DE \nDESPESA: 3.3.50.43.00.00.00.00.0080 – \nSubvenções Sociais -  Fonte 80. Vigência: 01 de \njaneiro de 2021 até 31 de dezembro de 2021. \nSignatários: Maria Cláudia Goulart da Silva, pela \nSecretaria Municipal de Assistência Social e Gilson \nRogério Morais, pela Organização da Sociedade \nCivil. Florianópolis, 29 de dezembro de 2020. \n\nEXTRATO DO TERMO DE COLABORAÇÃO NO \n187/PMF/SEMAS/FMAS/2020 - Objeto: execução \n\ndo Serviço de Convivência e Fortalecimento de \nVínculos para Criança e Adolescente (SCFV), o qual \nintegra a Proteção Social Básica do SUAS, \nobservando o estabelecido no Plano de Trabalho \naprovado através da Dispensa de Chamamento \nPúblico n. 004/2018 (D.O.E.M. 2177 de 27 abril de \n2018), aos moldes da Lei Federal nº 13.019/2014 e \ndo Decreto Municipal 21.966/2020. Partes \nparceiras: Município de Florianópolis, com \ninterveniência da Secretaria Municipal de \nAssistência Social, através do Fundo Municipal de \nAssistência Social, e a Organização da Sociedade \nCivil “Associação Casa São José”, inscrita no CNPJ \nsob o nº 18.093.657/0001-06. Valor: de R$ \n346.209,60 (trezentos e quarenta e seis mil e \nduzentos e nove reais e sessenta centavos), a ser \nrepassado em 12 (doze) parcelas mensais e \nconsecutivas. As despesas decorrentes do \natendimento ao disposto deste Termo de \nColaboração correrão à conta do orçamento do \nFundo Municipal de Assistência Social, PROJETO \nATIVIDADE: 2326, ELEMENTO DE DESPESA: \n3.3.50.43.00.00.00.00.0080 – Subvenções Sociais -  \nFonte 80. Vigência: 01 de janeiro de 2021 até 31 de \ndezembro de 2021. Signatários: Maria Cláudia \nGoulart da Silva, pela Secretaria Municipal de \nAssistência Social e Evandro Aparecido de Souza, \npela Organização da Sociedade Civil. Florianópolis, \n29 de dezembro de 2020. \n\nEXTRATO DO TERMO DE COLABORAÇÃO NO \n188/PMF/SEMAS/FMAS/2020 - Objeto: execução \ndo Serviço de Convivência e Fortalecimento de \nVínculos para Criança e Adolescente (SCFV), o qual \nintegra a Proteção Social Básica do SUAS, \nobservando o estabelecido no Plano de Trabalho \naprovado através da Dispensa de Chamamento \nPúblico n. 004/2018 (D.O.E.M. 2177 de 27 abril de \n2018), aos moldes da Lei Federal nº 13.019/2014 e \ndo Decreto Municipal 21.966/2020. Partes \nparceiras: Município de Florianópolis, com \ninterveniência da Secretaria Municipal de \nAssistência Social, através do Fundo Municipal de \nAssistência Social, e a Organização da Sociedade \nCivil “Centro de Apoio à Formação Integral do Ser \n(CEAFIS)”, inscrita no CNPJ sob o nº \n02.330.384/0001-36. Valor: R$ 271.128,00 \n(duzentos e setenta e um mil e cento e vinte e oito \nreais), a ser repassado em 12 (doze) parcelas \nmensais e consecutivas. As despesas decorrentes \ndo atendimento ao disposto deste Termo de \nColaboração correrão à conta do orçamento do \nFundo Municipal de Assistência Social, PROJETO \nATIVIDADE: 2326, ELEMENTO DE DESPESA: \n3.3.50.43.00.00.00.00.0080 – Subvenções Sociais -  \nFonte 80. Vigência: 01 de janeiro de 2021 até 31 de \ndezembro de 2021. Signatários: Maria Cláudia \n\nhttp://www.pmf.sc.gov.br/governo/index.php?pagina=govdiariooficial\n\n\n DIÁRIO OFICIAL ELETRÔNICO \n DO MUNICÍPIO DE FLORIANÓPOLIS \nEdição Nº  2851 Florianópolis/SC, quarta-feira, 30 de dezembro de 2020 pg. 13 \n \n\n \n\nPREFEITURA MUNICIPAL DE FLORIANÓPOLIS  Secretário:  Everson Mendes Rua Tenente Silveira, 60, 5º Andar - Centro - 88010-300– Florianópolis / SC  \nSecretaria Municipal da Casa Civil   Fone: (48) 3251-6066 - 3251-6062 \nGerência de Diário Oficial Controle:  Thamara Malta Diários Online:  http://www.pmf.sc.gov.br/governo/index.php?pagina=govdiariooficial  \n\npg. 13 \n \n\nGoulart da Silva, pela Secretaria Municipal de \nAssistência Social e Anderson Panato Guedes, pela \nOrganização da Sociedade Civil. Florianópolis, 29 \nde dezembro de 2020. \n\nEXTRATO DO TERMO DE COLABORAÇÃO NO \n189/PMF/SEMAS/FMAS/2020 - Objeto: execução \ndo Serviço de Convivência e Fortalecimento de \nVínculos para Criança e Adolescente (SCFV), o qual \nintegra a Proteção Social Básica do SUAS, \nobservando o estabelecido no Plano de Trabalho \naprovado através da Dispensa de Chamamento \nPúblico n. 004/2018 (D.O.E.M. 2177 de 27 abril de \n2018), aos moldes da Lei Federal nº 13.019/2014 e \ndo Decreto Municipal 21.966/2020. Partes \nparceiras: Município de Florianópolis, com \ninterveniência da Secretaria Municipal de \nAssistência Social, através do Fundo Municipal de \nAssistência Social, e a Organização da Sociedade \nCivil “Centro de Educação e Evangelização Popular \n(CEDEP)”, inscrita no CNPJ sob o nº \n80.669.740/0001-54. Valor: R$ 659.822,40 \n(seiscentos e cinquenta e nove mil e oitocentos e \nvinte e dois reais e quarenta centavos), a ser \nrepassado em 12 (doze) parcelas mensais e \nconsecutivas. As despesas decorrentes do \natendimento ao disposto deste Termo de \nColaboração correrão à conta do orçamento do \nFundo Municipal de Assistência Social, PROJETO \nATIVIDADE: 2326, ELEMENTO DE DESPESA: \n3.3.50.43.00.00.00.00.0080 – Subvenções Sociais -  \nFonte 80. Vigência: 01 de janeiro de 2021 até 31 de \ndezembro de 2021. Signatários: Maria Cláudia \nGoulart da Silva, pela Secretaria Municipal de \nAssistência Social e Maria Argentina Bastos \nSchlemper, pela Organização da Sociedade Civil. \nFlorianópolis, 29 de dezembro de 2020. \n\nEXTRATO DO TERMO DE COLABORAÇÃO NO \n190/PMF/SEMAS/FMAS/2020 - Objeto: execução \ndo Serviço de Convivência e Fortalecimento de \nVínculos para Criança e Adolescente (SCFV), o qual \nintegra a Proteção Social Básica do SUAS, \nobservando o estabelecido no Plano de Trabalho \naprovado através da Dispensa de Chamamento \nPúblico n. 004/2018 (D.O.E.M. 2177 de 27 abril de \n2018), aos moldes da Lei Federal nº 13.019/2014 e \ndo Decreto Municipal 21.966/2020. Partes \nparceiras: Município de Florianópolis, com \ninterveniência da Secretaria Municipal de \nAssistência Social, através do Fundo Municipal de \nAssistência Social, e a Organização da Sociedade \nCivil “Centro de Integração Familiar (CEIFA)”, \ninscrita no CNPJ sob o nº 01.583.896/0001-41. \nValor: R$ 104.280,00 (cento e quatro mil e \nduzentos e oitenta reais), a ser repassado em 12 \n(doze) parcelas mensais e consecutivas. As \ndespesas decorrentes do atendimento ao disposto \n\ndeste Termo de Colaboração correrão à conta do \norçamento do Fundo Municipal de Assistência \nSocial, PROJETO ATIVIDADE: 2326, ELEMENTO DE \nDESPESA: 3.3.50.43.00.00.00.00.0080 – \nSubvenções Sociais -  Fonte 80. Vigência: 01 de \njaneiro de 2021 até 31 de dezembro de 2021. \nSignatários: Maria Cláudia Goulart da Silva, pela \nSecretaria Municipal de Assistência Social e \nAnderson Sauerbier, pela Organização da \nSociedade Civil. Florianópolis, 29 de dezembro de \n2020. \n\nEXTRATO DO TERMO DE COLABORAÇÃO NO \n191/PMF/SEMAS/FMAS/2020 - Objeto: execução \ndo Serviço de Convivência e Fortalecimento de \nVínculos para Criança e Adolescente (SCFV), o qual \nintegra a Proteção Social Básica do SUAS, \nobservando o estabelecido no Plano de Trabalho \naprovado através da Dispensa de Chamamento \nPúblico n. 004/2018 (D.O.E.M. 2177 de 27 abril de \n2018), aos moldes da Lei Federal nº 13.019/2014 e \ndo Decreto Municipal 21.966/2020. Partes \nparceiras: Município de Florianópolis, com \ninterveniência da Secretaria Municipal de \nAssistência Social, através do Fundo Municipal de \nAssistência Social, e a Organização da Sociedade \nCivil “Centro de Valorização Humana, Moral e \nSocial (CEVAHUMOS)”, inscrita no CNPJ sob o nº \n85.116.853/0002-27. Valor: R$ 229.416,00 \n(duzentos e vinte e nove mil e quatrocentos e \ndezesseis reais), a ser repassado em 12 (doze) \nparcelas mensais e consecutivas. As despesas \ndecorrentes do atendimento ao disposto deste \nTermo de Colaboração correrão à conta do \norçamento do Fundo Municipal de Assistência \nSocial, PROJETO ATIVIDADE: 2326, ELEMENTO DE \nDESPESA: 3.3.50.43.00.00.00.00.0080 – \nSubvenções Sociais -  Fonte 80. Vigência: 01 de \njaneiro de 2021 até 31 de dezembro de 2021. \nSignatários: Maria Cláudia Goulart da Silva, pela \nSecretaria Municipal de Assistência Social e Valmor \nRaimundo Machado, pela Organização da \nSociedade Civil. Florianópolis, 29 de dezembro de \n2020. \n\nEXTRATO DO TERMO DE COLABORAÇÃO NO \n192/PMF/SEMAS/FMAS/2020 - Objeto: execução \ndo Serviço de Serviço de Convivência e \nFortalecimento de Vínculos para Criança e \nAdolescente (SCFV), o qual integra a Proteção \nSocial Básica do SUAS, observando o estabelecido \nno Plano de Trabalho aprovado através da \nDispensa de Chamamento Público n. 004/2018 \n(D.O.E.M. 2177 de 27 abril de 2018), aos moldes da \nLei Federal nº 13.019/2014 e do Decreto Municipal \n21.966/2020. Partes parceiras: Município de \nFlorianópolis, com interveniência da Secretaria \nMunicipal de Assistência Social, através do Fundo \n\nhttp://www.pmf.sc.gov.br/governo/index.php?pagina=govdiariooficial\n\n\n DIÁRIO OFICIAL ELETRÔNICO \n DO MUNICÍPIO DE FLORIANÓPOLIS \nEdição Nº  2851 Florianópolis/SC, quarta-feira, 30 de dezembro de 2020 pg. 14 \n \n\n \n\nPREFEITURA MUNICIPAL DE FLORIANÓPOLIS  Secretário:  Everson Mendes Rua Tenente Silveira, 60, 5º Andar - Centro - 88010-300– Florianópolis / SC  \nSecretaria Municipal da Casa Civil   Fone: (48) 3251-6066 - 3251-6062 \nGerência de Diário Oficial Controle:  Thamara Malta Diários Online:  http://www.pmf.sc.gov.br/governo/index.php?pagina=govdiariooficial  \n\npg. 14 \n \n\nMunicipal de Assistência Social, e a Organização da \nSociedade Civil “Conselho dos Moradores do Saco \nGrande II (COMOSG)”, inscrita no CNPJ sob o nº \n75.398.297/0001-94. Valor: R$ 417.120,00 \n(quatrocentos e dezessete mil e cento e vinte \nreais), a ser repassado em 12 (doze) parcelas \nmensais e consecutivas. As despesas decorrentes \ndo atendimento ao disposto deste Termo de \nColaboração correrão à conta do orçamento do \nFundo Municipal de Assistência Social, PROJETO \nATIVIDADE: 2326, ELEMENTO DE DESPESA: \n3.3.50.43.00.00.00.00.0080 – Subvenções Sociais -  \nFonte 80. Vigência: 01 de janeiro de 2021 até 31 de \ndezembro de 2021. Signatários: Maria Cláudia \nGoulart da Silva, pela Secretaria Municipal de \nAssistência Social e Rosângela Amorim dos Anjos, \npela Organização da Sociedade Civil. Florianópolis, \n29 de dezembro de 2020. \n\nEXTRATO DO TERMO DE COLABORAÇÃO NO \n193/PMF/SEMAS/FMAS/2020 - Objeto: execução \ndo Serviço de Convivência e Fortalecimento de \nVínculos para Criança e Adolescente (SCFV), o qual \nintegra a Proteção Social Básica do SUAS, \nobservando o estabelecido no Plano de Trabalho \naprovado através da Dispensa de Chamamento \nPúblico n. 004/2018 (D.O.E.M. 2177 de 27 abril de \n2018), aos moldes da Lei Federal nº 13.019/2014 e \ndo Decreto Municipal 21.966/2020. Partes \nparceiras: Município de Florianópolis, com \ninterveniência da Secretaria Municipal de \nAssistência Social, através do Fundo Municipal de \nAssistência Social, e a Organização da Sociedade \nCivil “Fundação Vidal Ramos”, inscrita no CNPJ sob \no nº 83.886.556/0001-54. Valor: R$ 166.848,00 \n(cento e sessenta e seis mil e oitocentos e quarenta \ne oito reais), a ser repassado em 12 (doze) parcelas \nmensais e consecutivas. As despesas decorrentes \ndo atendimento ao disposto deste Termo de \nColaboração correrão à conta do orçamento do \nFundo Municipal de Assistência Social, PROJETO \nATIVIDADE: 2326, ELEMENTO DE DESPESA: \n3.3.50.43.00.00.00.00.0080 – Subvenções Sociais -  \nFonte 80. Vigência: 01 de janeiro de 2021 até 31 de \ndezembro de 2021. Signatários: Maria Cláudia \nGoulart da Silva, pela Secretaria Municipal de \nAssistência Social e Celso Francisco Ramos Fonseca, \npela Organização da Sociedade Civil. Florianópolis, \n29 de dezembro de 2020. \n\nEXTRATO DO TERMO DE COLABORAÇÃO NO \n194/PMF/SEMAS/FMAS/2020 - Objeto: execução \ndo Serviço de Convivência e Fortalecimento de \nVínculos para Criança e Adolescente (SCFV), o qual \nintegra a Proteção Social Básica do SUAS, \nobservando o estabelecido no Plano de Trabalho \naprovado através da Dispensa de Chamamento \nPúblico n. 004/2018 (D.O.E.M. 2177 de 27 abril de \n\n2018), aos moldes da Lei Federal nº 13.019/2014 e \ndo Decreto Municipal 21.966/2020. Partes \nparceiras: Município de Florianópolis, com \ninterveniência da Secretaria Municipal de \nAssistência Social, através do Fundo Municipal de \nAssistência Social, e a Organização da Sociedade \nCivil “Obras de Assistência Social Dom Orione de \nCapoeiras”, inscrita no CNPJ sob o nº \n82.509.712/0001-03. Valor: R$ 229.416,00 \n(duzentos e vinte e nove mil e quatrocentos e \ndezesseis reais), a ser repassado em 12 (doze) \nparcelas mensais e consecutivas. As despesas \ndecorrentes do atendimento ao disposto deste \nTermo de Colaboração correrão à conta do \norçamento do Fundo Municipal de Assistência \nSocial, PROJETO ATIVIDADE: 2326, ELEMENTO DE \nDESPESA: 3.3.50.43.00.00.00.00.0080 – \nSubvenções Sociais -  Fonte 80. Vigência: 01 de \njaneiro de 2021 até 31 de dezembro de 2021. \nSignatários: Maria Cláudia Goulart da Silva, pela \nSecretaria Municipal de Assistência Social e Pe. \nJosé do Nascimento Ferreira da Silva, pela \nOrganização da Sociedade Civil. Florianópolis, 29 \nde dezembro de 2020. \n\nEXTRATO DO TERMO DE COLABORAÇÃO NO \n195/PMF/SEMAS/FMAS/2020 - Objeto: execução \ndo Serviço de Convivência e Fortalecimento de \nVínculos para Criança e Adolescente (SCFV), o qual \nintegra a Proteção Social Básica do SUAS, \nobservando o estabelecido no Plano de Trabalho \naprovado através da Dispensa de Chamamento \nPúblico n. 004/2018 (D.O.E.M. 2177 de 27 abril de \n2018), aos moldes da Lei Federal nº 13.019/2014 e \ndo Decreto Municipal 21.966/2020. Partes \nparceiras: Município de Florianópolis, com \ninterveniência da Secretaria Municipal de \nAssistência Social, através do Fundo Municipal de \nAssistência Social, e a Organização da Sociedade \nCivil “Seara Espírita Entreposto da Fé (SEEDE)”, \ninscrita no CNPJ sob o nº 82.102.468/0001-51. \nValor: R$ 333.696,00 (trezentos e trinta e três mil e \nseiscentos e noventa e seis reais), a ser repassado \nem 12 (doze) parcelas mensais e consecutivas. As \ndespesas decorrentes do atendimento ao disposto \ndeste Termo de Colaboração correrão à conta do \norçamento do Fundo Municipal de Assistência \nSocial, PROJETO ATIVIDADE: 2326, ELEMENTO DE \nDESPESA: 3.3.50.43.00.00.00.00.0080 – \nSubvenções Sociais -  Fonte 80. Vigência: 01 de \njaneiro de 2021 até 31 de dezembro de 2021. \nSignatários: Maria Cláudia Goulart da Silva, pela \nSecretaria Municipal de Assistência Social e \nZeferino Pedro Sachet, pela Organização da \nSociedade Civil. Florianópolis, 29 de dezembro de \n2020. \n\nhttp://www.pmf.sc.gov.br/governo/index.php?pagina=govdiariooficial\n\n\n DIÁRIO OFICIAL ELETRÔNICO \n DO MUNICÍPIO DE FLORIANÓPOLIS \nEdição Nº  2851 Florianópolis/SC, quarta-feira, 30 de dezembro de 2020 pg. 15 \n \n\n \n\nPREFEITURA MUNICIPAL DE FLORIANÓPOLIS  Secretário:  Everson Mendes Rua Tenente Silveira, 60, 5º Andar - Centro - 88010-300– Florianópolis / SC  \nSecretaria Municipal da Casa Civil   Fone: (48) 3251-6066 - 3251-6062 \nGerência de Diário Oficial Controle:  Thamara Malta Diários Online:  http://www.pmf.sc.gov.br/governo/index.php?pagina=govdiariooficial  \n\npg. 15 \n \n\nEXTRATO DO TERMO DE COLABORAÇÃO NO \n196/PMF/SEMAS/FMAS/2020 - Objeto: execução \ndo Serviço de Habilitação e Reabilitação para \nPessoas com Deficiência, o qual integra a Proteção \nSocial Especial de Média Complexidade do SUAS, \nobservando o estabelecido no Plano de Trabalho \naprovado através da Dispensa de Chamamento \nPúblico n. 007/2018 (D.O.E.M. 2177 de 27 abril de \n2018), aos moldes da Lei Federal nº 13.019/2014 e \ndo Decreto Municipal 21.966/2020. Partes \nparceiras: Município de Florianópolis, com \ninterveniência da Secretaria Municipal de \nAssistência Social, através do Fundo Municipal de \nAssistência Social, e a Organização da Sociedade \nCivil “Associação de Pais e Amigos Dos \nExcepcionais (APAE)”, inscrita no CNPJ sob o nº \n83.933.192/0001-16. Valor: R$ 565.734,00 \n(quinhentos e sessenta e cinco mil e setecentos e \ntrinta e quatro reais), a ser repassado em 12 (doze) \nparcelas mensais e consecutivas. As despesas \ndecorrentes do atendimento ao disposto deste \nTermo de Colaboração correrão à conta do \norçamento do Fundo Municipal de Assistência \nSocial, PROJETO ATIVIDADE: 2326, ELEMENTO DE \nDESPESA: 3.3.50.43.00.00.00.00.0080 – \nSubvenções Sociais -  Fonte 80. Vigência: 01 de \njaneiro de 2021 até 31 de dezembro de 2021. \nSignatários: Maria Cláudia Goulart da Silva, pela \nSecretaria Municipal de Assistência Social e Ricardo \nde Souza Mendonça, pela Organização da \nSociedade Civil. Florianópolis, 29 de dezembro de \n2020. \n\nEXTRATO DO TERMO DE COLABORAÇÃO NO \n197/PMF/SEMAS/FMAS/2020 - Objeto: execução \ndo Serviço de Habilitação e Reabilitação para \nPessoas com Deficiência, o qual integra a Proteção \nSocial Especial de Média Complexidade do SUAS, \nobservando o estabelecido no Plano de Trabalho \naprovado através da Dispensa de Chamamento \nPúblico n. 007/2018 (D.O.E.M. 2177 de 27 abril de \n2018), aos moldes da Lei Federal nº 13.019/2014 e \ndo Decreto Municipal 21.966/2020. Partes \nparceiras: Município de Florianópolis, com \ninterveniência da Secretaria Municipal de \nAssistência Social, através do Fundo Municipal de \nAssistência Social, e a Organização da Sociedade \nCivil “Associação de Surdos da Grande \nFlorianópolis (ASGF)”, inscrita no CNPJ sob o nº \n83.526.800/0001-03. Valor: R$130.554,00 (cento e \ntrinta mil e quinhentos e cinquenta e quatro reais), \na ser repassado em 12 (doze) parcelas mensais e \nconsecutivas. As despesas decorrentes do \natendimento ao disposto deste Termo de \nColaboração correrão à conta do orçamento do \nFundo Municipal de Assistência Social, PROJETO \nATIVIDADE: 2326, ELEMENTO DE DESPESA: \n\n3.3.50.43.00.00.00.00.0080 – Subvenções Sociais -  \nFonte 80. Vigência: 01 de janeiro de 2021 até 31 de \ndezembro de 2021. Signatários: Maria Cláudia \nGoulart da Silva, pela Secretaria Municipal de \nAssistência Social e Sandra Lúcia Amorim, pela \nOrganização da Sociedade Civil. Florianópolis, 29 \nde dezembro de 2020. \n\nEXTRATO DO TERMO DE COLABORAÇÃO NO \n198/PMF/SEMAS/FMAS/2020 - Objeto: execução \ndo Serviço de Habilitação e Reabilitação para \nPessoas com Deficiência, o qual integra a Proteção \nSocial Especial de Média Complexidade do SUAS, \nobservando o estabelecido no Plano de Trabalho \naprovado através da Dispensa de Chamamento \nPúblico n. 007/2018 (D.O.E.M. 2177 de 27 abril de \n2018), aos moldes da Lei Federal nº 13.019/2014 e \ndo Decreto Municipal 21.966/2020. Partes \nparceiras: Município de Florianópolis, com \ninterveniência da Secretaria Municipal de \nAssistência Social, através do Fundo Municipal de \nAssistência Social, e a Organização da Sociedade \nCivil “Associação Catarinense para Integração do \nCego (ACIC)”, inscrita no CNPJ sob o nº \n83.598.136/0001-72. Valor: R$ 565.734,00 \n(quinhentos e sessenta e cinco mil e setecentos e \ntrinta e quatro reais), a ser repassado em 12 (doze) \nparcelas mensais e consecutivas. As despesas \ndecorrentes do atendimento ao disposto deste \nTermo de Colaboração correrão à conta do \norçamento do Fundo Municipal de Assistência \nSocial, PROJETO ATIVIDADE: 2326, ELEMENTO DE \nDESPESA: 3.3.50.43.00.00.00.00.0080 – \nSubvenções Sociais -  Fonte 80. Vigência: 01 de \njaneiro de 2021 até 31 de dezembro de 2021. \nSignatários: Maria Cláudia Goulart da Silva, pela \nSecretaria Municipal de Assistência Social e \nHenrique Sales Rosica, pela Organização da \nSociedade Civil. Florianópolis, 29 de dezembro de \n2020. \n\nEXTRATO DO TERMO DE COLABORAÇÃO NO \n199/PMF/SEMAS/FMAS/2020 - Objeto: execução \ndo Serviço de Habilitação e Reabilitação para \nPessoas com Deficiência, o qual integra a Proteção \nSocial Especial de Média Complexidade do SUAS, \nobservando o estabelecido no Plano de Trabalho \naprovado através da Dispensa de Chamamento \nPúblico n. 007/2018 (D.O.E.M. 2177 de 27 abril de \n2018), aos moldes da Lei Federal nº 13.019/2014 e \ndo Decreto Municipal 21.966/2020. Partes \nparceiras: Município de Florianópolis, com \ninterveniência da Secretaria Municipal de \nAssistência Social, através do Fundo Municipal de \nAssistência Social, e a Organização da Sociedade \nCivil “Associação Florianopolitana de Deficientes \nFísicos (AFLODEF)”, inscrita no CNPJ sob o nº \n78.827.177/0001-53. Valor: R$ 165.368,40 (cento e \n\nhttp://www.pmf.sc.gov.br/governo/index.php?pagina=govdiariooficial\n\n\n DIÁRIO OFICIAL ELETRÔNICO \n DO MUNICÍPIO DE FLORIANÓPOLIS \nEdição Nº  2851 Florianópolis/SC, quarta-feira, 30 de dezembro de 2020 pg. 16 \n \n\n \n\nPREFEITURA MUNICIPAL DE FLORIANÓPOLIS  Secretário:  Everson Mendes Rua Tenente Silveira, 60, 5º Andar - Centro - 88010-300– Florianópolis / SC  \nSecretaria Municipal da Casa Civil   Fone: (48) 3251-6066 - 3251-6062 \nGerência de Diário Oficial Controle:  Thamara Malta Diários Online:  http://www.pmf.sc.gov.br/governo/index.php?pagina=govdiariooficial  \n\npg. 16 \n \n\nsessenta e cinco mil e trezentos e sessenta e oito \nreais e quarenta centavos), a ser repassado em 12 \n(doze) parcelas mensais e consecutivas. As \ndespesas decorrentes do atendimento ao disposto \ndeste Termo de Colaboração correrão à conta do \norçamento do Fundo Municipal de Assistência \nSocial, PROJETO ATIVIDADE: 2326, ELEMENTO DE \nDESPESA: 3.3.50.43.00.00.00.00.0080 – \nSubvenções Sociais -  Fonte 80. Vigência: 01 de \njaneiro de 2021 até 31 de dezembro de 2021. \nSignatários: Maria Cláudia Goulart da Silva, pela \nSecretaria Municipal de Assistência Social e José \nRoberto Leal, pela Organização da Sociedade Civil. \nFlorianópolis, 29 de dezembro de 2020. \n\nEXTRATO DO TERMO DE COLABORAÇÃO NO \n200/PMF/SEMAS/FMAS/2020 - Objeto: execução \ndo Serviço de Habilitação e Reabilitação para \nPessoas com Deficiência, o qual integra a Proteção \nSocial Especial de Média Complexidade do SUAS, \nobservando o estabelecido no Plano de Trabalho \naprovado através da Dispensa de Chamamento \nPúblico n. 007/2018 (D.O.E.M. 2177 de 27 abril de \n2018), aos moldes da Lei Federal nº 13.019/2014 e \ndo Decreto Municipal 21.966/2020. Partes \nparceiras: Município de Florianópolis, com \ninterveniência da Secretaria Municipal de \nAssistência Social, através do Fundo Municipal de \nAssistência Social, e a Organização da Sociedade \nCivil “Associação de Pacientes Renais de Santa \nCatarina (APAR)”, inscrita no CNPJ sob o nº \n01.804.261/0001-27. Valor: R$108.795,00 (cento e \noito mil e setecentos e noventa e cinco reais),, a \nser repassado em 12 (doze) parcelas mensais e \nconsecutivas. As despesas decorrentes do \natendimento ao disposto deste Termo de \nColaboração correrão à conta do orçamento do \nFundo Municipal de Assistência Social, PROJETO \nATIVIDADE: 2326, ELEMENTO DE DESPESA: \n3.3.50.43.00.00.00.00.0080 – Subvenções Sociais -  \nFonte 80. Vigência: 01 de janeiro de 2021 até 31 de \ndezembro de 2021. Signatários: Maria Cláudia \nGoulart da Silva, pela Secretaria Municipal de \nAssistência Social e Humberto Floriano Mendes, \npela Organização da Sociedade Civil. Florianópolis, \n29 de dezembro de 2020. \n\nEXTRATO DO TERMO DE COLABORAÇÃO NO \n201/PMF/SEMAS/FMAS/2020 - Objeto: execução \ndo Serviço de Acolhimento Institucional para \nCrianças e Adolescentes, o qual integra a Proteção \nSocial Especial de Alta Complexidade do SUAS, \nobservando o estabelecido no Plano de Trabalho \naprovado através da Dispensa de Chamamento \nPúblico n. 005/2018 (D.O.E.M. 2177 de 27 abril de \n2018), aos moldes da Lei Federal nº 13.019/2014 e \ndo Decreto Municipal 21.966/2020. Partes \nparceiras: Município de Florianópolis, com \n\ninterveniência da Secretaria Municipal de \nAssistência Social, através do Fundo Municipal de \nAssistência Social, e a Organização da Sociedade \nCivil “Ação Social Missão”, inscrita no CNPJ sob o \nnº 72.291.198/0001-10. Valor: R$ 209.392,80 \n(duzentos e nove mil trezentos e noventa e dois \nreais e oitenta centavos), a ser repassado em 12 \n(doze) parcelas mensais e consecutivas. As \ndespesas decorrentes do atendimento ao disposto \ndeste Termo de Colaboração correrão à conta do \norçamento do Fundo Municipal de Assistência \nSocial, PROJETO ATIVIDADE: 2326, ELEMENTO DE \nDESPESA: 3.3.50.43.00.00.00.00.0080 – \nSubvenções Sociais -  Fonte 80. Vigência: 01 de \njaneiro de 2021 até 31 de dezembro de 2021. \nSignatários: Maria Cláudia Goulart da Silva, pela \nSecretaria Municipal de Assistência Social e Joana \nSá Fortes Régis, pela Organização da Sociedade \nCivil. Florianópolis, 29 de dezembro de 2020. \n\nEXTRATO DO TERMO DE COLABORAÇÃO NO \n202/PMF/SEMAS/FMAS/2020 - Objeto: execução \ndo Serviço de Acolhimento Institucional para \nCrianças e Adolescentes, o qual integra a Proteção \nSocial Especial de Alta Complexidade do SUAS, \nobservando o estabelecido no Plano de Trabalho \naprovado através da Dispensa de Chamamento \nPúblico n. 005/2018 (D.O.E.M. 2177 de 27 abril de \n2018), aos moldes da Lei Federal nº 13.019/2014 e \ndo Decreto Municipal 21.966/2020. Partes \nparceiras: Município de Florianópolis, com \ninterveniência da Secretaria Municipal de \nAssistência Social, através do Fundo Municipal de \nAssistência Social, e a Organização da Sociedade \nCivil “Centro Cultural Escrava Anastácia”, inscrita \nno CNPJ sob o nº 02.573.208/0001-25. Valor: R$ \n216.084,72 (duzentos e dezesseis mil e oitenta e \nquatro reais e setenta e dois centavos), a ser \nrepassado em 12 (doze) parcelas mensais e \nconsecutivas. As despesas decorrentes do \natendimento ao disposto deste Termo de \nColaboração correrão à conta do orçamento do \nFundo Municipal de Assistência Social, PROJETO \nATIVIDADE: 2326, ELEMENTO DE DESPESA: \n3.3.50.43.00.00.00.00.0080 – Subvenções Sociais -  \nFonte 80. Vigência: 01 de janeiro de 2021 até 31 de \ndezembro de 2021. Signatários: Maria Cláudia \nGoulart da Silva, pela Secretaria Municipal de \nAssistência Social e Guido Ademar Garcia \nDellagnelo, pela Organização da Sociedade Civil. \nFlorianópolis, 29 de dezembro de 2020. \n\nEXTRATO DO TERMO DE COLABORAÇÃO NO \n203/PMF/SEMAS/FMAS/2020 - Objeto: execução \ndo Serviço de Acolhimento Institucional para \nCrianças e Adolescentes, o qual integra a Proteção \nSocial Especial de Alta Complexidade do SUAS, \nobservando o estabelecido no Plano de Trabalho \n\nhttp://www.pmf.sc.gov.br/governo/index.php?pagina=govdiariooficial\n\n\n DIÁRIO OFICIAL ELETRÔNICO \n DO MUNICÍPIO DE FLORIANÓPOLIS \nEdição Nº  2851 Florianópolis/SC, quarta-feira, 30 de dezembro de 2020 pg. 17 \n \n\n \n\nPREFEITURA MUNICIPAL DE FLORIANÓPOLIS  Secretário:  Everson Mendes Rua Tenente Silveira, 60, 5º Andar - Centro - 88010-300– Florianópolis / SC  \nSecretaria Municipal da Casa Civil   Fone: (48) 3251-6066 - 3251-6062 \nGerência de Diário Oficial Controle:  Thamara Malta Diários Online:  http://www.pmf.sc.gov.br/governo/index.php?pagina=govdiariooficial  \n\npg. 17 \n \n\naprovado através da Dispensa de Chamamento \nPúblico n. 005/2018 (D.O.E.M. 2177 de 27 abril de \n2018), aos moldes da Lei Federal nº 13.019/2014 e \ndo Decreto Municipal 21.966/2020. Partes \nparceiras: Município de Florianópolis, com \ninterveniência da Secretaria Municipal de \nAssistência Social, através do Fundo Municipal de \nAssistência Social, e a Organização da Sociedade \nCivil “Associação Lar Recanto do Carinho”, inscrita \nno CNPJ sob o nº 24.544.794/0001-12. Valor: R$ \n323.966,16 (trezentos e vinte e três mil e \nnovecentos e sessenta e seis reais e dezesseis \ncentavos), a ser repassado em 12 (doze) parcelas \nmensais e consecutivas. As despesas decorrentes \ndo atendimento ao disposto deste Termo de \nColaboração correrão à conta do orçamento do \nFundo Municipal de Assistência Social, PROJETO \nATIVIDADE: 2326, ELEMENTO DE DESPESA: \n3.3.50.43.00.00.00.00.0080 – Subvenções Sociais -  \nFonte 80. Vigência: 01 de janeiro de 2021 até 31 de \ndezembro de 2021. Signatários: Maria Cláudia \nGoulart da Silva, pela Secretaria Municipal de \nAssistência Social e Nuno de Campos, pela \nOrganização da Sociedade Civil. Florianópolis, 29 \nde dezembro de 2020. \n\nEXTRATO DO TERMO DE COLABORAÇÃO NO \n204/PMF/SEMAS/FMAS/2020 - Objeto: execução \ndo Serviço de Acolhimento Institucional para \nCrianças e Adolescentes, o qual integra a Proteção \nSocial Especial de Alta Complexidade do SUAS, \nobservando o estabelecido no Plano de Trabalho \naprovado através da Dispensa de Chamamento \nPúblico n. 005/2018 (D.O.E.M. 2177 de 27 abril de \n2018), aos moldes da Lei Federal nº 13.019/2014 e \ndo Decreto Municipal 21.966/2020. Partes \nparceiras: Município de Florianópolis, com \ninterveniência da Secretaria Municipal de \nAssistência Social, através do Fundo Municipal de \nAssistência Social, e a Organização da Sociedade \nCivil “Irmandade do Divino Espírito Santo (IDES)”, \ninscrita no CNPJ sob o nº 82.508.649/0001-82. \nValor: R$ 418.785,60 (quatrocentos e dezoito mil e \nsetecentos e oitenta e cinco reais e sessenta \ncentavos), a ser repassado em 12 (doze) parcelas \nmensais e consecutivas. As despesas decorrentes \ndo atendimento ao disposto deste Termo de \nColaboração correrão à conta do orçamento do \nFundo Municipal de Assistência Social, PROJETO \nATIVIDADE: 2326, ELEMENTO DE DESPESA: \n3.3.50.43.00.00.00.00.0080 – Subvenções Sociais -  \nFonte 80. Vigência: 01 de janeiro de 2021 até 31 de \ndezembro de 2021. Signatários: Maria Cláudia \nGoulart da Silva, pela Secretaria Municipal de \nAssistência Social e Paulo Teixeira do Valle Pereira, \npela Organização da Sociedade Civil. Florianópolis, \n29 de dezembro de 2020. \n\nEXTRATO DO TERMO DE COLABORAÇÃO NO \n205/PMF/SEMAS/FMAS/2020 - Objeto: execução \ndo Serviço de Acolhimento Institucional para \nCrianças e Adolescentes, o qual integra a Proteção \nSocial Especial de Alta Complexidade do SUAS, \nobservando o estabelecido no Plano de Trabalho \naprovado através da Dispensa de Chamamento \nPúblico n. 005/2018 (D.O.E.M. 2177 de 27 abril de \n2018), aos moldes da Lei Federal nº 13.019/2014 e \ndo Decreto Municipal 21.966/2020. Partes \nparceiras: Município de Florianópolis, com \ninterveniência da Secretaria Municipal de \nAssistência Social, através do Fundo Municipal de \nAssistência Social, e a Organização da Sociedade \nCivil “Obras Sociais da Comunidade Paroquial de \nCoqueiros”, inscrita no CNPJ sob o nº \n80.672.645/0001-00. Valor: R$ 418.785,60 \n(quatrocentos e dezoito mil e setecentos e oitenta \ne cinco reais e sessenta centavos), a ser repassado \nem 12 (doze) parcelas mensais e consecutivas. As \ndespesas decorrentes do atendimento ao disposto \ndeste Termo de Colaboração correrão à conta do \norçamento do Fundo Municipal de Assistência \nSocial, PROJETO ATIVIDADE: 2326, ELEMENTO DE \nDESPESA: 3.3.50.43.00.00.00.00.0080 – \nSubvenções Sociais -  Fonte 80. Vigência: 01 de \njaneiro de 2021 até 31 de dezembro de 2021. \nSignatários: Maria Cláudia Goulart da Silva, pela \nSecretaria Municipal de Assistência Social e Ana \nApolonia Barcelos, pela Organização da Sociedade \nCivil. Florianópolis, 29 de dezembro de 2020. \n\nEXTRATO DO TERMO DE COLABORAÇÃO NO \n206/PMF/SEMAS/FMAS/2020 - Objeto: execução \ndo Serviço de Acolhimento Institucional para \nCrianças e Adolescentes, o qual integra a Proteção \nSocial Especial de Alta Complexidade do SUAS, \nobservando o estabelecido no Plano de Trabalho \naprovado através da Dispensa de Chamamento \nPúblico n. 005/2018 (D.O.E.M. 2177 de 27 abril de \n2018), aos moldes da Lei Federal nº 13.019/2014 e \ndo Decreto Municipal 21.966/2020. Partes \nparceiras: Município de Florianópolis, com \ninterveniência da Secretaria Municipal de \nAssistência Social, através do Fundo Municipal de \nAssistência Social, e a Organização da Sociedade \nCivil “Sociedade Espírita de Recuperação, Trabalho \ne Educação (SERTE)”, inscrita no CNPJ sob o nº \n83.886.648/0001-34. Valor: R$ 221.245,20 \n(duzentos e vinte e um mil e duzentos e quarenta e \ncinco reais e vinte centavos), a ser repassado em \n12 (doze) parcelas mensais e consecutivas. As \ndespesas decorrentes do atendimento ao disposto \ndeste Termo de Colaboração correrão à conta do \norçamento do Fundo Municipal de Assistência \nSocial, PROJETO ATIVIDADE: 2326, ELEMENTO DE \nDESPESA: 3.3.50.43.00.00.00.00.0080 – \n\nhttp://www.pmf.sc.gov.br/governo/index.php?pagina=govdiariooficial\n\n\n DIÁRIO OFICIAL ELETRÔNICO \n DO MUNICÍPIO DE FLORIANÓPOLIS \nEdição Nº  2851 Florianópolis/SC, quarta-feira, 30 de dezembro de 2020 pg. 18 \n \n\n \n\nPREFEITURA MUNICIPAL DE FLORIANÓPOLIS  Secretário:  Everson Mendes Rua Tenente Silveira, 60, 5º Andar - Centro - 88010-300– Florianópolis / SC  \nSecretaria Municipal da Casa Civil   Fone: (48) 3251-6066 - 3251-6062 \nGerência de Diário Oficial Controle:  Thamara Malta Diários Online:  http://www.pmf.sc.gov.br/governo/index.php?pagina=govdiariooficial  \n\npg. 18 \n \n\nSubvenções Sociais -  Fonte 80. Vigência: 01 de \njaneiro de 2021 até 31 de dezembro de 2021. \nSignatários: Maria Cláudia Goulart da Silva, pela \nSecretaria Municipal de Assistência Social e Regina \nMaria Gonzaga de Sampaio, pela Organização da \nSociedade Civil. Florianópolis, 29 de dezembro de \n2020. \n\nEXTRATO DO TERMO DE COLABORAÇÃO NO \n207/PMF/SEMAS/FMAS/2020 - Objeto: execução \ndo Serviço de Acolhimento Institucional para \nCrianças e Adolescentes, o qual integra a Proteção \nSocial Especial de Alta Complexidade do SUAS, \nobservando o estabelecido no Plano de Trabalho \naprovado através da Dispensa de Chamamento \nPúblico n. 005/2018 (D.O.E.M. 2177 de 27 abril de \n2018), aos moldes da Lei Federal nº 13.019/2014 e \ndo Decreto Municipal 21.966/2020. Partes \nparceiras: Município de Florianópolis, com \ninterveniência da Secretaria Municipal de \nAssistência Social, através do Fundo Municipal de \nAssistência Social, e a Organização da Sociedade \nCivil “Casa Lar Luz do Caminho”, inscrita no CNPJ \nsob o nº 12.187.675/0001-70. Valor: R$ 209.392,80 \n(duzentos e nove mil e trezentos e noventa e dois \nreais e oitenta centavos), a ser repassado em 12 \n(doze) parcelas mensais e consecutivas. As \ndespesas decorrentes do atendimento ao disposto \ndeste Termo de Colaboração correrão à conta do \norçamento do Fundo Municipal de Assistência \nSocial, PROJETO ATIVIDADE: 2326, ELEMENTO DE \nDESPESA: 3.3.50.43.00.00.00.00.0080 – \nSubvenções Sociais -  Fonte 80. Vigência: 01 de \njaneiro de 2021 até 31 de dezembro de 2021. \nSignatários: Maria Cláudia Goulart da Silva, pela \nSecretaria Municipal de Assistência Social e \nMaurício Aurélio dos Santos, pela Organização da \nSociedade Civil. Florianópolis, 29 de dezembro de \n2020. \n\nEXTRATO DO TERMO DE COLABORAÇÃO NO \n208/PMF/SEMAS/FMAS/2020 - Objeto: execução \ndo Serviço de Acolhimento Institucional para \nPessoas com Deficiência, o qual integra a Proteção \nSocial Especial de Alta Complexidade do SUAS, \nobservando o estabelecido no Plano de Trabalho \naprovado através da Dispensa de Chamamento \nPúblico n. 005/2018 (D.O.E.M. 2177 de 27 abril de \n2018), aos moldes da Lei Federal nº 13.019/2014 e \ndo Decreto Municipal 21.966/2020. Partes \nparceiras: Município de Florianópolis, com \ninterveniência da Secretaria Municipal de \nAssistência Social, através do Fundo Municipal de \nAssistência Social, e a Organização da Sociedade \nCivil “Orionópolis Catarinense”, inscrita no CNPJ \nsob o nº 80.670.631/0001-57. Valor: R$ 379.062,72 \n(trezentos e setenta e nove mil e sessenta e dois \nreais e setenta e dois centavos, a ser repassado em \n\n12 (doze) parcelas mensais e consecutivas. As \ndespesas decorrentes do atendimento ao disposto \ndeste Termo de Colaboração correrão à conta do \norçamento do Fundo Municipal de Assistência \nSocial, PROJETO ATIVIDADE: 2326, ELEMENTO DE \nDESPESA: 3.3.50.43.00.00.00.00.0080 – \nSubvenções Sociais -  Fonte 80. Vigência: 01 de \njaneiro de 2021 até 31 de dezembro de 2021. \nSignatários: Maria Cláudia Goulart da Silva, pela \nSecretaria Municipal de Assistência Social e Pe. \nMilton Quintino de Lima, pela Organização da \nSociedade Civil. Florianópolis, 29 de dezembro de \n2020. \n\nEXTRATO DO TERMO DE COLABORAÇÃO NO \n209/PMF/SEMAS/2020 - Objeto: execução do \nServiço de Acolhimento Institucional para Idosos \n(as), o qual integra a Proteção Social Especial de \nAlta Complexidade do SUAS, observando o \nestabelecido no Plano de Trabalho aprovado \natravés da Dispensa de Chamamento Público n. \n006/2018 (D.O.E.M. 2177 de 27 abril de 2018), aos \nmoldes da Lei Federal nº 13.019/2014 e do Decreto \nMunicipal 21.966/2020. Partes parceiras: \nMunicípio de Florianópolis, com interveniência da \nSecretaria Municipal de Assistência Social, e a \nOrganização da Sociedade Civil “Sociedade Espírita \nde Recuperação, Trabalho e Educação (SERTE)”, \ninscrita no CNPJ sob o nº 83.886.648/0001-34. \nValor: R$ 1.439.346,24 (um milhão e quatrocentos \ne trinta e nove mil e trezentos e quarenta e seis \nreais e vinte quatro centavos), a ser repassado em \n12 (doze) parcelas mensais e consecutivas. As \ndespesas decorrentes do atendimento ao disposto \ndeste Termo de Colaboração correrão à conta do \norçamento da Secretaria Municipal de Assistência \nSocial, PROJETO ATIVIDADE: 2029, ELEMENTO DE \nDESPESA: 3.3.50.43.00.00.00.00.0080 – \nSubvenções Sociais -  Fonte 80. Vigência: 01 de \njaneiro de 2021 até 31 de dezembro de 2021. \nSignatários: Maria Cláudia Goulart da Silva, pela \nSecretaria Municipal de Assistência Social e Regina \nMaria Gonzaga de Sampaio, pela Organização da \nSociedade Civil. Florianópolis, 29 de dezembro de \n2020. \n\nEXTRATO DO TERMO DE COLABORAÇÃO NO \n210/PMF/SEMAS/2020 - Objeto: execução do \nServiço de Acolhimento Institucional para Idosos \n(as), o qual integra a Proteção Social Especial de \nAlta Complexidade do SUAS, observando o \nestabelecido no Plano de Trabalho aprovado \natravés da Dispensa de Chamamento Público n. \n006/2018 (D.O.E.M. 2177 de 27 abril de 2018), aos \nmoldes da Lei Federal nº 13.019/2014 e do Decreto \nMunicipal 21.966/2020. Partes parceiras: \nMunicípio de Florianópolis, com interveniência da \nSecretaria Municipal de Assistência Social, e a \n\nhttp://www.pmf.sc.gov.br/governo/index.php?pagina=govdiariooficial\n\n\n DIÁRIO OFICIAL ELETRÔNICO \n DO MUNICÍPIO DE FLORIANÓPOLIS \nEdição Nº  2851 Florianópolis/SC, quarta-feira, 30 de dezembro de 2020 pg. 19 \n \n\n \n\nPREFEITURA MUNICIPAL DE FLORIANÓPOLIS  Secretário:  Everson Mendes Rua Tenente Silveira, 60, 5º Andar - Centro - 88010-300– Florianópolis / SC  \nSecretaria Municipal da Casa Civil   Fone: (48) 3251-6066 - 3251-6062 \nGerência de Diário Oficial Controle:  Thamara Malta Diários Online:  http://www.pmf.sc.gov.br/governo/index.php?pagina=govdiariooficial  \n\npg. 19 \n \n\nOrganização da Sociedade Civil “Sociedade Espírita \nObreiros da Vida Eterna (SEOVE)”, inscrita no CNPJ \nsob o nº 82.898.230/0001-84. Valor: R$ 660.051,12 \n(seiscentos e sessenta mil e cinquenta e um reais e \ndoze centavos), a ser repassado em 12 (doze) \nparcelas mensais e consecutivas. As despesas \ndecorrentes do atendimento ao disposto deste \nTermo de Colaboração correrão à conta do \norçamento da Secretaria Municipal de Assistência \nSocial, PROJETO ATIVIDADE: 2029, ELEMENTO DE \nDESPESA: 3.3.50.43.00.00.00.00.0080 – \nSubvenções Sociais -  Fonte 80. Vigência: 01 de \njaneiro de 2021 até 31 de dezembro de 2021. \nSignatários: Maria Cláudia Goulart da Silva, pela \nSecretaria Municipal de Assistência Social e Hercílio \nTeske, pela Organização da Sociedade Civil. \nFlorianópolis, 29 de dezembro de 2020. \n\nEXTRATO DO TERMO DE COLABORAÇÃO NO \n211/PMF/SEMAS/2020 - Objeto: execução do \nServiço de Acolhimento Institucional para Idosos \n(as), o qual integra a Proteção Social Especial de \nAlta Complexidade do SUAS, observando o \nestabelecido no Plano de Trabalho aprovado \natravés da Dispensa de Chamamento Público n. \n006/2018 (D.O.E.M. 2177 de 27 abril de 2018), aos \nmoldes da Lei Federal nº 13.019/2014 e do Decreto \nMunicipal 21.966/2020. Partes parceiras: \nMunicípio de Florianópolis, com interveniência da \nSecretaria Municipal de Assistência Social, e a \nOrganização da Sociedade Civil “Instituição de \nCaridade e Apoio ao Desamparado - Cantinho dos \nIdosos (ICAD)”, inscrita no CNPJ sob o nº \n08.429.871/0001-37. Valor: R$ 1.132.252,56 (um \nmilhão e cento e trinta e dois mil e duzentos e \ncinquenta e dois reais e cinquenta e seis centavos) \na ser repassado em 12 (doze) parcelas mensais e \nconsecutivas. As despesas decorrentes do \natendimento ao disposto deste Termo de \nColaboração correrão à conta do orçamento da \nSecretaria Municipal de Assistência Social, \nPROJETO ATIVIDADE: 2029, ELEMENTO DE \nDESPESA: 3.3.50.43.00.00.00.00.0080 – \nSubvenções Sociais -  Fonte 80. Vigência: 01 de \njaneiro de 2021 até 31 de dezembro de 2021. \nSignatários: Maria Cláudia Goulart da Silva, pela \nSecretaria Municipal de Assistência Social e \nOsmarina Maria da Silva, pela Organização da \nSociedade Civil. Florianópolis, 29 de dezembro de \n2020. \n\nEXTRATO DO TERMO DE COLABORAÇÃO NO \n213/PMF/SEMAS/2020 - Objeto: Execução do \nprograma Passarela da Cidadania, destinado à \npessoas em situação de rua e/ou que fazem uso \ndas ruas como meio de sobrevivência, observando \no estabelecido no Plano de Trabalho aprovado \natravés da Edital de Chamamento Público n. \n\n008/SEMAS/2020 (D.O.E.M. 2815, de 10 de \nnovembro de 2020), aos moldes da Lei Federal nº \n13.019/2014 e do Decreto Municipal 21.966/2020. \nPartes parceiras: Município de Florianópolis, com \ninterveniência da Secretaria Municipal de \nAssistência Social, e a Organização da Sociedade \nCivil “Núcleo de Recuperação e Reabilitação de \nVidas (NURREVI)”, inscrita no CNPJ sob o nº \n03.448.121/0001-99. Valor: R$ 3.941.208,00 (três \nmilhões e novecentos e quarenta e um mil e \nduzentos e oito reais), a ser repassado em 12 \n(doze) parcelas mensais e consecutivas. As \ndespesas decorrentes do atendimento ao disposto \ndeste Termo de Colaboração correrão à conta do \norçamento da Secretaria Municipal de Assistência \nSocial, PROJETO ATIVIDADE: 2029, ELEMENTO DE \nDESPESA: 3.3.50.43.00.00.00.00.0080 – \nSubvenções Sociais -  Fonte 80. Vigência: 01 de \njaneiro de 2021 até 31 de dezembro de 2021. \nSignatários: Maria Cláudia Goulart da Silva, pela \nSecretaria Municipal de Assistência Social e José \nVitor da Silva Filho, pela Organização da Sociedade \nCivil. Florianópolis, 29 de dezembro de 2020. \n\nEXTRATO DO PRIMEIRO TERMO ADITIVO AO \nTERMO DE COLABORAÇÃO Nº \n157/PMF/SEMAS/2020 –  PARTES: Município de \nFlorianópolis com interveniência da Secretaria \nMunicipal de Assistência Social e a Organização da \nSociedade Civil “INSTITUTO ARCO-ÍRIS”, inscrita no \nCNPJ sob o nº 01.832.996/0001-64. OBJETO: \nConstitui objeto do presente Termo Aditivo a \nprorrogação de vigência até o dia 31 de dezembro \nde 2021, o acréscimo de valores e parcelas a serem \nrecebidas, ficando acrescidas 06 (seis) novas \nparcelas de repasse de recursos às 05 (cinco) já \nprevistas, o valor global, que passa de R$ \n1.620.960,00 para R$ 3.600.960,00, e o Plano de \nTrabalho do Termo de Colaboração nº \n157/PMF/SEMAS/2020, publicado no Diário Oficial \nEletrônico do Município nº 2665, de 08 de abril de \n2020, permanecendo inalteradas as demais \ncondições e cláusulas. Valor: O valor deste termo \naditivo, para cobrir as despesas relativas à \nprorrogação ao Termo de Colaboração nº \n157/PMF/SEMAS/2020 é de R$1.980.000,00 (um \nmilhão e novecentos e oitenta mil reais), a ser \nrepassado em 06 (seis) parcelas bimestrais e \ncorrerão à conta do orçamento da Secretaria \nMunicipal de Assistência Social, PROJETO \nATIVIDADE: 2029, ELEMENTO DE DESPESA: \n3.3.50.43.00.00.00.00.0080 – Subvenções Sociais -  \nFonte 80. VIGÊNCIA: Este Termo Aditivo entra em \nvigor a partir da data de sua publicação e tem \nvigência até 31 de dezembro de 2021. \nSIGNATÁRIOS: Maria Claudia Goulart da Silva, pela \nSecretaria Municipal de Assistência Social, e \n\nhttp://www.pmf.sc.gov.br/governo/index.php?pagina=govdiariooficial\n\n\n DIÁRIO OFICIAL ELETRÔNICO \n DO MUNICÍPIO DE FLORIANÓPOLIS \nEdição Nº  2851 Florianópolis/SC, quarta-feira, 30 de dezembro de 2020 pg. 20 \n \n\n \n\nPREFEITURA MUNICIPAL DE FLORIANÓPOLIS  Secretário:  Everson Mendes Rua Tenente Silveira, 60, 5º Andar - Centro - 88010-300– Florianópolis / SC  \nSecretaria Municipal da Casa Civil   Fone: (48) 3251-6066 - 3251-6062 \nGerência de Diário Oficial Controle:  Thamara Malta Diários Online:  http://www.pmf.sc.gov.br/governo/index.php?pagina=govdiariooficial  \n\npg. 20 \n \n\nDenilson Machado, pela Organização da Sociedade \nCivil. Florianópolis, 29 de dezembro de 2020. \n\nEXTRATO DO PRIMEIRO TERMO ADITIVO AO \nTERMO DE FOMENTO Nº \n001/PMF/SEMAS/FMDCA/2020 –  PARTES: \nMunicípio de Florianópolis com interveniência da \nSecretaria Municipal de Assistência Social, através \ndo Fundo Municipal dos Direitos da Criança e do \nAdolescente (FMDCA) e a Organização da \nSociedade Civil “ASSOCIAÇÃO COMUNITÁRIA \nAMIGOS DE JESUS (ACAJE)”, inscrita no CNPJ sob o \nnº 09.119.273/0002-05. OBJETO: Constitui objeto \ndo presente Termo Aditivo a prorrogação de \nvigência do Termo de Fomento nº \n001/PMF/SEMAS/FMDCA/2020, publicado no \nDiário Oficial Eletrônico do Município nº 2617 de \n30 de janeiro de 2020, passando o mesmo a vigorar \naté o dia 31 de dezembro de 2021 e permanecendo \ninalteradas as demais condições e cláusulas. \nVIGÊNCIA: Este Termo Aditivo entra em vigor a \npartir da data de sua publicação e tem vigência até \n31 de dezembro de 2021. SIGNATÁRIOS: Maria \nClaudia Goulart da Silva, pela Secretaria Municipal \nde Assistência Social, e Ademar de Almeida, pela \nOrganização da Sociedade Civil. Florianópolis, 29 \nde dezembro de 2020. \n\nPORTARIA Nº 059/SEMAS/2020 - A SECRETÁRIA \nMUNICIPAL DE ASSISTÊNCIA SOCIAL, usando da \ncompetência e atribuições, que lhe são conferidas \npela Lei Orgânica do Município de Florianópolis e \npelos Decretos Municipais 19.258/2018 e \n21.966/2020, RESOLVE: Art. 1º Designar o servidor \nEdelvan Jesus da Conceição, matrícula nº 31.733-0, \npara a função de Gestor das parcerias firmadas \natravés dos Termos de Colaboração \n167/PMF/SEMAS/FMDCA/2020,168/PMF/SEMAS/F\nMDCA/2020, 169/PMF/SEMAS/FMDCA/2020, \n170/PMF/SEMAS/FMDCA/2020,171/PMF/SEMAS/F\nMDCA/2020, 172/PMF/SEMAS/FMDCA/2020, \n173/PMF/SEMAS/FMDCA/2020, os quais tem por \nobjetivo garantir o pleno funcionamento e \nmanutenção do Serviço de Acolhimento \nInstitucional para Crianças e Adolescentes, \nconforme as normativas da Tipificação Nacional \ndos Serviços Socioassistenciais frente à pandemia \ndo Novo Coronavírus (COVID-19), de maneira que \nestejam plenamente garantidos todos os direitos \nfundamentais de crianças e adolescentes atendidos \npelas Instituições, frente às normas sanitárias e de \nconvívio social recomendadas pelo Ministério da \nSaúde e Decretos Estaduais e Municipal.Art. 2º Ao \nGestor competem as atribuições previstas pela Lei \nFederal 13.019/2020 e Decreto Municipal \n21.966/2020. Art. 3º Esta Portaria entra em vigor \nna data de sua publicação, retroagindo seus efeitos \nà data de 01 de outubro de 2020. Florianópolis, 29 \n\nde dezembro de 2020. Maria Cláudia Goulart da \nSilva. \n\nSECRETARIA MUNICIPAL DE \n\nMOBILIDADE E PLANEJAMENTO \n\nURBANO  \n\nEXTRATO DE CONTRATO Nº 1077/SMMPU/2020 \nObjeto: Contratação de empresa para aquisição de \n2000 (duas mil) lâmpadas LED A65 e A60 para \nreposição e manutenção semafórica do município \nde Florianópolis por meio da Diretoria de \nOperações de Transito (DIOPE); Modalidade de \nLicitação: Pregão Eletrônico nº \n890/SMA/DSLC/2019; Contratada: PLANETA \nCOMERCIAL LTDA - EPP; Valor: O valor total do \npresente Contrato é de R$ 19.830,00 (dezenove \nmil, oitocentos e trinta reais); Vigência: O prazo de \nvigência deste Contrato será até 31 de janeiro de \n2021, a contar da data de sua assinatura, e \nprorrogável nos termos da lei; Dotação: Órgão e \nUnidade Orçamentária: 14.02 - Fundo Municipal de \nTrânsito - FMT; Atividade: 4.285 – Gerenciamento \nConvênio de Trânsito - GMF; Elemento de Despesa: \n3.3.90.30 – Material de Consumo e na Fonte de \nRecursos: 31.; Data de Assinatura: 16/12/2020; \nNome das partes que assinaram: Secretário \nMunicipal de Mobilidade e Planejamento Urbano, \no Sr. Michel de Andrado Mittmann, e pela \nempresa, a procuradora Sra. Marjory Menezes da \nRocha. \n\nFUNDO MUNICIPAL \n\nDE SAÚDE \n\nQUINTO TERMO ADITIVO DO CONTRATO Nº \n708/FMS/2017 – PMF X CENTRO INTEGRADO DE \nOFTALMOLOGIA LTDA. Objeto: A Cláusula Décima \nQuinta do Contrato original continua subsistindo \nem todos os seus termos e condições, renovando o \npresente contrato, com o prazo que continua por \ntempo determinado, com início em 01 de janeiro \nde 2021 e término em 31 de dezembro de 2021, \ncom fundamento no artigo 57, inciso II, da Lei \nFederal nº 8.666/93, no Parecer nº \n405/2020/ASSJUR/SMS da Assessoria Jurídica da \nSecretaria Municipal de Saúde, no Ofício OE \n399/SMS/GAB/ADJ/ACCC/CON/2020 e na \nDeliberação nº 6289/2020 do Comitê Gestor de \nGoverno, partes integrantes deste Termo Aditivo. \nO prazo prorrogado de que consta na Cláusula \nSegunda, fica suspenso para computo de aplicação \nde reajuste e reequilíbrio. A Cláusula Terceira do \n\nhttp://www.pmf.sc.gov.br/governo/index.php?pagina=govdiariooficial\n\n\n DIÁRIO OFICIAL ELETRÔNICO \n DO MUNICÍPIO DE FLORIANÓPOLIS \nEdição Nº  2851 Florianópolis/SC, quarta-feira, 30 de dezembro de 2020 pg. 21 \n \n\n \n\nPREFEITURA MUNICIPAL DE FLORIANÓPOLIS  Secretário:  Everson Mendes Rua Tenente Silveira, 60, 5º Andar - Centro - 88010-300– Florianópolis / SC  \nSecretaria Municipal da Casa Civil   Fone: (48) 3251-6066 - 3251-6062 \nGerência de Diário Oficial Controle:  Thamara Malta Diários Online:  http://www.pmf.sc.gov.br/governo/index.php?pagina=govdiariooficial  \n\npg. 21 \n \n\nContrato original continua subsistindo em todos \nseus termos e condições, modificando-se apenas e \ntão somente o seu valor, que fica aditado, nos \nseguintes termos: Valor mensal inicial do Contrato: \nR$ 213.577,83 (duzentos e treze mil, quinhentos e \nsetenta e sete reais e oitenta e três centavos); \nValor do Acréscimo: R$ 53.394,45 (cinquenta e três \nmil, trezentos e noventa e quatro reais e quarenta \ne cinco centavos), que corresponde ao percentual \nde 24,99999%. Valor mensal do Contrato com o \nAcréscimo: R$ 106.788,91 (cento e seis mil, \nsetecentos e oitenta e oito reais e noventa e um \ncentavos), que corresponde a um percentual total \nde (-) 50% ao Contrato original, a partir de 01 de \noutubro de 2020. O acréscimo tem fundamento no \nart. 65, §1º da Lei 8.666/93 e demais alterações, no \nParecer nº 404/ASSJUR/SMS/2020 da \nSubProcuradoria Geral do Sistema Jurídico, na \nDeliberação nº 6288/2020 do Comitê Gestor de \nGoverno e no Ofício OE nº \n398/SMS/GAB/ADJ/ACCC/CON/2020 partes \nintegrantes deste aditivo. As despesas decorrentes \ndo presente Contrato, correrão por conta do \nOrçamento Fiscal de 2021 do Fundo Municipal de \nSaúde de Florianópolis, com as seguintes \nalterações: ONDE SE LÊ: “CLÁUSULA QUARTA – DA \nDOTAÇÃO ORCAMENTÁRIA 4.1. As despesas \ndecorrentes da presente Inexigibilidade de \nLicitação nº 466/SMA/DSLC/2017, correrão à conta \ndos recursos previstos do Fundo Municipal de \nSaúde de Florianópolis através da dotação \norçamentária: Unidade Orçamentária: 35.03 – \nMédia e Alta Complexidade;  Funcional: \n10.302.0102 – Saúde; Projeto / Atividade: 4.178 – \nGestão de Parcerias; pelo Elemento de Despesa: \n3.3.90.39 – Outros Serviços de Terceiros – Pessoa \nJurídica;  e pela Fonte de Recurso: 0082 – R$ \n1.281.466,98 / 2115 – R$ 1.281.466,98. Valor Total: \nR$ 2.562.933,96.” LEIA-SE: “CLÁUSULA QUARTA – \nDA DOTAÇÃO ORCAMENTÁRIA. 4.1. As despesas \ndecorrentes da presente Inexigibilidade de \nLicitação nº 466/SMA/DSLC/2017, correrão à conta \ndos recursos previstos do Fundo Municipal de \nSaúde de Florianópolis através da dotação \norçamentária: Unidade Orçamentária: 35.03 – \nMédia e Alta Complexidade;  Funcional: \n10.302.0102 – Saúde; Projeto / Atividade: 4.178 – \nGestão de Parcerias; pelo Elemento de Despesa: \n3.3.90.39 – Outros Serviços de Terceiros – Pessoa \nJurídica;  e pela Fonte de Recurso: 0082 – R$ \n640.733,40 / 2115 / 4012 – R$ 640.733,40. Valor \nTotal: 1.281.466,80.”; Número e Modalidade da \nLicitação: Inexigibilidade de Licitação nº \n466/SMA/DSLC/2017; Data das Assinaturas: \n30/09/2020; Nome das partes que assinaram: \nOrdenador do Fundo Municipal de Saúde: Carlos \nAlberto Justo da Silva e pela empresa: o Sr. Ernani \n\nLuiz Garcia e a Sra. Claudia Regina de Arruda N. \nHimelfarb.  \n\nQUINTO TERMO ADITIVO DO CONTRATO Nº \n295/FMS/2018 – PMF X IMAGEM CENTRO DE \nDIAGNÓSTICO MÉDICO S.A. Objeto: A Cláusula \nTerceira do Contrato original continua subsistindo \nem todos seus termos e condições, modificando-se \napenas e tão somente o seu valor, que fica aditado, \nnos seguintes termos: Valor inicial do Contrato: O \nvalor total é de R$ 848.316,60 (oitocentos e \nquarenta e oito mil, trezentos e dezesseis reais e \nsessenta centavos), sendo o valor mensal de R$ \n70.693,05 (setenta mil, seiscentos e noventa e três \nreais e cinco centavos); Valor do Acréscimo: O valor \ntotal de R$ 212.079,15 (duzentos e doze mil, \nsetenta e nove reais e quinze centavos), sendo o \nvalor mensal de R$ 17.673,27 (dezessete mil, \nseiscentos e setenta e três reais e vinte e sete \ncentavos), que corresponde ao percentual de 25 %. \nValor do Contrato com o Acréscimo: Valor total de \nR$ 636.237,45 (seiscentos e trinta e seis mil, \nduzentos e trinta e sete reais e quarenta e cinco \ncentavos), e o mensal de R$ 53.019,78 (cinquenta e \ntrês mil, dezenove reais e setenta e oito centavos), \nque corresponde a um percentual total de (-) 25% \nao Contrato original, a partir de 01 de outubro de \n2020. O acréscimo tem fundamento no art. 65, §1º \nda Lei 8.666/93 e demais alterações, no Parecer nº \n408/ASSJUR/SMS/2020 da SubProcuradoria Geral \ndo Sistema Jurídico, na Deliberação nº 6271/2020 \ndo Comitê Gestor de Governo e no Ofício OE nº \n405/SMS/GAB/ADJ/ACCC/CON/2020 partes \nintegrantes deste aditivo. As despesas decorrentes \ndo presente Contrato, correrão por conta do \nOrçamento Fiscal de 2020 do Fundo Municipal de \nSaúde de Florianópolis, com as seguintes \nalterações: ONDE SE LÊ: “CLÁUSULA QUARTA – DA \nDOTAÇÃO ORCAMENTÁRIA (TETO MAC). As \ndespesas decorrentes do presente Contrato, \ncorrerão à conta dos recursos previstos no \nOrçamento do Fundo Municipal de Saúde de \nFlorianópolis, na dotação orçamentária: Unidade \nOrçamentária/Bloco: 35.03 – Média e Alta \ncomplexidade; Funcional: 10.302.0102 Saúde; \nAtividade: 4.178 – Gestão de Parcerias; Elemento \nde Despesa: 3.3.90.39 – Outros serviços de \nterceiros– PJ e na Fonte de Recursos: 0082 - R$ \n497.250,00/2012 – R$ 138.987,45. Valor total: R$ \n636.987,45.”; LEIA-SE: “CLÁUSULA QUARTA – DA \nDOTAÇÃO ORCAMENTÁRIA (TETO MAC). As \ndespesas decorrentes do presente Contrato, \ncorrerão à conta dos recursos previstos no \nOrçamento do Fundo Municipal de Saúde de \nFlorianópolis, na dotação orçamentária: Unidade \nOrçamentária/Bloco: 35.03 – Média e Alta \ncomplexidade; Funcional: 10.302.0102 Saúde; \n\nhttp://www.pmf.sc.gov.br/governo/index.php?pagina=govdiariooficial\n\n\n DIÁRIO OFICIAL ELETRÔNICO \n DO MUNICÍPIO DE FLORIANÓPOLIS \nEdição Nº  2851 Florianópolis/SC, quarta-feira, 30 de dezembro de 2020 pg. 22 \n \n\n \n\nPREFEITURA MUNICIPAL DE FLORIANÓPOLIS  Secretário:  Everson Mendes Rua Tenente Silveira, 60, 5º Andar - Centro - 88010-300– Florianópolis / SC  \nSecretaria Municipal da Casa Civil   Fone: (48) 3251-6066 - 3251-6062 \nGerência de Diário Oficial Controle:  Thamara Malta Diários Online:  http://www.pmf.sc.gov.br/governo/index.php?pagina=govdiariooficial  \n\npg. 22 \n \n\nAtividade: 4.178 – Gestão de Parcerias; Elemento \nde Despesa: 3.3.90.39 – Outros serviços de \nterceiros– PJ e na Fonte de Recursos: 0082 - R$ \n41.437,49/mês / 2012 / 4012 – R$ \n11.582,28/mês.”; Número e Modalidade da \nLicitação: Inexigibilidade de Licitação Nº \n181/SMA/DSLC/2018; Data das Assinaturas: \n30/09/2020; Nome das partes que assinaram: \nOrdenador do Fundo Municipal de Saúde: Carlos \nAlberto Justo da Silva e pela empresa: o Sr. Sérgio \nMarcondes Brincas.  \n\nQUINTO TERMO ADITIVO DO CONTRATO Nº \n292/FMS/2018 – PMF X IRMANDADE DO SENHOR \nJESUS DOS PASSOS E IMPERIAL HOSPITAL DE \nCARIDADE. Objeto: A Cláusula Terceira do \nContrato original continua subsistindo em todos \nseus termos e condições, modificando-se apenas e \ntão somente o seu valor, que fica aditado, nos \nseguintes termos: Valor inicial do Contrato: O valor \ntotal é de R$ 794.010,24 (setecentos e noventa e \nquatro mil, dez reais e vinte e quatro centavos), \nsendo o Valor mensal de R$ 66.167,52 (sessenta e \nseis mil, cento e sessenta e sete reais e cinquenta e \ndois centavos); Valor do Acréscimo: O valor total é \nde R$ 198.502,56 (cento e noventa e oito mil, \nquinhentos e dois reais e cinquenta e seis \ncentavos) e mensal de R$ 16.541,88 (dezesseis mil, \nquinhentos e quarenta e um reais e oitenta e oito \ncentavos, que corresponde ao percentual de 25%. \nValor do Contrato com o Acréscimo: O valor total é \nde R$ 595.507,68 (quinhentos e noventa e cinco \nmil, quinhentos e sete reais e sessenta e oito \ncentavos) e mensal de R$ 49.625,64 (quarenta e \nnove mil, seiscentos e vinte e cinco reais e sessenta \ne quatro centavos, que corresponde a um \npercentual total de -25% ao Contrato original, a \npartir de 01 de outubro de 2020. O acréscimo tem \nfundamento no art. 65, §1º da Lei 8.666/93 e \ndemais alterações, no Parecer nº \n420/ASSJUR/SMS/2020 da SubProcuradoria Geral \ndo Sistema Jurídico, na Deliberação nº 6392/2020 \ndo Comitê Gestor de Governo e no Ofício OE nº \n478/SMS/GAB/ADJ/ACCC/CON/2020 partes \nintegrantes deste aditivo. As despesas decorrentes \ndo presente Contrato, correrão por conta do \nOrçamento Fiscal do Fundo Municipal de Saúde de \nFlorianópolis, com as seguintes alterações: ONDE \nSE LÊ: “CLÁUSULA QUARTA – DA DOTAÇÃO \nORCAMENTÁRIA. 4.1. As despesas decorrentes do \npresente Termo de Inexigibilidade de Licitação nº \n182/SMA/DSLC/2018 correrão à conta dos recursos \nprevistos no orçamento do Fundo Municipal de \nSaúde de Florianópolis, na seguinte Dotação \nOrçamentária: Unidade Orçamentária/Bloco: 35.03 \n– Média e Alta Complexidade; Funcional: \n10.302.0102 – Saúde; Atividade: 4.178 – Gestão de \n\nParcerias; Elemento de Despesa: 3.3.90.39 – \nOutros Serviços de Terceiros – PJ e na Fonte de \nRecursos: 0082 – R$ 25.825,00/mês – Próprio / \n2012 – R$ 7.258,76/mês – MAC.”. LEIA-SE: \n“CLÁUSULA QUARTA – DA DOTAÇÃO \nORCAMENTÁRIA 4.1. As despesas decorrentes do \npresente Contrato correrão à conta dos recursos \nprevistos no orçamento do Fundo Municipal de \nSaúde de Florianópolis, na seguinte Dotação \nOrçamentária: Unidade Orçamentária/Bloco: 35.03 \n– Média e Alta Complexidade; Funcional: \n10.302.0102 – Saúde; Atividade: 4.178 – Gestão de \nParcerias; Elemento de Despesa: 3.3.90.39 – \nOutros Serviços de Terceiros – PJ e na Fonte de \nRecursos: 0082 – R$ 38.737,50/mês – Próprio / \n2012 / 4012 – R$ 10.888,14/mês - MAC.”; Número \ne Modalidade da Licitação: Inexigibilidade De \nLicitação Nº 184/SMA/DSLC/2018; Data das \nAssinaturas: 30/09/2020; Nome das partes que \nassinaram: Ordenador do Fundo Municipal de \nSaúde: Carlos Alberto Justo da Silva e pela \nempresa: o Sr. Eduardo Dutra da Silva e a \nprocuradora, Sra. Nicoli More Bertotti.  \n\nATA DE REGISTRO DE PREÇOS N° 1046/FMS/2020; \nObjeto: aquisição de materiais de enfermagem \n(insumos) para atendimento das necessidades dos \nserviços da Rede da Secretaria Municipal de Saúde; \nNúmero e Modalidade da Licitação: Pregão \nEletrônico para Registro de Preços nº \n247/SMA/DSLC/2020; Contratada: MAYCON WILL \nEIRELI - EPP; Valor: O valor global estimado da \npresente ATA é de R$ 215.920,00 (duzentos e \nquinze mil, novecentos e vinte reais); Vigência: O \nprazo de vigência da presente ATA será de 12 \n(doze) meses, contado a partir da data da \npublicação da respectiva ATA, não podendo ser \nprorrogada; Dotação: Unidade \nOrçamentária/Bloco: 35.02 – Atenção Básica e \nEspecializada em Saúde; Atividade: 4.176 – Gestão \nde Materiais e Serviços; Elemento de Despesa: \n3.3.90.30 – Material de Consumo; Fonte de \nRecurso: 4.011 – R$ 43.184,00; Fonte de Recurso: \n4.012 – R$ 43.184,00; Fonte de Recurso: 082 – R$ \n43.184,00. Unidade Orçamentária/Bloco: 35.04 – \nVig. Promoção e Proteção da Saúde; Atividade: \n4.176 – Gestão de Materiais e Serviços; \nEleme3.184,00; Fonte de Recurso: 082 – R$ \n43.184,00; Data de Assinatura: 10/12/2020; Nome \ndas partes que assinaram: Pelo Fundo Municipal \nde Saúde, o Sr. Carlos Alberto Justo da Silva, e pela \nempresa, o Sr. Maycon Will. \n\nhttp://www.pmf.sc.gov.br/governo/index.php?pagina=govdiariooficial\n\n\n DIÁRIO OFICIAL ELETRÔNICO \n DO MUNICÍPIO DE FLORIANÓPOLIS \nEdição Nº  2851 Florianópolis/SC, quarta-feira, 30 de dezembro de 2020 pg. 23 \n \n\n \n\nPREFEITURA MUNICIPAL DE FLORIANÓPOLIS  Secretário:  Everson Mendes Rua Tenente Silveira, 60, 5º Andar - Centro - 88010-300– Florianópolis / SC  \nSecretaria Municipal da Casa Civil   Fone: (48) 3251-6066 - 3251-6062 \nGerência de Diário Oficial Controle:  Thamara Malta Diários Online:  http://www.pmf.sc.gov.br/governo/index.php?pagina=govdiariooficial  \n\npg. 23 \n \n\nFUNDO MUNICIPAL DE  \n\nCINEMA \n\n1º TERMO DE APOSTILAMENTO DE ALTERAÇÃO \nDA DOTAÇÃO ORÇAMENTÁRIA DO CONTRATO Nº \n1098/FUNCINE/2020, ENTRE O MUNICÍPIO DE \nFLORIANÓPOLIS – FUNDO MUNICIPAL DE CINEMA \nDE FLORIANÓPOLIS E A EMPRESA FAGANELLO - \nCOMUNICAÇÕES EIRELI – ME. Objeto: ONDE SE LÊ: \n“CLÁUSULA SEGUNDA – DA DOTAÇÃO \nORÇAMENTÁRIA. As despesas decorrentes do \npresente Contrato correrão por conta da seguinte \ndotação orçamentária: \n31.01.4.030.3.3.50.41.00.00.00.0080; Órgão e \nUnidade Orçamentária: 31.01 – FUNCINE – Fundo \nMunicipal de Cinema - FUNCINE; Funcional: \n13.392.0107 – Difusão Cultural; Atividade: 4.030 – \nPrograma de Apoio a Produção Audiovisual; \nElemento de Despesas: 3.3.50.41.00.00.00.00 – \nContribuições; e na Fonte de Recursos: 0080.”. \nLEIA-SE: “CLÁUSULA SEGUNDA – DA DOTAÇÃO \nORÇAMENTÁRIA. As despesas decorrentes do \npresente Contrato correrão por conta da seguinte \ndotação orçamentária: \n31.01.4.030.3.3.60.45.00.00.00.0080; Órgão e \nUnidade Orçamentária: 31.01 – FUNCINE – Fundo \nMunicipal de Cinema - FUNCINE; Funcional: \n13.392.0107 – Difusão Cultural; Atividade: 4.030 – \nPrograma de Apoio a Produção Audiovisual; \nElemento de Despesas: 3.3.60.45.00.00.00.00 – \nSubvenções Econômicas; e na Fonte de Recursos: \n0080.”; Número e Modalidade da Licitação: \nChamada Pública nº 326/SMA/DSLC/2020; Data de \nAssinatura: 28/12/2020; Nome das partes que \nassinaram: Pelo Fundo Municipal de Cinema - \nFUNCINE: Sr. Carolina Borges de Andrade. \n\n1º TERMO DE APOSTILAMENTO DE ALTERAÇÃO \nDA DOTAÇÃO ORÇAMENTÁRIA DO CONTRATO Nº \n1105/FUNCINE/2020, ENTRE O MUNICÍPIO DE \nFLORIANÓPOLIS – FUNDO MUNICIPAL DE CINEMA \nDE FLORIANÓPOLIS E A EMPRESA ROBERSON \nHOBERDAN CORREA 07332722909. Objeto: ONDE \nSE LÊ: “CLÁUSULA SEGUNDA – DA DOTAÇÃO \nORÇAMENTÁRIA. As despesas decorrentes do \npresente Contrato correrão por conta da seguinte \ndotação orçamentária: \n31.01.4.030.3.3.50.41.00.00.00.0080; Órgão e \nUnidade Orçamentária: 31.01 – FUNCINE – Fundo \nMunicipal de Cinema - FUNCINE; Funcional: \n13.392.0107 – Difusão Cultural; Atividade: 4.030 – \nPrograma de Apoio a Produção Audiovisual; \nElemento de Despesas: 3.3.50.41.00.00.00.00 – \nContribuições; e na Fonte de Recursos: 0080.”. \nLEIA-SE: “CLÁUSULA SEGUNDA – DA DOTAÇÃO \nORÇAMENTÁRIA. As despesas decorrentes do \n\npresente Contrato correrão por conta da seguinte \ndotação orçamentária: \n31.01.4.030.3.3.60.45.00.00.00.0080; Órgão e \nUnidade Orçamentária: 31.01 – FUNCINE – Fundo \nMunicipal de Cinema - FUNCINE; Funcional: \n13.392.0107 – Difusão Cultural; Atividade: 4.030 – \nPrograma de Apoio a Produção Audiovisual; \nElemento de Despesas: 3.3.60.45.00.00.00.00 – \nSubvenções Econômicas; e na Fonte de Recursos: \n0080.”; Número e Modalidade da Licitação: \nChamada Pública nº 326/SMA/DSLC/2020; Data de \nAssinatura: 28/12/2020; Nome das partes que \nassinaram: Pelo Fundo Municipal de Cinema - \nFUNCINE: Sra. Carolina Borges de Andrade. \n\n1º TERMO DE APOSTILAMENTO DE ALTERAÇÃO \nDA DOTAÇÃO ORÇAMENTÁRIA DO CONTRATO Nº \n1115/FUNCINE/2020, ENTRE O MUNICÍPIO DE \nFLORIANÓPOLIS – FUNDO MUNICIPAL DE CINEMA \nDE FLORIANÓPOLIS E O SR. DANILO DA SILVA DE \nMELLO. Objeto: ONDE SE LÊ: “CLÁUSULA SEGUNDA \n– DA DOTAÇÃO ORÇAMENTÁRIA. As despesas \ndecorrentes do presente Contrato correrão por \nconta da seguinte dotação orçamentária: \n31.01.4.030.3.3.50.41.00.00.00.0080; Órgão e \nUnidade Orçamentária: 31.01 – FUNCINE – Fundo \nMunicipal de Cinema - FUNCINE; Funcional: \n13.392.0107 – Difusão Cultural; Atividade: 4.030 – \nPrograma de Apoio a Produção Audiovisual; \nElemento de Despesas: 3.3.50.41.00.00.00.00 – \nContribuições; e na Fonte de Recursos: 0080.”. \nLEIA-SE: “CLÁUSULA SEGUNDA – DA DOTAÇÃO \nORÇAMENTÁRIA. As despesas decorrentes do \npresente Contrato correrão por conta da seguinte \ndotação orçamentária: \n31.01.4.030.3.3.90.48.00.00.00.0080; Órgão e \nUnidade Orçamentária: 31.01 – FUNCINE – Fundo \nMunicipal de Cinema - FUNCINE; Funcional: \n13.392.0107 – Difusão Cultural; Atividade: 4.030 – \nPrograma de Apoio a Produção Audiovisual; \nElemento de Despesas: 3.3.90.48.00.00.00.00 – \nOutros Auxílios Financeiros a Pessoas Físicas; e na \nFonte de Recursos: 0080.”; Número e Modalidade \nda Licitação: Chamada Pública nº \n326/SMA/DSLC/2020; Data de Assinatura: \n28/12/2020; Nome das partes que assinaram: Pelo \nFundo Municipal de Cinema - FUNCINE: Sra. \nCarolina Borges de Andrade. \n\n1º TERMO DE APOSTILAMENTO DE ALTERAÇÃO \nDA DOTAÇÃO ORÇAMENTÁRIA DO CONTRATO Nº \n1113/FUNCINE/2020, ENTRE O MUNICÍPIO DE \nFLORIANÓPOLIS – FUNDO MUNICIPAL DE CINEMA \nDE FLORIANÓPOLIS E A SRA. BEATRIZ CRISTINA \nSILVA. Objeto: ONDE SE LÊ: “CLÁUSULA SEGUNDA \n– DA DOTAÇÃO ORÇAMENTÁRIA As despesas \ndecorrentes do presente Contrato correrão por \nconta da seguinte dotação orçamentária: \n\nhttp://www.pmf.sc.gov.br/governo/index.php?pagina=govdiariooficial\n\n\n DIÁRIO OFICIAL ELETRÔNICO \n DO MUNICÍPIO DE FLORIANÓPOLIS \nEdição Nº  2851 Florianópolis/SC, quarta-feira, 30 de dezembro de 2020 pg. 24 \n \n\n \n\nPREFEITURA MUNICIPAL DE FLORIANÓPOLIS  Secretário:  Everson Mendes Rua Tenente Silveira, 60, 5º Andar - Centro - 88010-300– Florianópolis / SC  \nSecretaria Municipal da Casa Civil   Fone: (48) 3251-6066 - 3251-6062 \nGerência de Diário Oficial Controle:  Thamara Malta Diários Online:  http://www.pmf.sc.gov.br/governo/index.php?pagina=govdiariooficial  \n\npg. 24 \n \n\n31.01.4.030.3.3.50.41.00.00.00.0080; Órgão e \nUnidade Orçamentária: 31.01 – FUNCINE – Fundo \nMunicipal de Cinema - FUNCINE; Funcional: \n13.392.0107 – Difusão Cultural; Atividade: 4.030 – \nPrograma de Apoio a Produção Audiovisual; \nElemento de Despesas: 3.3.50.41.00.00.00.00 – \nContribuições; e na Fonte de Recursos: 0080.”. \nLEIA-SE: “CLÁUSULA SEGUNDA – DA DOTAÇÃO \nORÇAMENTÁRIA. As despesas decorrentes do \npresente Contrato correrão por conta da seguinte \ndotação orçamentária: \n31.01.4.030.3.3.90.48.00.00.00.0080; Órgão e \nUnidade Orçamentária: 31.01 – FUNCINE – Fundo \nMunicipal de Cinema - FUNCINE; Funcional: \n13.392.0107 – Difusão Cultural; Atividade: 4.030 – \nPrograma de Apoio a Produção Audiovisual; \nElemento de Despesas: 3.3.90.48.00.00.00.00 – \nOutros Auxílios Financeiros a Pessoas Físicas; e na \nFonte de Recursos: 0080.”; Número e Modalidade \nda Licitação: Chamada Pública nº \n326/SMA/DSLC/2020; Data de Assinatura: \n28/12/2020; Nome das partes que assinaram: Pelo \nFundo Municipal de Cinema - FUNCINE: Sra. \nCarolina Borges de Andrade. \n\n1º TERMO DE APOSTILAMENTO DE ALTERAÇÃO \nDA DOTAÇÃO ORÇAMENTÁRIA DO CONTRATO Nº \n1111/FUNCINE/2020, ENTRE O MUNICÍPIO DE \nFLORIANÓPOLIS – FUNDO MUNICIPAL DE CINEMA \nDE FLORIANÓPOLIS E O SR. DANILO DA SILVA DE \nMELLO. Objeto: ONDE SE LÊ: “CLÁUSULA \nSEGUNDA – DA DOTAÇÃO ORÇAMENTÁRIA. As \ndespesas decorrentes do presente Contrato \ncorrerão por conta da seguinte dotação \norçamentária: \n31.01.4.030.3.3.50.41.00.00.00.0080; Órgão e \nUnidade Orçamentária: 31.01 – FUNCINE – Fundo \nMunicipal de Cinema - FUNCINE; Funcional: \n13.392.0107 – Difusão Cultural; Atividade: 4.030 – \nPrograma de Apoio a Produção Audiovisual; \nElemento de Despesas: 3.3.50.41.00.00.00.00 – \nContribuições; e na Fonte de Recursos: 0080.”. \nLEIA-SE: “CLÁUSULA SEGUNDA – DA DOTAÇÃO \nORÇAMENTÁRIA. As despesas decorrentes do \npresente Contrato correrão por conta da seguinte \ndotação orçamentária: \n31.01.4.030.3.3.90.48.00.00.00.0080; Órgão e \nUnidade Orçamentária: 31.01 – FUNCINE – Fundo \nMunicipal de Cinema - FUNCINE; Funcional: \n13.392.0107 – Difusão Cultural; Atividade: 4.030 – \nPrograma de Apoio a Produção Audiovisual; \nElemento de Despesas: 3.3.90.48.00.00.00.00 – \nOutros Auxílios Financeiros a Pessoas Físicas; e na \nFonte de Recursos: 0080.”; Número e Modalidade \nda Licitação: Chamada Pública nº \n326/SMA/DSLC/2020; Data de Assinatura: \n28/12/2020; Nome das partes que assinaram: Pelo \n\nFundo Municipal de Cinema - FUNCINE: Sra. \nCarolina Borges de Andrade. \n\n1º TERMO DE APOSTILAMENTO DE ALTERAÇÃO \nDA DOTAÇÃO ORÇAMENTÁRIA DO CONTRATO Nº \n1110/FUNCINE/2020, ENTRE O MUNICÍPIO DE \nFLORIANÓPOLIS – FUNDO MUNICIPAL DE CINEMA \nDE FLORIANÓPOLIS E A SRA. HELENA DECKER \nSARDINHA. Objeto: ONDE SE LÊ: “CLÁUSULA \nSEGUNDA – DA DOTAÇÃO ORÇAMENTÁRIA. As \ndespesas decorrentes do presente Contrato \ncorrerão por conta da seguinte dotação \norçamentária: \n31.01.4.030.3.3.50.41.00.00.00.0080; Órgão e \nUnidade Orçamentária: 31.01 – FUNCINE – Fundo \nMunicipal de Cinema - FUNCINE; Funcional: \n13.392.0107 – Difusão Cultural; Atividade: 4.030 – \nPrograma de Apoio a Produção Audiovisual; \nElemento de Despesas: 3.3.50.41.00.00.00.00 – \nContribuições; e na Fonte de Recursos: 0080.”. \nLEIA-SE: “CLÁUSULA SEGUNDA – DA DOTAÇÃO \nORÇAMENTÁRIA. As despesas decorrentes do \npresente Contrato correrão por conta da seguinte \ndotação orçamentária: \n31.01.4.030.3.3.90.48.00.00.00.0080; Órgão e \nUnidade Orçamentária: 31.01 – FUNCINE – Fundo \nMunicipal de Cinema - FUNCINE; Funcional: \n13.392.0107 – Difusão Cultural; Atividade: 4.030 – \nPrograma de Apoio a Produção Audiovisual; \nElemento de Despesas: 3.3.90.48.00.00.00.00 – \nOutros Auxílios Financeiros a Pessoas Físicas; e na \nFonte de Recursos: 0080.”; Número e Modalidade \nda Licitação: Chamada Pública nº \n326/SMA/DSLC/2020; Data de Assinatura: \n28/12/2020; Nome das partes que assinaram: Pelo \nFundo Municipal de Cinema - FUNCINE: Sra. \nCarolina Borges de Andrade. \n\n1º TERMO DE APOSTILAMENTO DE ALTERAÇÃO \nDA DOTAÇÃO ORÇAMENTÁRIA DO CONTRATO Nº \n1109/FUNCINE/2020, ENTRE O MUNICÍPIO DE \nFLORIANÓPOLIS – FUNDO MUNICIPAL DE CINEMA \nDE FLORIANÓPOLIS E O SR. FILIPE AGUIAR \nCARGNIN. Objeto: ONDE SE LÊ: “CLÁUSULA \nSEGUNDA – DA DOTAÇÃO ORÇAMENTÁRIA. As \ndespesas decorrentes do presente Contrato \ncorrerão por conta da seguinte dotação \norçamentária: \n31.01.4.030.3.3.50.41.00.00.00.0080; Órgão e \nUnidade Orçamentária: 31.01 – FUNCINE – Fundo \nMunicipal de Cinema - FUNCINE; Funcional: \n13.392.0107 – Difusão Cultural; Atividade: 4.030 – \nPrograma de Apoio a Produção Audiovisual; \nElemento de Despesas: 3.3.50.41.00.00.00.00 – \nContribuições; e na Fonte de Recursos: 0080.”. \nLEIA-SE: “CLÁUSULA SEGUNDA – DA DOTAÇÃO \nORÇAMENTÁRIA. As despesas decorrentes do \npresente Contrato correrão por conta da seguinte \n\nhttp://www.pmf.sc.gov.br/governo/index.php?pagina=govdiariooficial\n\n\n DIÁRIO OFICIAL ELETRÔNICO \n DO MUNICÍPIO DE FLORIANÓPOLIS \nEdição Nº  2851 Florianópolis/SC, quarta-feira, 30 de dezembro de 2020 pg. 25 \n \n\n \n\nPREFEITURA MUNICIPAL DE FLORIANÓPOLIS  Secretário:  Everson Mendes Rua Tenente Silveira, 60, 5º Andar - Centro - 88010-300– Florianópolis / SC  \nSecretaria Municipal da Casa Civil   Fone: (48) 3251-6066 - 3251-6062 \nGerência de Diário Oficial Controle:  Thamara Malta Diários Online:  http://www.pmf.sc.gov.br/governo/index.php?pagina=govdiariooficial  \n\npg. 25 \n \n\ndotação orçamentária: \n31.01.4.030.3.3.90.48.00.00.00.0080; Órgão e \nUnidade Orçamentária: 31.01 – FUNCINE – Fundo \nMunicipal de Cinema - FUNCINE; Funcional: \n13.392.0107 – Difusão Cultural; Atividade: 4.030 – \nPrograma de Apoio a Produção Audiovisual; \nElemento de Despesas: 3.3.90.48.00.00.00.00 – \nOutros Auxílios Financeiros a Pessoas Físicas; e na \nFonte de Recursos: 0080.”; Número e Modalidade \nda Licitação: Chamada Pública nº \n326/SMA/DSLC/2020; Data de Assinatura: \n28/12/2020; Nome das partes que assinaram: Pelo \nFundo Municipal de Cinema - FUNCINE: Sra. \nCarolina Borges de Andrade. \n\n1º TERMO DE APOSTILAMENTO DE ALTERAÇÃO \nDA DOTAÇÃO ORÇAMENTÁRIA DO CONTRATO Nº \n1104/FUNCINE/2020, ENTRE O MUNICÍPIO DE \nFLORIANÓPOLIS – FUNDO MUNICIPAL DE CINEMA \nDE FLORIANÓPOLIS E A SRA. SAMANTHA JOANE \nGARCIA CARDOSO. Objeto: ONDE SE LÊ: \n“CLÁUSULA SEGUNDA – DA DOTAÇÃO \nORÇAMENTÁRIA As despesas decorrentes do \npresente Contrato correrão por conta da seguinte \ndotação orçamentária: \n31.01.4.030.3.3.50.41.00.00.00.0080; Órgão e \nUnidade Orçamentária: 31.01 – FUNCINE – Fundo \nMunicipal de Cinema - FUNCINE; Funcional: \n13.392.0107 – Difusão Cultural; Atividade: 4.030 – \nPrograma de Apoio a Produção Audiovisual; \nElemento de Despesas: 3.3.50.41.00.00.00.00 – \nContribuições; e na Fonte de Recursos: 0080.”. \nLEIA-SE: “CLÁUSULA SEGUNDA – DA DOTAÇÃO \nORÇAMENTÁRIA. As despesas decorrentes do \npresente Contrato correrão por conta da seguinte \ndotação orçamentária: \n31.01.4.030.3.3.90.48.00.00.00.0080; Órgão e \nUnidade Orçamentária: 31.01 – FUNCINE – Fundo \nMunicipal de Cinema - FUNCINE; Funcional: \n13.392.0107 – Difusão Cultural; Atividade: 4.030 – \nPrograma de Apoio a Produção Audiovisual; \nElemento de Despesas: 3.3.90.48.00.00.00.00 – \nOutros Auxílios Financeiros a Pessoas Físicas; e na \nFonte de Recursos: 0080.”; Número e Modalidade \nda Licitação: Chamada Pública nº \n326/SMA/DSLC/2020; Data de Assinatura: \n28/12/2020; Nome das partes que assinaram: Pelo \nFundo Municipal de Cinema - FUNCINE: Sra. \nCarolina Borges de Andrade. \n\nAUTARQUIA DE \n\nMELHORAMENTOS DA CAPITAL  \n\nPORTARIA Nº 489/2020 - O Diretor Presidente da \nAutarquia de Melhoramentos da Capital – \nCOMCAP, no uso das atribuições que lhe são \n\nconferidas pelas Leis Complementares Nº \n618/2017 e 655/2018, pelo Decreto Municipal Nº \n17.799/2017, e considerando a Lei nº 9.327/1996, \nque alterou a Lei nº 1.081/1950, e dispõe sobre a \ncondução de veículo oficial no âmbito dos órgãos \npúblicos federais, e na ausência de dispositivo \nsimilar no Município de Florianópolis pode ser \nutilizada por analogia, RESOLVE: Art. 1º - Autorizar \no empregado Leandro Almiro Linden – matrícula \n6323 a conduzir veículos de pequeno porte da \nAutarquia de Melhoramentos da Capital – Comcap. \nArt. 2º - A responsabilidade administrativa, civil e \npenal, em casos de colisões, lesões corporais ou \nmesmo óbitos decorrentes do objetivo desta \nportaria, qual seja, autorizar a condução de \nveículos de pequeno porte da Autarquia de \nMelhoramentos da Capital – Comcap, conforme \ntermo de responsabilidade previamente firmado \n(anexo) ficará a cargo do servidor supracitado. Art. \n3º - A autorização concedida pelo Art. 1º desta \nPortaria poderá ser revogada a qualquer tempo, a \ncritério do Diretor Presidente da Autarquia de \nMelhoramentos da Capital. Art. 4º - Esta portaria \nentra em vigor na data de sua publicação. \nFlorianópolis, 28 de dezembro de 2020. Lucas \nBarros Arruda Diretor Presidente \n\nPORTARIA Nº 492/2020 - O Diretor Presidente da \nAutarquia de Melhoramentos da Capital – \nCOMCAP, no uso das atribuições que lhe são \nconferidas pelas Leis Complementares Nº \n618/2017 e 655/2018 e pelos Decretos Municipais \nNº 17.799/2017 e 20.572/2019, e considerando \nDecisão presente nos autos da Ação Trabalhista Nº \n0000913-12.2020.5.12.0037, RESOLVE: Art. 1º - \nDeterminar a suspensão dos efeitos da Portaria Nº \n410/2020, a contar da publicação desta Portaria. \nFlorianópolis, 29 de novembro de 2020. Lucas \nBarros Arruda Diretor Presidente \n\nPORTARIA Nº 494/2020 - O Diretor Presidente da \nAutarquia de Melhoramentos da Capital – \nCOMCAP, no uso das atribuições que lhe são \nconferidas pelas Leis Complementares Nº \n618/2017 e 655/2018 e pelos Decretos Municipais \nNº 17.799/2017 e 20.572/2019, e considerando os \ndispostos dos artigos 58 e 67, da Lei Federal nº \n8.666/1993, RESOLVE: Art. 1º - Designar a \nempregada Wander Damiani Preve, matrícula nº \n1483 para exercer o encargo de Fiscal do Contrato \nNº 996/COMCAP/2020, firmado entre a Autarquia \nde Melhoramentos da Capital - Comcap e a \nempresa Hai Automóveis Ltda, CNPJ n°: \n05.481.897/0001-36, que tem por objeto: \n“Contratação de empresa especializada para \naquisição de peças e manutenção preventiva e \ncorretiva de revisão de veículos da marca Toyota \nde propriedade da Autarquia de Melhoramentos \n\nhttp://www.pmf.sc.gov.br/governo/index.php?pagina=govdiariooficial\n\n\n DIÁRIO OFICIAL ELETRÔNICO \n DO MUNICÍPIO DE FLORIANÓPOLIS \nEdição Nº  2851 Florianópolis/SC, quarta-feira, 30 de dezembro de 2020 pg. 26 \n \n\n \n\nPREFEITURA MUNICIPAL DE FLORIANÓPOLIS  Secretário:  Everson Mendes Rua Tenente Silveira, 60, 5º Andar - Centro - 88010-300– Florianópolis / SC  \nSecretaria Municipal da Casa Civil   Fone: (48) 3251-6066 - 3251-6062 \nGerência de Diário Oficial Controle:  Thamara Malta Diários Online:  http://www.pmf.sc.gov.br/governo/index.php?pagina=govdiariooficial  \n\npg. 26 \n \n\nda Capital – COMCAP, para manutenção da \ngarantia do bem.” Art. 2º - Designar a empregada \nErick Roberto de Jesus Martins, matrícula nº 7531, \npara, na ausência da titular, exercer o encargo de \nFiscal do Contrato Nº 996/COMCAP/2020, firmado \nentre a Autarquia de Melhoramentos da Capital - \nComcap e a empresa Hai Automóveis Ltda, CNPJ n°: \n05.481.897/0001-36. Florianópolis, 29 de \ndezembro de 2020. LUCAS BARROS ARRUDA \nDiretor Presidente \n\nEXTRATO DO TERMO ADITIVO 04 AO CONTRATO \nNº 017/16 - Objeto a Prestação de Serviços de \nTransporte de Resíduos Sólidos (lixo domiciliar), \npor meio de 01 (uma) embarcação, incluindo o \nbarqueiro, que deverá realizar o percurso do \ntrecho compreendido entre Prainha e Morro do \nTorquato até a Barra Nova, na localidade de Barra \nda Lagoa, Florianópolis, SC, aditivo este que \nprorroga o prazo de vigência em mais doze meses e \nmantém o valor contratado. Contratado: Emerson \nRaimundo Vieira - ME. Data de assinatura: \n03/12/2020. Vigência: 25/12/2021.  \n\nEXTRATO DO TERMO ADITIVO 07 AO CONTRATO \nNº 009/16 - Objeto a Manutenção dos Sistemas \nGestão de Pessoas - VETORH (Software) que \nabrange e gerencia todas as áreas dos Recursos \nHumanos com os programas: Ronda, Rubi e Ronda \nAcesso e Medicina, Sistema Gestão Empresarial - \nERP SAPIENS (software) que gerencia as áreas de \nmercado, suprimentos, finanças, controladoria e \nqualidade e o Módulo de Segurança do Trabalho, \naditivo este que prorroga o prazo de vigência em \nmais seis meses e mantém o valor contratado. \nContratado: SENIOR Sistemas S/A. Data de \nassinatura: 18/12/2020. Vigência: 30/06/2021. \n\nEXTRATO DO TERMO ADITIVO 04 AO CONTRATO \nNº 016/16 - Objeto a Prestação de Serviços de \nTransporte de Resíduos Sólidos (lixo domiciliar), \npor meio de 01 (uma) embarcação, incluindo o \nbarqueiro, que deverá realizar o percurso de toda a \nCosta da Lagoa da Conceição, abrangendo todos os \ntrapiches (do número 03 ao 23, aditivo este que \nprorroga o prazo de vigência em mais doze meses e \nmantém o valor contratado. Contratada: Zulma \nDalvina Laureano. Data de assinatura: 03/12/2020. \nVigência: 25/12/2021.  \n\nEXTRATO DO TERMO DE CONVÊNIO - Objeto a \noperação de um pátio de compostagem no CVR - \nCentro de Valorização de Resíduos da COMCAP, no \nbairro Itacorubi, Florianópolis, SC, apoio na \nimplantação e operação de um pátio de \ncompostagem na Divisão Operacional Sul (Morro \ndas Pedras), Cooperação Técnica e Operacional \nvoltada a coleta seletiva e gestão dos resíduos \n\norgânicos e promover a aplicação do composto \norgânico gerado pela compostagem nas hortas \nescolares municipais, na manutenção de praças e \njardins e nas hortas vinculados ao Programa \nMunicipal de Agricultura Urbana, dentre outros. \nConveniadas: Autarquia de Melhoramentos da \nCapital - Comcap e Associação Orgânica. Data de \nassinatura: 18/11/2020. Vigência: 17/11/2021. \n\nEXTRATO 2ª PUBLICAÇÃO TRIMESTRAL - ATA DE \nREGISTRO DE PREÇOS N° 650/COMCAP/2020 - \nObjeto: Contratação de empresa especializada para \no fornecimento de materiais de consumo diversos \n(cinta plástica, cinturão ergonômetro, cone de \nsinalização, brocas e parafusos) para a Autarquia \nde Melhoramentos da Capital - COMCAP. Número \ne Modalidade da Licitação: Pregão Presencial para \nRegistro de Preços nº 509/SMA/DSLC/2019; \nContratada: Neuza Silveira dos Santos Eireli - EPP. \nVigência: O prazo de vigência da presente ATA será \nde 12 (doze) meses, contado a partir da data da \npublicação da respectiva Ata, não podendo ser \nprorrogada. Data de Assinatura: 21/07/2020. A \nAUTARQUIA DE MELHORAMENTO DA CAPITAL - \nCOMCAP, através do Setor de Contratos, para fins \nde atendimento ao § 2º, do art. 15, da Lei nº \n8.666/93, torna público, que NÃO HOUVE \nALTERAÇÃO de valores e ficam MANTIDOS os \npreços registrados na presente Ata. Florianópolis, \n30 de dezembro de 2020. Lucas Barros Arruda – \nDiretor Presidente. \n\nEXTRATO 2ª PUBLICAÇÃO TRIMESTRAL - ATA DE \nREGISTRO DE PREÇOS N° 756/COMCAP/2020 - \nObjeto: Aquisição de derivados de petróleo – óleos \nlubrificantes, graxa, arla 32, fluído para radiadores \ne fluído para freios para o ano de 2020, para \natender a Autarquia de Melhoramentos da Capital - \nCOMCAP. Número e Modalidade da Licitação: \nPregão Presencial para Registro de Preços nº \n805/SMA/DSLC/2019; Contratada: Racine \nComercial Ltda. EPP. Vigência: O prazo de vigência \nda presente ATA será de 12 (doze) meses, contado \na partir da data da publicação da respectiva Ata, \nnão podendo ser prorrogada. Data de Assinatura: \n04/09/2020. A AUTARQUIA DE MELHORAMENTO \nDA CAPITAL - COMCAP, através do Setor de \nContratos, para fins de atendimento ao § 2º, do \nart. 15, da Lei nº 8.666/93, torna público, que NÃO \nHOUVE ALTERAÇÃO de valores e ficam MANTIDOS \nos preços registrados na presente Ata. \nFlorianópolis, 30 de dezembro de 2020. Lucas \nBarros Arruda – Diretor Presidente. \n\nEXTRATO 2ª PUBLICAÇÃO TRIMESTRAL - ATA DE \nREGISTRO DE PREÇOS N° 757/COMCAP/2020 - \nObjeto: Aquisição de material para utilização nos \nserviços de borracharia da Autarquia de \n\nhttp://www.pmf.sc.gov.br/governo/index.php?pagina=govdiariooficial\n\n\n DIÁRIO OFICIAL ELETRÔNICO \n DO MUNICÍPIO DE FLORIANÓPOLIS \nEdição Nº  2851 Florianópolis/SC, quarta-feira, 30 de dezembro de 2020 pg. 27 \n \n\n \n\nPREFEITURA MUNICIPAL DE FLORIANÓPOLIS  Secretário:  Everson Mendes Rua Tenente Silveira, 60, 5º Andar - Centro - 88010-300– Florianópolis / SC  \nSecretaria Municipal da Casa Civil   Fone: (48) 3251-6066 - 3251-6062 \nGerência de Diário Oficial Controle:  Thamara Malta Diários Online:  http://www.pmf.sc.gov.br/governo/index.php?pagina=govdiariooficial  \n\npg. 27 \n \n\nMelhoramentos da Capital - COMCAP. Número e \nModalidade da Licitação: Pregão Presencial para \nRegistro de Preços nº 234/SMA/DSLC/2020; \nContratada: Pércio Tarso da Luz 91058210963. \nVigência: O prazo de vigência da presente ATA será \nde 12 (doze) meses, contado a partir da data da \npublicação da respectiva Ata, não podendo ser \nprorrogada. Data de Assinatura: 04/09/2020. A \nAUTARQUIA DE MELHORAMENTO DA CAPITAL - \nCOMCAP, através do Setor de Contratos, para fins \nde atendimento ao § 2º, do art. 15, da Lei nº \n8.666/93, torna público, que NÃO HOUVE \nALTERAÇÃO de valores e ficam MANTIDOS os \npreços registrados na presente Ata. Florianópolis, \n30 de dezembro de 2020. Lucas Barros Arruda – \nDiretor Presidente. \n\nEXTRATO 2ª PUBLICAÇÃO TRIMESTRAL - ATA DE \nREGISTRO DE PREÇOS N° 773/COMCAP/2020 - \nObjeto: Aquisição de papeleiras de 50 litros em \natendimento às demandas da Autarquia de \nMelhoramentos da Capital - COMCAP. Número e \nModalidade da Licitação: Pregão Presencial para \nRegistro de Preços nº 323/SMA/DSLC/2020; \nContratada: Racine Comercial Ltda. EPP. Vigência: \nO prazo de vigência da presente ATA será de 12 \n(doze) meses, contado a partir da data da \npublicação da respectiva Ata, não podendo ser \nprorrogada. Data de Assinatura: 23/09/2020. A \nAUTARQUIA DE MELHORAMENTO DA CAPITAL - \nCOMCAP, através do Setor de Contratos, para fins \nde atendimento ao § 2º, do art. 15, da Lei nº \n8.666/93, torna público, que NÃO HOUVE \nALTERAÇÃO de valores e ficam MANTIDOS os \npreços registrados na presente Ata. Florianópolis, \n30 de dezembro de 2020. Lucas Barros Arruda – \nDiretor Presidente. \n\nEXTRATO 2ª PUBLICAÇÃO TRIMESTRAL - ATA DE \nREGISTRO DE PREÇOS N° 758/COMCAP/2020 - \nObjeto: Contratação de empresas para o \nfornecimento de vassouras de piaçava, vassourões \nde polietileno e vassourões 101, destinadas à \nAutarquia de Melhoramentos da Capital - \nCOMCAP. Número e Modalidade da Licitação: \nPregão Presencial para Registro de Preços nº \n323/SMA/DSLC/2020; Contratada: Noel Lavoratti - \nME. Vigência: O prazo de vigência da presente ATA \nserá de 12 (doze) meses, contado a partir da data \nda publicação da respectiva Ata, não podendo ser \nprorrogada. Data de Assinatura: 04/09/2020. A \nAUTARQUIA DE MELHORAMENTO DA CAPITAL - \nCOMCAP, através do Setor de Contratos, para fins \nde atendimento ao § 2º, do art. 15, da Lei nº \n8.666/93, torna público, que NÃO HOUVE \nALTERAÇÃO de valores e ficam MANTIDOS os \npreços registrados na presente Ata. Florianópolis, \n\n30 de dezembro de 2020. Lucas Barros Arruda – \nDiretor Presidente. \n\nEXTRATO 3ª PUBLICAÇÃO TRIMESTRAL - ATA DE \nREGISTRO DE PREÇOS N° 221/COMCAP/2020 - \nObjeto: Contratação de empresa especializada em \nfornecimento de material de higiene e limpeza \n(compra unificada) para todos os órgãos de \nAdministração Direta e Indireta da PMF. Número e \nModalidade da Licitação: Pregão Presencial para \nRegistro de Preços nº 082/SMA/DSLC/2019; \nContratada: Rigel Comércio e Serviços Ltda. - ME. \nVigência: O prazo de vigência da presente ATA será \nde 12 (doze) meses, contado a partir da data da \npublicação da respectiva Ata, não podendo ser \nprorrogada. Data de Assinatura: 06/04/2020. A \nAUTARQUIA DE MELHORAMENTO DA CAPITAL - \nCOMCAP, através do Setor de Contratos, para fins \nde atendimento ao § 2º, do art. 15, da Lei nº \n8.666/93, torna público, que NÃO HOUVE \nALTERAÇÃO de valores e ficam MANTIDOS os \npreços registrados na presente Ata. Florianópolis, \n30 de dezembro de 2020. Lucas Barros Arruda – \nDiretor Presidente. \n\nEXTRATO 2ª PUBLICAÇÃO TRIMESTRAL - ATA DE \nREGISTRO DE PREÇOS N° 454/COMCAP/2020 - \nObjeto: Contratação de empresa especializada para \no fornecimento de cantoneiras, chapas e barras \nchatas de aço, materiais diversos de solda e \ncorrelatos, utilizados nos serviços de metalúrgica \nda oficina da Autarquia de Melhoramentos da \nCapital - COMCAP. Número e Modalidade da \nLicitação: Pregão Presencial para Registro de \nPreços nº 758/SMA/DSLC/2019; Contratada: Neuza \nSilveira dos Santos Eireli - EPP. Vigência: O prazo de \nvigência da presente ATA será de 12 (doze) meses, \ncontado a partir da data da publicação da \nrespectiva Ata, não podendo ser prorrogada. Data \nde Assinatura: 29/05/2020. A AUTARQUIA DE \nMELHORAMENTO DA CAPITAL - COMCAP, através \ndo Setor de Contratos, para fins de atendimento ao \n§ 2º, do art. 15, da Lei nº 8.666/93, torna público, \nque NÃO HOUVE ALTERAÇÃO de valores e ficam \nMANTIDOS os preços registrados na presente Ata. \nFlorianópolis, 30 de dezembro de 2020. Lucas \nBarros Arruda – Diretor Presidente. \n\nEXTRATO 2ª PUBLICAÇÃO TRIMESTRAL - ATA DE \nREGISTRO DE PREÇOS N° 470/COMCAP/2020 - \nObjeto: Aquisição de derivados de petróleo – óleos \nlubrificantes, graxa, arla 32, fluído para radiadores \ne fluído para freios para o ano de 2020, para \natender a Autarquia de Melhoramentos da Capital - \nCOMCAP. Número e Modalidade da Licitação: \nPregão Presencial para Registro de Preços nº \n805/SMA/DSLC/2019; Contratada: Racine \nComercial Ltda - EPP. Vigência: O prazo de vigência \n\nhttp://www.pmf.sc.gov.br/governo/index.php?pagina=govdiariooficial\n\n\n DIÁRIO OFICIAL ELETRÔNICO \n DO MUNICÍPIO DE FLORIANÓPOLIS \nEdição Nº  2851 Florianópolis/SC, quarta-feira, 30 de dezembro de 2020 pg. 28 \n \n\n \n\nPREFEITURA MUNICIPAL DE FLORIANÓPOLIS  Secretário:  Everson Mendes Rua Tenente Silveira, 60, 5º Andar - Centro - 88010-300– Florianópolis / SC  \nSecretaria Municipal da Casa Civil   Fone: (48) 3251-6066 - 3251-6062 \nGerência de Diário Oficial Controle:  Thamara Malta Diários Online:  http://www.pmf.sc.gov.br/governo/index.php?pagina=govdiariooficial  \n\npg. 28 \n \n\nda presente ATA será de 12 (doze) meses, contado \na partir da data da publicação da respectiva Ata, \nnão podendo ser prorrogada. Data de Assinatura: \n12/06/2020. A AUTARQUIA DE MELHORAMENTO \nDA CAPITAL - COMCAP, através do Setor de \nContratos, para fins de atendimento ao § 2º, do \nart. 15, da Lei nº 8.666/93, torna público, que NÃO \nHOUVE ALTERAÇÃO de valores e ficam MANTIDOS \nos preços registrados na presente Ata. \nFlorianópolis, 30 de dezembro de 2020. Lucas \nBarros Arruda – Diretor Presidente. \n\nEXTRATO 2ª PUBLICAÇÃO TRIMESTRAL - ATA DE \nREGISTRO DE PREÇOS N° 468/COMCAP/2020 - \nObjeto: Contratação de empresa especializada para \neventual fornecimento de sopradores (portátil e \ncostal), novos, destinados a Autarquia de \nMelhoramentos da Capital - COMCAP. Número e \nModalidade da Licitação: Pregão Presencial para \nRegistro de Preços nº 075/SMA/DSLC/2020; \nContratada: Racine Comercial Ltda - EPP. Vigência: \nO prazo de vigência da presente ATA será de 12 \n(doze) meses, contado a partir da data da \npublicação da respectiva Ata, não podendo ser \nprorrogada. Data de Assinatura: 10/06/2020. A \nAUTARQUIA DE MELHORAMENTO DA CAPITAL - \nCOMCAP, através do Setor de Contratos, para fins \nde atendimento ao § 2º, do art. 15, da Lei nº \n8.666/93, torna público, que NÃO HOUVE \nALTERAÇÃO de valores e ficam MANTIDOS os \npreços registrados na presente Ata. Florianópolis, \n30 de dezembro de 2020. Lucas Barros Arruda – \nDiretor Presidente. \n\nEXTRATO 2ª PUBLICAÇÃO TRIMESTRAL - ATA DE \nREGISTRO DE PREÇOS N° 453/COMCAP/2020 - \nObjeto: Contratação de empresa especializada para \no fornecimento de cantoneiras, chapas e barras \nchatas de aço, materiais diversos de solda e \ncorrelatos, utilizados nos serviços de metalúrgica \nda oficina da Autarquia de Melhoramentos da \nCapital - COMCAP. Número e Modalidade da \nLicitação: Pregão Presencial para Registro de \nPreços nº 758/SMA/DSLC/2019; Contratada: Elfort \nImportação e Distribuição de Produtos Eireli - ME. \nVigência: O prazo de vigência da presente ATA será \nde 12 (doze) meses, contado a partir da data da \npublicação da respectiva Ata, não podendo ser \nprorrogada. Data de Assinatura: 29/05/2020. A \nAUTARQUIA DE MELHORAMENTO DA CAPITAL - \nCOMCAP, através do Setor de Contratos, para fins \nde atendimento ao § 2º, do art. 15, da Lei nº \n8.666/93, torna público, que NÃO HOUVE \nALTERAÇÃO de valores e ficam MANTIDOS os \npreços registrados na presente Ata. Florianópolis, \n30 de dezembro de 2020. Lucas Barros Arruda – \nDiretor Presidente. \n\nEXTRATO 2ª PUBLICAÇÃO TRIMESTRAL - ATA DE \nREGISTRO DE PREÇOS N° 476/COMCAP/2020 - \nObjeto: Contratação de empresa especializada para \no fornecimento de perfil trefilado de borracha \nmaciça para a Autarquia de Melhoramentos da \nCapital - COMCAP. Número e Modalidade da \nLicitação: Pregão Presencial para Registro de \nPreços nº 122/SMA/DSLC/2020; Contratada: \nRacine Comercial Ltda - EPP. Vigência: O prazo de \nvigência da presente ATA será de 12 (doze) meses, \ncontado a partir da data da publicação da \nrespectiva Ata, não podendo ser prorrogada. Data \nde Assinatura: 29/05/2020. A AUTARQUIA DE \nMELHORAMENTO DA CAPITAL - COMCAP, através \ndo Setor de Contratos, para fins de atendimento ao \n§ 2º, do art. 15, da Lei nº 8.666/93, torna público, \nque NÃO HOUVE ALTERAÇÃO de valores e ficam \nMANTIDOS os preços registrados na presente Ata. \nFlorianópolis, 30 de dezembro de 2020. Lucas \nBarros Arruda – Diretor Presidente. \n\nEXTRATO 2ª PUBLICAÇÃO TRIMESTRAL - ATA DE \nREGISTRO DE PREÇOS N° 480/COMCAP/2020 - \nObjeto: Contratação de empresa especializada para \nfornecimento de suprimentos e equipamentos de \ninformática para a Autarquia de Melhoramentos da \nCapital - COMCAP. Número e Modalidade da \nLicitação: Pregão Presencial para Registro de \nPreços nº 870/SMA/DSLC/2019; Contratada: \nOutsourcing Center Comércio de Copiadoras Eireli - \nME. Vigência: O prazo de vigência da presente ATA \nserá de 12 (doze) meses, contado a partir da data \nda publicação da respectiva Ata, não podendo ser \nprorrogada. Data de Assinatura: 16/06/2020. A \nAUTARQUIA DE MELHORAMENTO DA CAPITAL - \nCOMCAP, através do Setor de Contratos, para fins \nde atendimento ao § 2º, do art. 15, da Lei nº \n8.666/93, torna público, que NÃO HOUVE \nALTERAÇÃO de valores e ficam MANTIDOS os \npreços registrados na presente Ata. Florianópolis, \n30 de dezembro de 2020. Lucas Barros Arruda – \nDiretor Presidente. \n\nEXTRATO DO TERMO ADITIVO 02 AO CONVÊNIO \nDE REPASSE Nº 129/2018 - Objeto a cooperação \nentre os partícipes, visando o repasse financeiro \npara execução do objeto do Acordo de Cooperação \nFinanceira nº 183/2018, firmado em 10 de agosto \nde 2018, entre a Prefeitura Municipal de \nFlorianópolis e o Fundo Sócio Ambiental da Caixa \nEconômica Federal, aditivo este que prorroga o \nprazo de vigência e mantém inalteradas as demais \ncláusulas e itens do Termo de Convênio. Partícipes: \nMunicípio de Florianópolis e Autarquia de \nMelhoramentos da Capital - COMCAP. Data de \nassinatura: 08/12/2020. Vigência: 27/03/2022. \n\nhttp://www.pmf.sc.gov.br/governo/index.php?pagina=govdiariooficial\n\n\n DIÁRIO OFICIAL ELETRÔNICO \n DO MUNICÍPIO DE FLORIANÓPOLIS \nEdição Nº  2851 Florianópolis/SC, quarta-feira, 30 de dezembro de 2020 pg. 29 \n \n\n \n\nPREFEITURA MUNICIPAL DE FLORIANÓPOLIS  Secretário:  Everson Mendes Rua Tenente Silveira, 60, 5º Andar - Centro - 88010-300– Florianópolis / SC  \nSecretaria Municipal da Casa Civil   Fone: (48) 3251-6066 - 3251-6062 \nGerência de Diário Oficial Controle:  Thamara Malta Diários Online:  http://www.pmf.sc.gov.br/governo/index.php?pagina=govdiariooficial  \n\npg. 29 \n \n\nINSTITUTO DE PREVIDÊNCIA \n\nSOCIAL DOS SERVIDORES \n\nPUBLICOS \n\nPORTARIA Nº 0308/2020 - A SUPERINTENDENTE \nDO INSTITUTO DE PREVIDÊNCIA DE \nFLORIANÓPOLIS - IPREF, no uso de suas atribuições \nconcedidas pelo disposto no art. 9º, alínea “j” da \nLei Complementar 468/2013 e considerando o que \nconsta no Processo nº 004076/2020 e com base no \nartigo 6º-A da Emenda Constitucional nº 41 de 31 \nde dezembro de 2003 com redação dada pela \nEmenda Constitucional n° 70 de 29/03/2012, ainda \ncom base no art. 54, Inciso I da Lei Complementar \n349 de 27/01/2009. RESOLVE: Art. 1º Aposentar \npor invalidez permanente, a servidora ANGELA \nLAURA DE SOUZA, matrícula 10675-5, ocupante do \ncargo de Técnico de Enfermagem, Classe N, Nível \n01, Referência G, lotada na Secretaria Municipal de \nSaúde, com proventos proporcionais a 100,00% \n(cem por cento), calculados com base na última \nremuneração do cargo efetivo, na forma da lei, \ncomposto de: Vencimento do Cargo, Insalubridade \n– Lei Complementar 063/03 c/c Lei Complementar \n615/17 a 30% (trinta por cento), 02 (dois) \nQuinquênio a 5% (cinco por cento), 05 (cinco) \nTriênios a 3% (três por cento), Diferença de \nEnquadramento – Lei Complementar 503/14 e \nGratificação do PSF – Lei 5344/98 e Lei 7665/08 c/c \nLei 8911/12 a contar de 01/08/2020, sendo o \nbenefício revisto na mesma proporção e na mesma \ndata definida para os servidores ativos. \nFlorianópolis, 14 de dezembro de 2020. \nALECSANDRO DE SOUZA BARRETO Chefe de \nBenefícios ADÉLIA DORACI DE OLIVEIRA \nSuperintendente. \n \n \n \n \n \n \n \n \n \n \n \n \n \n \n \n \n \n \n \n\n \n \n \n \n \n \n \n \n \n \n \n \n \n \n \n \n \n \n \n \n \n \n \n \n \n \n \n \n \n \n \n \n \n \n \n \n \n \n \n \n \n \n \n \n \n \n \n \n \n \n \n \n \n \n \n \n \n\n \n \n\nhttp://www.pmf.sc.gov.br/governo/index.php?pagina=govdiariooficial\n\n</body></html>"
     },
     "execution_count": 22,
     "metadata": {},
     "output_type": "execute_result"
    }
   ],
   "source": [
    "txt = BS(response, 'html5lib')\n",
    "txt"
   ],
   "metadata": {
    "collapsed": false,
    "pycharm": {
     "name": "#%%\n"
    }
   }
  },
  {
   "cell_type": "markdown",
   "source": [
    "---\n",
    "# Exercício II\n",
    "\n",
    "1. Utilize o modelo acima.\n",
    "2. Consulte as regras da API dos Diários Oficiais dos municípios:\n",
    "\n",
    "https://queridodiario.ok.org.br/api/docs#/default/Get_gazettes_gazettes__get\n",
    "\n",
    "3. Construa outro dicionário de parâmetros, de acordo com seus interesses, como o exemplo:"
   ],
   "metadata": {
    "collapsed": false
   }
  },
  {
   "cell_type": "code",
   "execution_count": 23,
   "outputs": [],
   "source": [
    "params = {'since': '2020-12-15',\n",
    "          'until': '2020-12-31',\n",
    "          'keywords': ['pandemia']}"
   ],
   "metadata": {
    "collapsed": false,
    "pycharm": {
     "name": "#%%\n"
    }
   }
  },
  {
   "cell_type": "markdown",
   "source": [
    "4. Faça o request e avalie o resultado.\n"
   ],
   "metadata": {
    "collapsed": false
   }
  },
  {
   "cell_type": "code",
   "execution_count": 24,
   "outputs": [
    {
     "data": {
      "text/plain": "{'total_gazettes': 106,\n 'gazettes': [{'territory_id': '3304557',\n   'date': '2020-12-23',\n   'url': 'https://querido-diario.nyc3.cdn.digitaloceanspaces.com/3304557/2020-12-23/103cdb1505fe71928182a4f02d6566051b12bf6a',\n   'territory_name': 'Rio de Janeiro',\n   'state_code': 'RJ',\n   'highlight_texts': ['TÉRREO - CIDADE NOVA - RIO DE JANEIRO \\n- RJ - CEP 20211-110\\nImóvel objeto do pedido: RUA A PAA 12506 175 BLOCOS 1 A 13 MP CAMPO GRANDE CEP -\\nAssunto: ITBI'],\n   'is_extra_edition': False,\n   'file_raw_txt': 'https://querido-diario.nyc3.cdn.digitaloceanspaces.com/3304557/2020-12-23/103cdb1505fe71928182a4f02d6566051b12bf6a.txt'},\n  {'territory_id': '3304557',\n   'date': '2020-12-22',\n   'url': 'https://querido-diario.nyc3.cdn.digitaloceanspaces.com/3304557/2020-12-22/a5f47c3c0811f08135d280a50e1d50804204eb59',\n   'territory_name': 'Rio de Janeiro',\n   'state_code': 'RJ',\n   'highlight_texts': ['EMENTA APROVADA: ITBI - INCORPORAÇÃO DE IMÓVEL EM \\nREALIZAÇÃO DE CAPITAL - VERIFICAÇÃO DA ATIVIDADE PRE-\\nPONDERANTE - Não apresentada na contabilidade'],\n   'is_extra_edition': False},\n  {'territory_id': '3304557',\n   'date': '2020-12-11',\n   'url': 'https://querido-diario.nyc3.cdn.digitaloceanspaces.com/3304557/2020-12-11/fce0cd41c2e8220ff2c812a062cac215cd258581',\n   'territory_name': 'Rio de Janeiro',\n   'state_code': 'RJ',\n   'highlight_texts': ['II) ITBI - PRELIMINAR DE NULIDADE DA DECISÃO \\nDE PRIMEIRA INSTÂNCIA - CERCEAMENTO DO DIREITO DE DEFESA \\n- Não pode ser inquinada de nulidade a decisão'],\n   'is_extra_edition': False,\n   'file_raw_txt': 'https://querido-diario.nyc3.cdn.digitaloceanspaces.com/3304557/2020-12-11/fce0cd41c2e8220ff2c812a062cac215cd258581.txt'},\n  {'territory_id': '3304557',\n   'date': '2020-12-10',\n   'url': 'https://querido-diario.nyc3.cdn.digitaloceanspaces.com/3304557/2020-12-10/3bf2c4bb8166933d983db837e9afcf00b85d605e',\n   'territory_name': 'Rio de Janeiro',\n   'state_code': 'RJ',\n   'highlight_texts': ['ROBERTO LIRA DE PAULA\\nRepresentante da Fazenda: ANDRÉ BRUGNI DE AGUIAR\\n\\n5717ª SESSÃO ORDINÁRIA\\nRECURSO VOLUNTÁRIO Nº 19.110\\nProcesso nº 04/450.249/2019 - ITBI'],\n   'is_extra_edition': False,\n   'file_raw_txt': 'https://querido-diario.nyc3.cdn.digitaloceanspaces.com/3304557/2020-12-10/3bf2c4bb8166933d983db837e9afcf00b85d605e.txt'},\n  {'territory_id': '3304557',\n   'date': '2020-12-09',\n   'url': 'https://querido-diario.nyc3.cdn.digitaloceanspaces.com/3304557/2020-12-09/be0ab6a0fa88a46ba49f0b2e5fa045699a699bf8',\n   'territory_name': 'Rio de Janeiro',\n   'state_code': 'RJ',\n   'highlight_texts': ['unidades imobiliárias que se destinem a famílias com renda de 0 a 6 salários mínimos e, igualmente, \\nRECONHEÇO o direito à redução de 50% do Imposto (ITBI'],\n   'is_extra_edition': False,\n   'file_raw_txt': 'https://querido-diario.nyc3.cdn.digitaloceanspaces.com/3304557/2020-12-09/be0ab6a0fa88a46ba49f0b2e5fa045699a699bf8.txt'},\n  {'territory_id': '3304557',\n   'date': '2020-12-04',\n   'url': 'https://querido-diario.nyc3.cdn.digitaloceanspaces.com/3304557/2020-12-04/016e74867a93539ff287fef1ed9ad6ef8eccceee',\n   'territory_name': 'Rio de Janeiro',\n   'state_code': 'RJ',\n   'highlight_texts': ['EMENTA APROVADA: ITBI - BASE DE CÁLCULO - REDUÇÃO PARCIAL \\nDO VALOR VENAL - RESTITUIÇÃO - Há de ser reduzida a base de \\ncálculo do ITBI, quando o órgão'],\n   'is_extra_edition': False,\n   'file_raw_txt': 'https://querido-diario.nyc3.cdn.digitaloceanspaces.com/3304557/2020-12-04/016e74867a93539ff287fef1ed9ad6ef8eccceee.txt'},\n  {'territory_id': '3304557',\n   'date': '2020-12-02',\n   'url': 'https://querido-diario.nyc3.cdn.digitaloceanspaces.com/3304557/2020-12-02/d60f31a2b4b94228dbcdade4c6fcc54f578756fb',\n   'territory_name': 'Rio de Janeiro',\n   'state_code': 'RJ',\n   'highlight_texts': ['LOPES DE SOUZA JUNIOR\\nRepresentante da Fazenda: RAUL ARARIPE NETO\\n\\n5712ª SESSÃO ORDINÁRIA\\nRECURSO VOLUNTÁRIO Nº 18.319\\nProcesso nº 04/450.511/2017 - ITBI'],\n   'is_extra_edition': False,\n   'file_raw_txt': 'https://querido-diario.nyc3.cdn.digitaloceanspaces.com/3304557/2020-12-02/d60f31a2b4b94228dbcdade4c6fcc54f578756fb.txt'},\n  {'territory_id': '3304557',\n   'date': '2020-11-30',\n   'url': 'https://querido-diario.nyc3.cdn.digitaloceanspaces.com/3304557/2020-11-30/1f4a4185e23949d4de4c4f8dc6c33ea12b9d7229',\n   'territory_name': 'Rio de Janeiro',\n   'state_code': 'RJ',\n   'highlight_texts': ['76,20                              \\n        1.2.1- ITBI 76,69                              \\n        1.2.2- Multas, Juros de Mora, Dívida Ativa e Outros'],\n   'is_extra_edition': False,\n   'file_raw_txt': 'https://querido-diario.nyc3.cdn.digitaloceanspaces.com/3304557/2020-11-30/1f4a4185e23949d4de4c4f8dc6c33ea12b9d7229.txt'},\n  {'territory_id': '3304557',\n   'date': '2020-11-25',\n   'url': 'https://querido-diario.nyc3.cdn.digitaloceanspaces.com/3304557/2020-11-25/fa9073124ddeb0cc8853ab63109b2382efe23611',\n   'territory_name': 'Rio de Janeiro',\n   'state_code': 'RJ',\n   'highlight_texts': ['Conselheiro ABEL MENDES PINHEIRO JUNIOR\\nRepresentante da Fazenda: RACHEL GUEDES CAVALCANTE\\n\\nRECURSO VOLUNTÁRIO Nº 19.137\\nProcesso nº 04/451.356/2018 - ITBI'],\n   'is_extra_edition': False,\n   'file_raw_txt': 'https://querido-diario.nyc3.cdn.digitaloceanspaces.com/3304557/2020-11-25/fa9073124ddeb0cc8853ab63109b2382efe23611.txt'},\n  {'territory_id': '3304557',\n   'date': '2020-11-23',\n   'url': 'https://querido-diario.nyc3.cdn.digitaloceanspaces.com/3304557/2020-11-23/92474ab1e5065718afb3e65d1d5cb02282c6394c',\n   'territory_name': 'Rio de Janeiro',\n   'state_code': 'RJ',\n   'highlight_texts': ['EMENTA APROVADA: ITBI - INCORPORAÇÃO DE IMÓVEL EM REALIZAÇÃO DE CAPITAL - FALTA OU IN-\\nCONSISTÊNCIA DE ESCRITURAÇÃO CONTÁBIL - INATIVIDADE DO ADQUIRENTE'],\n   'is_extra_edition': False,\n   'file_raw_txt': 'https://querido-diario.nyc3.cdn.digitaloceanspaces.com/3304557/2020-11-23/92474ab1e5065718afb3e65d1d5cb02282c6394c.txt'}]}"
     },
     "execution_count": 24,
     "metadata": {},
     "output_type": "execute_result"
    }
   ],
   "source": [
    "# Exemplo 2. APIs Diários\n",
    "url = 'https://queridodiario.ok.org.br/api/'\n",
    "endpoint = 'gazettes/'\n",
    "\n",
    "# Territory ID: Rio de Janeiro\n",
    "params = {'territory_id': '3304557',\n",
    "          'since': '2020-01-01',\n",
    "          'until': '2020-12-31',\n",
    "          'keywords': ['ITBI']}\n",
    "\n",
    "r = requests.get(f\"{url}{endpoint}/{params['territory_id']}\", params=params).json()\n",
    "r"
   ],
   "metadata": {
    "collapsed": false,
    "pycharm": {
     "name": "#%%\n"
    }
   }
  },
  {
   "cell_type": "markdown",
   "source": [
    "# APIs III\n",
    "## Serious illustration\n",
    "\n",
    "### Passo-a-passo\n",
    "1. https://developer.twitter.com/en/docs/tutorials/step-by-step-guide-to-making-your-first-request-to-the-twitter-api-v2\n",
    "\n",
    "Depois, esse:\n",
    "\n",
    "2. https://github.com/twitterdev/Twitter-API-v2-sample-code\n",
    "\n",
    "Nem tudo é possível, por exemplo, limitado aos últimos 7 dias. Para detalhes, veja:\n",
    "\n",
    "3. https://developer.twitter.com/en/docs/twitter-api/early-access"
   ],
   "metadata": {
    "collapsed": false
   }
  },
  {
   "cell_type": "code",
   "execution_count": 25,
   "outputs": [],
   "source": [
    "import requests\n",
    "import json"
   ],
   "metadata": {
    "collapsed": false,
    "pycharm": {
     "name": "#%%\n"
    }
   }
  },
  {
   "cell_type": "code",
   "execution_count": 29,
   "outputs": [],
   "source": [
    "from getpass import getpass\n",
    "bearer_token = getpass()"
   ],
   "metadata": {
    "collapsed": false,
    "pycharm": {
     "name": "#%%\n"
    }
   }
  },
  {
   "cell_type": "code",
   "execution_count": 30,
   "outputs": [
    {
     "name": "stdout",
     "output_type": "stream",
     "text": [
      "200\n",
      "{\n",
      "    \"data\": [\n",
      "        {\n",
      "            \"author_id\": \"14594813\",\n",
      "            \"id\": \"1427670577582641158\",\n",
      "            \"text\": \"'Nos 20 anos da guerra no Afeganist\\u00e3o morreram menos afeg\\u00e3os do que brasileiros pela Covid-19', afirma vice-presidente da CPI; siga o fio e acompanhe na Folha: https://t.co/xONWt6sxRk\\n\\nFoto: Pedro Ladeira/Folhapress https://t.co/4OpRgLWseJ\"\n",
      "        },\n",
      "        {\n",
      "            \"author_id\": \"14594813\",\n",
      "            \"id\": \"1427669265881174023\",\n",
      "            \"text\": \"Braga Netto agora diz que prefere n\\u00e3o emitir sua opini\\u00e3o sobre voto impresso e urnas eletr\\u00f4nicas https://t.co/lNKuWDdNiE\"\n",
      "        },\n",
      "        {\n",
      "            \"author_id\": \"14594813\",\n",
      "            \"id\": \"1427660952044986373\",\n",
      "            \"text\": \"Reforma do Imposto de Renda prejudica estados do Norte e Nordeste, diz entidade de fiscais https://t.co/9RtfRDJ83D\"\n",
      "        },\n",
      "        {\n",
      "            \"author_id\": \"14594813\",\n",
      "            \"id\": \"1427658424565833732\",\n",
      "            \"text\": \"PEC quer livrar governante que n\\u00e3o gastou m\\u00ednimo constitucional em educa\\u00e7\\u00e3o na pandemia https://t.co/tNgqdwcx74\"\n",
      "        },\n",
      "        {\n",
      "            \"author_id\": \"14594813\",\n",
      "            \"id\": \"1427654812691222530\",\n",
      "            \"text\": \"Precisa e Envixia esperavam receber US$ 23 mi em comiss\\u00f5es com venda da Covaxin ao governo https://t.co/CVeYo6DjMB\"\n",
      "        },\n",
      "        {\n",
      "            \"author_id\": \"14594813\",\n",
      "            \"id\": \"1427651429980852233\",\n",
      "            \"text\": \"Milton Ribeiro cita calote do Fies para justificar fala de que universidade \\u00e9 para poucos https://t.co/c0VnDbSr1u\"\n",
      "        },\n",
      "        {\n",
      "            \"author_id\": \"14594813\",\n",
      "            \"id\": \"1427650951817711616\",\n",
      "            \"text\": \"Crise h\\u00eddrica pode encarecer conta de luz, alerta Aneel https://t.co/wwqtVqeWj3\"\n",
      "        },\n",
      "        {\n",
      "            \"author_id\": \"14594813\",\n",
      "            \"id\": \"1427649852847046663\",\n",
      "            \"text\": \"Afeg\\u00e3os t\\u00eam motivos para ter medo do Taleban, diz autor de 'O Ca\\u00e7ador de Pipas' https://t.co/aOmGvHKwIk\"\n",
      "        },\n",
      "        {\n",
      "            \"author_id\": \"14594813\",\n",
      "            \"id\": \"1427648963625242627\",\n",
      "            \"text\": \"Em meio \\u00e0 pandemia de Covid, vendas de bicicleta sobem 34% no semestre https://t.co/QvDQbdVg2D\"\n",
      "        },\n",
      "        {\n",
      "            \"author_id\": \"14594813\",\n",
      "            \"id\": \"1427648644916944903\",\n",
      "            \"text\": \"PK diz que tem Seu Jorge como inspira\\u00e7\\u00e3o: 'N\\u00e3o me considero s\\u00f3 do rap' https://t.co/03bdtYJYV2\"\n",
      "        }\n",
      "    ],\n",
      "    \"meta\": {\n",
      "        \"newest_id\": \"1427670577582641158\",\n",
      "        \"next_token\": \"b26v89c19zqg8o3fpdm9f1vx8vyprflmajtyhulpr1yf1\",\n",
      "        \"oldest_id\": \"1427648644916944903\",\n",
      "        \"result_count\": 10\n",
      "    }\n",
      "}\n"
     ]
    }
   ],
   "source": [
    "search_url = \"https://api.twitter.com/2/tweets/search/recent\"\n",
    "\n",
    "# Optional params: start_time,end_time,since_id,until_id,max_results,next_token,\n",
    "# expansions,tweet.fields,media.fields,poll.fields,place.fields,user.fields\n",
    "#\n",
    "# twitter_handle = 'furtadobb'\n",
    "# twitter_handle = 'SejaIDP'\n",
    "# twitter_handle = 'Reguffe'\n",
    "twitter_handle = 'folha'\n",
    "\n",
    "# start_time = '2021-07-29T00:00:00Z'\n",
    "# end_time = '2021-08-02T00:00:00Z'\n",
    "query_params = {'query': f'(from:{twitter_handle})',\n",
    "                'tweet.fields': 'author_id'}\n",
    "\n",
    "\n",
    "def bearer_oauth(bear):\n",
    "    \"\"\"\n",
    "    Method required by bearer token authentication.\n",
    "    \"\"\"\n",
    "\n",
    "    bear.headers[\"Authorization\"] = f\"Bearer {bearer_token}\"\n",
    "    bear.headers[\"User-Agent\"] = \"v2RecentSearchPython\"\n",
    "    return bear\n",
    "\n",
    "\n",
    "def connect_to_endpoint(url, params):\n",
    "    response = requests.get(url, auth=bearer_oauth, params=params)\n",
    "    print(response.status_code)\n",
    "    if response.status_code != 200:\n",
    "        raise Exception(response.status_code, response.text)\n",
    "    return response.json()\n",
    "\n",
    "\n",
    "def main():\n",
    "    json_response = connect_to_endpoint(search_url, query_params)\n",
    "    print(json.dumps(json_response, indent=4, sort_keys=True))\n",
    "    return json_response\n",
    "\n",
    "exemplo_json = main()"
   ],
   "metadata": {
    "collapsed": false,
    "pycharm": {
     "name": "#%%\n"
    }
   }
  },
  {
   "cell_type": "markdown",
   "source": [
    "# Exercício\n",
    "\n",
    "1. Note que pelas regras do Twitter, o plano grátis inclui somente os últimos 7 dias.\n",
    "2. Quais seriam os passos necessários para que uma base de dados acumulasse, ao longo de um mês, por exemplo,\n",
    "todos os *tweets*?\n",
    "3. Considerando o exemplo abaixo como um objeto `python` (`dict`), como poderíamos automatizar o processo atualização\n",
    "da base?"
   ],
   "metadata": {
    "collapsed": false
   }
  },
  {
   "cell_type": "code",
   "execution_count": null,
   "outputs": [],
   "source": [
    "json_response_exemplo = {\n",
    "    \"data\": [\n",
    "        {\n",
    "            \"author_id\": \"14594813\",\n",
    "            \"id\": \"1420089179690737668\",\n",
    "            \"text\": \"O ato contra a est\\u00e1tua em S\\u00e3o Paulo ocorre num momento em que h\\u00e1 um questionamento global sobre homenagens a figuras controversas \\u2014como \\u00e9 o caso dos bandeirantes, que atuavam na manuten\\u00e7\\u00e3o da escravid\\u00e3o e na persegui\\u00e7\\u00e3o aos ind\\u00edgenas no Brasil colonial https://t.co/0lfHQjlUR4 https://t.co/2DP40F6gra\"\n",
    "        },\n",
    "        {\n",
    "            \"author_id\": \"14594813\",\n",
    "            \"id\": \"1420086844637728777\",\n",
    "            \"text\": \"L\\u00edderes do The Who, Pete Townshend e Roger Daltrey, trocam alfinetadas em livros https://t.co/zktrgs8X3Z\"\n",
    "        },\n",
    "        {\n",
    "            \"author_id\": \"14594813\",\n",
    "            \"id\": \"1420074263617417221\",\n",
    "            \"text\": \"Mudan\\u00e7a de governo no Haiti n\\u00e3o deve transformar vida da popula\\u00e7\\u00e3o, dizem haitianos https://t.co/9qP635znaa\"\n",
    "        },\n",
    "        {\n",
    "            \"author_id\": \"14594813\",\n",
    "            \"id\": \"1420073763643830275\",\n",
    "            \"text\": \"Com reforma, Bolsonaro consolida 27 trocas na Esplanada dos Minist\\u00e9rios em dois anos e meio https://t.co/r2kv1TmtzU\"\n",
    "        }\n",
    "    ],\n",
    "    \"meta\": {\n",
    "        \"newest_id\": \"1420089179690737668\",\n",
    "        \"next_token\": \"b26v89c19zqg8o3fpdm6gluv37fhc1o08leaaw7iwmmwt\",\n",
    "        \"oldest_id\": \"1420073763643830275\",\n",
    "        \"result_count\": 10\n",
    "    }\n",
    "}"
   ],
   "metadata": {
    "collapsed": false,
    "pycharm": {
     "name": "#%%\n"
    }
   }
  },
  {
   "cell_type": "markdown",
   "source": [
    "1. Vamos investigar o JSON (dict) de retorno. Veja que há duas *keys* no dicionário de resultados."
   ],
   "metadata": {
    "collapsed": false
   }
  },
  {
   "cell_type": "code",
   "execution_count": null,
   "outputs": [],
   "source": [
    "json_response_exemplo.keys()"
   ],
   "metadata": {
    "collapsed": false,
    "pycharm": {
     "name": "#%%\n"
    }
   }
  },
  {
   "cell_type": "markdown",
   "source": [
    "2. 'meta' sempre contém as fronteiras em termos de _id (newest, oldest) e o 'next_token' que é o endereço da próxima página\n",
    "3. Teremos que sistematizar o download de todos os tweets, até que 'next_token' seja null\n",
    "4. E teremos que tornar persistente uma database para que mantenha os tweets com mais de 7 dias na base, a partir do oitavo dia, certo?"
   ],
   "metadata": {
    "collapsed": false
   }
  },
  {
   "cell_type": "markdown",
   "source": [
    "Portanto, será necessário\n",
    "1. Criar uma base e salvá-la\n",
    "2. A cada novo processo/dia:\n",
    "    1. Ler/abrir a base\n",
    "    2. Ler os novos tweets\n",
    "    3. Verificar se os tweets já existem na base\n",
    "    4. Caso negativo, adicioná-los\n",
    "\n",
    "3. Salvar novamente a base\n",
    "\n",
    "**10 minutos para pensarem um pouco antes da resolução**\n",
    "\n",
    "---"
   ],
   "metadata": {
    "collapsed": false
   }
  },
  {
   "cell_type": "markdown",
   "source": [
    "0. Atualizando os parâmetros da *query*. Garantindo o token."
   ],
   "metadata": {
    "collapsed": false
   }
  },
  {
   "cell_type": "code",
   "execution_count": 31,
   "outputs": [],
   "source": [
    "search_url = \"https://api.twitter.com/2/tweets/search/recent\"\n",
    "\n",
    "twitter_handle = 'folha'\n",
    "\n",
    "query_params = {'query': f'(from:{twitter_handle})',\n",
    "                'tweet.fields': 'author_id'}\n",
    "\n",
    "bearer_token = getpass()"
   ],
   "metadata": {
    "collapsed": false,
    "pycharm": {
     "name": "#%%\n"
    }
   }
  },
  {
   "cell_type": "markdown",
   "source": [
    "1. Criação base"
   ],
   "metadata": {
    "collapsed": false
   }
  },
  {
   "cell_type": "code",
   "execution_count": 32,
   "outputs": [],
   "source": [
    "import os\n",
    "import pandas as pd\n",
    "\n",
    "path = 'data'\n",
    "filename = 'base_tweets.csv'\n",
    "if not os.path.exists(path):\n",
    "    os.mkdir(path)\n",
    "filename = os.path.join(path, filename)\n",
    "cols_names = ['author_id', 'id', 'text']\n",
    "\n",
    "base = pd.DataFrame(columns=cols_names)\n",
    "base.to_csv(filename, sep=';', index=False)"
   ],
   "metadata": {
    "collapsed": false,
    "pycharm": {
     "name": "#%%\n"
    }
   }
  },
  {
   "cell_type": "markdown",
   "source": [
    "2. Modificando somente a função `main()` para realizar várias leituras"
   ],
   "metadata": {
    "collapsed": false
   }
  },
  {
   "cell_type": "code",
   "execution_count": 33,
   "outputs": [
    {
     "name": "stdout",
     "output_type": "stream",
     "text": [
      "200\n",
      "b26v89c19zqg8o3fpdm9f1vx8wlthxpk6hazas3t7xs3h\n",
      "200\n",
      "b26v89c19zqg8o3fpdm9f1vm7cuqyrfhz70lcd3eel1tp\n",
      "200\n",
      "b26v89c19zqg8o3fpdm9f1vbo1ffrtjgrx2pgoqj5eflp\n",
      "200\n",
      "b26v89c19zqg8o3fpdm9f1vbde034s6knmt84d16kzse5\n",
      "200\n",
      "b26v89c19zqg8o3fpdm9f1v0mho9zonrsrugjifdsgmf1\n",
      "200\n",
      "b26v89c19zqg8o3fpdm9ezse987y9vkgxyua8qys54whp\n",
      "200\n",
      "b26v89c19zqg8o3fpdm9exmrqnuam7b6o44jge3lvkh31\n",
      "200\n",
      "b26v89c19zqg8o3fpdm9exmrnlbk9mdno8m6or4z3b3b1\n",
      "200\n",
      "b26v89c19zqg8o3fpdm9exm617xzd32swb86hqdok8cql\n",
      "200\n",
      "b26v89c19zqg8o3fpdm9exlkddg235vbyxt7o9rq3rpfh\n",
      "200\n",
      "b26v89c19zqg8o3fpdm9exl9r0cnfl50e3w9djfzkernh\n",
      "200\n",
      "b26v89c19zqg8o3fpdm9evj8kxefwo2cgt8jwcbjzbou5\n",
      "200\n",
      "b26v89c19zqg8o3fpdm9evixx23u34l3dxij3xvirbypp\n",
      "200\n",
      "b26v89c19zqg8o3fpdm9evin1m4nft3udvlgi3lpjcwot\n",
      "200\n",
      "b26v89c19zqg8o3fpdm9evic4n3hbjcsgzfmkvh1lg7st\n",
      "200\n",
      "b26v89c19zqg8o3fpdm9evi1msswj78n57n1cgh847qm5\n",
      "200\n",
      "b26v89c19zqg8o3fpdm9evi1msstajkrdyy6aoc5ds7zx\n",
      "200\n",
      "b26v89c19zqg8o3fpdm9evi1mssq2c8dp0uivtp0kqem5\n",
      "200\n",
      "b26v89c19zqg8o3fpdm9evi1c6fxfrw8afpzyd3ox6id9\n",
      "200\n",
      "b26v89c19zqg8o3fpdm9evhfrc46k8md63yeylhtwpk71\n",
      "200\n",
      "b26v89c19zqg8o3fpdm9evgjim2trkgrx6yhf55eihbwd\n",
      "200\n",
      "b26v89c19zqg8o3fpdm9eteib2mxglq74etfhw1lwop6l\n",
      "200\n",
      "b26v89c19zqg8o3fpdm9etdm0tytx7fnyl7aqpkyxfou5\n",
      "200\n",
      "b26v89c19zqg8o3fpdm9etcf15guom01qyhxpdxi8occd\n",
      "200\n",
      "b26v89c19zqg8o3fpdm9er739g509zod3hxoothnqt7jx\n",
      "200\n",
      "b26v89c19zqg8o3fpdm9ep529io1nmo9citfx12u99r3x\n",
      "200\n",
      "b26v89c19zqg8o3fpdm9ep526gcr6rkeila0ev2kwy9vh\n",
      "200\n",
      "b26v89c19zqg8o3fpdm9ep4r9hyt4jnjtgiyix6z4gby5\n",
      "200\n",
      "b26v89c19zqg8o3fpdm9ep2yhfb400b9vav7ygyeoba0t\n",
      "200\n",
      "b26v89c19zqg8o3fpdm902pngtpkyzp5rc0vri88pr6nx\n",
      "200\n",
      "b26v89c19zqg8o3fpdm902pclekxx4visux6pojrl95rx\n",
      "200\n",
      "b26v89c19zqg8o3fpdm902ore6sj1c1fi4m92mi6j5bwd\n",
      "200\n",
      "b26v89c19zqg8o3fpdm902or0jm5i2wgiggbu84yfja0t\n",
      "200\n",
      "b26v89c19zqg8o3fpdm902og9nafjz2yxuckxagukb4ot\n",
      "200\n",
      "b26v89c19zqg8o3fpdm902n9a0a5v3lc012gnfqw9ou4d\n",
      "200\n",
      "b26v89c19zqg8o3fpdm900kmj4ag1lq17xzo06siy4akd\n",
      "200\n",
      "b26v89c19zqg8o3fpdm8zyeek7bixyssfvrxem6vcs0al\n",
      "200\n",
      "b26v89c19zqg8o3fpdm8zyeeh4svszhl1y8r6gzuhmmpp\n",
      "200\n",
      "b26v89c19zqg8o3fpdm8zyeeclzzsq8buqbatm7d0p6yl\n",
      "200\n",
      "b26v89c19zqg8o3fpdm8zwb65d7avlold472878ruxegt\n",
      "200\n",
      "b26v89c19zqg8o3fpdm8zw9zdby2sbizw5r5rlllb362l\n",
      "200\n",
      "b26v89c19zqg8o3fpdm8zw9dsih9kdfvsy8h0drxyf33x\n",
      "200\n",
      "b26v89c19zqg8o3fpdm8zw92sh4xc5i7yo2s3g2sarwcd\n",
      "200\n",
      "b26v89c19zqg8o3fpdm8zu5ula1rvojxbkk4iib4fqqgt\n",
      "200\n",
      "b26v89c19zqg8o3fpdm8zu4yb1dsow6nwseig6qeqnipp\n",
      "200\n",
      "b26v89c19zqg8o3fpdm8zs20z9upglr02apxhsjylqr99\n"
     ]
    },
    {
     "ename": "KeyboardInterrupt",
     "evalue": "",
     "output_type": "error",
     "traceback": [
      "\u001B[0;31m---------------------------------------------------------------------------\u001B[0m",
      "\u001B[0;31mKeyboardInterrupt\u001B[0m                         Traceback (most recent call last)",
      "\u001B[0;32m/tmp/ipykernel_64011/1299503561.py\u001B[0m in \u001B[0;36m<module>\u001B[0;34m\u001B[0m\n\u001B[1;32m     26\u001B[0m \u001B[0;34m\u001B[0m\u001B[0m\n\u001B[1;32m     27\u001B[0m \u001B[0mbase\u001B[0m \u001B[0;34m=\u001B[0m \u001B[0mpd\u001B[0m\u001B[0;34m.\u001B[0m\u001B[0mread_csv\u001B[0m\u001B[0;34m(\u001B[0m\u001B[0mfilename\u001B[0m\u001B[0;34m,\u001B[0m \u001B[0msep\u001B[0m\u001B[0;34m=\u001B[0m\u001B[0;34m';'\u001B[0m\u001B[0;34m)\u001B[0m\u001B[0;34m\u001B[0m\u001B[0;34m\u001B[0m\u001B[0m\n\u001B[0;32m---> 28\u001B[0;31m \u001B[0mtweet_base\u001B[0m \u001B[0;34m=\u001B[0m \u001B[0mmain\u001B[0m\u001B[0;34m(\u001B[0m\u001B[0mbase\u001B[0m\u001B[0;34m,\u001B[0m \u001B[0mfilename\u001B[0m\u001B[0;34m)\u001B[0m\u001B[0;34m\u001B[0m\u001B[0;34m\u001B[0m\u001B[0m\n\u001B[0m\u001B[1;32m     29\u001B[0m \u001B[0;34m\u001B[0m\u001B[0m\n",
      "\u001B[0;32m/tmp/ipykernel_64011/1299503561.py\u001B[0m in \u001B[0;36mmain\u001B[0;34m(database, path)\u001B[0m\n\u001B[1;32m      4\u001B[0m     \u001B[0;32mwhile\u001B[0m \u001B[0mnext_token\u001B[0m\u001B[0;34m:\u001B[0m\u001B[0;34m\u001B[0m\u001B[0;34m\u001B[0m\u001B[0m\n\u001B[1;32m      5\u001B[0m         \u001B[0;31m# Realizar a conexão com os parâmetros já estabelecidos\u001B[0m\u001B[0;34m\u001B[0m\u001B[0;34m\u001B[0m\u001B[0;34m\u001B[0m\u001B[0m\n\u001B[0;32m----> 6\u001B[0;31m         \u001B[0mjson_response\u001B[0m \u001B[0;34m=\u001B[0m \u001B[0mconnect_to_endpoint\u001B[0m\u001B[0;34m(\u001B[0m\u001B[0msearch_url\u001B[0m\u001B[0;34m,\u001B[0m \u001B[0mquery_params\u001B[0m\u001B[0;34m)\u001B[0m\u001B[0;34m\u001B[0m\u001B[0;34m\u001B[0m\u001B[0m\n\u001B[0m\u001B[1;32m      7\u001B[0m         \u001B[0;31m# Atualizar o valor do next_token, de acordo com a resposta\u001B[0m\u001B[0;34m\u001B[0m\u001B[0;34m\u001B[0m\u001B[0;34m\u001B[0m\u001B[0m\n\u001B[1;32m      8\u001B[0m         \u001B[0;32mif\u001B[0m \u001B[0;34m'next_token'\u001B[0m \u001B[0;32min\u001B[0m \u001B[0mjson_response\u001B[0m\u001B[0;34m[\u001B[0m\u001B[0;34m'meta'\u001B[0m\u001B[0;34m]\u001B[0m\u001B[0;34m:\u001B[0m\u001B[0;34m\u001B[0m\u001B[0;34m\u001B[0m\u001B[0m\n",
      "\u001B[0;32m/tmp/ipykernel_64011/3772044616.py\u001B[0m in \u001B[0;36mconnect_to_endpoint\u001B[0;34m(url, params)\u001B[0m\n\u001B[1;32m     26\u001B[0m \u001B[0;34m\u001B[0m\u001B[0m\n\u001B[1;32m     27\u001B[0m \u001B[0;32mdef\u001B[0m \u001B[0mconnect_to_endpoint\u001B[0m\u001B[0;34m(\u001B[0m\u001B[0murl\u001B[0m\u001B[0;34m,\u001B[0m \u001B[0mparams\u001B[0m\u001B[0;34m)\u001B[0m\u001B[0;34m:\u001B[0m\u001B[0;34m\u001B[0m\u001B[0;34m\u001B[0m\u001B[0m\n\u001B[0;32m---> 28\u001B[0;31m     \u001B[0mresponse\u001B[0m \u001B[0;34m=\u001B[0m \u001B[0mrequests\u001B[0m\u001B[0;34m.\u001B[0m\u001B[0mget\u001B[0m\u001B[0;34m(\u001B[0m\u001B[0murl\u001B[0m\u001B[0;34m,\u001B[0m \u001B[0mauth\u001B[0m\u001B[0;34m=\u001B[0m\u001B[0mbearer_oauth\u001B[0m\u001B[0;34m,\u001B[0m \u001B[0mparams\u001B[0m\u001B[0;34m=\u001B[0m\u001B[0mparams\u001B[0m\u001B[0;34m)\u001B[0m\u001B[0;34m\u001B[0m\u001B[0;34m\u001B[0m\u001B[0m\n\u001B[0m\u001B[1;32m     29\u001B[0m     \u001B[0mprint\u001B[0m\u001B[0;34m(\u001B[0m\u001B[0mresponse\u001B[0m\u001B[0;34m.\u001B[0m\u001B[0mstatus_code\u001B[0m\u001B[0;34m)\u001B[0m\u001B[0;34m\u001B[0m\u001B[0;34m\u001B[0m\u001B[0m\n\u001B[1;32m     30\u001B[0m     \u001B[0;32mif\u001B[0m \u001B[0mresponse\u001B[0m\u001B[0;34m.\u001B[0m\u001B[0mstatus_code\u001B[0m \u001B[0;34m!=\u001B[0m \u001B[0;36m200\u001B[0m\u001B[0;34m:\u001B[0m\u001B[0;34m\u001B[0m\u001B[0;34m\u001B[0m\u001B[0m\n",
      "\u001B[0;32m~/.conda/envs/py39web/lib/python3.9/site-packages/requests/api.py\u001B[0m in \u001B[0;36mget\u001B[0;34m(url, params, **kwargs)\u001B[0m\n\u001B[1;32m     74\u001B[0m \u001B[0;34m\u001B[0m\u001B[0m\n\u001B[1;32m     75\u001B[0m     \u001B[0mkwargs\u001B[0m\u001B[0;34m.\u001B[0m\u001B[0msetdefault\u001B[0m\u001B[0;34m(\u001B[0m\u001B[0;34m'allow_redirects'\u001B[0m\u001B[0;34m,\u001B[0m \u001B[0;32mTrue\u001B[0m\u001B[0;34m)\u001B[0m\u001B[0;34m\u001B[0m\u001B[0;34m\u001B[0m\u001B[0m\n\u001B[0;32m---> 76\u001B[0;31m     \u001B[0;32mreturn\u001B[0m \u001B[0mrequest\u001B[0m\u001B[0;34m(\u001B[0m\u001B[0;34m'get'\u001B[0m\u001B[0;34m,\u001B[0m \u001B[0murl\u001B[0m\u001B[0;34m,\u001B[0m \u001B[0mparams\u001B[0m\u001B[0;34m=\u001B[0m\u001B[0mparams\u001B[0m\u001B[0;34m,\u001B[0m \u001B[0;34m**\u001B[0m\u001B[0mkwargs\u001B[0m\u001B[0;34m)\u001B[0m\u001B[0;34m\u001B[0m\u001B[0;34m\u001B[0m\u001B[0m\n\u001B[0m\u001B[1;32m     77\u001B[0m \u001B[0;34m\u001B[0m\u001B[0m\n\u001B[1;32m     78\u001B[0m \u001B[0;34m\u001B[0m\u001B[0m\n",
      "\u001B[0;32m~/.conda/envs/py39web/lib/python3.9/site-packages/requests/api.py\u001B[0m in \u001B[0;36mrequest\u001B[0;34m(method, url, **kwargs)\u001B[0m\n\u001B[1;32m     59\u001B[0m     \u001B[0;31m# cases, and look like a memory leak in others.\u001B[0m\u001B[0;34m\u001B[0m\u001B[0;34m\u001B[0m\u001B[0;34m\u001B[0m\u001B[0m\n\u001B[1;32m     60\u001B[0m     \u001B[0;32mwith\u001B[0m \u001B[0msessions\u001B[0m\u001B[0;34m.\u001B[0m\u001B[0mSession\u001B[0m\u001B[0;34m(\u001B[0m\u001B[0;34m)\u001B[0m \u001B[0;32mas\u001B[0m \u001B[0msession\u001B[0m\u001B[0;34m:\u001B[0m\u001B[0;34m\u001B[0m\u001B[0;34m\u001B[0m\u001B[0m\n\u001B[0;32m---> 61\u001B[0;31m         \u001B[0;32mreturn\u001B[0m \u001B[0msession\u001B[0m\u001B[0;34m.\u001B[0m\u001B[0mrequest\u001B[0m\u001B[0;34m(\u001B[0m\u001B[0mmethod\u001B[0m\u001B[0;34m=\u001B[0m\u001B[0mmethod\u001B[0m\u001B[0;34m,\u001B[0m \u001B[0murl\u001B[0m\u001B[0;34m=\u001B[0m\u001B[0murl\u001B[0m\u001B[0;34m,\u001B[0m \u001B[0;34m**\u001B[0m\u001B[0mkwargs\u001B[0m\u001B[0;34m)\u001B[0m\u001B[0;34m\u001B[0m\u001B[0;34m\u001B[0m\u001B[0m\n\u001B[0m\u001B[1;32m     62\u001B[0m \u001B[0;34m\u001B[0m\u001B[0m\n\u001B[1;32m     63\u001B[0m \u001B[0;34m\u001B[0m\u001B[0m\n",
      "\u001B[0;32m~/.conda/envs/py39web/lib/python3.9/site-packages/requests/sessions.py\u001B[0m in \u001B[0;36mrequest\u001B[0;34m(self, method, url, params, data, headers, cookies, files, auth, timeout, allow_redirects, proxies, hooks, stream, verify, cert, json)\u001B[0m\n\u001B[1;32m    540\u001B[0m         }\n\u001B[1;32m    541\u001B[0m         \u001B[0msend_kwargs\u001B[0m\u001B[0;34m.\u001B[0m\u001B[0mupdate\u001B[0m\u001B[0;34m(\u001B[0m\u001B[0msettings\u001B[0m\u001B[0;34m)\u001B[0m\u001B[0;34m\u001B[0m\u001B[0;34m\u001B[0m\u001B[0m\n\u001B[0;32m--> 542\u001B[0;31m         \u001B[0mresp\u001B[0m \u001B[0;34m=\u001B[0m \u001B[0mself\u001B[0m\u001B[0;34m.\u001B[0m\u001B[0msend\u001B[0m\u001B[0;34m(\u001B[0m\u001B[0mprep\u001B[0m\u001B[0;34m,\u001B[0m \u001B[0;34m**\u001B[0m\u001B[0msend_kwargs\u001B[0m\u001B[0;34m)\u001B[0m\u001B[0;34m\u001B[0m\u001B[0;34m\u001B[0m\u001B[0m\n\u001B[0m\u001B[1;32m    543\u001B[0m \u001B[0;34m\u001B[0m\u001B[0m\n\u001B[1;32m    544\u001B[0m         \u001B[0;32mreturn\u001B[0m \u001B[0mresp\u001B[0m\u001B[0;34m\u001B[0m\u001B[0;34m\u001B[0m\u001B[0m\n",
      "\u001B[0;32m~/.conda/envs/py39web/lib/python3.9/site-packages/requests/sessions.py\u001B[0m in \u001B[0;36msend\u001B[0;34m(self, request, **kwargs)\u001B[0m\n\u001B[1;32m    653\u001B[0m \u001B[0;34m\u001B[0m\u001B[0m\n\u001B[1;32m    654\u001B[0m         \u001B[0;31m# Send the request\u001B[0m\u001B[0;34m\u001B[0m\u001B[0;34m\u001B[0m\u001B[0;34m\u001B[0m\u001B[0m\n\u001B[0;32m--> 655\u001B[0;31m         \u001B[0mr\u001B[0m \u001B[0;34m=\u001B[0m \u001B[0madapter\u001B[0m\u001B[0;34m.\u001B[0m\u001B[0msend\u001B[0m\u001B[0;34m(\u001B[0m\u001B[0mrequest\u001B[0m\u001B[0;34m,\u001B[0m \u001B[0;34m**\u001B[0m\u001B[0mkwargs\u001B[0m\u001B[0;34m)\u001B[0m\u001B[0;34m\u001B[0m\u001B[0;34m\u001B[0m\u001B[0m\n\u001B[0m\u001B[1;32m    656\u001B[0m \u001B[0;34m\u001B[0m\u001B[0m\n\u001B[1;32m    657\u001B[0m         \u001B[0;31m# Total elapsed time of the request (approximately)\u001B[0m\u001B[0;34m\u001B[0m\u001B[0;34m\u001B[0m\u001B[0;34m\u001B[0m\u001B[0m\n",
      "\u001B[0;32m~/.conda/envs/py39web/lib/python3.9/site-packages/requests/adapters.py\u001B[0m in \u001B[0;36msend\u001B[0;34m(self, request, stream, timeout, verify, cert, proxies)\u001B[0m\n\u001B[1;32m    437\u001B[0m         \u001B[0;32mtry\u001B[0m\u001B[0;34m:\u001B[0m\u001B[0;34m\u001B[0m\u001B[0;34m\u001B[0m\u001B[0m\n\u001B[1;32m    438\u001B[0m             \u001B[0;32mif\u001B[0m \u001B[0;32mnot\u001B[0m \u001B[0mchunked\u001B[0m\u001B[0;34m:\u001B[0m\u001B[0;34m\u001B[0m\u001B[0;34m\u001B[0m\u001B[0m\n\u001B[0;32m--> 439\u001B[0;31m                 resp = conn.urlopen(\n\u001B[0m\u001B[1;32m    440\u001B[0m                     \u001B[0mmethod\u001B[0m\u001B[0;34m=\u001B[0m\u001B[0mrequest\u001B[0m\u001B[0;34m.\u001B[0m\u001B[0mmethod\u001B[0m\u001B[0;34m,\u001B[0m\u001B[0;34m\u001B[0m\u001B[0;34m\u001B[0m\u001B[0m\n\u001B[1;32m    441\u001B[0m                     \u001B[0murl\u001B[0m\u001B[0;34m=\u001B[0m\u001B[0murl\u001B[0m\u001B[0;34m,\u001B[0m\u001B[0;34m\u001B[0m\u001B[0;34m\u001B[0m\u001B[0m\n",
      "\u001B[0;32m~/.conda/envs/py39web/lib/python3.9/site-packages/urllib3/connectionpool.py\u001B[0m in \u001B[0;36murlopen\u001B[0;34m(self, method, url, body, headers, retries, redirect, assert_same_host, timeout, pool_timeout, release_conn, chunked, body_pos, **response_kw)\u001B[0m\n\u001B[1;32m    697\u001B[0m \u001B[0;34m\u001B[0m\u001B[0m\n\u001B[1;32m    698\u001B[0m             \u001B[0;31m# Make the request on the httplib connection object.\u001B[0m\u001B[0;34m\u001B[0m\u001B[0;34m\u001B[0m\u001B[0;34m\u001B[0m\u001B[0m\n\u001B[0;32m--> 699\u001B[0;31m             httplib_response = self._make_request(\n\u001B[0m\u001B[1;32m    700\u001B[0m                 \u001B[0mconn\u001B[0m\u001B[0;34m,\u001B[0m\u001B[0;34m\u001B[0m\u001B[0;34m\u001B[0m\u001B[0m\n\u001B[1;32m    701\u001B[0m                 \u001B[0mmethod\u001B[0m\u001B[0;34m,\u001B[0m\u001B[0;34m\u001B[0m\u001B[0;34m\u001B[0m\u001B[0m\n",
      "\u001B[0;32m~/.conda/envs/py39web/lib/python3.9/site-packages/urllib3/connectionpool.py\u001B[0m in \u001B[0;36m_make_request\u001B[0;34m(self, conn, method, url, timeout, chunked, **httplib_request_kw)\u001B[0m\n\u001B[1;32m    380\u001B[0m         \u001B[0;31m# Trigger any extra validation we need to do.\u001B[0m\u001B[0;34m\u001B[0m\u001B[0;34m\u001B[0m\u001B[0;34m\u001B[0m\u001B[0m\n\u001B[1;32m    381\u001B[0m         \u001B[0;32mtry\u001B[0m\u001B[0;34m:\u001B[0m\u001B[0;34m\u001B[0m\u001B[0;34m\u001B[0m\u001B[0m\n\u001B[0;32m--> 382\u001B[0;31m             \u001B[0mself\u001B[0m\u001B[0;34m.\u001B[0m\u001B[0m_validate_conn\u001B[0m\u001B[0;34m(\u001B[0m\u001B[0mconn\u001B[0m\u001B[0;34m)\u001B[0m\u001B[0;34m\u001B[0m\u001B[0;34m\u001B[0m\u001B[0m\n\u001B[0m\u001B[1;32m    383\u001B[0m         \u001B[0;32mexcept\u001B[0m \u001B[0;34m(\u001B[0m\u001B[0mSocketTimeout\u001B[0m\u001B[0;34m,\u001B[0m \u001B[0mBaseSSLError\u001B[0m\u001B[0;34m)\u001B[0m \u001B[0;32mas\u001B[0m \u001B[0me\u001B[0m\u001B[0;34m:\u001B[0m\u001B[0;34m\u001B[0m\u001B[0;34m\u001B[0m\u001B[0m\n\u001B[1;32m    384\u001B[0m             \u001B[0;31m# Py2 raises this as a BaseSSLError, Py3 raises it as socket timeout.\u001B[0m\u001B[0;34m\u001B[0m\u001B[0;34m\u001B[0m\u001B[0;34m\u001B[0m\u001B[0m\n",
      "\u001B[0;32m~/.conda/envs/py39web/lib/python3.9/site-packages/urllib3/connectionpool.py\u001B[0m in \u001B[0;36m_validate_conn\u001B[0;34m(self, conn)\u001B[0m\n\u001B[1;32m   1008\u001B[0m         \u001B[0;31m# Force connect early to allow us to validate the connection.\u001B[0m\u001B[0;34m\u001B[0m\u001B[0;34m\u001B[0m\u001B[0;34m\u001B[0m\u001B[0m\n\u001B[1;32m   1009\u001B[0m         \u001B[0;32mif\u001B[0m \u001B[0;32mnot\u001B[0m \u001B[0mgetattr\u001B[0m\u001B[0;34m(\u001B[0m\u001B[0mconn\u001B[0m\u001B[0;34m,\u001B[0m \u001B[0;34m\"sock\"\u001B[0m\u001B[0;34m,\u001B[0m \u001B[0;32mNone\u001B[0m\u001B[0;34m)\u001B[0m\u001B[0;34m:\u001B[0m  \u001B[0;31m# AppEngine might not have  `.sock`\u001B[0m\u001B[0;34m\u001B[0m\u001B[0;34m\u001B[0m\u001B[0m\n\u001B[0;32m-> 1010\u001B[0;31m             \u001B[0mconn\u001B[0m\u001B[0;34m.\u001B[0m\u001B[0mconnect\u001B[0m\u001B[0;34m(\u001B[0m\u001B[0;34m)\u001B[0m\u001B[0;34m\u001B[0m\u001B[0;34m\u001B[0m\u001B[0m\n\u001B[0m\u001B[1;32m   1011\u001B[0m \u001B[0;34m\u001B[0m\u001B[0m\n\u001B[1;32m   1012\u001B[0m         \u001B[0;32mif\u001B[0m \u001B[0;32mnot\u001B[0m \u001B[0mconn\u001B[0m\u001B[0;34m.\u001B[0m\u001B[0mis_verified\u001B[0m\u001B[0;34m:\u001B[0m\u001B[0;34m\u001B[0m\u001B[0;34m\u001B[0m\u001B[0m\n",
      "\u001B[0;32m~/.conda/envs/py39web/lib/python3.9/site-packages/urllib3/connection.py\u001B[0m in \u001B[0;36mconnect\u001B[0;34m(self)\u001B[0m\n\u001B[1;32m    409\u001B[0m             \u001B[0mcontext\u001B[0m\u001B[0;34m.\u001B[0m\u001B[0mload_default_certs\u001B[0m\u001B[0;34m(\u001B[0m\u001B[0;34m)\u001B[0m\u001B[0;34m\u001B[0m\u001B[0;34m\u001B[0m\u001B[0m\n\u001B[1;32m    410\u001B[0m \u001B[0;34m\u001B[0m\u001B[0m\n\u001B[0;32m--> 411\u001B[0;31m         self.sock = ssl_wrap_socket(\n\u001B[0m\u001B[1;32m    412\u001B[0m             \u001B[0msock\u001B[0m\u001B[0;34m=\u001B[0m\u001B[0mconn\u001B[0m\u001B[0;34m,\u001B[0m\u001B[0;34m\u001B[0m\u001B[0;34m\u001B[0m\u001B[0m\n\u001B[1;32m    413\u001B[0m             \u001B[0mkeyfile\u001B[0m\u001B[0;34m=\u001B[0m\u001B[0mself\u001B[0m\u001B[0;34m.\u001B[0m\u001B[0mkey_file\u001B[0m\u001B[0;34m,\u001B[0m\u001B[0;34m\u001B[0m\u001B[0;34m\u001B[0m\u001B[0m\n",
      "\u001B[0;32m~/.conda/envs/py39web/lib/python3.9/site-packages/urllib3/util/ssl_.py\u001B[0m in \u001B[0;36mssl_wrap_socket\u001B[0;34m(sock, keyfile, certfile, cert_reqs, ca_certs, server_hostname, ssl_version, ciphers, ssl_context, ca_cert_dir, key_password, ca_cert_data, tls_in_tls)\u001B[0m\n\u001B[1;32m    447\u001B[0m \u001B[0;34m\u001B[0m\u001B[0m\n\u001B[1;32m    448\u001B[0m     \u001B[0;32mif\u001B[0m \u001B[0msend_sni\u001B[0m\u001B[0;34m:\u001B[0m\u001B[0;34m\u001B[0m\u001B[0;34m\u001B[0m\u001B[0m\n\u001B[0;32m--> 449\u001B[0;31m         ssl_sock = _ssl_wrap_socket_impl(\n\u001B[0m\u001B[1;32m    450\u001B[0m             \u001B[0msock\u001B[0m\u001B[0;34m,\u001B[0m \u001B[0mcontext\u001B[0m\u001B[0;34m,\u001B[0m \u001B[0mtls_in_tls\u001B[0m\u001B[0;34m,\u001B[0m \u001B[0mserver_hostname\u001B[0m\u001B[0;34m=\u001B[0m\u001B[0mserver_hostname\u001B[0m\u001B[0;34m\u001B[0m\u001B[0;34m\u001B[0m\u001B[0m\n\u001B[1;32m    451\u001B[0m         )\n",
      "\u001B[0;32m~/.conda/envs/py39web/lib/python3.9/site-packages/urllib3/util/ssl_.py\u001B[0m in \u001B[0;36m_ssl_wrap_socket_impl\u001B[0;34m(sock, ssl_context, tls_in_tls, server_hostname)\u001B[0m\n\u001B[1;32m    491\u001B[0m \u001B[0;34m\u001B[0m\u001B[0m\n\u001B[1;32m    492\u001B[0m     \u001B[0;32mif\u001B[0m \u001B[0mserver_hostname\u001B[0m\u001B[0;34m:\u001B[0m\u001B[0;34m\u001B[0m\u001B[0;34m\u001B[0m\u001B[0m\n\u001B[0;32m--> 493\u001B[0;31m         \u001B[0;32mreturn\u001B[0m \u001B[0mssl_context\u001B[0m\u001B[0;34m.\u001B[0m\u001B[0mwrap_socket\u001B[0m\u001B[0;34m(\u001B[0m\u001B[0msock\u001B[0m\u001B[0;34m,\u001B[0m \u001B[0mserver_hostname\u001B[0m\u001B[0;34m=\u001B[0m\u001B[0mserver_hostname\u001B[0m\u001B[0;34m)\u001B[0m\u001B[0;34m\u001B[0m\u001B[0;34m\u001B[0m\u001B[0m\n\u001B[0m\u001B[1;32m    494\u001B[0m     \u001B[0;32melse\u001B[0m\u001B[0;34m:\u001B[0m\u001B[0;34m\u001B[0m\u001B[0;34m\u001B[0m\u001B[0m\n\u001B[1;32m    495\u001B[0m         \u001B[0;32mreturn\u001B[0m \u001B[0mssl_context\u001B[0m\u001B[0;34m.\u001B[0m\u001B[0mwrap_socket\u001B[0m\u001B[0;34m(\u001B[0m\u001B[0msock\u001B[0m\u001B[0;34m)\u001B[0m\u001B[0;34m\u001B[0m\u001B[0;34m\u001B[0m\u001B[0m\n",
      "\u001B[0;32m~/.conda/envs/py39web/lib/python3.9/ssl.py\u001B[0m in \u001B[0;36mwrap_socket\u001B[0;34m(self, sock, server_side, do_handshake_on_connect, suppress_ragged_eofs, server_hostname, session)\u001B[0m\n\u001B[1;32m    498\u001B[0m         \u001B[0;31m# SSLSocket class handles server_hostname encoding before it calls\u001B[0m\u001B[0;34m\u001B[0m\u001B[0;34m\u001B[0m\u001B[0;34m\u001B[0m\u001B[0m\n\u001B[1;32m    499\u001B[0m         \u001B[0;31m# ctx._wrap_socket()\u001B[0m\u001B[0;34m\u001B[0m\u001B[0;34m\u001B[0m\u001B[0;34m\u001B[0m\u001B[0m\n\u001B[0;32m--> 500\u001B[0;31m         return self.sslsocket_class._create(\n\u001B[0m\u001B[1;32m    501\u001B[0m             \u001B[0msock\u001B[0m\u001B[0;34m=\u001B[0m\u001B[0msock\u001B[0m\u001B[0;34m,\u001B[0m\u001B[0;34m\u001B[0m\u001B[0;34m\u001B[0m\u001B[0m\n\u001B[1;32m    502\u001B[0m             \u001B[0mserver_side\u001B[0m\u001B[0;34m=\u001B[0m\u001B[0mserver_side\u001B[0m\u001B[0;34m,\u001B[0m\u001B[0;34m\u001B[0m\u001B[0;34m\u001B[0m\u001B[0m\n",
      "\u001B[0;32m~/.conda/envs/py39web/lib/python3.9/ssl.py\u001B[0m in \u001B[0;36m_create\u001B[0;34m(cls, sock, server_side, do_handshake_on_connect, suppress_ragged_eofs, server_hostname, context, session)\u001B[0m\n\u001B[1;32m   1038\u001B[0m                         \u001B[0;31m# non-blocking\u001B[0m\u001B[0;34m\u001B[0m\u001B[0;34m\u001B[0m\u001B[0;34m\u001B[0m\u001B[0m\n\u001B[1;32m   1039\u001B[0m                         \u001B[0;32mraise\u001B[0m \u001B[0mValueError\u001B[0m\u001B[0;34m(\u001B[0m\u001B[0;34m\"do_handshake_on_connect should not be specified for non-blocking sockets\"\u001B[0m\u001B[0;34m)\u001B[0m\u001B[0;34m\u001B[0m\u001B[0;34m\u001B[0m\u001B[0m\n\u001B[0;32m-> 1040\u001B[0;31m                     \u001B[0mself\u001B[0m\u001B[0;34m.\u001B[0m\u001B[0mdo_handshake\u001B[0m\u001B[0;34m(\u001B[0m\u001B[0;34m)\u001B[0m\u001B[0;34m\u001B[0m\u001B[0;34m\u001B[0m\u001B[0m\n\u001B[0m\u001B[1;32m   1041\u001B[0m             \u001B[0;32mexcept\u001B[0m \u001B[0;34m(\u001B[0m\u001B[0mOSError\u001B[0m\u001B[0;34m,\u001B[0m \u001B[0mValueError\u001B[0m\u001B[0;34m)\u001B[0m\u001B[0;34m:\u001B[0m\u001B[0;34m\u001B[0m\u001B[0;34m\u001B[0m\u001B[0m\n\u001B[1;32m   1042\u001B[0m                 \u001B[0mself\u001B[0m\u001B[0;34m.\u001B[0m\u001B[0mclose\u001B[0m\u001B[0;34m(\u001B[0m\u001B[0;34m)\u001B[0m\u001B[0;34m\u001B[0m\u001B[0;34m\u001B[0m\u001B[0m\n",
      "\u001B[0;32m~/.conda/envs/py39web/lib/python3.9/ssl.py\u001B[0m in \u001B[0;36mdo_handshake\u001B[0;34m(self, block)\u001B[0m\n\u001B[1;32m   1307\u001B[0m             \u001B[0;32mif\u001B[0m \u001B[0mtimeout\u001B[0m \u001B[0;34m==\u001B[0m \u001B[0;36m0.0\u001B[0m \u001B[0;32mand\u001B[0m \u001B[0mblock\u001B[0m\u001B[0;34m:\u001B[0m\u001B[0;34m\u001B[0m\u001B[0;34m\u001B[0m\u001B[0m\n\u001B[1;32m   1308\u001B[0m                 \u001B[0mself\u001B[0m\u001B[0;34m.\u001B[0m\u001B[0msettimeout\u001B[0m\u001B[0;34m(\u001B[0m\u001B[0;32mNone\u001B[0m\u001B[0;34m)\u001B[0m\u001B[0;34m\u001B[0m\u001B[0;34m\u001B[0m\u001B[0m\n\u001B[0;32m-> 1309\u001B[0;31m             \u001B[0mself\u001B[0m\u001B[0;34m.\u001B[0m\u001B[0m_sslobj\u001B[0m\u001B[0;34m.\u001B[0m\u001B[0mdo_handshake\u001B[0m\u001B[0;34m(\u001B[0m\u001B[0;34m)\u001B[0m\u001B[0;34m\u001B[0m\u001B[0;34m\u001B[0m\u001B[0m\n\u001B[0m\u001B[1;32m   1310\u001B[0m         \u001B[0;32mfinally\u001B[0m\u001B[0;34m:\u001B[0m\u001B[0;34m\u001B[0m\u001B[0;34m\u001B[0m\u001B[0m\n\u001B[1;32m   1311\u001B[0m             \u001B[0mself\u001B[0m\u001B[0;34m.\u001B[0m\u001B[0msettimeout\u001B[0m\u001B[0;34m(\u001B[0m\u001B[0mtimeout\u001B[0m\u001B[0;34m)\u001B[0m\u001B[0;34m\u001B[0m\u001B[0;34m\u001B[0m\u001B[0m\n",
      "\u001B[0;31mKeyboardInterrupt\u001B[0m: "
     ]
    }
   ],
   "source": [
    "def main(database, path):\n",
    "    next_token = True\n",
    "    # Fazendo a leitura, enquanto existir 'next_token' na resposta\n",
    "    while next_token:\n",
    "        # Realizar a conexão com os parâmetros já estabelecidos\n",
    "        json_response = connect_to_endpoint(search_url, query_params)\n",
    "        # Atualizar o valor do next_token, de acordo com a resposta\n",
    "        if 'next_token' in json_response['meta']:\n",
    "            next_token = json_response['meta']['next_token']\n",
    "            # Conferindo a atualização realizada\n",
    "            print(next_token)\n",
    "            # Atualizando para a conexão que precisamos capturar a página seguinte\n",
    "            query_params['next_token'] = next_token\n",
    "        else:\n",
    "            next_token = False\n",
    "        # Atualizando o DataFrame em si.\n",
    "        # 1. Sabemos que o retorno tem duas keys. A key data, que contém uma lista de dicionários, precisa ser lida.\n",
    "        # 2. Uma vez lida, é adicionada à base existente\n",
    "        database = database.append(base.from_dict(x for x in json_response['data']))\n",
    "        # A título de exemplo, vamos interromper a leitura após maia de 10 leituras\n",
    "        # if len(database) > 20:\n",
    "        #     break\n",
    "    # Salvamos a base\n",
    "    database.to_csv(path, sep=';', index=False)\n",
    "    return database\n",
    "\n",
    "base = pd.read_csv(filename, sep=';')\n",
    "tweet_base = main(base, filename)"
   ],
   "metadata": {
    "collapsed": false,
    "pycharm": {
     "name": "#%%\n"
    }
   }
  },
  {
   "cell_type": "markdown",
   "source": [
    "3. Agora atualizando o exercício para o dia seguinte.\n",
    "4. Temos que verificar a *id* do nosso tweet mais recente da base"
   ],
   "metadata": {
    "collapsed": false
   }
  },
  {
   "cell_type": "code",
   "execution_count": 34,
   "outputs": [
    {
     "name": "stdout",
     "output_type": "stream",
     "text": [
      "400\n"
     ]
    },
    {
     "ename": "Exception",
     "evalue": "(400, '{\"errors\":[{\"parameters\":{\"since_id\":[\"nan\"]},\"message\":\"The `since_id` query parameter value [nan] does not match ^[0-9]{1,19}$\"}],\"title\":\"Invalid Request\",\"detail\":\"One or more parameters to your request was invalid.\",\"type\":\"https://api.twitter.com/2/problems/invalid-request\"}')",
     "output_type": "error",
     "traceback": [
      "\u001B[0;31m---------------------------------------------------------------------------\u001B[0m",
      "\u001B[0;31mException\u001B[0m                                 Traceback (most recent call last)",
      "\u001B[0;32m/tmp/ipykernel_64011/196731187.py\u001B[0m in \u001B[0;36m<module>\u001B[0;34m\u001B[0m\n\u001B[1;32m     25\u001B[0m \u001B[0;34m\u001B[0m\u001B[0m\n\u001B[1;32m     26\u001B[0m \u001B[0mbase\u001B[0m \u001B[0;34m=\u001B[0m \u001B[0mpd\u001B[0m\u001B[0;34m.\u001B[0m\u001B[0mread_csv\u001B[0m\u001B[0;34m(\u001B[0m\u001B[0mfilename\u001B[0m\u001B[0;34m,\u001B[0m \u001B[0msep\u001B[0m\u001B[0;34m=\u001B[0m\u001B[0;34m';'\u001B[0m\u001B[0;34m)\u001B[0m\u001B[0;34m\u001B[0m\u001B[0;34m\u001B[0m\u001B[0m\n\u001B[0;32m---> 27\u001B[0;31m \u001B[0mtweet_base\u001B[0m \u001B[0;34m=\u001B[0m \u001B[0mmain\u001B[0m\u001B[0;34m(\u001B[0m\u001B[0mbase\u001B[0m\u001B[0;34m,\u001B[0m \u001B[0mfilename\u001B[0m\u001B[0;34m)\u001B[0m\u001B[0;34m\u001B[0m\u001B[0;34m\u001B[0m\u001B[0m\n\u001B[0m\u001B[1;32m     28\u001B[0m \u001B[0;34m\u001B[0m\u001B[0m\n",
      "\u001B[0;32m/tmp/ipykernel_64011/196731187.py\u001B[0m in \u001B[0;36mmain\u001B[0;34m(database, path)\u001B[0m\n\u001B[1;32m      6\u001B[0m         \u001B[0mquery_params\u001B[0m\u001B[0;34m[\u001B[0m\u001B[0;34m'since_id'\u001B[0m\u001B[0;34m]\u001B[0m \u001B[0;34m=\u001B[0m \u001B[0mdatabase\u001B[0m\u001B[0;34m.\u001B[0m\u001B[0mid\u001B[0m\u001B[0;34m.\u001B[0m\u001B[0mmax\u001B[0m\u001B[0;34m(\u001B[0m\u001B[0;34m)\u001B[0m\u001B[0;34m\u001B[0m\u001B[0;34m\u001B[0m\u001B[0m\n\u001B[1;32m      7\u001B[0m     \u001B[0;32mwhile\u001B[0m \u001B[0mnext_token\u001B[0m\u001B[0;34m:\u001B[0m\u001B[0;34m\u001B[0m\u001B[0;34m\u001B[0m\u001B[0m\n\u001B[0;32m----> 8\u001B[0;31m         \u001B[0mjson_response\u001B[0m \u001B[0;34m=\u001B[0m \u001B[0mconnect_to_endpoint\u001B[0m\u001B[0;34m(\u001B[0m\u001B[0msearch_url\u001B[0m\u001B[0;34m,\u001B[0m \u001B[0mquery_params\u001B[0m\u001B[0;34m)\u001B[0m\u001B[0;34m\u001B[0m\u001B[0;34m\u001B[0m\u001B[0m\n\u001B[0m\u001B[1;32m      9\u001B[0m         \u001B[0;31m# Verificando se é necessária mais de uma conexão, ou se já é a última ou única.\u001B[0m\u001B[0;34m\u001B[0m\u001B[0;34m\u001B[0m\u001B[0;34m\u001B[0m\u001B[0m\n\u001B[1;32m     10\u001B[0m         \u001B[0;32mif\u001B[0m \u001B[0;34m'next_token'\u001B[0m \u001B[0;32min\u001B[0m \u001B[0mjson_response\u001B[0m\u001B[0;34m[\u001B[0m\u001B[0;34m'meta'\u001B[0m\u001B[0;34m]\u001B[0m\u001B[0;34m:\u001B[0m\u001B[0;34m\u001B[0m\u001B[0;34m\u001B[0m\u001B[0m\n",
      "\u001B[0;32m/tmp/ipykernel_64011/3772044616.py\u001B[0m in \u001B[0;36mconnect_to_endpoint\u001B[0;34m(url, params)\u001B[0m\n\u001B[1;32m     29\u001B[0m     \u001B[0mprint\u001B[0m\u001B[0;34m(\u001B[0m\u001B[0mresponse\u001B[0m\u001B[0;34m.\u001B[0m\u001B[0mstatus_code\u001B[0m\u001B[0;34m)\u001B[0m\u001B[0;34m\u001B[0m\u001B[0;34m\u001B[0m\u001B[0m\n\u001B[1;32m     30\u001B[0m     \u001B[0;32mif\u001B[0m \u001B[0mresponse\u001B[0m\u001B[0;34m.\u001B[0m\u001B[0mstatus_code\u001B[0m \u001B[0;34m!=\u001B[0m \u001B[0;36m200\u001B[0m\u001B[0;34m:\u001B[0m\u001B[0;34m\u001B[0m\u001B[0;34m\u001B[0m\u001B[0m\n\u001B[0;32m---> 31\u001B[0;31m         \u001B[0;32mraise\u001B[0m \u001B[0mException\u001B[0m\u001B[0;34m(\u001B[0m\u001B[0mresponse\u001B[0m\u001B[0;34m.\u001B[0m\u001B[0mstatus_code\u001B[0m\u001B[0;34m,\u001B[0m \u001B[0mresponse\u001B[0m\u001B[0;34m.\u001B[0m\u001B[0mtext\u001B[0m\u001B[0;34m)\u001B[0m\u001B[0;34m\u001B[0m\u001B[0;34m\u001B[0m\u001B[0m\n\u001B[0m\u001B[1;32m     32\u001B[0m     \u001B[0;32mreturn\u001B[0m \u001B[0mresponse\u001B[0m\u001B[0;34m.\u001B[0m\u001B[0mjson\u001B[0m\u001B[0;34m(\u001B[0m\u001B[0;34m)\u001B[0m\u001B[0;34m\u001B[0m\u001B[0;34m\u001B[0m\u001B[0m\n\u001B[1;32m     33\u001B[0m \u001B[0;34m\u001B[0m\u001B[0m\n",
      "\u001B[0;31mException\u001B[0m: (400, '{\"errors\":[{\"parameters\":{\"since_id\":[\"nan\"]},\"message\":\"The `since_id` query parameter value [nan] does not match ^[0-9]{1,19}$\"}],\"title\":\"Invalid Request\",\"detail\":\"One or more parameters to your request was invalid.\",\"type\":\"https://api.twitter.com/2/problems/invalid-request\"}')"
     ]
    }
   ],
   "source": [
    "def main(database, path):\n",
    "    next_token = True\n",
    "    # Note que a condição abaixo é necessária para verificar se há algum item com id na base\n",
    "    if database.id.max():\n",
    "        # Caso afirmativo, adicione o mais recente nos parâmetros da query\n",
    "        query_params['since_id'] = database.id.max()\n",
    "    while next_token:\n",
    "        json_response = connect_to_endpoint(search_url, query_params)\n",
    "        # Verificando se é necessária mais de uma conexão, ou se já é a última ou única.\n",
    "        if 'next_token' in json_response['meta']:\n",
    "            next_token = json_response['meta']['next_token']\n",
    "            print(next_token)\n",
    "            query_params['next_token'] = next_token\n",
    "        else:\n",
    "            next_token = False\n",
    "        if 'data' in json_response:\n",
    "            # Novamente. json_response['data'] é uma lista.\n",
    "            # Vamos precisar dos dicionários que estão dentro da lista.\n",
    "            database = database.append(database.from_dict(x for x in json_response['data']))\n",
    "        # if len(database) > 20:\n",
    "        #     break\n",
    "    database.to_csv(path, sep=';', index=False)\n",
    "    return database\n",
    "\n",
    "\n",
    "base = pd.read_csv(filename, sep=';')\n",
    "tweet_base = main(base, filename)\n"
   ],
   "metadata": {
    "collapsed": false,
    "pycharm": {
     "name": "#%%\n"
    }
   }
  }
 ]
}