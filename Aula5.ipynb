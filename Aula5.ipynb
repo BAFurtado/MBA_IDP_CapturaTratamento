{
 "nbformat": 4,
 "nbformat_minor": 0,
 "metadata": {
  "colab": {
   "name": "Aula5.ipynb",
   "provenance": [],
   "collapsed_sections": []
  },
  "kernelspec": {
   "name": "python3",
   "language": "python",
   "display_name": "Python 3 (ipykernel)"
  },
  "language_info": {
   "name": "python"
  }
 },
 "cells": [
  {
   "cell_type": "markdown",
   "source": [
    "# Técnicas Avançadas de **Captura e Tratamento** de Dados\n",
    "\n",
    "---\n",
    "## Prof. Bernardo Alves Furtado\n",
    "---\n",
    "### MBA em Big Data, Business Analytics e Gestão de Negócios. @**IDP**\n",
    "---\n",
    "3 a 21 agosto  -- 21 horas/aula"
   ],
   "metadata": {
    "collapsed": false
   }
  },
  {
   "cell_type": "markdown",
   "source": [
    "## Fonte: Valor 16/8/2021. Manchete:\n",
    "# Pessimismo da comunidade financeira no Twitter aumenta\n",
    "\n",
    "![Finwit](https://github.com/BAFurtado/MBA_IDP_CapturaTratamento/blob/main/data/Screenshot%20from%202021-08-17%2013-11-05.png?raw=True)\n",
    "### Ilustração de utilização de prática\n",
    "### Matéria original: https://valor.globo.com/financas/noticia/2021/08/16/pessimismo-da-comunidade-financeira-no-twitter-aumenta.ghtml\n"
   ],
   "metadata": {
    "collapsed": false,
    "pycharm": {
     "name": "#%% md\n"
    }
   }
  },
  {
   "cell_type": "code",
   "execution_count": 1,
   "outputs": [
    {
     "data": {
      "text/plain": "{'total_gazettes': 82,\n 'gazettes': [{'territory_id': '2927408',\n   'date': '2020-12-31',\n   'url': 'https://querido-diario.nyc3.cdn.digitaloceanspaces.com/2927408/2020-12-31/b13e9cc325502b91376f8fb1a7577a22f7bff477.pdf',\n   'territory_name': 'Salvador',\n   'state_code': 'BA',\n   'highlight_texts': ['à Pandemia do Covid-19 - SEMOB Ações Realizadas Percentual Inter-Regionais  100,00  100.000 \\n\\n26.122.0002.263019 Enfrentamento à Pandemia do Covid-19'],\n   'is_extra_edition': False,\n   'file_raw_txt': 'https://querido-diario.nyc3.cdn.digitaloceanspaces.com/2927408/2020-12-31/b13e9cc325502b91376f8fb1a7577a22f7bff477.txt'},\n  {'territory_id': '1721000',\n   'date': '2020-12-31',\n   'url': 'https://querido-diario.nyc3.cdn.digitaloceanspaces.com/1721000/2020-12-31/0d0b3226bebf787a3030ccefc9ef7561eb653eac.pdf',\n   'territory_name': 'Palmas',\n   'state_code': 'TO',\n   'highlight_texts': ['lenta, tendo \\n\\nque o Ministério da Economia projeta a volta da fase pré-pandemia em 2022.'],\n   'is_extra_edition': False,\n   'file_raw_txt': 'https://querido-diario.nyc3.cdn.digitaloceanspaces.com/1721000/2020-12-31/0d0b3226bebf787a3030ccefc9ef7561eb653eac.txt'},\n  {'territory_id': '3304557',\n   'date': '2020-12-31',\n   'url': 'https://querido-diario.nyc3.cdn.digitaloceanspaces.com/3304557/2020-12-31/725c7257e6a95847e9771e46b666b3c55878d3bc',\n   'territory_name': 'Rio de Janeiro',\n   'state_code': 'RJ',\n   'highlight_texts': ['DATA, HORA E LOCAL: Em 17 de novembro de 2020, às 15h, realizada \\natravés de teleconferência (zoom.us/previrio), devido à pandemia da \\nCOVID-19.\\n\\n2.'],\n   'is_extra_edition': False,\n   'file_raw_txt': 'https://querido-diario.nyc3.cdn.digitaloceanspaces.com/3304557/2020-12-31/725c7257e6a95847e9771e46b666b3c55878d3bc.txt'},\n  {'territory_id': '1302603',\n   'date': '2020-12-31',\n   'url': 'https://querido-diario.nyc3.cdn.digitaloceanspaces.com/1302603/2020-12-31/019c4d6e61ed7d519610ae8bf0f1146d4a4e385b.pdf',\n   'territory_name': 'Manaus',\n   'state_code': 'AM',\n   'highlight_texts': ['180101 - Secretaria Municipal de Educação       \\n\\nEVENTO FR ND UG F SF P AÇÃO VALOR \\n1096 - Fortalecimento das Ações Emergenciais de Enfrentamento à Pandemia'],\n   'is_extra_edition': False},\n  {'territory_id': '2507507',\n   'date': '2020-12-31',\n   'url': 'https://querido-diario.nyc3.cdn.digitaloceanspaces.com/2507507/2020-12-31/08bbfaeb37b3136770e2fd696a78aec0dfb27009.pdf',\n   'territory_name': 'João Pessoa',\n   'state_code': 'PB',\n   'highlight_texts': ['ABRE CRÉDITO EXTRAORDINÁRIO NO\\n\\nORÇAMENTO MUNICIPAL, VISANDO AO\\n\\nCOMBATE À PANDEMIA DO\\n\\nCORONAVÍRUS (COVID - 19), NO\\n\\nMUNICÍPIO DE JOÃO PESSOA - PB.'],\n   'is_extra_edition': True,\n   'file_raw_txt': 'https://querido-diario.nyc3.cdn.digitaloceanspaces.com/2507507/2020-12-31/08bbfaeb37b3136770e2fd696a78aec0dfb27009.txt'},\n  {'territory_id': '2704302',\n   'date': '2020-12-30',\n   'url': 'https://querido-diario.nyc3.cdn.digitaloceanspaces.com/2704302/2020-12-30/6880e353c91313fbc11663d356385f218727a367.pdf',\n   'territory_name': 'Maceió',\n   'state_code': 'AL',\n   'highlight_texts': ['Dispõe sobre a prorrogação dos prazos de vigência \\ndas emendas parlamentares com execução para 2020, \\nem decorrência da Pandemia da COVID-19.'],\n   'is_extra_edition': True,\n   'file_raw_txt': 'https://querido-diario.nyc3.cdn.digitaloceanspaces.com/2704302/2020-12-30/6880e353c91313fbc11663d356385f218727a367.txt'},\n  {'territory_id': '1302603',\n   'date': '2020-12-30',\n   'url': 'https://querido-diario.nyc3.cdn.digitaloceanspaces.com/1302603/2020-12-30/c0cbb3e0785e76bec5eb7332524aeb846a554fb1.pdf',\n   'territory_name': 'Manaus',\n   'state_code': 'AM',\n   'highlight_texts': ['Outros Serviços de Terceiros - Pessoa Jurídica 01000000 50.000 \\n\\n \\n \\n\\n \\n01.305.0151.1096 - Fortalecimento das Ações Emergenciais de Enfrentamento da Pandemia'],\n   'is_extra_edition': True},\n  {'territory_id': '2704302',\n   'date': '2020-12-30',\n   'url': 'https://querido-diario.nyc3.cdn.digitaloceanspaces.com/2704302/2020-12-30/98145868e181afac62524af694ef54f944915ba8.pdf',\n   'territory_name': 'Maceió',\n   'state_code': 'AL',\n   'highlight_texts': ['Diante desse cenário adveio a pandemia que assolou todo o mundo \\ncom consequências diretas e trágicas para com o transporte público de \\nforma a interferir'],\n   'is_extra_edition': False,\n   'file_raw_txt': 'https://querido-diario.nyc3.cdn.digitaloceanspaces.com/2704302/2020-12-30/98145868e181afac62524af694ef54f944915ba8.txt'},\n  {'territory_id': '2211001',\n   'date': '2020-12-30',\n   'url': 'https://querido-diario.nyc3.cdn.digitaloceanspaces.com/2211001/2020-12-30/ec432a7f330442cd32556028fc668f3ac24258c3.pdf',\n   'territory_name': 'Teresina',\n   'state_code': 'PI',\n   'highlight_texts': [', para os usu-\\nários/as e famílias dos serviços socioassistenciais inscritos no Cadúnico ou \\nbeneficiários do Programa Bolsa Família que, em razão da pandemia'],\n   'edition': '2927',\n   'is_extra_edition': False,\n   'file_raw_txt': 'https://querido-diario.nyc3.cdn.digitaloceanspaces.com/2211001/2020-12-30/ec432a7f330442cd32556028fc668f3ac24258c3.txt'},\n  {'territory_id': '4205407',\n   'date': '2020-12-30',\n   'url': 'https://querido-diario.nyc3.cdn.digitaloceanspaces.com/4205407/2020-12-30/e83f5e1b581d6482ff83d834937fdae741e3a7d4.pdf',\n   'territory_name': 'Florianópolis',\n   'state_code': 'SC',\n   'highlight_texts': ['considerando o Decreto \\nEstadual n. 1.027, de 2020, que declara estado de \\ncalamidade pública em todo o território \\ncatarinense, para fins de enfrentamento da \\npandemia'],\n   'edition': '2851',\n   'is_extra_edition': False,\n   'file_raw_txt': 'https://querido-diario.nyc3.cdn.digitaloceanspaces.com/4205407/2020-12-30/e83f5e1b581d6482ff83d834937fdae741e3a7d4.txt'}]}"
     },
     "execution_count": 1,
     "metadata": {},
     "output_type": "execute_result"
    }
   ],
   "source": [
    "import requests\n",
    "url = 'https://queridodiario.ok.org.br/api/'\n",
    "endpoint = 'gazettes/'\n",
    "\n",
    "params = {'since': '2020-12-15',\n",
    "          'until': '2020-12-31',\n",
    "          'keywords': ['pandemia']}\n",
    "\n",
    "r = requests.get(f'{url}{endpoint}', params=params).json()\n",
    "r"
   ],
   "metadata": {
    "collapsed": false,
    "pycharm": {
     "name": "#%%\n"
    }
   }
  },
  {
   "cell_type": "code",
   "execution_count": 2,
   "outputs": [
    {
     "name": "stdout",
     "output_type": "stream",
     "text": [
      "dict_keys(['total_gazettes', 'gazettes'])\n"
     ]
    }
   ],
   "source": [
    "print(r.keys())"
   ],
   "metadata": {
    "collapsed": false,
    "pycharm": {
     "name": "#%%\n"
    }
   }
  },
  {
   "cell_type": "code",
   "execution_count": 3,
   "outputs": [
    {
     "name": "stdout",
     "output_type": "stream",
     "text": [
      "<class 'list'>\n"
     ]
    }
   ],
   "source": [
    "print(type(r['gazettes']))"
   ],
   "metadata": {
    "collapsed": false,
    "pycharm": {
     "name": "#%%\n"
    }
   }
  },
  {
   "cell_type": "code",
   "execution_count": 4,
   "outputs": [
    {
     "name": "stdout",
     "output_type": "stream",
     "text": [
      "<class 'dict'>\n"
     ]
    }
   ],
   "source": [
    "print(type(r['gazettes'][0]))"
   ],
   "metadata": {
    "collapsed": false,
    "pycharm": {
     "name": "#%%\n"
    }
   }
  },
  {
   "cell_type": "code",
   "execution_count": 5,
   "outputs": [
    {
     "name": "stdout",
     "output_type": "stream",
     "text": [
      "dict_keys(['territory_id', 'date', 'url', 'territory_name', 'state_code', 'highlight_texts', 'is_extra_edition', 'file_raw_txt'])\n"
     ]
    }
   ],
   "source": [
    "print(r['gazettes'][0].keys())"
   ],
   "metadata": {
    "collapsed": false,
    "pycharm": {
     "name": "#%%\n"
    }
   }
  },
  {
   "cell_type": "code",
   "execution_count": 6,
   "outputs": [
    {
     "data": {
      "text/plain": "'https://querido-diario.nyc3.cdn.digitaloceanspaces.com/4205407/2020-12-30/e83f5e1b581d6482ff83d834937fdae741e3a7d4.txt'"
     },
     "execution_count": 6,
     "metadata": {},
     "output_type": "execute_result"
    }
   ],
   "source": [
    "for gazette in r['gazettes']:\n",
    "    try:\n",
    "        texto = gazette['file_raw_txt']\n",
    "    except KeyError:\n",
    "        pass\n",
    "\n",
    "texto\n"
   ],
   "metadata": {
    "collapsed": false,
    "pycharm": {
     "name": "#%%\n"
    }
   }
  },
  {
   "cell_type": "code",
   "execution_count": 7,
   "outputs": [
    {
     "data": {
      "text/plain": "['https://querido-diario.nyc3.cdn.digitaloceanspaces.com/2927408/2020-12-31/b13e9cc325502b91376f8fb1a7577a22f7bff477.txt',\n 'https://querido-diario.nyc3.cdn.digitaloceanspaces.com/1721000/2020-12-31/0d0b3226bebf787a3030ccefc9ef7561eb653eac.txt',\n 'https://querido-diario.nyc3.cdn.digitaloceanspaces.com/3304557/2020-12-31/725c7257e6a95847e9771e46b666b3c55878d3bc.txt',\n 'https://querido-diario.nyc3.cdn.digitaloceanspaces.com/2507507/2020-12-31/08bbfaeb37b3136770e2fd696a78aec0dfb27009.txt',\n 'https://querido-diario.nyc3.cdn.digitaloceanspaces.com/2704302/2020-12-30/6880e353c91313fbc11663d356385f218727a367.txt',\n 'https://querido-diario.nyc3.cdn.digitaloceanspaces.com/2704302/2020-12-30/98145868e181afac62524af694ef54f944915ba8.txt',\n 'https://querido-diario.nyc3.cdn.digitaloceanspaces.com/2211001/2020-12-30/ec432a7f330442cd32556028fc668f3ac24258c3.txt',\n 'https://querido-diario.nyc3.cdn.digitaloceanspaces.com/4205407/2020-12-30/e83f5e1b581d6482ff83d834937fdae741e3a7d4.txt']"
     },
     "execution_count": 7,
     "metadata": {},
     "output_type": "execute_result"
    }
   ],
   "source": [
    "textos = list()\n",
    "for gazette in r['gazettes']:\n",
    "    try:\n",
    "        textos.append(gazette['file_raw_txt'])\n",
    "    except KeyError:\n",
    "        pass\n",
    "textos"
   ],
   "metadata": {
    "collapsed": false,
    "pycharm": {
     "name": "#%%\n"
    }
   }
  },
  {
   "cell_type": "markdown",
   "source": [
    "---\n",
    "# Reforçando Captura $+$ Base de Dados\n",
    "# Exercício II API $+$ SQL\n",
    "\n"
   ],
   "metadata": {
    "collapsed": false
   }
  },
  {
   "cell_type": "markdown",
   "source": [
    "---\n",
    "1. Seguindo exatamente os passos que utilizamos para ilustrar SQL, vamos simplificar o processo e\n",
    "criar uma base que atenda os requisitos desta captura de dados de tweets.\n",
    "\n",
    "2. Conseguem me contar quais passos (em geral) foram esses?"
   ],
   "metadata": {
    "collapsed": false
   }
  },
  {
   "cell_type": "code",
   "execution_count": 8,
   "outputs": [
    {
     "name": "stdout",
     "output_type": "stream",
     "text": [
      "\n"
     ]
    }
   ],
   "source": [
    "print('')"
   ],
   "metadata": {
    "collapsed": false,
    "pycharm": {
     "name": "#%%\n"
    }
   }
  },
  {
   "cell_type": "markdown",
   "source": [
    "1. Vamos começar **CRIANDO** a função de conexão com uma base nova. E o nome da nova base."
   ],
   "metadata": {
    "collapsed": false
   }
  },
  {
   "cell_type": "code",
   "execution_count": 9,
   "outputs": [],
   "source": [
    "import sqlite3"
   ],
   "metadata": {
    "collapsed": false,
    "pycharm": {
     "name": "#%%\n"
    }
   }
  },
  {
   "cell_type": "markdown",
   "source": [
    "2. Configuração de dados básicos."
   ],
   "metadata": {
    "collapsed": false
   }
  },
  {
   "cell_type": "code",
   "execution_count": 10,
   "outputs": [],
   "source": [
    "import os\n",
    "\n",
    "# Endereço no qual irá guardar a database\n",
    "tweet_db = 'data/my_first_tweet_database.db'\n",
    "if not os.path.exists('data'):\n",
    "    os.mkdir('data')\n"
   ],
   "metadata": {
    "collapsed": false,
    "pycharm": {
     "name": "#%%\n"
    }
   }
  },
  {
   "cell_type": "code",
   "execution_count": 11,
   "outputs": [],
   "source": [
    "# Relembrando dados básicos\n",
    "from getpass import getpass\n",
    "bearer_token = getpass()"
   ],
   "metadata": {
    "collapsed": false,
    "pycharm": {
     "name": "#%%\n"
    }
   }
  },
  {
   "cell_type": "code",
   "execution_count": 12,
   "outputs": [],
   "source": [
    "search_url = \"https://api.twitter.com/2/tweets/search/recent\"\n",
    "\n",
    "twitter_handle = 'folha'\n",
    "query_params = {'query': f'(from:{twitter_handle})',\n",
    "                'tweet.fields': 'author_id'}"
   ],
   "metadata": {
    "collapsed": false,
    "pycharm": {
     "name": "#%%\n"
    }
   }
  },
  {
   "cell_type": "code",
   "execution_count": 13,
   "outputs": [],
   "source": [
    "def bearer_oauth(bear):\n",
    "    \"\"\"\n",
    "    Method required by bearer token authentication.\n",
    "    \"\"\"\n",
    "\n",
    "    bear.headers[\"Authorization\"] = f\"Bearer {bearer_token}\"\n",
    "    bear.headers[\"User-Agent\"] = \"v2RecentSearchPython\"\n",
    "    return bear\n",
    "\n",
    "\n",
    "def connect_to_endpoint(url, params):\n",
    "    response = requests.get(url, auth=bearer_oauth, params=params)\n",
    "    print(response.status_code)\n",
    "    if response.status_code != 200:\n",
    "        raise Exception(response.status_code, response.text)\n",
    "    return response.json()\n"
   ],
   "metadata": {
    "collapsed": false,
    "pycharm": {
     "name": "#%%\n"
    }
   }
  },
  {
   "cell_type": "markdown",
   "source": [
    "3. Função genérica de conexão"
   ],
   "metadata": {
    "collapsed": false
   }
  },
  {
   "cell_type": "code",
   "execution_count": 14,
   "outputs": [],
   "source": [
    "def connect_db(database):\n",
    "    conn = sqlite3.connect(database)\n",
    "    print(f'Conexão realizada com sucesso.')\n",
    "    return conn"
   ],
   "metadata": {
    "collapsed": false,
    "pycharm": {
     "name": "#%%\n"
    }
   }
  },
  {
   "cell_type": "markdown",
   "source": [
    "4. Na sequência, vamos adaptar os comandos **SQL** para a CRIAÇÃO DE TABELAS na base nova.\n",
    "\n",
    " * Como exemplo, vamos fazer só uma tabela. Sugiro realizarem de forma mais completa posteriormente."
   ],
   "metadata": {
    "collapsed": false
   }
  },
  {
   "cell_type": "code",
   "execution_count": 15,
   "outputs": [],
   "source": [
    "sql_create_table = \"\"\"CREATE TABLE IF NOT EXISTS tweets (\n",
    "                                id integer PRIMARY KEY,\n",
    "                                texto text NOT NULL,\n",
    "                                author_id NOT NULL\n",
    "                            );\"\"\""
   ],
   "metadata": {
    "collapsed": false,
    "pycharm": {
     "name": "#%%\n"
    }
   }
  },
  {
   "cell_type": "markdown",
   "source": [
    "5. Com a função de conexão, o nome da base e a instrução para criação da tabela, vamos DE FACTO, criar a tabela.\n",
    " * Simplesmente passa o nome da base, executa o comando de criar tabela e *commit* (salva localmente)."
   ],
   "metadata": {
    "collapsed": false
   }
  },
  {
   "cell_type": "code",
   "execution_count": 16,
   "outputs": [
    {
     "name": "stdout",
     "output_type": "stream",
     "text": [
      "Conexão realizada com sucesso.\n"
     ]
    }
   ],
   "source": [
    "# Rode somente uma vez para criar a table.\n",
    "with connect_db(tweet_db) as con:\n",
    "    con.execute(sql_create_table)\n",
    "    con.commit()"
   ],
   "metadata": {
    "collapsed": false,
    "pycharm": {
     "name": "#%%\n"
    }
   }
  },
  {
   "cell_type": "markdown",
   "source": [
    "6. Agora a parte distinta do exemplo anterior. Temos que inserir o processo de ATUALIZAÇÃO da base SQL ao processo de consulta da API!\n",
    "7. Vamos utilizar a mesma função `main` anterior, porém, **alterando**:\n",
    " 1. No momento de atualização da base.\n",
    " 2. E na consulta ao valor máximo presente na base."
   ],
   "metadata": {
    "collapsed": false
   }
  },
  {
   "cell_type": "code",
   "execution_count": 17,
   "outputs": [],
   "source": [
    "def insere_tweet(conn, tweet):\n",
    "    sql = ''' INSERT INTO tweets(author_id,id,texto)\n",
    "              VALUES(?,?,?) '''\n",
    "    cur = conn.cursor()\n",
    "    # Note que 'tweet' precisa ser recebido como uma lista com sequência de id, author_id e texto\n",
    "    cur.executemany(sql, tweet)\n",
    "    conn.commit()\n",
    "    return cur.lastrowid"
   ],
   "metadata": {
    "collapsed": false,
    "pycharm": {
     "name": "#%%\n"
    }
   }
  },
  {
   "cell_type": "code",
   "execution_count": 18,
   "outputs": [],
   "source": [
    "def check_since_id(conn):\n",
    "    # Note que a condição abaixo é necessária para verificar se há algum item com id na base\n",
    "    sql = '''SELECT MAX(id) FROM tweets;'''\n",
    "    cur = conn.cursor()\n",
    "    cur.execute(sql)\n",
    "    return cur.fetchone()[0]"
   ],
   "metadata": {
    "collapsed": false,
    "pycharm": {
     "name": "#%%\n"
    }
   }
  },
  {
   "cell_type": "code",
   "execution_count": 19,
   "outputs": [],
   "source": [
    "def main(database):\n",
    "    # Abre a conexão com SQL\n",
    "    with connect_db(database) as conn:\n",
    "        next_token = True\n",
    "        while next_token:\n",
    "            # Verificando se o tweet mais recente já está na base\n",
    "            max_value = check_since_id(con)\n",
    "            if max_value:\n",
    "                query_params['since_id'] = max_value\n",
    "            json_response = connect_to_endpoint(search_url, query_params)\n",
    "            # Verificando se é necessária mais de uma conexão, ou se já é a última ou única.\n",
    "            if 'next_token' in json_response['meta']:\n",
    "                next_token = json_response['meta']['next_token']\n",
    "                print(next_token)\n",
    "                query_params['next_token'] = next_token\n",
    "            else:\n",
    "                next_token = False\n",
    "            if 'data' in json_response:\n",
    "                # Novamente. json_response['data'] é uma lista.\n",
    "                # Vamos precisar dos dicionários que estão dentro da lista.\n",
    "                tweets = [list(x.values()) for x in json_response['data']]\n",
    "                insere_tweet(conn, tweets)"
   ],
   "metadata": {
    "collapsed": false,
    "pycharm": {
     "name": "#%%\n"
    }
   }
  },
  {
   "cell_type": "markdown",
   "source": [
    "Chama a função com a database"
   ],
   "metadata": {
    "collapsed": false
   }
  },
  {
   "cell_type": "code",
   "execution_count": 20,
   "outputs": [
    {
     "name": "stdout",
     "output_type": "stream",
     "text": [
      "Conexão realizada com sucesso.\n",
      "200\n",
      "b26v89c19zqg8o3fpdm9f1vx8vyprflmajtyhulpr1yf1\n",
      "200\n"
     ]
    }
   ],
   "source": [
    "main(tweet_db)"
   ],
   "metadata": {
    "collapsed": false,
    "pycharm": {
     "name": "#%%\n"
    }
   }
  },
  {
   "cell_type": "code",
   "execution_count": 53,
   "outputs": [],
   "source": [
    "# Examinando a base\n",
    "def collect_basics(conn):\n",
    "    # Note que a condição abaixo é necessária para verificar se há algum item com id na base\n",
    "    sql = '''SELECT * FROM tweets LIMIT 5;'''\n",
    "    cur = conn.cursor()\n",
    "    cur.execute(sql)\n",
    "    return cur.fetchall()"
   ],
   "metadata": {
    "collapsed": false,
    "pycharm": {
     "name": "#%%\n"
    }
   }
  },
  {
   "cell_type": "code",
   "execution_count": 55,
   "outputs": [
    {
     "name": "stdout",
     "output_type": "stream",
     "text": [
      "Conexão realizada com sucesso.\n",
      "(1427648644916944903, \"PK diz que tem Seu Jorge como inspiração: 'Não me considero só do rap' https://t.co/03bdtYJYV2\", '14594813')\n",
      "(1427648963625242627, 'Em meio à pandemia de Covid, vendas de bicicleta sobem 34% no semestre https://t.co/QvDQbdVg2D', '14594813')\n",
      "(1427649852847046663, \"Afegãos têm motivos para ter medo do Taleban, diz autor de 'O Caçador de Pipas' https://t.co/aOmGvHKwIk\", '14594813')\n",
      "(1427650951817711616, 'Crise hídrica pode encarecer conta de luz, alerta Aneel https://t.co/wwqtVqeWj3', '14594813')\n",
      "(1427651429980852233, 'Milton Ribeiro cita calote do Fies para justificar fala de que universidade é para poucos https://t.co/c0VnDbSr1u', '14594813')\n"
     ]
    }
   ],
   "source": [
    "with connect_db(tweet_db) as conn:\n",
    "    res = collect_basics(conn)\n",
    "\n",
    "for each in res:\n",
    "    print(each)"
   ],
   "metadata": {
    "collapsed": false,
    "pycharm": {
     "name": "#%%\n"
    }
   }
  },
  {
   "cell_type": "markdown",
   "source": [
    "# Aperitivo: análise textual\n",
    "## Vamos começar com os dados textuais de notícias que obtivemos com a API do Twitter"
   ],
   "metadata": {
    "collapsed": false
   }
  },
  {
   "cell_type": "markdown",
   "source": [
    "1. Obtendo a base no pandas\n",
    "2. Note que usamos `sep=';'` na hora de salvar. Temos que especificá-lo na hora de ler o arquivo."
   ],
   "metadata": {
    "collapsed": false
   }
  },
  {
   "cell_type": "code",
   "execution_count": 21,
   "outputs": [],
   "source": [
    "import pandas as pd"
   ],
   "metadata": {
    "collapsed": false,
    "pycharm": {
     "name": "#%%\n"
    }
   }
  },
  {
   "cell_type": "code",
   "execution_count": 22,
   "outputs": [],
   "source": [
    "address = 'https://github.com/BAFurtado/MBA_IDP_CapturaTratamento/blob/main/data/base_tweets_read.csv'\n",
    "base_texto = pd.read_csv(f'{address}?raw=True', sep=';')"
   ],
   "metadata": {
    "collapsed": false,
    "pycharm": {
     "name": "#%%\n"
    }
   }
  },
  {
   "cell_type": "markdown",
   "source": [
    "3. Como sempre, vamos investigar os aspectos gerais da base."
   ],
   "metadata": {
    "collapsed": false
   }
  },
  {
   "cell_type": "code",
   "execution_count": 23,
   "outputs": [
    {
     "name": "stdout",
     "output_type": "stream",
     "text": [
      "<class 'pandas.core.frame.DataFrame'>\n",
      "RangeIndex: 1692 entries, 0 to 1691\n",
      "Data columns (total 3 columns):\n",
      " #   Column     Non-Null Count  Dtype \n",
      "---  ------     --------------  ----- \n",
      " 0   author_id  1692 non-null   int64 \n",
      " 1   id         1692 non-null   int64 \n",
      " 2   text       1692 non-null   object\n",
      "dtypes: int64(2), object(1)\n",
      "memory usage: 39.8+ KB\n"
     ]
    }
   ],
   "source": [
    "base_texto.info()"
   ],
   "metadata": {
    "collapsed": false,
    "pycharm": {
     "name": "#%%\n"
    }
   }
  },
  {
   "cell_type": "code",
   "execution_count": 24,
   "outputs": [
    {
     "data": {
      "text/plain": "        author_id            id\ncount      1692.0  1.692000e+03\nmean   14594813.0  1.419468e+18\nstd           0.0  7.683511e+14\nmin    14594813.0  1.418223e+18\n25%    14594813.0  1.418748e+18\n50%    14594813.0  1.419486e+18\n75%    14594813.0  1.420155e+18\nmax    14594813.0  1.420752e+18",
      "text/html": "<div>\n<style scoped>\n    .dataframe tbody tr th:only-of-type {\n        vertical-align: middle;\n    }\n\n    .dataframe tbody tr th {\n        vertical-align: top;\n    }\n\n    .dataframe thead th {\n        text-align: right;\n    }\n</style>\n<table border=\"1\" class=\"dataframe\">\n  <thead>\n    <tr style=\"text-align: right;\">\n      <th></th>\n      <th>author_id</th>\n      <th>id</th>\n    </tr>\n  </thead>\n  <tbody>\n    <tr>\n      <th>count</th>\n      <td>1692.0</td>\n      <td>1.692000e+03</td>\n    </tr>\n    <tr>\n      <th>mean</th>\n      <td>14594813.0</td>\n      <td>1.419468e+18</td>\n    </tr>\n    <tr>\n      <th>std</th>\n      <td>0.0</td>\n      <td>7.683511e+14</td>\n    </tr>\n    <tr>\n      <th>min</th>\n      <td>14594813.0</td>\n      <td>1.418223e+18</td>\n    </tr>\n    <tr>\n      <th>25%</th>\n      <td>14594813.0</td>\n      <td>1.418748e+18</td>\n    </tr>\n    <tr>\n      <th>50%</th>\n      <td>14594813.0</td>\n      <td>1.419486e+18</td>\n    </tr>\n    <tr>\n      <th>75%</th>\n      <td>14594813.0</td>\n      <td>1.420155e+18</td>\n    </tr>\n    <tr>\n      <th>max</th>\n      <td>14594813.0</td>\n      <td>1.420752e+18</td>\n    </tr>\n  </tbody>\n</table>\n</div>"
     },
     "execution_count": 24,
     "metadata": {},
     "output_type": "execute_result"
    }
   ],
   "source": [
    "base_texto.describe()"
   ],
   "metadata": {
    "collapsed": false,
    "pycharm": {
     "name": "#%%\n"
    }
   }
  },
  {
   "cell_type": "markdown",
   "source": [
    "4. Conferindo se não há linhas duplicadas. como `duplicated` retorna False ou True para as linhas.\n",
    "5. E sabemos que True em python = 1 e False = 0. Se a soma é zero, então..."
   ],
   "metadata": {
    "collapsed": false
   }
  },
  {
   "cell_type": "code",
   "execution_count": 25,
   "outputs": [
    {
     "data": {
      "text/plain": "0"
     },
     "execution_count": 25,
     "metadata": {},
     "output_type": "execute_result"
    }
   ],
   "source": [
    "sum(base_texto.duplicated())"
   ],
   "metadata": {
    "collapsed": false,
    "pycharm": {
     "name": "#%%\n"
    }
   }
  },
  {
   "cell_type": "markdown",
   "source": [
    "6. Vamos agora filtrar os tweets para conter apenas as palavras inicialmente.\n",
    "7. Lembrem.se que o comando `.str` acessa dados das colunas do pandas e disponibiliza as funções de **str**\n",
    "8. Vamos detalhar mais a questão do <span style=\"color:red\">filtro</span> mais tarde."
   ],
   "metadata": {
    "collapsed": false
   }
  },
  {
   "cell_type": "code",
   "execution_count": 26,
   "outputs": [],
   "source": [
    "base_texto['words'] = base_texto.text.str.strip().str.split('[\\W_]+')"
   ],
   "metadata": {
    "collapsed": false,
    "pycharm": {
     "name": "#%%\n"
    }
   }
  },
  {
   "cell_type": "markdown",
   "source": [
    "9. Vejam como ficou:"
   ],
   "metadata": {
    "collapsed": false
   }
  },
  {
   "cell_type": "code",
   "execution_count": 27,
   "outputs": [
    {
     "data": {
      "text/plain": "   author_id                   id  \\\n0   14594813  1420751875444416535   \n1   14594813  1420751478524764167   \n2   14594813  1420750976470818827   \n3   14594813  1420749210438144006   \n4   14594813  1420748456553947150   \n\n                                                text  \\\n0  Todas as pessoas que já passaram pela ginástic...   \n1  Rede D'Or compra hospital em Feira de Santana,...   \n2  Bolsonaro chama imprensa para live, sem direit...   \n3  Nubank aumentará o limite do cartão de quase 9...   \n4  Saiba o que é fibrilação atrial, problema card...   \n\n                                               words  \n0  [Todas, as, pessoas, que, já, passaram, pela, ...  \n1  [Rede, D, Or, compra, hospital, em, Feira, de,...  \n2  [Bolsonaro, chama, imprensa, para, live, sem, ...  \n3  [Nubank, aumentará, o, limite, do, cartão, de,...  \n4  [Saiba, o, que, é, fibrilação, atrial, problem...  ",
      "text/html": "<div>\n<style scoped>\n    .dataframe tbody tr th:only-of-type {\n        vertical-align: middle;\n    }\n\n    .dataframe tbody tr th {\n        vertical-align: top;\n    }\n\n    .dataframe thead th {\n        text-align: right;\n    }\n</style>\n<table border=\"1\" class=\"dataframe\">\n  <thead>\n    <tr style=\"text-align: right;\">\n      <th></th>\n      <th>author_id</th>\n      <th>id</th>\n      <th>text</th>\n      <th>words</th>\n    </tr>\n  </thead>\n  <tbody>\n    <tr>\n      <th>0</th>\n      <td>14594813</td>\n      <td>1420751875444416535</td>\n      <td>Todas as pessoas que já passaram pela ginástic...</td>\n      <td>[Todas, as, pessoas, que, já, passaram, pela, ...</td>\n    </tr>\n    <tr>\n      <th>1</th>\n      <td>14594813</td>\n      <td>1420751478524764167</td>\n      <td>Rede D'Or compra hospital em Feira de Santana,...</td>\n      <td>[Rede, D, Or, compra, hospital, em, Feira, de,...</td>\n    </tr>\n    <tr>\n      <th>2</th>\n      <td>14594813</td>\n      <td>1420750976470818827</td>\n      <td>Bolsonaro chama imprensa para live, sem direit...</td>\n      <td>[Bolsonaro, chama, imprensa, para, live, sem, ...</td>\n    </tr>\n    <tr>\n      <th>3</th>\n      <td>14594813</td>\n      <td>1420749210438144006</td>\n      <td>Nubank aumentará o limite do cartão de quase 9...</td>\n      <td>[Nubank, aumentará, o, limite, do, cartão, de,...</td>\n    </tr>\n    <tr>\n      <th>4</th>\n      <td>14594813</td>\n      <td>1420748456553947150</td>\n      <td>Saiba o que é fibrilação atrial, problema card...</td>\n      <td>[Saiba, o, que, é, fibrilação, atrial, problem...</td>\n    </tr>\n  </tbody>\n</table>\n</div>"
     },
     "execution_count": 27,
     "metadata": {},
     "output_type": "execute_result"
    }
   ],
   "source": [
    "base_texto.head()"
   ],
   "metadata": {
    "collapsed": false,
    "pycharm": {
     "name": "#%%\n"
    }
   }
  },
  {
   "cell_type": "markdown",
   "source": [
    "10. Verificando somente uma linha."
   ],
   "metadata": {
    "collapsed": false
   }
  },
  {
   "cell_type": "code",
   "execution_count": 28,
   "outputs": [
    {
     "data": {
      "text/plain": "author_id                                             14594813\nid                                         1420751875444416535\ntext         Todas as pessoas que já passaram pela ginástic...\nwords        [Todas, as, pessoas, que, já, passaram, pela, ...\nName: 0, dtype: object"
     },
     "execution_count": 28,
     "metadata": {},
     "output_type": "execute_result"
    }
   ],
   "source": [
    "base_texto.loc[0]"
   ],
   "metadata": {
    "collapsed": false,
    "pycharm": {
     "name": "#%%\n"
    }
   }
  },
  {
   "cell_type": "markdown",
   "source": [
    "11. Dado que transformamos em lista de words, podemos analisar todo o conjunto de palavras de uma vez.\n",
    "12. Alternativamente, analisaremos cada tweet...\n",
    "\n",
    "# Tip\n",
    "### flat_list = [item for sublist in original for item in sublist]"
   ],
   "metadata": {
    "collapsed": false
   }
  },
  {
   "cell_type": "code",
   "execution_count": 29,
   "outputs": [
    {
     "data": {
      "text/plain": "['Todas',\n 'as',\n 'pessoas',\n 'que',\n 'já',\n 'passaram',\n 'pela',\n 'ginástica',\n 'feminina',\n 'do',\n 'Brasil',\n 'se',\n 'veem',\n 'nessa',\n 'medalha',\n 'diz',\n 'Rebeca',\n 'Andrade',\n 'após',\n 'ganhar',\n 'a',\n 'prata',\n 'em',\n 'Tóquio',\n 'JogosOlimpicos',\n 'Tokyo2020',\n 'https',\n 't',\n 'co',\n 'CfRg6aSQE9',\n 'https',\n 't',\n 'co',\n 'pU7dqJZI5U',\n 'Rede',\n 'D',\n 'Or',\n 'compra',\n 'hospital',\n 'em',\n 'Feira',\n 'de',\n 'Santana',\n 'na',\n 'Bahia',\n 'https',\n 't',\n 'co',\n 'I1fwiVoE1e',\n 'Bolsonaro',\n 'chama',\n 'imprensa',\n 'para',\n 'live',\n 'sem',\n 'direito',\n 'a',\n 'perguntas',\n 'sobre',\n 'suposta',\n 'fraude',\n 'nas',\n 'eleições',\n 'https',\n 't',\n 'co',\n 'mLyuThmbFQ',\n 'Nubank',\n 'aumentará',\n 'o',\n 'limite',\n 'do',\n 'cartão',\n 'de',\n 'quase',\n '90',\n 'dos',\n 'clientes',\n 'https',\n 't',\n 'co',\n 'n57pDZxiMb',\n 'Saiba',\n 'o',\n 'que',\n 'é',\n 'fibrilação',\n 'atrial',\n 'problema',\n 'cardíaco',\n 'comum',\n 'e',\n 'fácil',\n 'de',\n 'ignorar',\n 'https',\n 't',\n 'co',\n 'GQUqTMxfLW',\n '',\n 'Gênesis',\n 'Labão',\n 'acaba',\n 'sendo',\n 'rejeitado',\n 'por',\n 'Salma',\n 'https',\n 't',\n 'co',\n 'ZS6dAKEM4d',\n 'RT',\n 'hernandesraph',\n 'Hoje',\n 'a',\n 'partir',\n 'das',\n '15h',\n 'vou',\n 'mediar',\n 'seminário',\n 'sobre',\n 'cibersegurança',\n 'e',\n 'proteção',\n 'de',\n 'dados',\n 'Ao',\n 'vivo',\n 'no',\n 'site',\n 'da',\n 'folha',\n 'htt',\n '',\n 'EUA',\n 'Reino',\n 'Unido',\n 'e',\n 'China',\n 'se',\n 'provocam',\n 'com',\n 'novos',\n 'exercícios',\n 'militares',\n 'https',\n 't',\n 'co',\n 'RXVhNqnegX',\n 'Uruguai',\n 'vai',\n 'aplicar',\n '3ª',\n 'dose',\n 'da',\n 'vacina',\n 'da',\n 'Pfizer',\n 'em',\n 'quem',\n 'tomou',\n 'duas',\n 'da',\n 'Coronavac',\n 'https',\n 't',\n 'co',\n 'd2PUxPL7sZ',\n 'País',\n 'cria',\n '309',\n 'mil',\n 'vagas',\n 'com',\n 'carteira',\n 'assinada',\n 'em',\n 'junho',\n 'segundo',\n 'dados',\n 'do',\n 'governo',\n 'https',\n 't',\n 'co',\n 'sfGr2a0rgZ',\n 'Startups',\n 'apresentam',\n 'soluções',\n 'para',\n 'diversidade',\n 'nas',\n 'empresas',\n 'em',\n 'evento',\n 'virtual',\n 'https',\n 't',\n 'co',\n 'puk4unYAKE',\n 'Volta',\n 'ao',\n 'escritório',\n 'esbarra',\n 'em',\n 'obstáculo',\n 'a',\n 'resistência',\n 'dos',\n 'jovens',\n 'https',\n 't',\n 'co',\n 'K36ZhLcqzK',\n 'PF',\n 'vai',\n 'treinar',\n 'trabalhadores',\n 'de',\n 'companhias',\n 'aéreas',\n 'para',\n 'reforçar',\n 'combate',\n 'ao',\n 'tráfico',\n 'de',\n 'pessoas',\n 'https',\n 't',\n 'co',\n 'MRN6w1eQa2',\n 'Comércio',\n 'perde',\n '190',\n '7',\n 'mil',\n 'empresas',\n 'em',\n 'seis',\n 'anos',\n 'https',\n 't',\n 'co',\n 'GacFE6qcMD',\n 'Cobrado',\n 'pela',\n 'filha',\n 'Fernando',\n 'Ferreira',\n 'leva',\n 'medalha',\n 'no',\n 'celular',\n 'para',\n 'o',\n 'salto',\n 'em',\n 'altura',\n 'https',\n 't',\n 'co',\n 'hW6LsIvs7p',\n 'E',\n 'o',\n 'bronze',\n 'de',\n 'mayraaguiarjudo',\n 'é',\n '24ª',\n 'medalha',\n 'olímpica',\n 'do',\n 'judô',\n 'brasileiro',\n 'relembre',\n 'vencedores',\n 'JogosOlímpicos',\n 'Tokyo2020',\n 'https',\n 't',\n 'co',\n 'LN17mloXzD',\n '',\n 'mayraaguiarjudo',\n 'chora',\n 'e',\n 'fala',\n 'de',\n 'TPM',\n 'após',\n 'medalha',\n 'de',\n 'bronze',\n 'nas',\n 'Olimpíadas',\n 'terceiro',\n 'pódio',\n 'consecutivo',\n 'no',\n 'judô',\n 'faz',\n 'atleta',\n 'já',\n 'pensar',\n 'nos',\n 'Jogos',\n 'Olímpicos',\n 'de',\n 'Paris',\n '2024',\n 'JogosOlímpicos',\n 'Tokyo2020',\n 'https',\n 't',\n 'co',\n 'EyGNPQjEWl',\n 'Sem',\n 'pressão',\n 'Maria',\n 'Suelen',\n 'Altheman',\n 'vira',\n 'a',\n 'chave',\n 'por',\n 'feito',\n 'inédito',\n 'em',\n 'Tóquio',\n 'https',\n 't',\n 'co',\n 'Rxvv75VS5i',\n 'Mayra',\n 'Aguiar',\n 'ri',\n 'chora',\n 'e',\n 'fala',\n 'de',\n 'TPM',\n 'após',\n 'medalha',\n 'de',\n 'bronze',\n 'nas',\n 'Olimpíadas',\n 'https',\n 't',\n 'co',\n 'EyGNPQjEWl',\n 'Luz',\n 'e',\n 'preços',\n 'ao',\n 'produtor',\n 'sobem',\n 'e',\n 'inflação',\n 'do',\n 'aluguel',\n 'volta',\n 'a',\n 'acelerar',\n 'IGP',\n 'M',\n 'vai',\n 'a',\n '33',\n '8',\n 'em',\n '12',\n 'meses',\n 'https',\n 't',\n 'co',\n 'ZDkicE9Fyj',\n 'Economia',\n 'dos',\n 'Estados',\n 'Unidos',\n 'cresce',\n 'com',\n 'força',\n 'no',\n '2º',\n 'trimestre',\n 'https',\n 't',\n 'co',\n 'LtdJrlL9c7',\n 'Ginástica',\n 'brasileira',\n 'medalhista',\n 'com',\n 'Rebeca',\n 'teve',\n 'tradição',\n 'forjada',\n 'nos',\n 'anos',\n '2000',\n 'https',\n 't',\n 'co',\n 'sV9p3KoCVT',\n 'Mario',\n 'Frias',\n 'diz',\n 'que',\n 'dirigismo',\n 'cultural',\n 'faz',\n 'parte',\n 'da',\n 'função',\n 'do',\n 'governo',\n 'https',\n 't',\n 'co',\n 'IPVQPTpQYw',\n 'PF',\n 'vai',\n 'treinar',\n 'funcionários',\n 'de',\n 'companhias',\n 'aéreas',\n 'para',\n 'reforçar',\n 'combate',\n 'ao',\n 'tráfico',\n 'de',\n 'pessoas',\n 'https',\n 't',\n 'co',\n 'PW5IHhJPH5',\n 'Luz',\n 'e',\n 'preços',\n 'ao',\n 'produtor',\n 'sobem',\n 'e',\n 'inflação',\n 'do',\n 'aluguel',\n 'volta',\n 'a',\n 'acelerar',\n 'IGP',\n 'M',\n 'vai',\n 'a',\n '33',\n '83',\n 'em',\n '12',\n 'meses',\n 'https',\n 't',\n 'co',\n 'BzvT74SDYF',\n 'Rebeca',\n 'é',\n 'prata',\n 'e',\n 'conquista',\n '1ª',\n 'medalha',\n 'do',\n 'Brasil',\n 'na',\n 'ginástica',\n 'feminina',\n 'em',\n 'Olimpíadas',\n 'https',\n 't',\n 'co',\n '1AUAf0ZcYB',\n 'Saiba',\n 'mais',\n 'sobre',\n 'a',\n 'conquista',\n 'de',\n 'Rebeca',\n 'Andrade',\n 'Após',\n 'três',\n 'cirurgias',\n 'no',\n 'joelho',\n 'brasileira',\n 'brilha',\n 'no',\n 'individual',\n 'geral',\n 'que',\n 'teve',\n 'ausência',\n 'de',\n 'Simone',\n 'Biles',\n 'JogosOlímpicos',\n 'Tokyo2020',\n 'https',\n 't',\n 'co',\n '1AUAf0ZcYB',\n 'Little',\n 'Mix',\n 'ganha',\n 'estátuas',\n 'de',\n 'cera',\n 'em',\n 'museu',\n 'de',\n 'Londres',\n 'por',\n 'seus',\n '10',\n 'anos',\n 'https',\n 't',\n 'co',\n 'hvYyDDAYko',\n 'COM',\n 'BAILE',\n 'DE',\n 'FAVELA',\n 'REBECA',\n 'ANDRADE',\n 'É',\n 'PRATA',\n 'ATLETA',\n 'ENCANTA',\n 'EM',\n 'TÓQUIO',\n 'E',\n 'CONQUISTA',\n 'A',\n 'PRIMEIRA',\n 'MEDALHA',\n 'DO',\n 'BRASIL',\n 'NA',\n 'GINÁSTICA',\n 'FEMININA',\n 'EM',\n 'OLIMPÍADAS',\n 'LEIA',\n 'MAIS',\n 'EM',\n 'https',\n 't',\n 'co',\n 'zUqCw90Yw3',\n 'Lindsey',\n 'Wasson',\n 'Reuters',\n 'https',\n 't',\n 'co',\n 'yBFsYjczUy',\n 'BAILE',\n 'DE',\n 'REBECA',\n 'VAI',\n '',\n 'Velejador',\n 'brasileiro',\n 'Robert',\n 'Scheidt',\n 'cai',\n 'para',\n '4º',\n 'lugar',\n 'na',\n 'classificação',\n 'geral',\n 'da',\n 'laser',\n 'JogosOlímpicos',\n 'Tokyo2020',\n 'https',\n 't',\n 'co',\n 'yekgEPzOq6',\n 'https',\n 't',\n 'co',\n 'uV565cjTja',\n 'Queremos',\n 'ouvi',\n 'lo',\n 'Escreva',\n 'para',\n 'a',\n 'Folha',\n 'https',\n 't',\n 'co',\n 'XNAPCAGQBA',\n 'VAI',\n 'REBECA',\n 'VAI',\n 'BRASIL',\n 'VAI',\n 'BAILE',\n 'DE',\n 'FAVELA',\n 'https',\n 't',\n 'co',\n 'nDYPbJRwGs',\n 'Rebeca',\n 'Andrade',\n 'cai',\n 'para',\n 'segundo',\n 'e',\n 'decisão',\n 'da',\n 'ginástica',\n 'artística',\n 'será',\n 'no',\n 'solo',\n 'JogosOlímpicos',\n 'Tokyo2020',\n 'https',\n 't',\n 'co',\n 'BrEfuurtRZ',\n 'https',\n 't',\n 'co',\n 'aYY3lFFkvK',\n 'VAI',\n 'REBECA',\n 'VAI',\n 'BRASIL',\n 'ESTAMOS',\n 'NA',\n 'TORCIDA',\n '',\n 'Uma',\n 'lenda',\n 'olímpica',\n 'do',\n 'Brasil',\n 'Tokyo2020',\n 'https',\n 't',\n 'co',\n 'VPkJspLw67',\n 'Fora',\n 'do',\n 'individual',\n 'geral',\n 'Simone',\n 'Biles',\n 'assiste',\n 'à',\n 'final',\n 'de',\n 'ginástica',\n 'JogosOlímpicos',\n 'Tokyo2020',\n 'https',\n 't',\n 'co',\n '1EUIgddve0',\n 'https',\n 't',\n 'co',\n '1dFAnoqhv2',\n 'Brasil',\n 'faz',\n '3',\n 'a',\n '0',\n 'sobre',\n 'o',\n 'Japão',\n 'e',\n 'garante',\n 'vitória',\n 'no',\n 'vôlei',\n 'feminino',\n 'JogosOlímpicos',\n 'Tokyo2020',\n 'https',\n 't',\n 'co',\n 'nOGXc3Mzj6',\n 'https',\n 't',\n 'co',\n 'kjN5Q7jx5o',\n 'Estamos',\n 'na',\n 'torcida',\n 'pela',\n 'Rebeca',\n 'Andrade',\n 'Tokyo2020',\n 'https',\n 't',\n 'co',\n 'yYTivUP3NA',\n 'Tom',\n 'Cavalcante',\n 'e',\n 'Clarice',\n 'Falcão',\n 'estarão',\n 'em',\n 'novo',\n 'reality',\n 'do',\n 'Amazon',\n 'Prime',\n 'https',\n 't',\n 'co',\n 'QOMeOjrpmX',\n 'Acordou',\n 'e',\n 'ainda',\n 'não',\n 'viu',\n 'o',\n 'que',\n 'aconteceu',\n 'nas',\n 'Olimpíadas',\n 'de',\n 'madrugada',\n 'Entre',\n 'os',\n 'destaques',\n 'estão',\n 'a',\n 'medalha',\n 'de',\n 'bronze',\n 'de',\n 'mayraaguiarjudo',\n 'e',\n 'anasatila',\n 'fazendo',\n 'história',\n 'na',\n 'canoagem',\n 'JogosOlímpicos',\n 'Tokyo2020',\n 'https',\n 't',\n 'co',\n 'N1y2EESmBN',\n 'Brasil',\n 'atropela',\n 'Japão',\n 'no',\n 'primeiro',\n 'set',\n 'do',\n 'vôlei',\n 'feminino',\n 'JogosOlímpicos',\n 'Tokyo2020',\n 'https',\n 't',\n 'co',\n '0sww8r28NQ',\n 'https',\n 't',\n 'co',\n '2Gy0APzG7u',\n 'Vinicius',\n 'Lanza',\n 'não',\n 'avança',\n 'nas',\n 'eliminatórias',\n 'dos',\n '100',\n 'm',\n 'borboleta',\n 'em',\n 'Tóquio',\n '2020',\n 'JogosOlímpicos',\n 'Tokyo2020',\n 'https',\n 't',\n 'co',\n '5qCTprz5u9',\n 'Brasil',\n 'é',\n 'ouro',\n 'na',\n 'Olimpíada',\n 'não',\n 'a',\n 'de',\n 'Tóquio',\n 'mas',\n 'a',\n 'de',\n 'Física',\n 'https',\n 't',\n 'co',\n 'kPCVfPx7Ya',\n 'Facebook',\n 'cria',\n 'serviço',\n 'para',\n 'igrejas',\n 'transmitirem',\n 'cultos',\n 'e',\n 'pedirem',\n 'doações',\n 'https',\n 't',\n 'co',\n '09Ot2EBLno',\n 'Bronze',\n 'de',\n 'Mayra',\n 'Aguiar',\n 'é',\n '24ª',\n 'medalha',\n 'olímpica',\n 'do',\n 'judô',\n 'brasileiro',\n 'relembre',\n 'vencedores',\n 'https',\n 't',\n 'co',\n 'LN17ml7mI5',\n 'Estreante',\n 'em',\n 'Olimpíadas',\n 'o',\n 'nadador',\n 'brasileiro',\n 'Matheus',\n 'Gonche',\n 'não',\n 'se',\n 'classificou',\n 'nas',\n 'eliminatórias',\n 'do',\n '100',\n 'm',\n 'borboleta',\n 'nos',\n 'Jogos',\n 'Tóquio',\n '2020',\n 'JogosOlímpicos',\n 'Tokyo2020',\n 'https',\n 't',\n 'co',\n 'sHggydva8L',\n 'Rebeca',\n 'busca',\n 'primeira',\n 'medalha',\n 'para',\n 'ginástica',\n 'feminina',\n 'do',\n 'Brasil',\n 'vai',\n 'começar',\n 'a',\n 'disputa',\n 'do',\n 'individual',\n 'geral',\n 'JogosOlímpicos',\n 'Tokyo2020',\n 'https',\n 't',\n 'co',\n 'JAaPnVsMMA',\n 'Foto',\n 'Dylan',\n 'Martinez',\n 'Reuters',\n 'https',\n 't',\n 'co',\n 'p9TJPcdPf0',\n 'Graziele',\n 'de',\n 'Jesus',\n 'foi',\n 'eliminada',\n 'em',\n 'sua',\n 'estreia',\n 'na',\n 'categoria',\n 'até',\n '51kg',\n 'do',\n 'boxe',\n 'feminino',\n 'A',\n 'brasileira',\n 'enfrentou',\n 'a',\n 'japonesa',\n 'Tsukimi',\n 'Namiki',\n 'que',\n 'venceu',\n 'por',\n 'decisão',\n 'unânime',\n 'e',\n 'conquistou',\n 'a',\n 'vaga',\n 'nas',\n 'quartas',\n 'JogosOlímpicos',\n 'Tokyo2020',\n 'https',\n 't',\n 'co',\n 'JAaPnVsMMA',\n 'Seleção',\n 'feminina',\n 'de',\n 'vôlei',\n 'do',\n 'Brasil',\n 'encara',\n 'o',\n 'Japão',\n 'acompanhe',\n 'as',\n 'notícias',\n 'de',\n 'Tóquio',\n 'JogosOlímpicos',\n 'Tokyo2020',\n 'https',\n 't',\n 'co',\n 'QJKHhnfVYw',\n 'Foto',\n 'Valentyn',\n 'Ogirenko',\n 'Reuters',\n 'https',\n 't',\n 'co',\n 'n9u34bDymx',\n '',\n 'TurmadaMonica',\n 'homenageia',\n 'mayraaguiarjudo',\n 'por',\n 'medalha',\n 'de',\n 'bronze',\n 'JogosOlimpicos',\n 'Tokyo2020',\n 'https',\n 't',\n 'co',\n 'AK4OE2dppJ',\n 'Nadadora',\n 'brasileira',\n 'Viviane',\n 'Jungblut',\n 'chegou',\n 'em',\n ...]"
     },
     "execution_count": 29,
     "metadata": {},
     "output_type": "execute_result"
    }
   ],
   "source": [
    "tweets_words = [item for sublist in base_texto.words for item in sublist]\n",
    "tweets_words"
   ],
   "metadata": {
    "collapsed": false,
    "pycharm": {
     "name": "#%%\n"
    }
   }
  },
  {
   "cell_type": "markdown",
   "source": [
    "13. Com a lista completa de palavras, podemos verificar as mais comuns, por exemplo."
   ],
   "metadata": {
    "collapsed": false
   }
  },
  {
   "cell_type": "code",
   "execution_count": 30,
   "outputs": [
    {
     "data": {
      "text/plain": "Counter({'Todas': 3,\n         'as': 69,\n         'pessoas': 24,\n         'que': 396,\n         'já': 37,\n         'passaram': 1,\n         'pela': 50,\n         'ginástica': 27,\n         'feminina': 24,\n         'do': 510,\n         'Brasil': 158,\n         'se': 117,\n         'veem': 7,\n         'nessa': 2,\n         'medalha': 74,\n         'diz': 133,\n         'Rebeca': 16,\n         'Andrade': 10,\n         'após': 70,\n         'ganhar': 5,\n         'a': 687,\n         'prata': 26,\n         'em': 514,\n         'Tóquio': 101,\n         'JogosOlimpicos': 125,\n         'Tokyo2020': 144,\n         'https': 1847,\n         't': 1847,\n         'co': 1844,\n         'CfRg6aSQE9': 1,\n         'pU7dqJZI5U': 1,\n         'Rede': 4,\n         'D': 5,\n         'Or': 1,\n         'compra': 4,\n         'hospital': 2,\n         'Feira': 1,\n         'de': 1369,\n         'Santana': 1,\n         'na': 336,\n         'Bahia': 8,\n         'I1fwiVoE1e': 1,\n         'Bolsonaro': 129,\n         'chama': 1,\n         'imprensa': 3,\n         'para': 367,\n         'live': 4,\n         'sem': 33,\n         'direito': 6,\n         'perguntas': 2,\n         'sobre': 93,\n         'suposta': 5,\n         'fraude': 5,\n         'nas': 145,\n         'eleições': 14,\n         'mLyuThmbFQ': 1,\n         'Nubank': 1,\n         'aumentará': 2,\n         'o': 364,\n         'limite': 1,\n         'cartão': 2,\n         'quase': 19,\n         '90': 1,\n         'dos': 122,\n         'clientes': 3,\n         'n57pDZxiMb': 1,\n         'Saiba': 14,\n         'é': 195,\n         'fibrilação': 1,\n         'atrial': 1,\n         'problema': 2,\n         'cardíaco': 1,\n         'comum': 2,\n         'e': 744,\n         'fácil': 3,\n         'ignorar': 1,\n         'GQUqTMxfLW': 1,\n         '': 163,\n         'Gênesis': 1,\n         'Labão': 1,\n         'acaba': 6,\n         'sendo': 6,\n         'rejeitado': 1,\n         'por': 194,\n         'Salma': 1,\n         'ZS6dAKEM4d': 1,\n         'RT': 115,\n         'hernandesraph': 1,\n         'Hoje': 8,\n         'partir': 6,\n         'das': 109,\n         '15h': 1,\n         'vou': 2,\n         'mediar': 1,\n         'seminário': 4,\n         'cibersegurança': 2,\n         'proteção': 7,\n         'dados': 13,\n         'Ao': 2,\n         'vivo': 5,\n         'no': 387,\n         'site': 2,\n         'da': 475,\n         'folha': 27,\n         'htt': 1,\n         'EUA': 34,\n         'Reino': 3,\n         'Unido': 3,\n         'China': 10,\n         'provocam': 1,\n         'com': 299,\n         'novos': 3,\n         'exercícios': 2,\n         'militares': 9,\n         'RXVhNqnegX': 1,\n         'Uruguai': 1,\n         'vai': 62,\n         'aplicar': 2,\n         '3ª': 6,\n         'dose': 15,\n         'vacina': 25,\n         'Pfizer': 11,\n         'quem': 23,\n         'tomou': 1,\n         'duas': 9,\n         'Coronavac': 6,\n         'd2PUxPL7sZ': 1,\n         'País': 3,\n         'cria': 13,\n         '309': 1,\n         'mil': 27,\n         'vagas': 4,\n         'carteira': 1,\n         'assinada': 1,\n         'junho': 4,\n         'segundo': 21,\n         'governo': 31,\n         'sfGr2a0rgZ': 1,\n         'Startups': 3,\n         'apresentam': 1,\n         'soluções': 3,\n         'diversidade': 8,\n         'empresas': 5,\n         'evento': 10,\n         'virtual': 1,\n         'puk4unYAKE': 1,\n         'Volta': 2,\n         'ao': 99,\n         'escritório': 1,\n         'esbarra': 3,\n         'obstáculo': 1,\n         'resistência': 1,\n         'jovens': 4,\n         'K36ZhLcqzK': 1,\n         'PF': 8,\n         'treinar': 2,\n         'trabalhadores': 1,\n         'companhias': 2,\n         'aéreas': 2,\n         'reforçar': 3,\n         'combate': 8,\n         'tráfico': 3,\n         'MRN6w1eQa2': 1,\n         'Comércio': 1,\n         'perde': 20,\n         '190': 1,\n         '7': 16,\n         'seis': 3,\n         'anos': 60,\n         'GacFE6qcMD': 1,\n         'Cobrado': 1,\n         'filha': 2,\n         'Fernando': 12,\n         'Ferreira': 20,\n         'leva': 12,\n         'celular': 1,\n         'salto': 6,\n         'altura': 1,\n         'hW6LsIvs7p': 1,\n         'E': 10,\n         'bronze': 28,\n         'mayraaguiarjudo': 4,\n         '24ª': 3,\n         'olímpica': 23,\n         'judô': 31,\n         'brasileiro': 43,\n         'relembre': 2,\n         'vencedores': 3,\n         'JogosOlímpicos': 15,\n         'LN17mloXzD': 1,\n         'chora': 4,\n         'fala': 16,\n         'TPM': 2,\n         'Olimpíadas': 154,\n         'terceiro': 4,\n         'pódio': 10,\n         'consecutivo': 4,\n         'faz': 32,\n         'atleta': 19,\n         'pensar': 1,\n         'nos': 63,\n         'Jogos': 43,\n         'Olímpicos': 10,\n         'Paris': 4,\n         '2024': 5,\n         'EyGNPQjEWl': 2,\n         'Sem': 9,\n         'pressão': 3,\n         'Maria': 14,\n         'Suelen': 1,\n         'Altheman': 1,\n         'vira': 8,\n         'chave': 1,\n         'feito': 5,\n         'inédito': 8,\n         'Rxvv75VS5i': 1,\n         'Mayra': 11,\n         'Aguiar': 8,\n         'ri': 1,\n         'Luz': 2,\n         'preços': 4,\n         'produtor': 3,\n         'sobem': 3,\n         'inflação': 5,\n         'aluguel': 2,\n         'volta': 25,\n         'acelerar': 3,\n         'IGP': 2,\n         'M': 2,\n         '33': 8,\n         '8': 5,\n         '12': 5,\n         'meses': 16,\n         'ZDkicE9Fyj': 1,\n         'Economia': 8,\n         'Estados': 3,\n         'Unidos': 1,\n         'cresce': 6,\n         'força': 8,\n         '2º': 5,\n         'trimestre': 5,\n         'LtdJrlL9c7': 1,\n         'Ginástica': 1,\n         'brasileira': 59,\n         'medalhista': 11,\n         'teve': 10,\n         'tradição': 3,\n         'forjada': 1,\n         '2000': 1,\n         'sV9p3KoCVT': 1,\n         'Mario': 10,\n         'Frias': 7,\n         'dirigismo': 1,\n         'cultural': 3,\n         'parte': 13,\n         'função': 2,\n         'IPVQPTpQYw': 1,\n         'funcionários': 2,\n         'PW5IHhJPH5': 1,\n         '83': 1,\n         'BzvT74SDYF': 1,\n         'conquista': 20,\n         '1ª': 13,\n         '1AUAf0ZcYB': 2,\n         'mais': 206,\n         'Após': 24,\n         'três': 17,\n         'cirurgias': 1,\n         'joelho': 1,\n         'brilha': 3,\n         'individual': 13,\n         'geral': 19,\n         'ausência': 1,\n         'Simone': 19,\n         'Biles': 28,\n         'Little': 1,\n         'Mix': 1,\n         'ganha': 11,\n         'estátuas': 2,\n         'cera': 1,\n         'museu': 1,\n         'Londres': 7,\n         'seus': 4,\n         '10': 11,\n         'hvYyDDAYko': 1,\n         'COM': 3,\n         'BAILE': 3,\n         'DE': 11,\n         'FAVELA': 2,\n         'REBECA': 4,\n         'ANDRADE': 1,\n         'É': 22,\n         'PRATA': 3,\n         'ATLETA': 1,\n         'ENCANTA': 1,\n         'EM': 8,\n         'TÓQUIO': 3,\n         'CONQUISTA': 4,\n         'A': 126,\n         'PRIMEIRA': 5,\n         'MEDALHA': 9,\n         'DO': 13,\n         'BRASIL': 18,\n         'NA': 6,\n         'GINÁSTICA': 1,\n         'FEMININA': 1,\n         'OLIMPÍADAS': 3,\n         'LEIA': 2,\n         'MAIS': 5,\n         'zUqCw90Yw3': 2,\n         'Lindsey': 2,\n         'Wasson': 2,\n         'Reuters': 72,\n         'yBFsYjczUy': 1,\n         'VAI': 9,\n         'Velejador': 1,\n         'Robert': 3,\n         'Scheidt': 3,\n         'cai': 3,\n         '4º': 1,\n         'lugar': 11,\n         'classificação': 6,\n         'laser': 1,\n         'yekgEPzOq6': 1,\n         'uV565cjTja': 1,\n         'Queremos': 1,\n         'ouvi': 1,\n         'lo': 2,\n         'Escreva': 2,\n         'Folha': 60,\n         'XNAPCAGQBA': 2,\n         'nDYPbJRwGs': 1,\n         'decisão': 18,\n         'artística': 10,\n         'será': 22,\n         'solo': 6,\n         'BrEfuurtRZ': 1,\n         'aYY3lFFkvK': 1,\n         'ESTAMOS': 1,\n         'TORCIDA': 1,\n         'Uma': 10,\n         'lenda': 2,\n         'VPkJspLw67': 1,\n         'Fora': 2,\n         'assiste': 1,\n         'à': 78,\n         'final': 79,\n         '1EUIgddve0': 1,\n         '1dFAnoqhv2': 1,\n         '3': 28,\n         '0': 9,\n         'Japão': 20,\n         'garante': 4,\n         'vitória': 16,\n         'vôlei': 31,\n         'feminino': 12,\n         'nOGXc3Mzj6': 1,\n         'kjN5Q7jx5o': 1,\n         'Estamos': 4,\n         'torcida': 3,\n         'yYTivUP3NA': 1,\n         'Tom': 1,\n         'Cavalcante': 1,\n         'Clarice': 2,\n         'Falcão': 1,\n         'estarão': 3,\n         'novo': 30,\n         'reality': 4,\n         'Amazon': 2,\n         'Prime': 1,\n         'QOMeOjrpmX': 1,\n         'Acordou': 1,\n         'ainda': 18,\n         'não': 148,\n         'viu': 4,\n         'aconteceu': 2,\n         'madrugada': 11,\n         'Entre': 2,\n         'os': 93,\n         'destaques': 2,\n         'estão': 11,\n         'anasatila': 1,\n         'fazendo': 1,\n         'história': 30,\n         'canoagem': 9,\n         'N1y2EESmBN': 2,\n         'atropela': 3,\n         'primeiro': 22,\n         'set': 6,\n         '0sww8r28NQ': 1,\n         '2Gy0APzG7u': 1,\n         'Vinicius': 3,\n         'Lanza': 1,\n         'avança': 19,\n         'eliminatórias': 7,\n         '100': 9,\n         'm': 26,\n         'borboleta': 11,\n         '2020': 22,\n         '5qCTprz5u9': 1,\n         'ouro': 34,\n         'Olimpíada': 10,\n         'mas': 55,\n         'Física': 1,\n         'kPCVfPx7Ya': 1,\n         'Facebook': 3,\n         'serviço': 9,\n         'igrejas': 1,\n         'transmitirem': 1,\n         'cultos': 1,\n         'pedirem': 1,\n         'doações': 1,\n         '09Ot2EBLno': 1,\n         'Bronze': 2,\n         'LN17ml7mI5': 1,\n         'Estreante': 1,\n         'nadador': 5,\n         'Matheus': 6,\n         'Gonche': 1,\n         'classificou': 1,\n         'sHggydva8L': 1,\n         'busca': 22,\n         'primeira': 28,\n         'começar': 2,\n         'disputa': 16,\n         'JAaPnVsMMA': 2,\n         'Foto': 48,\n         'Dylan': 5,\n         'Martinez': 5,\n         'p9TJPcdPf0': 1,\n         'Graziele': 2,\n         'Jesus': 4,\n         'foi': 81,\n         'eliminada': 14,\n         'sua': 46,\n         'estreia': 35,\n         'categoria': 10,\n         'até': 36,\n         '51kg': 1,\n         'boxe': 8,\n         'enfrentou': 1,\n         'japonesa': 7,\n         'Tsukimi': 1,\n         'Namiki': 1,\n         'venceu': 12,\n         'unânime': 1,\n         'conquistou': 5,\n         'vaga': 14,\n         'quartas': 18,\n         'Seleção': 7,\n         'encara': 4,\n         'acompanhe': 4,\n         'notícias': 9,\n         'QJKHhnfVYw': 1,\n         'Valentyn': 4,\n         'Ogirenko': 4,\n         'n9u34bDymx': 1,\n         'TurmadaMonica': 1,\n         'homenageia': 1,\n         'AK4OE2dppJ': 1,\n         'Nadadora': 1,\n         'Viviane': 1,\n         'Jungblut': 1,\n         'chegou': 14,\n         'eliminatória': 1,\n         '800': 6,\n         'livre': 20,\n         'CEobLyGJfc': 1,\n         'Stefan': 2,\n         'Wermuth': 2,\n         'Folhapress': 11,\n         'MqhhoWeRGG': 1,\n         'Borba': 14,\n         'Gato': 14,\n         'caçador': 1,\n         'índios': 2,\n         'queimaram': 1,\n         'estátua': 10,\n         'errada': 1,\n         'Eduardo': 6,\n         'Bueno': 3,\n         '43pFcWiJ0B': 1,\n         'Mariana': 2,\n         'Ximenes': 1,\n         'viver': 3,\n         'amante': 1,\n         'Pedro': 11,\n         'Mulher': 4,\n         'impressionante': 1,\n         'YXccyOjCau': 1,\n         'bate': 7,\n         'recorde': 11,\n         'casos': 7,\n         'Covid': 52,\n         'pelo': 40,\n         '3º': 1,\n         'dia': 33,\n         'seguido': 1,\n         'Foram': 1,\n         'registrados': 2,\n         '865': 1,\n         'ocorrências': 1,\n         '24': 14,\n         'horas': 5,\n         '1': 28,\n         '886': 1,\n         'visto': 2,\n         'exatamente': 2,\n         'uma': 74,\n         'semana': 15,\n         'atrás': 2,\n         'pandemia': 41,\n         'COVID19': 1,\n         'IVDkmM2qna': 1,\n         'LeandroColon': 20,\n         '0rGXytNlWB': 1,\n         'Sátila': 10,\n         'fica': 18,\n         'sai': 9,\n         'como': 82,\n         'finalista': 3,\n         'Há': 1,\n         'marcas': 3,\n         'celebrar': 5,\n         'às': 33,\n         '7h50': 1,\n         'hqwSRBrImP': 3,\n         'oqVM2EdL4t': 1,\n         'Mas': 6,\n         'deu': 15,\n         'Ane': 2,\n         'Marcelle': 3,\n         'sul': 1,\n         'coreana': 1,\n         'tiro': 10,\n         'arco': 5,\n         'Lwe9al3Mqp': 1,\n         'Clodagh': 4,\n         'Kilcoyne': 4,\n         'W0YWxrMpz1': 1,\n         'Brasileira': 3,\n         'mexicana': 2,\n         'vDp7GKfA17': 1,\n         'NGcTuozvwI': 1,\n         'Destaques': 3,\n         'Medalha': 3,\n         'conquistar': 5,\n         'AsQSQREAsp': 2,\n         'PRO': 1,\n         'judoca': 13,\n         'gaúcha': 3,\n         'supera': 5,\n         '16': 4,\n         'lutar': 2,\n         'garantir': 2,\n         '78': 2,\n         'kg': 1,\n         'Ana': 12,\n         'mineira': 2,\n         'sabe': 6,\n         'importância': 1,\n         'seu': 27,\n         'apesar': 4,\n         'estar': 7,\n         'decepcionada': 1,\n         'resultado': 10,\n         'WRGSUm7MSJ': 2,\n         'Bom': 8,\n         'esta': 8,\n         'capa': 10,\n         'desta': 21,\n         'quinta': 16,\n         '29': 10,\n         'Acesse': 15,\n         'OUrEFevL3e': 18,\n         'ler': 9,\n         'fsp': 16,\n         'folhadespaulo': 16,\n         'OzehyV990u': 1,\n         'As': 10,\n         'Yaras': 1,\n         'seleção': 30,\n         'rúgbi': 4,\n         'foram': 14,\n         'derrotadas': 1,\n         '40': 9,\n         '5': 27,\n         'França': 9,\n         'gomJb96XQv': 1,\n         'kziBIn1vMD': 1,\n         'Hebert': 1,\n         'Conceição': 1,\n         'MkpoyD672I': 1,\n         'vence': 16,\n         'russa': 1,\n         'está': 57,\n         'luta': 24,\n         'iv8yqIYjUM': 1,\n         'O1hMFOVCyr': 1,\n         'O': 106,\n         'ensina': 1,\n         'coragem': 2,\n         'desistir': 3,\n         'ouça': 7,\n         'podcast': 8,\n         'x5F0GvWEVg': 1,\n         'chega': 12,\n         'consegue': 3,\n         'slalom': 3,\n         '7ZcritcHUC': 1,\n         'Yara': 1,\n         'Nardi': 1,\n         'neiC5Zf2Uh': 1,\n         'Atiradora': 1,\n         'San': 2,\n         'Marino': 2,\n         'país': 37,\n         'Alessandra': 1,\n         'Perilli': 1,\n         'fossa': 1,\n         'momento': 11,\n         'histórico': 6,\n         'Acompanhe': 32,\n         'f1qAxCLGhy': 1,\n         'yrS0VybGTP': 1,\n         'Correção': 2,\n         'recebeu': 9,\n         'punição': 4,\n         'Ela': 6,\n         'tempo': 28,\n         '114': 1,\n         '27': 19,\n         'segundos': 7,\n         'daqui': 2,\n         'pouco': 8,\n         '55': 2,\n         'Brasília': 8,\n         'Não': 17,\n         'durma': 1,\n         'Leia': 75,\n         'dJfq7KliHz': 2,\n         'Conversei': 1,\n         '11': 4,\n         'Depois': 7,\n         'erro': 3,\n         'Rio': 19,\n         'ela': 12,\n         'nunca': 7,\n         'esteve': 2,\n         'tão': 3,\n         'pronta': 1,\n         'FINAL': 3,\n         'sofreu': 3,\n         'penalidade': 1,\n         '4': 8,\n         'bom': 5,\n         'desempenho': 1,\n         'prova': 11,\n         'compensou': 1,\n         'Stoyan': 2,\n         'Nenov': 2,\n         'logo': 4,\n         'L9GAKhoHw5': 1,\n         'Americano': 2,\n         'Sam': 2,\n         'Kendricks': 2,\n         'tem': 50,\n         'teste': 3,\n         'positivo': 1,\n         'fora': 27,\n         'Rival': 1,\n         'peso': 4,\n         'Thiago': 2,\n         'Braz': 1,\n         'vara': 1,\n         '2016': 7,\n         'Andy': 1,\n         'Lions': 1,\n         'AFP': 16,\n         'exI19eiHsA': 1,\n         'zArSHGRkh3': 1,\n         'prepara': 5,\n         'semifinal': 9,\n         'Puh7qgyW70': 1,\n         'alexsabino': 11,\n         'Mais': 9,\n         'ágil': 2,\n         'maior': 8,\n         'rival': 2,\n         'imbatível': 2,\n         'Baby': 2,\n         'mira': 10,\n         'terceira': 8,\n         'zI5ZgJ6ixn': 1,\n         'Judoca': 6,\n         'alemã': 3,\n         'disputará': 2,\n         'repescagem': 6,\n         'derrotada': 4,\n         'minutos': 9,\n         '47': 1,\n         'extra': 7,\n         'agora': 21,\n         'disputar': 6,\n         '5h': 2,\n         'pode': 37,\n         'Sergio': 8,\n         'Perez': 4,\n         'ZFy7Anpzx0': 1,\n         'ayNyvTR31t': 1,\n         'Se': 11,\n         'Joga': 2,\n         'ar': 7,\n         'setembro': 4,\n         'voltar': 4,\n         '2022': 21,\n         'ylqeNJIvzB': 1,\n         'Italo': 23,\n         'naturalidade': 1,\n         'notas': 3,\n         'recebidas': 1,\n         'Gabriel': 13,\n         'Medina': 31,\n         'Kanoa': 7,\n         'Igarashi': 8,\n         'baterias': 2,\n         'semifinais': 10,\n         'surfe': 23,\n         'vzorQ7UgVv': 1,\n         'Jonne': 2,\n         'Roriz': 2,\n         'COB': 5,\n         'a7ddZ1FKLG': 1,\n         'tjYq6DRMRa': 1,\n         'PEDALA': 1,\n         'RENATO': 1,\n         'Renato': 2,\n         'Rezende': 2,\n         'ciclismo': 2,\n         'BMX': 1,\n         'terminou': 5,\n         'bateria': 7,\n         'colocação': 3,\n         'próxima': 13,\n         'fase': 11,\n         'nesta': 24,\n         'sexta': 6,\n         'feira': 23,\n         '30': 9,\n         'Matthew': 1,\n         'Childs': 1,\n         'd73ns66kLP': 1,\n         '4ME7RJzmXt': 1,\n         'SAÚDE': 2,\n         'MENTAL': 2,\n         'I': 5,\n         'ginasta': 13,\n         'agradeceu': 1,\n         'meio': 18,\n         'redes': 20,\n         'sociais': 14,\n         'apoio': 7,\n         'QUZEyACSEo': 1,\n         'tokyo2020': 8,\n         'Cao': 1,\n         'Can': 1,\n         'Xinhua': 4,\n         'XfdSvBpTyf': 1,\n         'GOLEIRA': 1,\n         'JOGOU': 1,\n         'MUITO': 1,\n         'handebol': 9,\n         'derrotado': 3,\n         'Espanha': 3,\n         '23': 8,\n         'diminuir': 1,\n         'diferença': 2,\n         'um': 115,\n         'gol': 1,\n         'parou': 3,\n         'grande': 4,\n         'atuação': 3,\n         'goleira': 4,\n         'Navarra': 1,\n         'Susana': 2,\n         'Vera': 2,\n         'X1nWsKekKD': 1,\n         'OOGcuwSFhA': 1,\n         'Arthur': 9,\n         'Val': 1,\n         'convite': 4,\n         'público': 7,\n         'Poit': 1,\n         'seja': 5,\n         'vice': 6,\n         'campanha': 7,\n         'SP': 49,\n         'ZiVqLYbh42': 1,\n         'SEGUNDOS': 2,\n         'ippon': 6,\n         'Na': 21,\n         'sequência': 2,\n         'enfrentará': 4,\n         'Anna': 2,\n         'Wagner': 1,\n         'Esta': 9,\n         'quarta': 9,\n         'participação': 7,\n         'suas': 9,\n         'próximas': 5,\n         'lutas': 1,\n         'vqEOjwuaRH': 1,\n         'aumenta': 2,\n         'previsão': 4,\n         'vendas': 3,\n         'anti': 5,\n         'US': 4,\n         'bilhões': 9,\n         '7XvZGmySZ3': 1,\n         'agradece': 1,\n         'amor': 2,\n         'transbordante': 1,\n         'recebi': 1,\n         'me': 6,\n         'fez': 16,\n         'perceber': 2,\n         'eu': 11,\n         'sou': 4,\n         'minhas': 4,\n         'conquistas': 2,\n         'algo': 1,\n         'tinha': 2,\n         'acreditado': 1,\n         'verdade': 5,\n         'antes': 15,\n         'YJaFrwIbbz': 1,\n         'Predadores': 1,\n         'liberdade': 3,\n         'EzWnekTUjs': 1,\n         'cobrado': 1,\n         'aliados': 4,\n         'fazer': 16,\n         'última': 8,\n         'mudança': 10,\n         'tirar': 2,\n         'Ricardo': 6,\n         'Barros': 3,\n         'liderança': 2,\n         'b7JFvzRvy2': 1,\n         'natação': 21,\n         'mundial': 13,\n         'Cesar': 1,\n         'Cielo': 2,\n         'sobrevive': 1,\n         'Caeleb': 1,\n         'Dressel': 1,\n         '47s02': 1,\n         'Em': 42,\n         '2009': 1,\n         'nadou': 1,\n         'distância': 5,\n         '46s91': 1,\n         'Mundial': 1,\n         'Roma': 3,\n         'Knapp': 1,\n         'ga3OI1xpe7': 1,\n         '7P2zBPV6gl': 1,\n         'ok': 4,\n         'Saída': 4,\n         'americana': 10,\n         'lesões': 3,\n         'escancaram': 1,\n         'desafio': 4,\n         'mental': 8,\n         'físico': 1,\n         'LAxXPr5nCJ': 1,\n         'bpVpS4e57o': 1,\n         'NO': 7,\n         'ÚLTIMO': 1,\n         'MINUTO': 1,\n         'Rafael': 6,\n         'Buzacarini': 4,\n         'eliminado': 4,\n         'perdeu': 10,\n         'Ele': 9,\n         'waza': 1,\n         'ari': 1,\n         'minuto': 7,\n         'conseguiu': 2,\n         'reagir': 4,\n         'Annegret': 3,\n         'Hilse': 4,\n         'Y8O1TbMfve': 1,\n         'VIFGaIghkX': 1,\n         'Chinesa': 2,\n         'olímpico': 25,\n         '200': 16,\n         'Com': 34,\n         '2m03s86': 1,\n         'nadadora': 2,\n         'Yufei': 1,\n         'Zhang': 1,\n         'bateu': 2,\n         'levando': 2,\n         'Kai': 2,\n         'Pfaffenbach': 2,\n         '70vEmtC83w': 1,\n         'gn9osbWfgM': 1,\n         'São': 25,\n         'Paulo': 30,\n         'reage': 2,\n         'goleada': 2,\n         'abre': 10,\n         'boa': 9,\n         'vantagem': 3,\n         'contra': 91,\n         'Vasco': 1,\n         'Copa': 2,\n         '9wXuAUSCiY': 1,\n         'Relator': 4,\n         'reforma': 20,\n         'tributária': 13,\n         'prevê': 3,\n         'flexibilização': 2,\n         'alíquota': 1,\n         'fqnu7ZJo1t': 1,\n         'Receita': 2,\n         'organização': 4,\n         'saúde': 15,\n         'Witzel': 1,\n         'acusou': 1,\n         'CPI': 11,\n         'saltou': 1,\n         'cinquenta': 1,\n         'vezes': 9,\n         'ano': 17,\n         'X3fghFu2a1': 1,\n         'Governo': 18,\n         'pretende': 2,\n         'criar': 6,\n         'vale': 6,\n         'gás': 2,\n         'evitar': 6,\n         'intervenção': 1,\n         'mercado': 7,\n         'conter': 1,\n         'queda': 2,\n         'popularidade': 2,\n         'OX4lP4V8TO': 1,\n         'Forças': 6,\n         'Armadas': 5,\n         'apoiariam': 1,\n         'ou': 19,\n         'Mourão': 7,\n         'questiona': 3,\n         'leitor': 4,\n         'KFkah5Q2RW': 1,\n         'Coaf': 1,\n         'equipe': 16,\n         'atuar': 1,\n         'ataques': 4,\n         'cibernéticos': 1,\n         'roubo': 2,\n         'sigilosos': 1,\n         'kDaMFlD0aA': 1,\n         'Cidadãos': 1,\n         'sabem': 1,\n         'serve': 2,\n         'comunidade': 2,\n         'países': 2,\n         'língua': 1,\n         'portuguesa': 1,\n         'secretário': 4,\n         'xIIuVH5GqB': 1,\n         'Ciro': 15,\n         'Nogueira': 13,\n         'assume': 3,\n         'coordenação': 1,\n         'Planalto': 5,\n         'aproximação': 3,\n         'senadores': 1,\n         'independentes': 1,\n         '7r7i6k5un8': 1,\n         'Secom': 2,\n         'homenagem': 5,\n         'agricultores': 5,\n         'usando': 2,\n         'homem': 8,\n         'arma': 4,\n         'tirada': 1,\n         'contexto': 2,\n         '7mZqxYaKfD': 1,\n         'gravou': 2,\n         'depoimento': 2,\n         'Luis': 1,\n         'Miranda': 1,\n         'inquérito': 5,\n         'apura': 1,\n         'prevaricação': 1,\n         'Jair': 13,\n         ...})"
     },
     "execution_count": 30,
     "metadata": {},
     "output_type": "execute_result"
    }
   ],
   "source": [
    "import collections\n",
    "\n",
    "counter=collections.Counter(tweets_words)\n",
    "counter"
   ],
   "metadata": {
    "collapsed": false,
    "pycharm": {
     "name": "#%%\n"
    }
   }
  },
  {
   "cell_type": "code",
   "execution_count": 31,
   "outputs": [
    {
     "data": {
      "text/plain": "[('https', 1847),\n ('t', 1847),\n ('co', 1844),\n ('de', 1369),\n ('e', 744),\n ('a', 687),\n ('em', 514),\n ('do', 510),\n ('da', 475),\n ('que', 396)]"
     },
     "execution_count": 31,
     "metadata": {},
     "output_type": "execute_result"
    }
   ],
   "source": [
    "counter.most_common(10)"
   ],
   "metadata": {
    "collapsed": false,
    "pycharm": {
     "name": "#%%\n"
    }
   }
  },
  {
   "cell_type": "code",
   "execution_count": 32,
   "outputs": [
    {
     "data": {
      "text/plain": "[('https', 1847),\n ('t', 1847),\n ('co', 1844),\n ('de', 1369),\n ('e', 744),\n ('a', 687),\n ('em', 514),\n ('do', 510),\n ('da', 475),\n ('que', 396),\n ('no', 387),\n ('para', 367),\n ('o', 364),\n ('na', 336),\n ('com', 299),\n ('mais', 206),\n ('é', 195),\n ('por', 194),\n ('', 163),\n ('Brasil', 158),\n ('Olimpíadas', 154),\n ('não', 148),\n ('nas', 145),\n ('Tokyo2020', 144),\n ('diz', 133),\n ('Bolsonaro', 129),\n ('A', 126),\n ('JogosOlimpicos', 125),\n ('dos', 122),\n ('se', 117),\n ('RT', 115),\n ('um', 115),\n ('das', 109),\n ('O', 106),\n ('Tóquio', 101),\n ('ao', 99),\n ('sobre', 93),\n ('os', 93),\n ('contra', 91),\n ('como', 82),\n ('foi', 81),\n ('final', 79),\n ('à', 78),\n ('Leia', 75),\n ('medalha', 74),\n ('uma', 74),\n ('Reuters', 72),\n ('após', 70),\n ('as', 69),\n ('nos', 63)]"
     },
     "execution_count": 32,
     "metadata": {},
     "output_type": "execute_result"
    }
   ],
   "source": [
    "counter.most_common(50)"
   ],
   "metadata": {
    "collapsed": false,
    "pycharm": {
     "name": "#%%\n"
    }
   }
  },
  {
   "cell_type": "markdown",
   "source": [
    "14. A informação não é assim tão útil, dado que muitas palavras são as chamadas **stop words**\n",
    "15. Vamos verificar quantas palavras únicas os tweets contêm e também testar se algumas palavras estão presentes na lista."
   ],
   "metadata": {
    "collapsed": false
   }
  },
  {
   "cell_type": "code",
   "execution_count": 33,
   "outputs": [],
   "source": [
    "palavras_teste = ['medalha', 'CPI', 'frio', 'calor', 'Bolsonaro', 'Lula', 'via', 'hoje', 'futuro']"
   ],
   "metadata": {
    "collapsed": false,
    "pycharm": {
     "name": "#%%\n"
    }
   }
  },
  {
   "cell_type": "code",
   "execution_count": 34,
   "outputs": [
    {
     "name": "stdout",
     "output_type": "stream",
     "text": [
      "medalha: 74\n",
      "CPI: 11\n",
      "frio: 13\n",
      "calor: 2\n",
      "Bolsonaro: 129\n",
      "Lula: 11\n",
      "via: 5\n",
      "hoje: 14\n",
      "futuro: 5\n"
     ]
    }
   ],
   "source": [
    "for word in palavras_teste:\n",
    "    try:\n",
    "        print(f\"{word}: {counter[word]}\")\n",
    "    except KeyError:\n",
    "        print(f'{word} não está na amostra')"
   ],
   "metadata": {
    "collapsed": false,
    "pycharm": {
     "name": "#%%\n"
    }
   }
  },
  {
   "cell_type": "markdown",
   "source": [
    "16. Bem, conseguimos alguma (vaga) ideia de relevância de tema, por exemplo, uma indicação que talvez tenhamos\n",
    " <span style=\"color:blue\">frio </span> mais à frente... ou que talvez hoje seja mais relevante que o futuro,\n",
    "do ponto de vista jornalístico?\n"
   ],
   "metadata": {
    "collapsed": false
   }
  },
  {
   "cell_type": "markdown",
   "source": [
    "# Noções de Natural Language"
   ],
   "metadata": {
    "collapsed": false
   }
  },
  {
   "cell_type": "code",
   "execution_count": 35,
   "outputs": [
    {
     "name": "stdout",
     "output_type": "stream",
     "text": [
      "Requirement already satisfied: nltk in /home/furtado/.conda/envs/py39web/lib/python3.9/site-packages (3.6.2)\r\n",
      "Requirement already satisfied: click in /home/furtado/.conda/envs/py39web/lib/python3.9/site-packages (from nltk) (8.0.1)\r\n",
      "Requirement already satisfied: joblib in /home/furtado/.conda/envs/py39web/lib/python3.9/site-packages (from nltk) (1.0.1)\r\n",
      "Requirement already satisfied: tqdm in /home/furtado/.conda/envs/py39web/lib/python3.9/site-packages (from nltk) (4.61.2)\r\n",
      "Requirement already satisfied: regex in /home/furtado/.conda/envs/py39web/lib/python3.9/site-packages (from nltk) (2021.7.6)\r\n"
     ]
    }
   ],
   "source": [
    "!pip install nltk"
   ],
   "metadata": {
    "collapsed": false,
    "pycharm": {
     "name": "#%%\n"
    }
   }
  },
  {
   "cell_type": "code",
   "execution_count": 36,
   "outputs": [
    {
     "name": "stderr",
     "output_type": "stream",
     "text": [
      "[nltk_data] Downloading package punkt to /home/furtado/nltk_data...\n",
      "[nltk_data]   Package punkt is already up-to-date!\n"
     ]
    },
    {
     "data": {
      "text/plain": "True"
     },
     "execution_count": 36,
     "metadata": {},
     "output_type": "execute_result"
    }
   ],
   "source": [
    "import nltk\n",
    "nltk.download('punkt')"
   ],
   "metadata": {
    "collapsed": false,
    "pycharm": {
     "name": "#%%\n"
    }
   }
  },
  {
   "cell_type": "markdown",
   "source": [
    "## Filtering stop words"
   ],
   "metadata": {
    "collapsed": false
   }
  },
  {
   "cell_type": "code",
   "execution_count": 37,
   "outputs": [
    {
     "name": "stderr",
     "output_type": "stream",
     "text": [
      "[nltk_data] Downloading package stopwords to\n",
      "[nltk_data]     /home/furtado/nltk_data...\n",
      "[nltk_data]   Package stopwords is already up-to-date!\n"
     ]
    }
   ],
   "source": [
    "nltk.download('stopwords')\n",
    "stopwords = nltk.corpus.stopwords.words('portuguese')"
   ],
   "metadata": {
    "collapsed": false,
    "pycharm": {
     "name": "#%%\n"
    }
   }
  },
  {
   "cell_type": "code",
   "execution_count": 38,
   "outputs": [
    {
     "data": {
      "text/plain": "0    [Todas, as, pessoas, que, já, passaram, pela, ...\n1    [Rede, D'Or, compra, hospital, em, Feira, de, ...\n2    [Bolsonaro, chama, imprensa, para, live, ,, se...\n3    [Nubank, aumentará, o, limite, do, cartão, de,...\n4    [Saiba, o, que, é, fibrilação, atrial, ,, prob...\nName: tokens, dtype: object"
     },
     "execution_count": 38,
     "metadata": {},
     "output_type": "execute_result"
    }
   ],
   "source": [
    "base_texto['tokens'] = base_texto.text.apply(nltk.word_tokenize, language='portuguese')\n",
    "base_texto.tokens.head()"
   ],
   "metadata": {
    "collapsed": false,
    "pycharm": {
     "name": "#%%\n"
    }
   }
  },
  {
   "cell_type": "code",
   "execution_count": 39,
   "outputs": [
    {
     "data": {
      "text/plain": "author_id                                             14594813\nid                                         1420751875444416535\ntext         Todas as pessoas que já passaram pela ginástic...\nwords        [Todas, as, pessoas, que, já, passaram, pela, ...\ntokens       [todas, pessoas, passaram, ginástica, feminina...\nName: 0, dtype: object"
     },
     "execution_count": 39,
     "metadata": {},
     "output_type": "execute_result"
    }
   ],
   "source": [
    "base_texto.tokens = base_texto.tokens.apply(lambda w: [x.lower() for x in w if x.lower() not in stopwords])\n",
    "base_texto.loc[0]"
   ],
   "metadata": {
    "collapsed": false,
    "pycharm": {
     "name": "#%%\n"
    }
   }
  },
  {
   "cell_type": "code",
   "execution_count": 40,
   "outputs": [
    {
     "data": {
      "text/plain": "0    [todas, pessoas, passaram, ginástica, feminina...\n1    [rede, d'or, compra, hospital, feira, santana,...\n2    [bolsonaro, chama, imprensa, live, ,, direito,...\n3    [nubank, aumentará, limite, cartão, quase, 90,...\n4    [saiba, fibrilação, atrial, ,, problema, cardí...\nName: tokens, dtype: object"
     },
     "execution_count": 40,
     "metadata": {},
     "output_type": "execute_result"
    }
   ],
   "source": [
    "base_texto.tokens.head()\n"
   ],
   "metadata": {
    "collapsed": false,
    "pycharm": {
     "name": "#%%\n"
    }
   }
  },
  {
   "cell_type": "code",
   "execution_count": 41,
   "outputs": [
    {
     "data": {
      "text/plain": "FreqDist({'rt': 115, 'brasil': 27, 'bolsonaro': 21, 'após': 18, 'governo': 12, 'folha': 12, 'pandemia': 12, 'seleção': 10, 'justiça': 10, 'ministério': 9, ...})"
     },
     "execution_count": 41,
     "metadata": {},
     "output_type": "execute_result"
    }
   ],
   "source": [
    "fd = nltk.FreqDist(base_texto.tokens.apply(lambda w: w[0]))\n",
    "fd"
   ],
   "metadata": {
    "collapsed": false,
    "pycharm": {
     "name": "#%%\n"
    }
   }
  },
  {
   "cell_type": "code",
   "execution_count": 42,
   "outputs": [
    {
     "data": {
      "text/plain": "[('rt', 115),\n ('brasil', 27),\n ('bolsonaro', 21),\n ('após', 18),\n ('governo', 12),\n ('folha', 12),\n ('pandemia', 12),\n ('seleção', 10),\n ('justiça', 10),\n ('ministério', 9),\n ('rayssa', 8),\n ('``', 7),\n ('mario', 7),\n ('bom', 7),\n ('arthur', 7),\n ('mortes', 7),\n ('veja', 7),\n ('skatista', 7),\n ('@', 7),\n ('saiba', 6),\n ('rebeca', 6),\n ('italo', 6),\n ('entenda', 6),\n ('1921', 6),\n ('hélio', 6),\n ('guedes', 6),\n ('#', 6),\n ('medina', 6),\n ('ifer', 6),\n ('pf', 5),\n ('.', 5),\n ('deu', 5),\n ('primeira', 5),\n ('paulo', 5),\n ('brasileiro', 5),\n ('ouro', 5),\n ('polícia', 5),\n ('charge', 5),\n ('japonês', 5),\n ('fim', 5)]"
     },
     "execution_count": 42,
     "metadata": {},
     "output_type": "execute_result"
    }
   ],
   "source": [
    "counter=collections.Counter(base_texto.tokens.apply(lambda w: w[0]))\n",
    "counter.most_common(40)"
   ],
   "metadata": {
    "collapsed": false,
    "pycharm": {
     "name": "#%%\n"
    }
   }
  },
  {
   "cell_type": "markdown",
   "source": [
    "---\n",
    "### Noções de\n",
    "# Regular Expressions -- REGEX\n",
    "## `import re`"
   ],
   "metadata": {
    "collapsed": false
   }
  },
  {
   "cell_type": "markdown",
   "source": [
    "\"Regular expressions (called REs, or regexes, or regex patterns) are essentially a tiny, highly specialized programming\n",
    "language embedded inside Python and made available through the re module. Using this little language,\n",
    "**you specify the rules for the set of possible strings that you want to match**; this set might contain English\n",
    "sentences, or e-mail addresses, or TeX commands, or anything you like. You can then ask questions such as\n",
    "“Does this string match the pattern?”, or “Is there a match for the pattern anywhere in this string?”.\n",
    "You can also use REs to modify a string or to split it apart in various ways.\"\n",
    "\n",
    "source: https://docs.python.org/3/howto/regex.html"
   ],
   "metadata": {
    "collapsed": false
   }
  },
  {
   "cell_type": "markdown",
   "source": [
    "## Em partes\n",
    "1. Linguagem específica, especialista, para <span style=\"color:red\">filtrar</span> texto em grandes porções de texto.\n",
    "2. Serve para extrair, por exemplo: CPFs, telefones, e-mails, links, etc.\n",
    "3. Você especifica as REGRAS.\n",
    "### Não é simples!\n",
    "4. Depois aplica as regras ao texto e pergunta quais porções satisfazem a regra.\n",
    "5. Pode **retornar** as porções que satisfazem a regra, ou substituí-las."
   ],
   "metadata": {
    "collapsed": false
   }
  },
  {
   "cell_type": "markdown",
   "source": [
    "* É difícil por que é necessário identificar a função de vários destes \"metacharacters\" em sequência\n",
    "\n",
    "# . ^ $ * + ? { } [ ] \\ | ( )\n",
    "---"
   ],
   "metadata": {
    "collapsed": false
   }
  },
  {
   "cell_type": "markdown",
   "source": [
    "1. Vamos começar pelo básico. Localizar uma palavra específica."
   ],
   "metadata": {
    "collapsed": false
   }
  },
  {
   "cell_type": "code",
   "execution_count": 56,
   "outputs": [
    {
     "data": {
      "text/plain": "<re.Match object; span=(189, 194), match='gmail'>"
     },
     "execution_count": 56,
     "metadata": {},
     "output_type": "execute_result"
    }
   ],
   "source": [
    "import re\n",
    "\n",
    "pattern = 'gmail'\n",
    "texto = 'Este é um texto que vamos utilizar para testar se os itens que estamos testando estão aqui dentro deste texto ou não, ' \\\n",
    "        'como disse esse texto pode conter endereços de email do tipo furtadobb@gmail.com, paginas da internet, tais como' \\\n",
    "        'htpps://github.com/bafurtado/PolicySpace2'\n",
    "\n",
    "re.search(pattern, texto)"
   ],
   "metadata": {
    "collapsed": false,
    "pycharm": {
     "name": "#%%\n"
    }
   }
  },
  {
   "cell_type": "markdown",
   "source": [
    "2. O resultado é a posição do primeiro item encontrado que corresponde ao padrão, à regra. Vamos conferir"
   ],
   "metadata": {
    "collapsed": false
   }
  },
  {
   "cell_type": "code",
   "execution_count": 64,
   "outputs": [
    {
     "name": "stdout",
     "output_type": "stream",
     "text": [
      "gmail\n"
     ]
    }
   ],
   "source": [
    "print(texto[189:194])"
   ],
   "metadata": {
    "collapsed": false,
    "pycharm": {
     "name": "#%%\n"
    }
   }
  },
  {
   "cell_type": "markdown",
   "source": [
    "3. Pronto, com isso, já conseguimos localizar palavras específicas.\n",
    "4. Vamos automatizar o processo, usando o objeto python retornado pela `re.search()`"
   ],
   "metadata": {
    "collapsed": false
   }
  },
  {
   "cell_type": "code",
   "execution_count": 65,
   "outputs": [
    {
     "data": {
      "text/plain": "189"
     },
     "execution_count": 65,
     "metadata": {},
     "output_type": "execute_result"
    }
   ],
   "source": [
    "resultado = re.search(pattern, texto)\n",
    "resultado.start()"
   ],
   "metadata": {
    "collapsed": false,
    "pycharm": {
     "name": "#%%\n"
    }
   }
  },
  {
   "cell_type": "code",
   "execution_count": 66,
   "outputs": [
    {
     "name": "stdout",
     "output_type": "stream",
     "text": [
      "gmail\n"
     ]
    }
   ],
   "source": [
    "print(texto[resultado.start():resultado.end()])"
   ],
   "metadata": {
    "collapsed": false,
    "pycharm": {
     "name": "#%%\n"
    }
   }
  },
  {
   "cell_type": "markdown",
   "source": [
    "---\n",
    "5. **[ ]** servem para classes de palavras dentro dos colchetes.\n",
    "6. por exemplo [abc] vai localizar todos **as** os **bs** e os **cs** do texto.\n",
    "\n",
    "*Na verdade, sem o quantifier que veremos em seguida, o processo identifica apenas o primeiro dos itens.*"
   ],
   "metadata": {
    "collapsed": false
   }
  },
  {
   "cell_type": "code",
   "execution_count": null,
   "outputs": [],
   "source": [
    "pattern = '[abc]'\n",
    "re.search(pattern, texto)"
   ],
   "metadata": {
    "collapsed": false,
    "pycharm": {
     "name": "#%%\n"
    }
   }
  },
  {
   "cell_type": "markdown",
   "source": [
    "8. Conferindo, posição do primeiro a do texto"
   ],
   "metadata": {
    "collapsed": false
   }
  },
  {
   "cell_type": "code",
   "execution_count": null,
   "outputs": [],
   "source": [
    "print(texto[21])"
   ],
   "metadata": {
    "collapsed": false,
    "pycharm": {
     "name": "#%%\n"
    }
   }
  },
  {
   "cell_type": "markdown",
   "source": [
    "9. Note que isso é diferente de buscar pela expressão 'abc'.\n",
    "---"
   ],
   "metadata": {
    "collapsed": false
   }
  },
  {
   "cell_type": "markdown",
   "source": [
    "# *\n",
    "9. Vamos introduzir o asterisco: **\\*** primeiro quantifier.\n",
    "10. O **\\*** match <span style=\"color:red\">qualquer número de vezes</span> a expressão anterior.\n",
    "11. Por exemplo 'ca*t' vai encontrar o que?\n",
    "12. Pausa."
   ],
   "metadata": {
    "collapsed": false
   }
  },
  {
   "cell_type": "code",
   "execution_count": null,
   "outputs": [],
   "source": [
    "print('')"
   ],
   "metadata": {
    "collapsed": false,
    "pycharm": {
     "name": "#%%\n"
    }
   }
  },
  {
   "cell_type": "markdown",
   "source": [
    "13. Passo-a-passo. o 'c' sempre é necessário. 'a' está antes do **\\***, então pode estar incluída 0, 1, 2, 3 ... vezes. O 't' precisa estar no final."
   ],
   "metadata": {
    "collapsed": false
   }
  },
  {
   "cell_type": "code",
   "execution_count": 68,
   "outputs": [],
   "source": [
    "testes = ['maria', 'nina', 'combat', 'ct', 'cat', 'caaat', 'cast']"
   ],
   "metadata": {
    "collapsed": false,
    "pycharm": {
     "name": "#%%\n"
    }
   }
  },
  {
   "cell_type": "code",
   "execution_count": 69,
   "outputs": [
    {
     "name": "stdout",
     "output_type": "stream",
     "text": [
      "maria: None\n",
      "nina: None\n",
      "combat: None\n",
      "ct: <re.Match object; span=(0, 2), match='ct'>\n",
      "cat: <re.Match object; span=(0, 3), match='cat'>\n",
      "caaat: <re.Match object; span=(0, 5), match='caaat'>\n",
      "cast: None\n"
     ]
    }
   ],
   "source": [
    "pattern = 'ca*t'\n",
    "for teste in testes:\n",
    "    print(f'{teste}: {re.search(pattern, teste)}')\n"
   ],
   "metadata": {
    "collapsed": false,
    "pycharm": {
     "name": "#%%\n"
    }
   }
  },
  {
   "cell_type": "markdown",
   "source": [
    "### Exercício\n",
    "\n",
    "1. E a expressão: 'a[bcd]*b' vai encontrar o que?"
   ],
   "metadata": {
    "collapsed": false
   }
  },
  {
   "cell_type": "code",
   "execution_count": null,
   "outputs": [],
   "source": [
    "print('')"
   ],
   "metadata": {
    "collapsed": false,
    "pycharm": {
     "name": "#%%\n"
    }
   }
  },
  {
   "cell_type": "markdown",
   "source": [
    "R. Qualquer palavra que comece com 'a', termine com 'b' e tenha nenhuma letra ou qualquer número de 'b's, 'c's ou 'd's."
   ],
   "metadata": {
    "collapsed": false
   }
  },
  {
   "cell_type": "code",
   "execution_count": 70,
   "outputs": [
    {
     "name": "stdout",
     "output_type": "stream",
     "text": [
      "adccbb: <re.Match object; span=(0, 6), match='adccbb'>\n",
      "ab: <re.Match object; span=(0, 2), match='ab'>\n",
      "axcdb: None\n",
      "abcxb: <re.Match object; span=(0, 2), match='ab'>\n",
      "cat: None\n",
      "cast: None\n"
     ]
    }
   ],
   "source": [
    "testes = ['adccbb', 'ab', 'axcdb', 'abcxb', 'cat', 'cast']\n",
    "pattern = 'a[bcd]*b'\n",
    "for teste in testes:\n",
    "    print(f'{teste}: {re.search(pattern, teste)}')"
   ],
   "metadata": {
    "collapsed": false,
    "pycharm": {
     "name": "#%%\n"
    }
   }
  },
  {
   "cell_type": "markdown",
   "source": [
    "---\n",
    "# $$+$$\n",
    "\n",
    "14. O $$+$$, por sua vez vai encontrar todas as referências com **pelo menos uma** menção, ou mais\n",
    "15. 'ca+t', por exemplo vai buscar 'cat', 'caaat', 'caaaaaaat', mas não 'ct'."
   ],
   "metadata": {
    "collapsed": false
   }
  },
  {
   "cell_type": "markdown",
   "source": [
    "---\n",
    "# ?\n",
    "16. ? significa uma ou nenhuma vez. Pode ter, ou não ter. Por exemplo sócio-econômico ou socioeconomico, podemos buscar por\n",
    "*'s?cio?econ?mico'*."
   ],
   "metadata": {
    "collapsed": false
   }
  },
  {
   "cell_type": "code",
   "execution_count": 83,
   "outputs": [
    {
     "name": "stdout",
     "output_type": "stream",
     "text": [
      "<re.Match object; span=(13, 28), match='sócio-econômica'>\n",
      "<re.Match object; span=(13, 27), match='socioeconômica'>\n"
     ]
    }
   ],
   "source": [
    "pattern = 's[oó]?cio-?econ[oô]?mica'\n",
    "texto1 = 'A conjuntura sócio-econômica.'\n",
    "texto2 = 'A conjuntura socioeconômica.'\n",
    "\n",
    "print(re.search(pattern, texto1))\n",
    "print(re.search(pattern, texto2))"
   ],
   "metadata": {
    "collapsed": false,
    "pycharm": {
     "name": "#%%\n"
    }
   }
  },
  {
   "cell_type": "code",
   "execution_count": 84,
   "outputs": [
    {
     "name": "stdout",
     "output_type": "stream",
     "text": [
      "<re.Match object; span=(13, 28), match='sócio-econômica'>\n",
      "<re.Match object; span=(13, 27), match='socioeconômica'>\n"
     ]
    }
   ],
   "source": [
    "pattern = 's[oó]+cio-?econ[oô]+mica'\n",
    "texto1 = 'A conjuntura sócio-econômica.'\n",
    "texto2 = 'A conjuntura socioeconômica.'\n",
    "\n",
    "print(re.search(pattern, texto1))\n",
    "print(re.search(pattern, texto2))"
   ],
   "metadata": {
    "collapsed": false,
    "pycharm": {
     "name": "#%%\n"
    }
   }
  },
  {
   "cell_type": "markdown",
   "source": [
    "---\n",
    "# {}\n",
    "17. Aproveitando o exemplo para introduzir {} que indica um quantifier específico"
   ],
   "metadata": {
    "collapsed": false
   }
  },
  {
   "cell_type": "code",
   "execution_count": 85,
   "outputs": [
    {
     "name": "stdout",
     "output_type": "stream",
     "text": [
      "<re.Match object; span=(13, 28), match='sócio-econômica'>\n",
      "<re.Match object; span=(13, 27), match='socioeconômica'>\n",
      "None\n"
     ]
    }
   ],
   "source": [
    "pattern = 's[oó]{1}cio-?econ[oô]{1}mica'\n",
    "texto1 = 'A conjuntura sócio-econômica.'\n",
    "texto2 = 'A conjuntura socioeconômica.'\n",
    "texto3 = 'A conjuntura sóocioeconômica.'\n",
    "\n",
    "print(re.search(pattern, texto1))\n",
    "print(re.search(pattern, texto2))\n",
    "print(re.search(pattern, texto3))"
   ],
   "metadata": {
    "collapsed": false,
    "pycharm": {
     "name": "#%%\n"
    }
   }
  },
  {
   "cell_type": "markdown",
   "source": [
    "---\n",
    "# |\n",
    "17. De novo, aproveitando o exemplo para introduzir | que indica ou [a|b]\n",
    "18. Reescrevendo exemplo"
   ],
   "metadata": {
    "collapsed": false
   }
  },
  {
   "cell_type": "code",
   "execution_count": 86,
   "outputs": [
    {
     "name": "stdout",
     "output_type": "stream",
     "text": [
      "<re.Match object; span=(13, 28), match='sócio-economica'>\n",
      "<re.Match object; span=(13, 27), match='socioeconômica'>\n",
      "None\n"
     ]
    }
   ],
   "source": [
    "pattern = 's[o|ó]cio-?econ[o|ô]mica'\n",
    "texto1 = 'A conjuntura sócio-economica.'\n",
    "texto2 = 'A conjuntura socioeconômica.'\n",
    "texto3 = 'A conjuntura sóocioeconômica.'\n",
    "\n",
    "print(re.search(pattern, texto1))\n",
    "print(re.search(pattern, texto2))\n",
    "print(re.search(pattern, texto3))"
   ],
   "metadata": {
    "collapsed": false,
    "pycharm": {
     "name": "#%%\n"
    }
   }
  },
  {
   "cell_type": "markdown",
   "source": [
    "---\n",
    "# {}\n",
    "\n",
    "19. Para facilitar, os parênteses são utilizados para m (mínimo) e n (máximo) de repetições **da expressão anterior**.\n",
    "20. 'a{1,3}' significa que a expressão anterior, no caso o 'a', deve ter no mínimo uma vez e no máximo 3.21Portanto, a equivalência abaixo é válida\n",
    "\n",
    "# *   =   {0, }\n",
    "# +   =   {1, }\n",
    "# ?   =   {0, 1}\n",
    "\n",
    "## exatamente 3 vezes = {3}\n",
    "\n",
    "---"
   ],
   "metadata": {
    "collapsed": false
   }
  },
  {
   "cell_type": "markdown",
   "source": [
    "## Outros detalhes.\n",
    "\n",
    "21. Para buscar todas as letras minúsculas, pode utilizar o hífen para uma sequência. Por exemplo '[a-z]' serve como regra\n",
    "para todas as letras minúsculas, como '[0-9]' para todos os dígitos.\n",
    "22. '[a-zA-Z]', portanto captura tudo que for letra.\n",
    "\n",
    "# ^\n",
    "\n",
    "^ é utilizado **NO INÍCIO** de uma sequência como exclusão\n",
    "23. '[^0-9]' excluirá toda a informação numérica da busca."
   ],
   "metadata": {
    "collapsed": false
   }
  },
  {
   "cell_type": "markdown",
   "source": [
    "---\n",
    "# Extraindo informação com `re`"
   ],
   "metadata": {
    "collapsed": false
   }
  },
  {
   "cell_type": "markdown",
   "source": [
    "## Vimos o processo de 'search'. Mas, também podemos utilizar **re** para extração de informação. Captura.\n",
    "\n",
    "# ()\n",
    "\n",
    "24. Se os parênteses fecham uma parte da expressão, apenas aquela expressão será retornada.\n",
    "25. Ou seja, quando identificamos algum elemento de interesse, podemos capturar apenas uma porção da\n",
    "informação próxima aquele elemento encontrado. Por exemplo:"
   ],
   "metadata": {
    "collapsed": false
   }
  },
  {
   "cell_type": "code",
   "execution_count": 87,
   "outputs": [
    {
     "data": {
      "text/plain": "[' Bernardo Alves Furtado ', ' Claudiomar']"
     },
     "execution_count": 87,
     "metadata": {},
     "output_type": "execute_result"
    }
   ],
   "source": [
    "texto3 = 'nome: Bernardo Alves Furtado \\n nome: Claudiomar'\n",
    "pattern = 'nome:{1}(.*)'\n",
    "\n",
    "re.findall(pattern, texto3)"
   ],
   "metadata": {
    "collapsed": false,
    "pycharm": {
     "name": "#%%\n"
    }
   }
  },
  {
   "cell_type": "markdown",
   "source": [
    "26. Agora, começamos a complicar. Como previsto.\n",
    "27. Capturando o e-mail no texto inicial."
   ],
   "metadata": {
    "collapsed": false
   }
  },
  {
   "cell_type": "code",
   "execution_count": 88,
   "outputs": [
    {
     "data": {
      "text/plain": "['furtadobb@gmail.com']"
     },
     "execution_count": 88,
     "metadata": {},
     "output_type": "execute_result"
    }
   ],
   "source": [
    "pattern = '([\\w]+@[\\w]+\\.[\\w]+)'\n",
    "re.findall(pattern, texto)"
   ],
   "metadata": {
    "collapsed": false,
    "pycharm": {
     "name": "#%%\n"
    }
   }
  },
  {
   "cell_type": "markdown",
   "source": [
    "### Passo-a-passo\n",
    "1. O '(' começa o processo de retornar o que for encontrado dentro, até o próximo ')'.\n",
    "2. [\\w] refere-se a qualquer uma das alternativas entre [a-zA-Z0-9], ou seja a palavra antes do **@**\n",
    "3. Pelo menos uma letra é necessária. Portanto [\\w]+\n",
    "4. Em seguida, o @, literalmente.\n",
    "5. Depois outra palavra, após o arroba. Mesma coisa: [\\w]+.\n",
    "6. Depois um ponto. Como o ponto é um caractere especial, precisa ir com o '\\\\' para ser considerado ponto.\n",
    "7. Depois, novamente outra palavra [\\w]+ e retorna."
   ],
   "metadata": {
    "collapsed": false
   }
  },
  {
   "cell_type": "markdown",
   "source": [
    "### Vamos agora realizar o mesmo exercício, porém com a base de tweets que utilizamos. Vamos extrar todos os links contidos nos tweets.\n",
    "\n",
    "1. Relendo a base"
   ],
   "metadata": {
    "collapsed": false
   }
  },
  {
   "cell_type": "code",
   "execution_count": 89,
   "outputs": [
    {
     "data": {
      "text/plain": "0    Todas as pessoas que já passaram pela ginástic...\n1    Rede D'Or compra hospital em Feira de Santana,...\n2    Bolsonaro chama imprensa para live, sem direit...\n3    Nubank aumentará o limite do cartão de quase 9...\n4    Saiba o que é fibrilação atrial, problema card...\nName: text, dtype: object"
     },
     "execution_count": 89,
     "metadata": {},
     "output_type": "execute_result"
    }
   ],
   "source": [
    "import pandas as pd\n",
    "\n",
    "address = 'https://github.com/BAFurtado/MBA_IDP_CapturaTratamento/blob/main/data/base_tweets_read.csv'\n",
    "base_texto = pd.read_csv(f'{address}?raw=True', sep=';')\n",
    "\n",
    "base_texto.text.head()"
   ],
   "metadata": {
    "collapsed": false,
    "pycharm": {
     "name": "#%%\n"
    }
   }
  },
  {
   "cell_type": "code",
   "execution_count": 90,
   "outputs": [
    {
     "data": {
      "text/plain": "'Todas as pessoas que já passaram pela ginástica feminina do Brasil se veem nessa medalha, diz Rebeca Andrade, após ganhar a prata em Tóquio #JogosOlimpicos #Tokyo2020 \\n\\nhttps://t.co/CfRg6aSQE9 https://t.co/pU7dqJZI5U'"
     },
     "execution_count": 90,
     "metadata": {},
     "output_type": "execute_result"
    }
   ],
   "source": [
    "base_texto.text.loc[0]"
   ],
   "metadata": {
    "collapsed": false,
    "pycharm": {
     "name": "#%%\n"
    }
   }
  },
  {
   "cell_type": "markdown",
   "source": [
    "2. Nosso padrão, sempre vai conter 'https://'"
   ],
   "metadata": {
    "collapsed": false
   }
  },
  {
   "cell_type": "code",
   "execution_count": 91,
   "outputs": [
    {
     "data": {
      "text/plain": "['https://t.co/CfRg6aSQE9', 'https://t.co/pU7dqJZI5U']"
     },
     "execution_count": 91,
     "metadata": {},
     "output_type": "execute_result"
    }
   ],
   "source": [
    "pattern = '(https?://[\\w./]+)'\n",
    "re.findall(pattern, base_texto.text.loc[0])"
   ],
   "metadata": {
    "collapsed": false,
    "pycharm": {
     "name": "#%%\n"
    }
   }
  },
  {
   "cell_type": "markdown",
   "source": [
    "3. Na verdade, no teste, dois links estão disponíveis.\n",
    "4. O primeiro parece ser o link para a notícia e o segundo é o link do próprio tweet.\n",
    "5. Vamos investigar sempre os primeiros. Podemos usar, `search()` e capturar o primeiro group, com `.group(0)`"
   ],
   "metadata": {
    "collapsed": false
   }
  },
  {
   "cell_type": "code",
   "execution_count": 92,
   "outputs": [
    {
     "data": {
      "text/plain": "'https://t.co/CfRg6aSQE9'"
     },
     "execution_count": 92,
     "metadata": {},
     "output_type": "execute_result"
    }
   ],
   "source": [
    "pattern = '(https://[\\w./]+)'\n",
    "re.search(pattern, base_texto.text.loc[0]).group(0)"
   ],
   "metadata": {
    "collapsed": false,
    "pycharm": {
     "name": "#%%\n"
    }
   }
  },
  {
   "cell_type": "markdown",
   "source": [
    "6. Para fazer isso para a base toda, vamos utilizar o `re.compile` para ficar mais rápido e utilizar com apply.\n",
    "7. Confiram que dá no mesmo:"
   ],
   "metadata": {
    "collapsed": false
   }
  },
  {
   "cell_type": "code",
   "execution_count": 93,
   "outputs": [
    {
     "data": {
      "text/plain": "'https://t.co/CfRg6aSQE9'"
     },
     "execution_count": 93,
     "metadata": {},
     "output_type": "execute_result"
    }
   ],
   "source": [
    "p = re.compile(pattern)\n",
    "re.search(p, base_texto.text.loc[0]).group(0)"
   ],
   "metadata": {
    "collapsed": false,
    "pycharm": {
     "name": "#%%\n"
    }
   }
  },
  {
   "cell_type": "code",
   "execution_count": 94,
   "outputs": [
    {
     "data": {
      "text/plain": "0    https://t.co/CfRg6aSQE9\n1    https://t.co/I1fwiVoE1e\n2    https://t.co/mLyuThmbFQ\n3    https://t.co/n57pDZxiMb\n4    https://t.co/GQUqTMxfLW\nName: links, dtype: object"
     },
     "execution_count": 94,
     "metadata": {},
     "output_type": "execute_result"
    }
   ],
   "source": [
    "# base_texto['links'] = base_texto.text.apply(lambda t: re.search(p, t).group(0))\n",
    "\n",
    "# O apply simples acima, não funciona quando não há match. Por isso temos que implementar uma condicional.\n",
    "# Quando não houver, match, add None.\n",
    "\n",
    "base_texto['links'] = base_texto.text.apply(lambda t: re.search(p, t).group(0) if re.search(p, t) else None)\n",
    "base_texto.links.head()"
   ],
   "metadata": {
    "collapsed": false,
    "pycharm": {
     "name": "#%%\n"
    }
   }
  },
  {
   "cell_type": "code",
   "execution_count": 95,
   "outputs": [
    {
     "data": {
      "text/plain": "1687    https://t.co/JkthCh42Rv\n1688    https://t.co/aZVedrdkMl\n1689    https://t.co/Fnkor61377\n1690    https://t.co/PQzWVYjlg0\n1691    https://t.co/hCxE7yVfgr\nName: links, dtype: object"
     },
     "execution_count": 95,
     "metadata": {},
     "output_type": "execute_result"
    }
   ],
   "source": [
    "base_texto.links.tail()"
   ],
   "metadata": {
    "collapsed": false,
    "pycharm": {
     "name": "#%%\n"
    }
   }
  },
  {
   "cell_type": "code",
   "execution_count": null,
   "outputs": [],
   "source": [
    "base_texto.info()"
   ],
   "metadata": {
    "collapsed": false,
    "pycharm": {
     "name": "#%%\n"
    }
   }
  },
  {
   "cell_type": "markdown",
   "source": [
    "# Exercícios\n",
    "\n",
    "1. Para testes automatizados, com explicação detalhada. Porém, só para o primeiro elemento: *match*, mas não *findall*:\n",
    "\n",
    "https://regex101.com/r/EwvuHA/47"
   ],
   "metadata": {
    "collapsed": false
   }
  },
  {
   "cell_type": "markdown",
   "source": [
    "---\n",
    "# Captura Massiva\n",
    "\n",
    "## dados.gov\n",
    "\n",
    "## Ilustração\n",
    "\n",
    "## *Exemplo de identificação, localização e extração de links de modo a automatizar download (captura) para posterior tratamento*\n",
    "---\n",
    "1. No site https://dados.gov.br/organization verificamos 198 organizações.\n",
    "2. Vamos verificar dados do DIÁRIO OFICIAL. Relevante para análise políticas públicas, mas\n",
    "também de interesse para empresas (licitações), informações (contratos, concursos), regulação, legislação.\n",
    "3. Conjunto de dados disponíveis para 20 anos (ao que parece).\n",
    "4. Os dados estão organizados por seções (1: 'leis', 2: 'servidores', e 3: 'contratos, acordos')\n",
    "e meses: https://dados.gov.br/dataset/diario-oficial-da-uniao-materias-publicadas-em-2021\n",
    "5. Vamos partir da página da organização de interesse e verificar os *links* existentes."
   ],
   "metadata": {
    "collapsed": false
   }
  },
  {
   "cell_type": "code",
   "execution_count": null,
   "outputs": [],
   "source": [
    "import requests\n",
    "import urllib.request\n",
    "from bs4 import BeautifulSoup as BS"
   ],
   "metadata": {
    "collapsed": false,
    "pycharm": {
     "name": "#%%\n"
    }
   }
  },
  {
   "cell_type": "markdown",
   "source": [
    "---\n",
    "1. Este é o código base. Poderíamos fazê-lo como função (avoid repetition).\n",
    "Todavia, para fins didáticos, vamos repeti-lo algumas vezes.\n",
    "\n",
    "    1. `url` de interesse\n",
    "    2. `import urllib`\n",
    "    3. resposta = `urllib.request.urlopen(url)`\n",
    "    4. Use BeautifulSoup (from bs4) para ler a resposta."
   ],
   "metadata": {
    "collapsed": false
   }
  },
  {
   "cell_type": "code",
   "execution_count": null,
   "outputs": [],
   "source": [
    "url_base = 'https://dados.gov.br/'\n",
    "url_in = 'https://dados.gov.br/organization/imprensa-nacional-in'\n",
    "response = urllib.request.urlopen(url_in)\n",
    "html_in = BS(response)\n",
    "html_in"
   ],
   "metadata": {
    "collapsed": false,
    "pycharm": {
     "name": "#%%\n"
    }
   }
  },
  {
   "cell_type": "markdown",
   "source": [
    "2. A resposta é um objeto python do tipo BeautifulSoup\n",
    "    1. Ou \"*Beautiful Soup parses the given HTML document into a tree of Python objects*\"\n",
    "    2. Desse modo, funciona como um intérprete do texto propriamente dito.\n",
    "3. Você pode simplesmente transformar tudo em texto com a opção `.text`\n",
    "    1. Isso seria útil se você domina Regular Expressions, por exemplo `import re`"
   ],
   "metadata": {
    "collapsed": false
   }
  },
  {
   "cell_type": "code",
   "execution_count": null,
   "outputs": [],
   "source": [
    "html_in.text"
   ],
   "metadata": {
    "collapsed": false,
    "pycharm": {
     "name": "#%%\n"
    }
   }
  },
  {
   "cell_type": "markdown",
   "source": [
    "4. No caso de objeto BeautifulSoup, você pode também acessar diretamente os headings: `h1, h2, h3, ...` Um a um.\n",
    "5. **Headings compõem a linguagem HTML**\n",
    "6. HTML é similar a XML, como vimos. Com tags do tipo: <h1>Título H1</h1>\n",
    "7. Que, como observam, também funciona em Markdown (jupyter)."
   ],
   "metadata": {
    "collapsed": false
   }
  },
  {
   "cell_type": "code",
   "execution_count": null,
   "outputs": [],
   "source": [
    "html_in.h2"
   ],
   "metadata": {
    "collapsed": false,
    "pycharm": {
     "name": "#%%\n"
    }
   }
  },
  {
   "cell_type": "markdown",
   "source": [
    "8. Você pode fazer um *loop* em todos os heading tipo h2"
   ],
   "metadata": {
    "collapsed": false
   }
  },
  {
   "cell_type": "code",
   "execution_count": null,
   "outputs": [],
   "source": [
    "for heads2 in html_in.find_all('h2'):\n",
    "    print(heads2)"
   ],
   "metadata": {
    "collapsed": false,
    "pycharm": {
     "name": "#%%\n"
    }
   }
  },
  {
   "cell_type": "markdown",
   "source": [
    "9. A resposta da `BeautifulSoup` contém ainda tags, seções (`div`), paragraphs (`p`)\n",
    "    1. Veja a lista completa [aqui](https://developer.mozilla.org/en-US/docs/Web/HTML/Element)\n",
    "10. Também é possível utilizar a função `find_all()` para buscas específicas.\n",
    "11. Nesse caso, vamos buscar todos os \"objetos\" do tipo 'a' que contêm um atributo **href**."
   ],
   "metadata": {
    "collapsed": false
   }
  },
  {
   "cell_type": "code",
   "execution_count": null,
   "outputs": [],
   "source": [
    "links1 = html_in.find_all('a', href=True)\n",
    "links1"
   ],
   "metadata": {
    "collapsed": false,
    "pycharm": {
     "name": "#%%\n"
    }
   }
  },
  {
   "cell_type": "markdown",
   "source": [
    "12. Note que o comando `find_all()` retorna uma lista que dentro contêm objetos BS."
   ],
   "metadata": {
    "collapsed": false
   }
  },
  {
   "cell_type": "markdown",
   "source": [
    "13. Vamos trabalhar agora com a lista para **EXTRAIR** a informação referente ao link, o **href**.\n",
    "14. Usamos a função `get`: `objeto.get('href')`\n",
    "15. Nesse caso específico, constatamos que o diretório de interesse é `dataset`.\n",
    "Usamos uma condicional, dentro de uma *list comprehension*"
   ],
   "metadata": {
    "collapsed": false
   }
  },
  {
   "cell_type": "code",
   "execution_count": null,
   "outputs": [],
   "source": [
    "links2 = [l.get('href') for l in links1 if 'dataset' in l.get('href')]\n",
    "links2"
   ],
   "metadata": {
    "collapsed": false,
    "pycharm": {
     "name": "#%%\n"
    }
   }
  },
  {
   "cell_type": "markdown",
   "source": [
    "## Here is where we automate it!\n",
    "<marquee style='width: 30%; color: red; font-size:30px'><b>Uau!</b></marquee>\n",
    "<p style=\"font-size:50px\">&#128526;</p>"
   ],
   "metadata": {
    "collapsed": false
   }
  },
  {
   "cell_type": "markdown",
   "source": [
    "16. Para raspar todos os *links*, possivelmente, restringiríamos essa lista,\n",
    "excluindo o primeiro e os 4 últimos links **[1:-4]**\n",
    "17. Adicionalmente, há links repetidos, vamos usar `list(set))`, para eliminar links repetidos"
   ],
   "metadata": {
    "collapsed": false
   }
  },
  {
   "cell_type": "code",
   "execution_count": null,
   "outputs": [],
   "source": [
    "links2_full = list(set(links2[1:-4]))\n",
    "links2_full"
   ],
   "metadata": {
    "collapsed": false,
    "pycharm": {
     "name": "#%%\n"
    }
   }
  },
  {
   "cell_type": "markdown",
   "source": [
    "18. A título de exemplo, vamos escolher somente um arquivo para dar o download.\n",
    "19. Lembrem-se que cada página contém\n",
    "    * um ano,\n",
    "    * depois temos links para os meses,\n",
    "    * cada mês contém os dias,\n",
    "    * cada dia três seções e\n",
    "    * cada seção, varíos tipos de ATOS.\n",
    "\n",
    "<marquee style='width: 30%; color: orange; font-size:30px'><b>Ufa!</b></marquee>"
   ],
   "metadata": {
    "collapsed": false
   }
  },
  {
   "cell_type": "markdown",
   "source": [
    "20. Agora que já temos os links dos anos. Vamos **repassar o processo**, com a página de um ano específico."
   ],
   "metadata": {
    "collapsed": false
   }
  },
  {
   "cell_type": "code",
   "execution_count": null,
   "outputs": [],
   "source": [
    "url_in_2021 = f'{url_base}{links2[2]}'\n",
    "response = urllib.request.urlopen(url_in_2021)\n",
    "html_in_2021 = BS(response)\n",
    "html_in_2021"
   ],
   "metadata": {
    "collapsed": false,
    "pycharm": {
     "name": "#%%\n"
    }
   }
  },
  {
   "cell_type": "markdown",
   "source": [
    "21. Vamos novamente localizar os links **href**"
   ],
   "metadata": {
    "collapsed": false
   }
  },
  {
   "cell_type": "code",
   "execution_count": null,
   "outputs": [],
   "source": [
    "links3 = html_in_2021.find_all('a', href=True)\n",
    "links3"
   ],
   "metadata": {
    "collapsed": false,
    "pycharm": {
     "name": "#%%\n"
    }
   }
  },
  {
   "cell_type": "markdown",
   "source": [
    "22. Conseguimos localizar que os links para os arquivos dos dias, vamos em busca dos links para os arquivos **zip**\n",
    "23. Identificamos a pasta `resource` de interesse. Vamos filtrar os links usando novamente *list comprehension*"
   ],
   "metadata": {
    "collapsed": false
   }
  },
  {
   "cell_type": "code",
   "execution_count": null,
   "outputs": [],
   "source": [
    "links4 = [l.get('href') for l in links3 if 'resource' in l.get('href')]\n",
    "links4"
   ],
   "metadata": {
    "collapsed": false,
    "pycharm": {
     "name": "#%%\n"
    }
   }
  },
  {
   "cell_type": "markdown",
   "source": [
    "24. Novamente, vamos escolher somente uma página para investigar."
   ],
   "metadata": {
    "collapsed": false
   }
  },
  {
   "cell_type": "code",
   "execution_count": null,
   "outputs": [],
   "source": [
    "page = f'{url_base}{links4[0]}'\n",
    "page"
   ],
   "metadata": {
    "collapsed": false,
    "pycharm": {
     "name": "#%%\n"
    }
   }
  },
  {
   "cell_type": "markdown",
   "source": [
    "25. Mesmo processo novamente."
   ],
   "metadata": {
    "collapsed": false
   }
  },
  {
   "cell_type": "code",
   "execution_count": null,
   "outputs": [],
   "source": [
    "response = urllib.request.urlopen(page)\n",
    "page_soup = BS(response)\n",
    "page_soup"
   ],
   "metadata": {
    "collapsed": false,
    "pycharm": {
     "name": "#%%\n"
    }
   }
  },
  {
   "cell_type": "markdown",
   "source": [
    "26. Examinando o retorno, conseguimos identificar uma **tag** do tipo `'p'` que contém o link para o arquivo **zip**."
   ],
   "metadata": {
    "collapsed": false
   }
  },
  {
   "cell_type": "code",
   "execution_count": null,
   "outputs": [],
   "source": [
    "my_first_data = page_soup.find_all('p', {'class': 'muted ellipsis'})\n",
    "my_first_data"
   ],
   "metadata": {
    "collapsed": false,
    "pycharm": {
     "name": "#%%\n"
    }
   }
  },
  {
   "cell_type": "markdown",
   "source": [
    "27. A lista contém só um item [0]. Vamos extrair o objeto `'href'`"
   ],
   "metadata": {
    "collapsed": false
   }
  },
  {
   "cell_type": "code",
   "execution_count": null,
   "outputs": [],
   "source": [
    "my_first_data = my_first_data[0].find('a')['href']\n",
    "my_first_data"
   ],
   "metadata": {
    "collapsed": false,
    "pycharm": {
     "name": "#%%\n"
    }
   }
  },
  {
   "cell_type": "markdown",
   "source": [
    "28. Do próprio nome do link, extraímos o nome do arquivo. `S{section}{mes}{ano}`."
   ],
   "metadata": {
    "collapsed": false
   }
  },
  {
   "cell_type": "code",
   "execution_count": null,
   "outputs": [],
   "source": [
    "name = my_first_data.split('/')\n",
    "name = [n for n in name if 'zip' in n][0]\n",
    "name"
   ],
   "metadata": {
    "collapsed": false,
    "pycharm": {
     "name": "#%%\n"
    }
   }
  },
  {
   "cell_type": "markdown",
   "source": [
    "29. Pronto. Salvemos o arquivo em formato zip:  `'wb'` (write bytes).\n",
    "30. Note o uso do `requests.get()`, no lugar de `urllib.request.urlopen()` que vinhámos usando."
   ],
   "metadata": {
    "collapsed": false
   }
  },
  {
   "cell_type": "code",
   "execution_count": null,
   "outputs": [],
   "source": [
    "r = requests.get(my_first_data)\n",
    "with open(f'data/{name}', 'wb') as handler:\n",
    "    handler.write(r.content)\n"
   ],
   "metadata": {
    "collapsed": false,
    "pycharm": {
     "name": "#%%\n"
    }
   }
  },
  {
   "cell_type": "markdown",
   "source": [
    "---\n",
    "# Outro exemplo de captura por meio de *DataLakes*\n",
    "\n",
    "## https://basedosdados.org/dataset/mundo-kaggle-olimpiadas\n",
    "---"
   ],
   "metadata": {
    "collapsed": false
   }
  },
  {
   "cell_type": "markdown",
   "source": [
    "1. É necessário instalar basedosdados\n",
    "\n",
    "## **Caution**\n",
    "Aqui, e na recomendação da página *basedosdados*, realizamos a instalação via **pip**\n",
    "\n",
    "Under the hood -- i.e., sem nos avisar, o **pip** desinstalou o `pandas 1.3` corrente e trocou pela versão `1.22`.\n",
    "\n",
    "Não me lembro, mas alguma função que eu tinha utilizado recentemente só estava disponível na versão `1.3`.\n",
    "\n",
    "**IRL** -- in real life -- eu só uso `conda envs` no `PyCharm`, com isso consigo controlar quais versões de quais bibliotecas estão instaladas.\n",
    "\n",
    "*Jupyter* é ótimo para aulas e apresentações, mas não é funcional para *scripts* e programas completos!"
   ],
   "metadata": {
    "collapsed": false
   }
  },
  {
   "cell_type": "markdown",
   "source": [
    "2. Base dos Dados possui\n",
    "\n",
    "# 504\n",
    "\n",
    "organizações"
   ],
   "metadata": {
    "collapsed": false
   }
  },
  {
   "cell_type": "code",
   "execution_count": 96,
   "outputs": [],
   "source": [
    "# !pip install basedosdados"
   ],
   "metadata": {
    "collapsed": false,
    "pycharm": {
     "name": "#%%\n"
    }
   }
  },
  {
   "cell_type": "markdown",
   "source": [
    "3. Além de instalar a biblioteca *basedosdados*, para realizar buscas ou ter acesso às bases,\n",
    "é necessário ter uma conta gratuita (limitada a 10 projetos no gcloud).\n",
    "4. Você pode se cadastrar de acordo com essas [instruções](https://basedosdados.github.io/mais/access_data_local/).\n",
    "5. Com isso, e o login na conta do Google (gmail), você terá como preencher corretamente o parâmetro:\n",
    "`billing_project_id=<nome_do_seu_projeto_cadastrado_no_gcloud>`"
   ],
   "metadata": {
    "collapsed": false
   }
  },
  {
   "cell_type": "code",
   "execution_count": 97,
   "outputs": [
    {
     "name": "stderr",
     "output_type": "stream",
     "text": [
      "Downloading: 100%|██████████| 269718/269718 [00:46<00:00, 5851.29rows/s]\n"
     ]
    }
   ],
   "source": [
    "import basedosdados as bd\n",
    "# Para carregar o dado direto no pandas\n",
    "df = bd.read_table(dataset_id='mundo_kaggle_olimpiadas',\n",
    "                   table_id='microdados',\n",
    "                   billing_project_id='idp-class')"
   ],
   "metadata": {
    "collapsed": false,
    "pycharm": {
     "name": "#%%\n"
    }
   }
  },
  {
   "cell_type": "markdown",
   "source": [
    "6. Vamos dar uma primeira olhada na base que lemos, direto para uma DataFrame do pandas."
   ],
   "metadata": {
    "collapsed": false
   }
  },
  {
   "cell_type": "code",
   "execution_count": null,
   "outputs": [],
   "source": [
    "df.info()"
   ],
   "metadata": {
    "collapsed": false,
    "pycharm": {
     "name": "#%%\n"
    }
   }
  },
  {
   "cell_type": "markdown",
   "source": [
    "# Tratamento dados"
   ],
   "metadata": {
    "collapsed": false
   }
  },
  {
   "cell_type": "markdown",
   "source": [
    "Feita a **Captura**, nos seus vários formatos, é necessário compreender, interpretar, analisar os dados, sejam eles:\n",
    "\n",
    "1. Numéricos\n",
    "2. Ou textuais\n",
    "3. Ou mistos"
   ],
   "metadata": {
    "collapsed": false,
    "pycharm": {
     "name": "#%% md\n"
    }
   }
  }
 ]
}