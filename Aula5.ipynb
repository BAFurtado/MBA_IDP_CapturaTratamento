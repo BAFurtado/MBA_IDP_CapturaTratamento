{
 "nbformat": 4,
 "nbformat_minor": 0,
 "metadata": {
  "colab": {
   "name": "Aula5.ipynb",
   "provenance": [],
   "collapsed_sections": []
  },
  "kernelspec": {
   "name": "python3",
   "language": "python",
   "display_name": "Python 3 (ipykernel)"
  },
  "language_info": {
   "name": "python"
  }
 },
 "cells": [
  {
   "cell_type": "markdown",
   "source": [
    "# Técnicas Avançadas de **Captura e Tratamento** de Dados\n",
    "\n",
    "---\n",
    "## Prof. Bernardo Alves Furtado\n",
    "---\n",
    "### MBA em Big Data, Business Analytics e Gestão de Negócios. @**IDP**\n",
    "---\n",
    "3 a 21 agosto  -- 21 horas/aula"
   ],
   "metadata": {
    "collapsed": false
   }
  },
  {
   "cell_type": "markdown",
   "source": [
    "## Fonte: Valor 16/8/2021. Manchete:\n",
    "# Pessimismo da comunidade financeira no Twitter aumenta\n",
    "\n",
    "![Finwit](https://github.com/BAFurtado/MBA_IDP_CapturaTratamento/blob/main/data/Screenshot%20from%202021-08-17%2013-11-05.png?raw=True)\n",
    "### Ilustração de utilização de prática\n",
    "### Matéria original: https://valor.globo.com/financas/noticia/2021/08/16/pessimismo-da-comunidade-financeira-no-twitter-aumenta.ghtml\n"
   ],
   "metadata": {
    "collapsed": false
   }
  },
  {
   "cell_type": "code",
   "execution_count": null,
   "outputs": [],
   "source": [
    "import requests\n",
    "url = 'https://queridodiario.ok.org.br/api/'\n",
    "endpoint = 'gazettes/'\n",
    "\n",
    "params = {'since': '2020-12-15',\n",
    "          'until': '2020-12-31',\n",
    "          'keywords': ['pandemia']}\n",
    "\n",
    "r = requests.get(f'{url}{endpoint}', params=params).json()\n",
    "r"
   ],
   "metadata": {
    "collapsed": false,
    "pycharm": {
     "name": "#%%\n"
    }
   }
  },
  {
   "cell_type": "code",
   "execution_count": null,
   "outputs": [],
   "source": [
    "print(r.keys())"
   ],
   "metadata": {
    "collapsed": false,
    "pycharm": {
     "name": "#%%\n"
    }
   }
  },
  {
   "cell_type": "code",
   "execution_count": null,
   "outputs": [],
   "source": [
    "print(type(r['gazettes']))"
   ],
   "metadata": {
    "collapsed": false,
    "pycharm": {
     "name": "#%%\n"
    }
   }
  },
  {
   "cell_type": "code",
   "execution_count": null,
   "outputs": [],
   "source": [
    "print(type(r['gazettes'][0]))"
   ],
   "metadata": {
    "collapsed": false,
    "pycharm": {
     "name": "#%%\n"
    }
   }
  },
  {
   "cell_type": "code",
   "execution_count": null,
   "outputs": [],
   "source": [
    "print(r['gazettes'][0].keys())"
   ],
   "metadata": {
    "collapsed": false,
    "pycharm": {
     "name": "#%%\n"
    }
   }
  },
  {
   "cell_type": "code",
   "execution_count": null,
   "outputs": [],
   "source": [
    "for gazette in r['gazettes']:\n",
    "    try:\n",
    "        texto = gazette['file_raw_txt']\n",
    "    except KeyError:\n",
    "        pass\n",
    "\n",
    "texto\n"
   ],
   "metadata": {
    "collapsed": false,
    "pycharm": {
     "name": "#%%\n"
    }
   }
  },
  {
   "cell_type": "code",
   "execution_count": null,
   "outputs": [],
   "source": [
    "textos = list()\n",
    "for gazette in r['gazettes']:\n",
    "    try:\n",
    "        textos.append(gazette['file_raw_txt'])\n",
    "    except KeyError:\n",
    "        pass\n",
    "textos"
   ],
   "metadata": {
    "collapsed": false,
    "pycharm": {
     "name": "#%%\n"
    }
   }
  },
  {
   "cell_type": "markdown",
   "source": [
    "---\n",
    "# Reforçando Captura $+$ Base de Dados\n",
    "# Exercício II API $+$ SQL\n",
    "\n"
   ],
   "metadata": {
    "collapsed": false
   }
  },
  {
   "cell_type": "markdown",
   "source": [
    "---\n",
    "1. Seguindo exatamente os passos que utilizamos para ilustrar SQL, vamos simplificar o processo e\n",
    "criar uma base que atenda os requisitos desta captura de dados de tweets.\n",
    "\n",
    "2. Conseguem me contar quais passos (em geral) foram esses?"
   ],
   "metadata": {
    "collapsed": false
   }
  },
  {
   "cell_type": "code",
   "execution_count": null,
   "outputs": [],
   "source": [
    "print('')"
   ],
   "metadata": {
    "collapsed": false,
    "pycharm": {
     "name": "#%%\n"
    }
   }
  },
  {
   "cell_type": "markdown",
   "source": [
    "1. Vamos começar **CRIANDO** a função de conexão com uma base nova. E o nome da nova base."
   ],
   "metadata": {
    "collapsed": false
   }
  },
  {
   "cell_type": "code",
   "execution_count": null,
   "outputs": [],
   "source": [
    "import sqlite3"
   ],
   "metadata": {
    "collapsed": false,
    "pycharm": {
     "name": "#%%\n"
    }
   }
  },
  {
   "cell_type": "markdown",
   "source": [
    "2. Configuração de dados básicos."
   ],
   "metadata": {
    "collapsed": false
   }
  },
  {
   "cell_type": "code",
   "execution_count": null,
   "outputs": [],
   "source": [
    "import os\n",
    "\n",
    "# Endereço no qual irá guardar a database\n",
    "tweet_db = 'data/my_first_tweet_database.db'\n",
    "if not os.path.exists('data'):\n",
    "    os.mkdir('data')\n"
   ],
   "metadata": {
    "collapsed": false,
    "pycharm": {
     "name": "#%%\n"
    }
   }
  },
  {
   "cell_type": "code",
   "execution_count": null,
   "outputs": [],
   "source": [
    "# Relembrando dados básicos\n",
    "from getpass import getpass\n",
    "bearer_token = getpass()"
   ],
   "metadata": {
    "collapsed": false,
    "pycharm": {
     "name": "#%%\n"
    }
   }
  },
  {
   "cell_type": "code",
   "execution_count": null,
   "outputs": [],
   "source": [
    "search_url = \"https://api.twitter.com/2/tweets/search/recent\"\n",
    "\n",
    "twitter_handle = 'folha'\n",
    "query_params = {'query': f'(from:{twitter_handle})',\n",
    "                'tweet.fields': 'author_id'}"
   ],
   "metadata": {
    "collapsed": false,
    "pycharm": {
     "name": "#%%\n"
    }
   }
  },
  {
   "cell_type": "code",
   "execution_count": null,
   "outputs": [],
   "source": [
    "def bearer_oauth(bear):\n",
    "    \"\"\"\n",
    "    Method required by bearer token authentication.\n",
    "    \"\"\"\n",
    "\n",
    "    bear.headers[\"Authorization\"] = f\"Bearer {bearer_token}\"\n",
    "    bear.headers[\"User-Agent\"] = \"v2RecentSearchPython\"\n",
    "    return bear\n",
    "\n",
    "\n",
    "def connect_to_endpoint(url, params):\n",
    "    response = requests.get(url, auth=bearer_oauth, params=params)\n",
    "    print(response.status_code)\n",
    "    if response.status_code != 200:\n",
    "        raise Exception(response.status_code, response.text)\n",
    "    return response.json()\n"
   ],
   "metadata": {
    "collapsed": false,
    "pycharm": {
     "name": "#%%\n"
    }
   }
  },
  {
   "cell_type": "markdown",
   "source": [
    "3. Função genérica de conexão"
   ],
   "metadata": {
    "collapsed": false
   }
  },
  {
   "cell_type": "code",
   "execution_count": null,
   "outputs": [],
   "source": [
    "def connect_db(database):\n",
    "    conn = sqlite3.connect(database)\n",
    "    print(f'Conexão realizada com sucesso.')\n",
    "    return conn"
   ],
   "metadata": {
    "collapsed": false,
    "pycharm": {
     "name": "#%%\n"
    }
   }
  },
  {
   "cell_type": "markdown",
   "source": [
    "4. Na sequência, vamos adaptar os comandos **SQL** para a CRIAÇÃO DE TABELAS na base nova.\n",
    "\n",
    " * Como exemplo, vamos fazer só uma tabela. Sugiro realizarem de forma mais completa posteriormente."
   ],
   "metadata": {
    "collapsed": false
   }
  },
  {
   "cell_type": "code",
   "execution_count": null,
   "outputs": [],
   "source": [
    "sql_create_table = \"\"\"CREATE TABLE IF NOT EXISTS tweets (\n",
    "                                id integer PRIMARY KEY,\n",
    "                                texto text NOT NULL,\n",
    "                                author_id NOT NULL\n",
    "                            );\"\"\""
   ],
   "metadata": {
    "collapsed": false,
    "pycharm": {
     "name": "#%%\n"
    }
   }
  },
  {
   "cell_type": "markdown",
   "source": [
    "5. Com a função de conexão, o nome da base e a instrução para criação da tabela, vamos DE FACTO, criar a tabela.\n",
    " * Simplesmente passa o nome da base, executa o comando de criar tabela e *commit* (salva localmente)."
   ],
   "metadata": {
    "collapsed": false
   }
  },
  {
   "cell_type": "code",
   "execution_count": null,
   "outputs": [],
   "source": [
    "# Rode somente uma vez para criar a table.\n",
    "with connect_db(tweet_db) as con:\n",
    "    con.execute(sql_create_table)\n",
    "    con.commit()"
   ],
   "metadata": {
    "collapsed": false,
    "pycharm": {
     "name": "#%%\n"
    }
   }
  },
  {
   "cell_type": "markdown",
   "source": [
    "6. Agora a parte distinta do exemplo anterior. Temos que inserir o processo de ATUALIZAÇÃO da base SQL ao processo de consulta da API!\n",
    "7. Vamos utilizar a mesma função `main` anterior, porém, **alterando**:\n",
    " 1. No momento de atualização da base.\n",
    " 2. E na consulta ao valor máximo presente na base."
   ],
   "metadata": {
    "collapsed": false
   }
  },
  {
   "cell_type": "code",
   "execution_count": null,
   "outputs": [],
   "source": [
    "def insere_tweet(conn, tweet):\n",
    "    sql = ''' INSERT INTO tweets(author_id,id,texto)\n",
    "              VALUES(?,?,?) '''\n",
    "    cur = conn.cursor()\n",
    "    # Note que 'tweet' precisa ser recebido como uma lista com sequência de id, author_id e texto\n",
    "    cur.executemany(sql, tweet)\n",
    "    conn.commit()\n",
    "    return cur.lastrowid"
   ],
   "metadata": {
    "collapsed": false,
    "pycharm": {
     "name": "#%%\n"
    }
   }
  },
  {
   "cell_type": "code",
   "execution_count": null,
   "outputs": [],
   "source": [
    "def check_since_id(conn):\n",
    "    # Note que a condição abaixo é necessária para verificar se há algum item com id na base\n",
    "    sql = '''SELECT MAX(id) FROM tweets;'''\n",
    "    cur = conn.cursor()\n",
    "    cur.execute(sql)\n",
    "    return cur.fetchone()[0]"
   ],
   "metadata": {
    "collapsed": false,
    "pycharm": {
     "name": "#%%\n"
    }
   }
  },
  {
   "cell_type": "code",
   "execution_count": null,
   "outputs": [],
   "source": [
    "def main(database):\n",
    "    # Abre a conexão com SQL\n",
    "    with connect_db(database) as conn:\n",
    "        next_token = True\n",
    "        while next_token:\n",
    "            # Verificando se o tweet mais recente já está na base\n",
    "            max_value = check_since_id(con)\n",
    "            if max_value:\n",
    "                query_params['since_id'] = max_value\n",
    "            json_response = connect_to_endpoint(search_url, query_params)\n",
    "            # Verificando se é necessária mais de uma conexão, ou se já é a última ou única.\n",
    "            if 'next_token' in json_response['meta']:\n",
    "                next_token = json_response['meta']['next_token']\n",
    "                print(next_token)\n",
    "                query_params['next_token'] = next_token\n",
    "            else:\n",
    "                next_token = False\n",
    "            if 'data' in json_response:\n",
    "                # Novamente. json_response['data'] é uma lista.\n",
    "                # Vamos precisar dos dicionários que estão dentro da lista.\n",
    "                tweets = [list(x.values()) for x in json_response['data']]\n",
    "                insere_tweet(conn, tweets)"
   ],
   "metadata": {
    "collapsed": false,
    "pycharm": {
     "name": "#%%\n"
    }
   }
  },
  {
   "cell_type": "markdown",
   "source": [
    "Chama a função com a database"
   ],
   "metadata": {
    "collapsed": false
   }
  },
  {
   "cell_type": "code",
   "execution_count": null,
   "outputs": [],
   "source": [
    "main(tweet_db)"
   ],
   "metadata": {
    "collapsed": false,
    "pycharm": {
     "name": "#%%\n"
    }
   }
  },
  {
   "cell_type": "code",
   "execution_count": null,
   "outputs": [],
   "source": [
    "# Examinando a base\n",
    "def collect_basics(conn):\n",
    "    # Note que a condição abaixo é necessária para verificar se há algum item com id na base\n",
    "    sql = '''SELECT * FROM tweets LIMIT 5;'''\n",
    "    cur = conn.cursor()\n",
    "    cur.execute(sql)\n",
    "    return cur.fetchall()"
   ],
   "metadata": {
    "collapsed": false,
    "pycharm": {
     "name": "#%%\n"
    }
   }
  },
  {
   "cell_type": "code",
   "execution_count": null,
   "outputs": [],
   "source": [
    "with connect_db(tweet_db) as conn:\n",
    "    res = collect_basics(conn)\n",
    "\n",
    "for each in res:\n",
    "    print(each)"
   ],
   "metadata": {
    "collapsed": false,
    "pycharm": {
     "name": "#%%\n"
    }
   }
  },
  {
   "cell_type": "markdown",
   "source": [
    "# Aperitivo: análise textual\n",
    "## Vamos começar com os dados textuais de notícias que obtivemos com a API do Twitter"
   ],
   "metadata": {
    "collapsed": false
   }
  },
  {
   "cell_type": "markdown",
   "source": [
    "1. Obtendo a base no pandas\n",
    "2. Note que usamos `sep=';'` na hora de salvar. Temos que especificá-lo na hora de ler o arquivo."
   ],
   "metadata": {
    "collapsed": false
   }
  },
  {
   "cell_type": "code",
   "execution_count": null,
   "outputs": [],
   "source": [
    "import pandas as pd"
   ],
   "metadata": {
    "collapsed": false,
    "pycharm": {
     "name": "#%%\n"
    }
   }
  },
  {
   "cell_type": "code",
   "execution_count": null,
   "outputs": [],
   "source": [
    "address = 'https://github.com/BAFurtado/MBA_IDP_CapturaTratamento/blob/main/data/base_tweets_read.csv'\n",
    "base_texto = pd.read_csv(f'{address}?raw=True', sep=';')"
   ],
   "metadata": {
    "collapsed": false,
    "pycharm": {
     "name": "#%%\n"
    }
   }
  },
  {
   "cell_type": "markdown",
   "source": [
    "3. Como sempre, vamos investigar os aspectos gerais da base."
   ],
   "metadata": {
    "collapsed": false
   }
  },
  {
   "cell_type": "code",
   "execution_count": null,
   "outputs": [],
   "source": [
    "base_texto.info()"
   ],
   "metadata": {
    "collapsed": false,
    "pycharm": {
     "name": "#%%\n"
    }
   }
  },
  {
   "cell_type": "code",
   "execution_count": null,
   "outputs": [],
   "source": [
    "base_texto.describe()"
   ],
   "metadata": {
    "collapsed": false,
    "pycharm": {
     "name": "#%%\n"
    }
   }
  },
  {
   "cell_type": "markdown",
   "source": [
    "4. Conferindo se não há linhas duplicadas. como `duplicated` retorna False ou True para as linhas.\n",
    "5. E sabemos que True em python = 1 e False = 0. Se a soma é zero, então..."
   ],
   "metadata": {
    "collapsed": false
   }
  },
  {
   "cell_type": "code",
   "execution_count": null,
   "outputs": [],
   "source": [
    "sum(base_texto.duplicated())"
   ],
   "metadata": {
    "collapsed": false,
    "pycharm": {
     "name": "#%%\n"
    }
   }
  },
  {
   "cell_type": "markdown",
   "source": [
    "6. Vamos agora filtrar os tweets para conter apenas as palavras inicialmente.\n",
    "7. Lembrem.se que o comando `.str` acessa dados das colunas do pandas e disponibiliza as funções de **str**\n",
    "8. Vamos detalhar mais a questão do <span style=\"color:red\">filtro</span> mais tarde."
   ],
   "metadata": {
    "collapsed": false
   }
  },
  {
   "cell_type": "code",
   "execution_count": null,
   "outputs": [],
   "source": [
    "base_texto['words'] = base_texto.text.str.strip().str.split('[\\W_]+')"
   ],
   "metadata": {
    "collapsed": false,
    "pycharm": {
     "name": "#%%\n"
    }
   }
  },
  {
   "cell_type": "markdown",
   "source": [
    "9. Vejam como ficou:"
   ],
   "metadata": {
    "collapsed": false
   }
  },
  {
   "cell_type": "code",
   "execution_count": null,
   "outputs": [],
   "source": [
    "base_texto.head()"
   ],
   "metadata": {
    "collapsed": false,
    "pycharm": {
     "name": "#%%\n"
    }
   }
  },
  {
   "cell_type": "markdown",
   "source": [
    "10. Verificando somente uma linha."
   ],
   "metadata": {
    "collapsed": false
   }
  },
  {
   "cell_type": "code",
   "execution_count": null,
   "outputs": [],
   "source": [
    "base_texto.loc[0]"
   ],
   "metadata": {
    "collapsed": false,
    "pycharm": {
     "name": "#%%\n"
    }
   }
  },
  {
   "cell_type": "markdown",
   "source": [
    "11. Dado que transformamos em lista de words, podemos analisar todo o conjunto de palavras de uma vez.\n",
    "12. Alternativamente, analisaremos cada tweet...\n",
    "\n",
    "# Tip\n",
    "### flat_list = [item for sublist in original for item in sublist]"
   ],
   "metadata": {
    "collapsed": false
   }
  },
  {
   "cell_type": "code",
   "execution_count": null,
   "outputs": [],
   "source": [
    "tweets_words = [item for sublist in base_texto.words for item in sublist]\n",
    "tweets_words"
   ],
   "metadata": {
    "collapsed": false,
    "pycharm": {
     "name": "#%%\n"
    }
   }
  },
  {
   "cell_type": "markdown",
   "source": [
    "13. Com a lista completa de palavras, podemos verificar as mais comuns, por exemplo."
   ],
   "metadata": {
    "collapsed": false
   }
  },
  {
   "cell_type": "code",
   "execution_count": null,
   "outputs": [],
   "source": [
    "import collections\n",
    "\n",
    "counter=collections.Counter(tweets_words)\n",
    "counter"
   ],
   "metadata": {
    "collapsed": false,
    "pycharm": {
     "name": "#%%\n"
    }
   }
  },
  {
   "cell_type": "code",
   "execution_count": null,
   "outputs": [],
   "source": [
    "counter.most_common(10)"
   ],
   "metadata": {
    "collapsed": false,
    "pycharm": {
     "name": "#%%\n"
    }
   }
  },
  {
   "cell_type": "code",
   "execution_count": null,
   "outputs": [],
   "source": [
    "counter.most_common(50)"
   ],
   "metadata": {
    "collapsed": false,
    "pycharm": {
     "name": "#%%\n"
    }
   }
  },
  {
   "cell_type": "markdown",
   "source": [
    "14. A informação não é assim tão útil, dado que muitas palavras são as chamadas **stop words**\n",
    "15. Vamos verificar quantas palavras únicas os tweets contêm e também testar se algumas palavras estão presentes na lista."
   ],
   "metadata": {
    "collapsed": false
   }
  },
  {
   "cell_type": "code",
   "execution_count": null,
   "outputs": [],
   "source": [
    "palavras_teste = ['medalha', 'CPI', 'frio', 'calor', 'Bolsonaro', 'Lula', 'via', 'hoje', 'futuro']"
   ],
   "metadata": {
    "collapsed": false,
    "pycharm": {
     "name": "#%%\n"
    }
   }
  },
  {
   "cell_type": "code",
   "execution_count": null,
   "outputs": [],
   "source": [
    "for word in palavras_teste:\n",
    "    try:\n",
    "        print(f\"{word}: {counter[word]}\")\n",
    "    except KeyError:\n",
    "        print(f'{word} não está na amostra')"
   ],
   "metadata": {
    "collapsed": false,
    "pycharm": {
     "name": "#%%\n"
    }
   }
  },
  {
   "cell_type": "markdown",
   "source": [
    "16. Bem, conseguimos alguma (vaga) ideia de relevância de tema, por exemplo, uma indicação que talvez tenhamos\n",
    " <span style=\"color:blue\">frio </span> mais à frente... ou que talvez hoje seja mais relevante que o futuro,\n",
    "do ponto de vista jornalístico?\n"
   ],
   "metadata": {
    "collapsed": false
   }
  },
  {
   "cell_type": "markdown",
   "source": [
    "# Noções de Natural Language"
   ],
   "metadata": {
    "collapsed": false
   }
  },
  {
   "cell_type": "code",
   "execution_count": null,
   "outputs": [],
   "source": [
    "!pip install nltk"
   ],
   "metadata": {
    "collapsed": false,
    "pycharm": {
     "name": "#%%\n"
    }
   }
  },
  {
   "cell_type": "code",
   "execution_count": null,
   "outputs": [],
   "source": [
    "import nltk\n",
    "nltk.download('punkt')"
   ],
   "metadata": {
    "collapsed": false,
    "pycharm": {
     "name": "#%%\n"
    }
   }
  },
  {
   "cell_type": "markdown",
   "source": [
    "## Filtering stop words"
   ],
   "metadata": {
    "collapsed": false
   }
  },
  {
   "cell_type": "code",
   "execution_count": null,
   "outputs": [],
   "source": [
    "nltk.download('stopwords')\n",
    "stopwords = nltk.corpus.stopwords.words('portuguese')"
   ],
   "metadata": {
    "collapsed": false,
    "pycharm": {
     "name": "#%%\n"
    }
   }
  },
  {
   "cell_type": "code",
   "execution_count": null,
   "outputs": [],
   "source": [
    "base_texto['tokens'] = base_texto.text.apply(nltk.word_tokenize, language='portuguese')\n",
    "base_texto.tokens.head()"
   ],
   "metadata": {
    "collapsed": false,
    "pycharm": {
     "name": "#%%\n"
    }
   }
  },
  {
   "cell_type": "code",
   "execution_count": null,
   "outputs": [],
   "source": [
    "base_texto.tokens = base_texto.tokens.apply(lambda w: [x.lower() for x in w if x.lower() not in stopwords])\n",
    "base_texto.loc[0]"
   ],
   "metadata": {
    "collapsed": false,
    "pycharm": {
     "name": "#%%\n"
    }
   }
  },
  {
   "cell_type": "code",
   "execution_count": null,
   "outputs": [],
   "source": [
    "base_texto.tokens.head()\n"
   ],
   "metadata": {
    "collapsed": false,
    "pycharm": {
     "name": "#%%\n"
    }
   }
  },
  {
   "cell_type": "code",
   "execution_count": null,
   "outputs": [],
   "source": [
    "fd = nltk.FreqDist(base_texto.tokens.apply(lambda w: w[0]))\n",
    "fd"
   ],
   "metadata": {
    "collapsed": false,
    "pycharm": {
     "name": "#%%\n"
    }
   }
  },
  {
   "cell_type": "code",
   "execution_count": null,
   "outputs": [],
   "source": [
    "counter=collections.Counter(base_texto.tokens.apply(lambda w: w[0]))\n",
    "counter.most_common(40)"
   ],
   "metadata": {
    "collapsed": false,
    "pycharm": {
     "name": "#%%\n"
    }
   }
  },
  {
   "cell_type": "markdown",
   "source": [
    "---\n",
    "### Noções de\n",
    "# Regular Expressions -- REGEX\n",
    "## `import re`"
   ],
   "metadata": {
    "collapsed": false
   }
  },
  {
   "cell_type": "markdown",
   "source": [
    "\"Regular expressions (called REs, or regexes, or regex patterns) are essentially a tiny, highly specialized programming\n",
    "language embedded inside Python and made available through the re module. Using this little language,\n",
    "**you specify the rules for the set of possible strings that you want to match**; this set might contain English\n",
    "sentences, or e-mail addresses, or TeX commands, or anything you like. You can then ask questions such as\n",
    "“Does this string match the pattern?”, or “Is there a match for the pattern anywhere in this string?”.\n",
    "You can also use REs to modify a string or to split it apart in various ways.\"\n",
    "\n",
    "source: https://docs.python.org/3/howto/regex.html"
   ],
   "metadata": {
    "collapsed": false
   }
  },
  {
   "cell_type": "markdown",
   "source": [
    "## Em partes\n",
    "1. Linguagem específica, especialista, para <span style=\"color:red\">filtrar</span> texto em grandes porções de texto.\n",
    "2. Serve para extrair, por exemplo: CPFs, telefones, e-mails, links, etc.\n",
    "3. Você especifica as REGRAS.\n",
    "### Não é simples!\n",
    "4. Depois aplica as regras ao texto e pergunta quais porções satisfazem a regra.\n",
    "5. Pode **retornar** as porções que satisfazem a regra, ou substituí-las."
   ],
   "metadata": {
    "collapsed": false
   }
  },
  {
   "cell_type": "markdown",
   "source": [
    "* É difícil por que é necessário identificar a função de vários destes \"metacharacters\" em sequência\n",
    "\n",
    "# . ^ $ * + ? { } [ ] \\ | ( )\n",
    "---"
   ],
   "metadata": {
    "collapsed": false
   }
  },
  {
   "cell_type": "markdown",
   "source": [
    "1. Vamos começar pelo básico. Localizar uma palavra específica."
   ],
   "metadata": {
    "collapsed": false
   }
  },
  {
   "cell_type": "code",
   "execution_count": null,
   "outputs": [],
   "source": [
    "import re\n",
    "\n",
    "pattern = 'gmail'\n",
    "texto = 'Este é um texto que vamos utilizar para testar se os itens que estamos testando estão aqui dentro deste texto ou não, ' \\\n",
    "        'como disse esse texto pode conter endereços de email do tipo furtadobb@gmail.com, paginas da internet, tais como' \\\n",
    "        'htpps://github.com/bafurtado/PolicySpace2'\n",
    "\n",
    "re.search(pattern, texto)"
   ],
   "metadata": {
    "collapsed": false,
    "pycharm": {
     "name": "#%%\n"
    }
   }
  },
  {
   "cell_type": "markdown",
   "source": [
    "2. O resultado é a posição do primeiro item encontrado que corresponde ao padrão, à regra. Vamos conferir"
   ],
   "metadata": {
    "collapsed": false
   }
  },
  {
   "cell_type": "code",
   "execution_count": null,
   "outputs": [],
   "source": [
    "print(texto[189:194])"
   ],
   "metadata": {
    "collapsed": false,
    "pycharm": {
     "name": "#%%\n"
    }
   }
  },
  {
   "cell_type": "markdown",
   "source": [
    "3. Pronto, com isso, já conseguimos localizar palavras específicas.\n",
    "4. Vamos automatizar o processo, usando o objeto python retornado pela `re.search()`"
   ],
   "metadata": {
    "collapsed": false
   }
  },
  {
   "cell_type": "code",
   "execution_count": null,
   "outputs": [],
   "source": [
    "resultado = re.search(pattern, texto)\n",
    "resultado.start()"
   ],
   "metadata": {
    "collapsed": false,
    "pycharm": {
     "name": "#%%\n"
    }
   }
  },
  {
   "cell_type": "code",
   "execution_count": null,
   "outputs": [],
   "source": [
    "print(texto[resultado.start():resultado.end()])"
   ],
   "metadata": {
    "collapsed": false,
    "pycharm": {
     "name": "#%%\n"
    }
   }
  },
  {
   "cell_type": "markdown",
   "source": [
    "---\n",
    "5. **[ ]** servem para classes de palavras dentro dos colchetes.\n",
    "6. por exemplo [abc] vai localizar todos **as** os **bs** e os **cs** do texto.\n",
    "\n",
    "*Na verdade, sem o quantifier que veremos em seguida, o processo identifica apenas o primeiro dos itens.*"
   ],
   "metadata": {
    "collapsed": false
   }
  },
  {
   "cell_type": "code",
   "execution_count": null,
   "outputs": [],
   "source": [
    "pattern = '[abc]'\n",
    "re.search(pattern, texto)"
   ],
   "metadata": {
    "collapsed": false,
    "pycharm": {
     "name": "#%%\n"
    }
   }
  },
  {
   "cell_type": "markdown",
   "source": [
    "8. Conferindo, posição do primeiro a do texto"
   ],
   "metadata": {
    "collapsed": false
   }
  },
  {
   "cell_type": "code",
   "execution_count": null,
   "outputs": [],
   "source": [
    "print(texto[21])"
   ],
   "metadata": {
    "collapsed": false,
    "pycharm": {
     "name": "#%%\n"
    }
   }
  },
  {
   "cell_type": "markdown",
   "source": [
    "9. Note que isso é diferente de buscar pela expressão 'abc'.\n",
    "---"
   ],
   "metadata": {
    "collapsed": false
   }
  },
  {
   "cell_type": "markdown",
   "source": [
    "# *\n",
    "9. Vamos introduzir o asterisco: **\\*** primeiro quantifier.\n",
    "10. O **\\*** match <span style=\"color:red\">qualquer número de vezes</span> a expressão anterior.\n",
    "11. Por exemplo 'ca*t' vai encontrar o que?\n",
    "12. Pausa."
   ],
   "metadata": {
    "collapsed": false
   }
  },
  {
   "cell_type": "code",
   "execution_count": null,
   "outputs": [],
   "source": [
    "print('')"
   ],
   "metadata": {
    "collapsed": false,
    "pycharm": {
     "name": "#%%\n"
    }
   }
  },
  {
   "cell_type": "markdown",
   "source": [
    "13. Passo-a-passo. o 'c' sempre é necessário. 'a' está antes do **\\***, então pode estar incluída 0, 1, 2, 3 ... vezes. O 't' precisa estar no final."
   ],
   "metadata": {
    "collapsed": false
   }
  },
  {
   "cell_type": "code",
   "execution_count": null,
   "outputs": [],
   "source": [
    "testes = ['maria', 'nina', 'combat', 'ct', 'cat', 'caaat', 'cast']"
   ],
   "metadata": {
    "collapsed": false,
    "pycharm": {
     "name": "#%%\n"
    }
   }
  },
  {
   "cell_type": "code",
   "execution_count": null,
   "outputs": [],
   "source": [
    "pattern = 'ca*t'\n",
    "for teste in testes:\n",
    "    print(f'{teste}: {re.search(pattern, teste)}')\n"
   ],
   "metadata": {
    "collapsed": false,
    "pycharm": {
     "name": "#%%\n"
    }
   }
  },
  {
   "cell_type": "markdown",
   "source": [
    "### Exercício\n",
    "\n",
    "1. E a expressão: 'a[bcd]*b' vai encontrar o que?"
   ],
   "metadata": {
    "collapsed": false
   }
  },
  {
   "cell_type": "code",
   "execution_count": null,
   "outputs": [],
   "source": [
    "print('')"
   ],
   "metadata": {
    "collapsed": false,
    "pycharm": {
     "name": "#%%\n"
    }
   }
  },
  {
   "cell_type": "markdown",
   "source": [
    "R. Qualquer palavra que comece com 'a', termine com 'b' e tenha nenhuma letra ou qualquer número de 'b's, 'c's ou 'd's."
   ],
   "metadata": {
    "collapsed": false
   }
  },
  {
   "cell_type": "code",
   "execution_count": null,
   "outputs": [],
   "source": [
    "testes = ['adccbb', 'ab', 'axcdb', 'abcxb', 'cat', 'cast']\n",
    "pattern = 'a[bcd]*b'\n",
    "for teste in testes:\n",
    "    print(f'{teste}: {re.search(pattern, teste)}')"
   ],
   "metadata": {
    "collapsed": false,
    "pycharm": {
     "name": "#%%\n"
    }
   }
  },
  {
   "cell_type": "markdown",
   "source": [
    "---\n",
    "# $$+$$\n",
    "\n",
    "14. O $$+$$, por sua vez vai encontrar todas as referências com **pelo menos uma** menção, ou mais\n",
    "15. 'ca+t', por exemplo vai buscar 'cat', 'caaat', 'caaaaaaat', mas não 'ct'."
   ],
   "metadata": {
    "collapsed": false
   }
  },
  {
   "cell_type": "markdown",
   "source": [
    "---\n",
    "# ?\n",
    "16. ? significa uma ou nenhuma vez. Pode ter, ou não ter. Por exemplo sócio-econômico ou socioeconomico, podemos buscar por\n",
    "*'s?cio?econ?mico'*."
   ],
   "metadata": {
    "collapsed": false
   }
  },
  {
   "cell_type": "code",
   "execution_count": null,
   "outputs": [],
   "source": [
    "pattern = 's[oó]?cio-?econ[oô]?mica'\n",
    "texto1 = 'A conjuntura sócio-econômica.'\n",
    "texto2 = 'A conjuntura socioeconômica.'\n",
    "\n",
    "print(re.search(pattern, texto1))\n",
    "print(re.search(pattern, texto2))"
   ],
   "metadata": {
    "collapsed": false,
    "pycharm": {
     "name": "#%%\n"
    }
   }
  },
  {
   "cell_type": "code",
   "execution_count": null,
   "outputs": [],
   "source": [
    "pattern = 's[oó]+cio-?econ[oô]+mica'\n",
    "texto1 = 'A conjuntura sócio-econômica.'\n",
    "texto2 = 'A conjuntura socioeconômica.'\n",
    "\n",
    "print(re.search(pattern, texto1))\n",
    "print(re.search(pattern, texto2))"
   ],
   "metadata": {
    "collapsed": false,
    "pycharm": {
     "name": "#%%\n"
    }
   }
  },
  {
   "cell_type": "markdown",
   "source": [
    "---\n",
    "# {}\n",
    "17. Aproveitando o exemplo para introduzir {} que indica um quantifier específico"
   ],
   "metadata": {
    "collapsed": false
   }
  },
  {
   "cell_type": "code",
   "execution_count": null,
   "outputs": [],
   "source": [
    "pattern = 's[oó]{1}cio-?econ[oô]{1}mica'\n",
    "texto1 = 'A conjuntura sócio-econômica.'\n",
    "texto2 = 'A conjuntura socioeconômica.'\n",
    "texto3 = 'A conjuntura sóocioeconômica.'\n",
    "\n",
    "print(re.search(pattern, texto1))\n",
    "print(re.search(pattern, texto2))\n",
    "print(re.search(pattern, texto3))"
   ],
   "metadata": {
    "collapsed": false,
    "pycharm": {
     "name": "#%%\n"
    }
   }
  },
  {
   "cell_type": "markdown",
   "source": [
    "---\n",
    "# |\n",
    "17. De novo, aproveitando o exemplo para introduzir | que indica ou [a|b]\n",
    "18. Reescrevendo exemplo"
   ],
   "metadata": {
    "collapsed": false
   }
  },
  {
   "cell_type": "code",
   "execution_count": null,
   "outputs": [],
   "source": [
    "pattern = 's[o|ó]cio-?econ[o|ô]mica'\n",
    "texto1 = 'A conjuntura sócio-economica.'\n",
    "texto2 = 'A conjuntura socioeconômica.'\n",
    "texto3 = 'A conjuntura sóocioeconômica.'\n",
    "\n",
    "print(re.search(pattern, texto1))\n",
    "print(re.search(pattern, texto2))\n",
    "print(re.search(pattern, texto3))"
   ],
   "metadata": {
    "collapsed": false,
    "pycharm": {
     "name": "#%%\n"
    }
   }
  },
  {
   "cell_type": "markdown",
   "source": [
    "---\n",
    "# {}\n",
    "\n",
    "19. Para facilitar, os parênteses são utilizados para m (mínimo) e n (máximo) de repetições **da expressão anterior**.\n",
    "20. 'a{1,3}' significa que a expressão anterior, no caso o 'a', deve ter no mínimo uma vez e no máximo 3.21Portanto, a equivalência abaixo é válida\n",
    "\n",
    "# *   =   {0, }\n",
    "# +   =   {1, }\n",
    "# ?   =   {0, 1}\n",
    "\n",
    "## exatamente 3 vezes = {3}\n",
    "\n",
    "---"
   ],
   "metadata": {
    "collapsed": false
   }
  },
  {
   "cell_type": "markdown",
   "source": [
    "## Outros detalhes.\n",
    "\n",
    "21. Para buscar todas as letras minúsculas, pode utilizar o hífen para uma sequência. Por exemplo '[a-z]' serve como regra\n",
    "para todas as letras minúsculas, como '[0-9]' para todos os dígitos.\n",
    "22. '[a-zA-Z]', portanto captura tudo que for letra.\n",
    "\n",
    "# ^\n",
    "\n",
    "^ é utilizado **NO INÍCIO** de uma sequência como exclusão\n",
    "23. '[^0-9]' excluirá toda a informação numérica da busca."
   ],
   "metadata": {
    "collapsed": false
   }
  },
  {
   "cell_type": "markdown",
   "source": [
    "---\n",
    "# Extraindo informação com `re`"
   ],
   "metadata": {
    "collapsed": false
   }
  },
  {
   "cell_type": "markdown",
   "source": [
    "## Vimos o processo de 'search'. Mas, também podemos utilizar **re** para extração de informação. Captura.\n",
    "\n",
    "# ()\n",
    "\n",
    "24. Se os parênteses fecham uma parte da expressão, apenas aquela expressão será retornada.\n",
    "25. Ou seja, quando identificamos algum elemento de interesse, podemos capturar apenas uma porção da\n",
    "informação próxima aquele elemento encontrado. Por exemplo:"
   ],
   "metadata": {
    "collapsed": false
   }
  },
  {
   "cell_type": "code",
   "execution_count": null,
   "outputs": [],
   "source": [
    "texto3 = 'nome: Bernardo Alves Furtado \\n nome: Claudiomar'\n",
    "pattern = 'nome:{1}(.*)'\n",
    "\n",
    "re.findall(pattern, texto3)"
   ],
   "metadata": {
    "collapsed": false,
    "pycharm": {
     "name": "#%%\n"
    }
   }
  },
  {
   "cell_type": "markdown",
   "source": [
    "26. Agora, começamos a complicar. Como previsto.\n",
    "27. Capturando o e-mail no texto inicial."
   ],
   "metadata": {
    "collapsed": false
   }
  },
  {
   "cell_type": "code",
   "execution_count": null,
   "outputs": [],
   "source": [
    "pattern = '([\\w]+@[\\w]+\\.[\\w]+)'\n",
    "re.findall(pattern, texto)"
   ],
   "metadata": {
    "collapsed": false,
    "pycharm": {
     "name": "#%%\n"
    }
   }
  },
  {
   "cell_type": "markdown",
   "source": [
    "### Passo-a-passo\n",
    "1. O '(' começa o processo de retornar o que for encontrado dentro, até o próximo ')'.\n",
    "2. [\\w] refere-se a qualquer uma das alternativas entre [a-zA-Z0-9], ou seja a palavra antes do **@**\n",
    "3. Pelo menos uma letra é necessária. Portanto [\\w]+\n",
    "4. Em seguida, o @, literalmente.\n",
    "5. Depois outra palavra, após o arroba. Mesma coisa: [\\w]+.\n",
    "6. Depois um ponto. Como o ponto é um caractere especial, precisa ir com o '\\\\' para ser considerado ponto.\n",
    "7. Depois, novamente outra palavra [\\w]+ e retorna."
   ],
   "metadata": {
    "collapsed": false
   }
  },
  {
   "cell_type": "markdown",
   "source": [
    "### Vamos agora realizar o mesmo exercício, porém com a base de tweets que utilizamos. Vamos extrar todos os links contidos nos tweets.\n",
    "\n",
    "1. Relendo a base"
   ],
   "metadata": {
    "collapsed": false
   }
  },
  {
   "cell_type": "code",
   "execution_count": null,
   "outputs": [],
   "source": [
    "import pandas as pd\n",
    "\n",
    "address = 'https://github.com/BAFurtado/MBA_IDP_CapturaTratamento/blob/main/data/base_tweets_read.csv'\n",
    "base_texto = pd.read_csv(f'{address}?raw=True', sep=';')\n",
    "\n",
    "base_texto.text.head()"
   ],
   "metadata": {
    "collapsed": false,
    "pycharm": {
     "name": "#%%\n"
    }
   }
  },
  {
   "cell_type": "code",
   "execution_count": null,
   "outputs": [],
   "source": [
    "base_texto.text.loc[0]"
   ],
   "metadata": {
    "collapsed": false,
    "pycharm": {
     "name": "#%%\n"
    }
   }
  },
  {
   "cell_type": "markdown",
   "source": [
    "2. Nosso padrão, sempre vai conter 'https://'"
   ],
   "metadata": {
    "collapsed": false
   }
  },
  {
   "cell_type": "code",
   "execution_count": null,
   "outputs": [],
   "source": [
    "pattern = '(https?://[\\w./]+)'\n",
    "re.findall(pattern, base_texto.text.loc[0])"
   ],
   "metadata": {
    "collapsed": false,
    "pycharm": {
     "name": "#%%\n"
    }
   }
  },
  {
   "cell_type": "markdown",
   "source": [
    "3. Na verdade, no teste, dois links estão disponíveis.\n",
    "4. O primeiro parece ser o link para a notícia e o segundo é o link do próprio tweet.\n",
    "5. Vamos investigar sempre os primeiros. Podemos usar, `search()` e capturar o primeiro group, com `.group(0)`"
   ],
   "metadata": {
    "collapsed": false
   }
  },
  {
   "cell_type": "code",
   "execution_count": null,
   "outputs": [],
   "source": [
    "pattern = '(https://[\\w./]+)'\n",
    "re.search(pattern, base_texto.text.loc[0]).group(0)"
   ],
   "metadata": {
    "collapsed": false,
    "pycharm": {
     "name": "#%%\n"
    }
   }
  },
  {
   "cell_type": "markdown",
   "source": [
    "6. Para fazer isso para a base toda, vamos utilizar o `re.compile` para ficar mais rápido e utilizar com apply.\n",
    "7. Confiram que dá no mesmo:"
   ],
   "metadata": {
    "collapsed": false
   }
  },
  {
   "cell_type": "code",
   "execution_count": null,
   "outputs": [],
   "source": [
    "p = re.compile(pattern)\n",
    "re.search(p, base_texto.text.loc[0]).group(0)"
   ],
   "metadata": {
    "collapsed": false,
    "pycharm": {
     "name": "#%%\n"
    }
   }
  },
  {
   "cell_type": "code",
   "execution_count": null,
   "outputs": [],
   "source": [
    "# base_texto['links'] = base_texto.text.apply(lambda t: re.search(p, t).group(0))\n",
    "\n",
    "# O apply simples acima, não funciona quando não há match. Por isso temos que implementar uma condicional.\n",
    "# Quando não houver, match, add None.\n",
    "\n",
    "base_texto['links'] = base_texto.text.apply(lambda t: re.search(p, t).group(0) if re.search(p, t) else None)\n",
    "base_texto.links.head()"
   ],
   "metadata": {
    "collapsed": false,
    "pycharm": {
     "name": "#%%\n"
    }
   }
  },
  {
   "cell_type": "code",
   "execution_count": null,
   "outputs": [],
   "source": [
    "base_texto.links.tail()"
   ],
   "metadata": {
    "collapsed": false,
    "pycharm": {
     "name": "#%%\n"
    }
   }
  },
  {
   "cell_type": "code",
   "execution_count": null,
   "outputs": [],
   "source": [
    "base_texto.info()"
   ],
   "metadata": {
    "collapsed": false,
    "pycharm": {
     "name": "#%%\n"
    }
   }
  },
  {
   "cell_type": "markdown",
   "source": [
    "# Exercícios\n",
    "\n",
    "1. Para testes automatizados, com explicação detalhada. Porém, só para o primeiro elemento: *match*, mas não *findall*:\n",
    "\n",
    "https://regex101.com/r/EwvuHA/47"
   ],
   "metadata": {
    "collapsed": false
   }
  },
  {
   "cell_type": "markdown",
   "source": [
    "---\n",
    "# Outro exemplo de captura por meio de *DataLakes*\n",
    "\n",
    "## https://basedosdados.org/dataset/mundo-kaggle-olimpiadas\n",
    "---"
   ],
   "metadata": {
    "collapsed": false
   }
  },
  {
   "cell_type": "markdown",
   "source": [
    "1. É necessário instalar basedosdados\n",
    "\n",
    "## **Caution**\n",
    "Aqui, e na recomendação da página *basedosdados*, realizamos a instalação via **pip**\n",
    "\n",
    "Under the hood -- i.e., sem nos avisar, o **pip** desinstalou o `pandas 1.3` corrente e trocou pela versão `1.22`.\n",
    "\n",
    "Não me lembro, mas alguma função que eu tinha utilizado recentemente só estava disponível na versão `1.3`.\n",
    "\n",
    "**IRL** -- in real life -- eu só uso `conda envs` no `PyCharm`, com isso consigo controlar quais versões de quais bibliotecas estão instaladas.\n",
    "\n",
    "*Jupyter* é ótimo para aulas e apresentações, mas não é funcional para *scripts* e programas completos!"
   ],
   "metadata": {
    "collapsed": false
   }
  },
  {
   "cell_type": "markdown",
   "source": [
    "2. Base dos Dados possui\n",
    "\n",
    "# 504\n",
    "\n",
    "organizações"
   ],
   "metadata": {
    "collapsed": false
   }
  },
  {
   "cell_type": "code",
   "execution_count": null,
   "outputs": [],
   "source": [
    "# !pip install basedosdados"
   ],
   "metadata": {
    "collapsed": false,
    "pycharm": {
     "name": "#%%\n"
    }
   }
  },
  {
   "cell_type": "markdown",
   "source": [
    "3. Além de instalar a biblioteca *basedosdados*, para realizar buscas ou ter acesso às bases,\n",
    "é necessário ter uma conta gratuita (limitada a 10 projetos no gcloud).\n",
    "4. Você pode se cadastrar de acordo com essas [instruções](https://basedosdados.github.io/mais/access_data_local/).\n",
    "5. Com isso, e o login na conta do Google (gmail), você terá como preencher corretamente o parâmetro:\n",
    "`billing_project_id=<nome_do_seu_projeto_cadastrado_no_gcloud>`"
   ],
   "metadata": {
    "collapsed": false
   }
  },
  {
   "cell_type": "code",
   "execution_count": null,
   "outputs": [],
   "source": [
    "import basedosdados as bd\n",
    "# Para carregar o dado direto no pandas\n",
    "df = bd.read_table(dataset_id='mundo_kaggle_olimpiadas',\n",
    "                   table_id='microdados',\n",
    "                   billing_project_id='idp-class')"
   ],
   "metadata": {
    "collapsed": false,
    "pycharm": {
     "name": "#%%\n"
    }
   }
  },
  {
   "cell_type": "markdown",
   "source": [
    "6. Vamos dar uma primeira olhada na base que lemos, direto para uma DataFrame do pandas."
   ],
   "metadata": {
    "collapsed": false
   }
  },
  {
   "cell_type": "code",
   "execution_count": null,
   "outputs": [],
   "source": [
    "df.info()"
   ],
   "metadata": {
    "collapsed": false,
    "pycharm": {
     "name": "#%%\n"
    }
   }
  },
  {
   "cell_type": "markdown",
   "source": [
    "# Tratamento dados"
   ],
   "metadata": {
    "collapsed": false
   }
  },
  {
   "cell_type": "markdown",
   "source": [
    "Feita a **Captura**, nos seus vários formatos, é necessário compreender, interpretar, analisar os dados, sejam eles:\n",
    "\n",
    "1. Numéricos\n",
    "2. Ou textuais\n",
    "3. Ou mistos"
   ],
   "metadata": {
    "collapsed": false
   }
  }
 ]
}